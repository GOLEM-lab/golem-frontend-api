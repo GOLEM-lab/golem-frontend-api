{
 "cells": [
  {
   "cell_type": "markdown",
   "id": "036724e7",
   "metadata": {},
   "source": [
    "## Loading data"
   ]
  },
  {
   "cell_type": "code",
   "execution_count": 1,
   "id": "82c4d0f4",
   "metadata": {},
   "outputs": [],
   "source": [
    "import json\n",
    "import requests\n",
    "from rdflib import Graph\n",
    "from requests.auth import HTTPDigestAuth"
   ]
  },
  {
   "cell_type": "code",
   "execution_count": 2,
   "id": "fd7eb5f1",
   "metadata": {},
   "outputs": [],
   "source": [
    "g = Graph()"
   ]
  },
  {
   "cell_type": "code",
   "execution_count": 3,
   "id": "72cd8090",
   "metadata": {},
   "outputs": [
    {
     "data": {
      "text/plain": [
       "<Graph identifier=Nd4e22c15a1e84633ad4b3af921bbc25d (<class 'rdflib.graph.Graph'>)>"
      ]
     },
     "execution_count": 3,
     "metadata": {},
     "output_type": "execute_result"
    }
   ],
   "source": [
    "g.parse(\"data/example-data.ttl\", format=\"ttl\")"
   ]
  },
  {
   "cell_type": "markdown",
   "id": "861f7bbe",
   "metadata": {},
   "source": [
    "## Use SPARQL Update"
   ]
  },
  {
   "cell_type": "code",
   "execution_count": null,
   "id": "4f7970e0",
   "metadata": {},
   "outputs": [],
   "source": [
    "# this works\n",
    "from SPARQLWrapper import SPARQLWrapper\n",
    "queryString = \"INSERT DATA { GRAPH <https://golemlab.eu/data> { <https://golemlab.eu/data/1> a <https://golemlab.eu/data/corpus> . } }\" \n",
    "sparql = SPARQLWrapper(\"http://localhost:8890/sparql-auth\")\n",
    "sparql.setHTTPAuth(\"DIGEST\")\n",
    "sparql.setCredentials(\"dba\", \"pwd123\")\n",
    "sparql.setQuery(queryString) \n",
    "sparql.method = 'POST' \n",
    "sparql.query()"
   ]
  },
  {
   "cell_type": "markdown",
   "id": "8a4b8f7d",
   "metadata": {},
   "source": [
    "documentation https://vos.openlinksw.com/owiki/wiki/VOS/VirtRDFInsert"
   ]
  },
  {
   "cell_type": "markdown",
   "id": "69eb57bf",
   "metadata": {},
   "source": [
    "## Upload a ttl file"
   ]
  },
  {
   "cell_type": "markdown",
   "id": "1f6df599",
   "metadata": {},
   "source": [
    "this works:\n",
    "```\n",
    "curl --digest --user dba:pwd123 --url \"http://localhost:8890/sparql-graph-crud-auth?graph=https://golemlab.eu/data\" -X POST -T example-data.ttl\n",
    "```"
   ]
  },
  {
   "cell_type": "code",
   "execution_count": null,
   "id": "b263c27b",
   "metadata": {},
   "outputs": [],
   "source": [
    "ttl_content = g.serialize(format=\"ttl\")"
   ]
  },
  {
   "cell_type": "code",
   "execution_count": null,
   "id": "b9ea4bc3",
   "metadata": {},
   "outputs": [],
   "source": [
    "graph_uri = \"https://golemlab.eu/data\"\n",
    "url =  \"http://localhost:8890/sparql-graph-crud-auth\" + \"?graph=\" + graph_uri\n",
    "print(url)\n",
    "data = ttl_content.encode(encoding='utf-8')\n",
    "response = requests.post(url=url, data=data, auth=HTTPDigestAuth(\"dba\", \"pwd123\"), headers={'Content-Type': 'application/x-turtle'})\n",
    "print(response.status_code)\n",
    "print(response.text)"
   ]
  },
  {
   "cell_type": "markdown",
   "id": "6bae4295",
   "metadata": {},
   "source": [
    "## Implemented in DB class"
   ]
  },
  {
   "cell_type": "code",
   "execution_count": 4,
   "id": "d3c1eaf5",
   "metadata": {},
   "outputs": [],
   "source": [
    "from sparql import DB\n",
    "virtuoso = DB(triplestore=\"virtuoso\", protocol=\"http\",url=\"localhost\",port=\"8890\", username=\"dba\", password=\"pwd123\")"
   ]
  },
  {
   "cell_type": "code",
   "execution_count": 5,
   "id": "07b87e95",
   "metadata": {},
   "outputs": [],
   "source": [
    "testdata = g.serialize()"
   ]
  },
  {
   "cell_type": "code",
   "execution_count": 6,
   "id": "3ef20be5",
   "metadata": {},
   "outputs": [
    {
     "data": {
      "text/plain": [
       "'http://localhost:8890/sparql-graph-crud-auth'"
      ]
     },
     "execution_count": 6,
     "metadata": {},
     "output_type": "execute_result"
    }
   ],
   "source": [
    "virtuoso.crud_endpoint"
   ]
  },
  {
   "cell_type": "code",
   "execution_count": 7,
   "id": "576b6620",
   "metadata": {},
   "outputs": [
    {
     "data": {
      "text/plain": [
       "True"
      ]
     },
     "execution_count": 7,
     "metadata": {},
     "output_type": "execute_result"
    }
   ],
   "source": [
    "virtuoso.upload(testdata, graph=\"https://golemlab.eu/data\", format=\"ttl\")"
   ]
  },
  {
   "cell_type": "markdown",
   "id": "19f7f49e",
   "metadata": {},
   "source": [
    "### delete the named graph"
   ]
  },
  {
   "cell_type": "code",
   "execution_count": 9,
   "id": "a94e6c78",
   "metadata": {},
   "outputs": [
    {
     "data": {
      "text/plain": [
       "True"
      ]
     },
     "execution_count": 9,
     "metadata": {},
     "output_type": "execute_result"
    }
   ],
   "source": [
    "virtuoso.delete_graph(\"https://golemlab.eu/data\")"
   ]
  },
  {
   "cell_type": "markdown",
   "id": "5678162d",
   "metadata": {},
   "source": [
    "```\n",
    "PREFIX gd: <http://golemlab.eu/data/> \n",
    "PREFIX cls: <http://clscor.io/ontology/>\n",
    "PREFIX crm: <http://www.cidoc-crm.org/cidoc-crm/> \n",
    "PREFIX rdf: <http://www.w3.org/1999/02/22-rdf-syntax-ns#>\n",
    "\n",
    "SELECT ?uri ?name ?acronym WHERE {\n",
    "  ?uri a cls:X1_Corpus ;\n",
    "crm:P1_is_identified_by ?nameID, ?acronymID .\n",
    "\n",
    "?nameID crm:P2_has_type <http://golemlab.eu/data/entity/type/corpus_name> ; \n",
    "rdf:value ?name .\n",
    "\n",
    "OPTIONAL {\n",
    "?acronymID crm:P2_has_type <http://golemlab.eu/data/entity/type/corpus_acronym> ;\n",
    "rdf:value ?acronym .\n",
    "}\n",
    "\n",
    "}\n",
    "```"
   ]
  },
  {
   "cell_type": "code",
   "execution_count": null,
   "id": "97b9caf9",
   "metadata": {},
   "outputs": [],
   "source": []
  }
 ],
 "metadata": {
  "kernelspec": {
   "display_name": "Python 3 (ipykernel)",
   "language": "python",
   "name": "python3"
  },
  "language_info": {
   "codemirror_mode": {
    "name": "ipython",
    "version": 3
   },
   "file_extension": ".py",
   "mimetype": "text/x-python",
   "name": "python",
   "nbconvert_exporter": "python",
   "pygments_lexer": "ipython3",
   "version": "3.9.12"
  }
 },
 "nbformat": 4,
 "nbformat_minor": 5
}

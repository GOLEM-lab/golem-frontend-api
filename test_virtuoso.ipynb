{
 "cells": [
  {
   "cell_type": "markdown",
   "id": "036724e7",
   "metadata": {},
   "source": [
    "## Loading data"
   ]
  },
  {
   "cell_type": "code",
   "execution_count": null,
   "id": "b58637e4",
   "metadata": {},
   "outputs": [],
   "source": [
    "from sparql import DB\n",
    "virtuoso = DB(triplestore=\"virtuoso\", protocol=\"http\",url=\"localhost\",port=\"8890\")"
   ]
  },
  {
   "cell_type": "code",
   "execution_count": null,
   "id": "82c4d0f4",
   "metadata": {},
   "outputs": [],
   "source": [
    "import json\n",
    "import requests\n",
    "from requests.auth import HTTPDigestAuth\n",
    "from rdflib import Graph"
   ]
  },
  {
   "cell_type": "code",
   "execution_count": null,
   "id": "4c54df39",
   "metadata": {},
   "outputs": [],
   "source": [
    "virtuoso.sparql_endpoint"
   ]
  },
  {
   "cell_type": "code",
   "execution_count": null,
   "id": "723445d7",
   "metadata": {},
   "outputs": [],
   "source": [
    "!ls data"
   ]
  },
  {
   "cell_type": "code",
   "execution_count": null,
   "id": "fd7eb5f1",
   "metadata": {},
   "outputs": [],
   "source": [
    "g = Graph()"
   ]
  },
  {
   "cell_type": "code",
   "execution_count": null,
   "id": "72cd8090",
   "metadata": {},
   "outputs": [],
   "source": [
    "g.parse(\"data/example-data.ttl\", format=\"ttl\")"
   ]
  },
  {
   "cell_type": "code",
   "execution_count": null,
   "id": "692ac7a6",
   "metadata": {},
   "outputs": [],
   "source": [
    "#g.serialize()"
   ]
  },
  {
   "cell_type": "markdown",
   "id": "b56f3605",
   "metadata": {},
   "source": [
    "## Use SPARQL Update"
   ]
  },
  {
   "cell_type": "code",
   "execution_count": null,
   "id": "41ca234b",
   "metadata": {},
   "outputs": [],
   "source": [
    "# this works\n",
    "from SPARQLWrapper import SPARQLWrapper\n",
    "queryString = \"INSERT DATA { GRAPH <https://golemlab.eu/data> { <https://golemlab.eu/data/1> a <https://golemlab.eu/data/corpus> . } }\" \n",
    "sparql = SPARQLWrapper(\"http://localhost:8890/sparql-auth\")\n",
    "sparql.setHTTPAuth(\"DIGEST\")\n",
    "sparql.setCredentials(\"dba\", \"pwd123\")\n",
    "sparql.setQuery(queryString) \n",
    "sparql.method = 'POST' \n",
    "sparql.query()"
   ]
  },
  {
   "cell_type": "markdown",
   "id": "0d143af7",
   "metadata": {},
   "source": [
    "documentation https://vos.openlinksw.com/owiki/wiki/VOS/VirtRDFInsert"
   ]
  },
  {
   "cell_type": "markdown",
   "id": "40fdf20d",
   "metadata": {},
   "source": [
    "## Upload a ttl file"
   ]
  },
  {
   "cell_type": "markdown",
   "id": "04a0d63e",
   "metadata": {},
   "source": [
    "this works:\n",
    "```\n",
    "curl --digest --user dba:pwd123 --url \"http://localhost:8890/sparql-graph-crud-auth?graph=https://golemlab.eu/data\" -X POST -T example-data.ttl\n",
    "```"
   ]
  },
  {
   "cell_type": "code",
   "execution_count": null,
   "id": "ffe89e79",
   "metadata": {},
   "outputs": [],
   "source": [
    "ttl_content = g.serialize(format=\"ttl\")"
   ]
  },
  {
   "cell_type": "code",
   "execution_count": null,
   "id": "2d457af2",
   "metadata": {},
   "outputs": [],
   "source": [
    "graph_uri = \"https://golemlab.eu/data\"\n",
    "url =  \"http://localhost:8890/sparql-graph-crud-auth\" + \"?graph=\" + graph_uri\n",
    "print(url)\n",
    "data = ttl_content.encode(encoding='utf-8')\n",
    "response = requests.post(url=url, data=data, auth=HTTPDigestAuth(\"dba\", \"pwd123\"), headers={'Content-Type': 'application/x-turtle'})\n",
    "print(response.status_code)\n",
    "print(response.text)"
   ]
  },
  {
   "cell_type": "code",
   "execution_count": null,
   "id": "2ea0f303",
   "metadata": {},
   "outputs": [],
   "source": []
  }
 ],
 "metadata": {
  "kernelspec": {
   "display_name": "Python 3 (ipykernel)",
   "language": "python",
   "name": "python3"
  },
  "language_info": {
   "codemirror_mode": {
    "name": "ipython",
    "version": 3
   },
   "file_extension": ".py",
   "mimetype": "text/x-python",
   "name": "python",
   "nbconvert_exporter": "python",
   "pygments_lexer": "ipython3",
   "version": "3.9.12"
  }
 },
 "nbformat": 4,
 "nbformat_minor": 5
}

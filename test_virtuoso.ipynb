{
 "cells": [
  {
   "cell_type": "markdown",
   "id": "036724e7",
   "metadata": {},
   "source": [
    "## Loading data"
   ]
  },
  {
   "cell_type": "code",
   "execution_count": 2,
   "id": "82c4d0f4",
   "metadata": {},
   "outputs": [],
   "source": [
    "import json\n",
    "import requests\n",
    "from rdflib import Graph\n",
    "from requests.auth import HTTPDigestAuth"
   ]
  },
  {
   "cell_type": "code",
   "execution_count": 3,
   "id": "fd7eb5f1",
   "metadata": {},
   "outputs": [],
   "source": [
    "g = Graph()"
   ]
  },
  {
   "cell_type": "code",
   "execution_count": 4,
   "id": "72cd8090",
   "metadata": {},
   "outputs": [
    {
     "data": {
      "text/plain": [
       "<Graph identifier=Nce72321f9e92431b96e66f17728a50dd (<class 'rdflib.graph.Graph'>)>"
      ]
     },
     "execution_count": 4,
     "metadata": {},
     "output_type": "execute_result"
    }
   ],
   "source": [
    "g.parse(\"data/example-data.ttl\", format=\"ttl\")"
   ]
  },
  {
   "cell_type": "markdown",
   "id": "7d8cbaa7",
   "metadata": {},
   "source": [
    "## Use SPARQL Update"
   ]
  },
  {
   "cell_type": "code",
   "execution_count": null,
   "id": "15054cc9",
   "metadata": {},
   "outputs": [],
   "source": [
    "# this works\n",
    "from SPARQLWrapper import SPARQLWrapper\n",
    "queryString = \"INSERT DATA { GRAPH <https://golemlab.eu/data> { <https://golemlab.eu/data/1> a <https://golemlab.eu/data/corpus> . } }\" \n",
    "sparql = SPARQLWrapper(\"http://localhost:8890/sparql-auth\")\n",
    "sparql.setHTTPAuth(\"DIGEST\")\n",
    "sparql.setCredentials(\"dba\", \"pwd123\")\n",
    "sparql.setQuery(queryString) \n",
    "sparql.method = 'POST' \n",
    "sparql.query()"
   ]
  },
  {
   "cell_type": "markdown",
   "id": "0a441412",
   "metadata": {},
   "source": [
    "documentation https://vos.openlinksw.com/owiki/wiki/VOS/VirtRDFInsert"
   ]
  },
  {
   "cell_type": "markdown",
   "id": "1108a516",
   "metadata": {},
   "source": [
    "## Upload a ttl file"
   ]
  },
  {
   "cell_type": "markdown",
   "id": "2a59b5de",
   "metadata": {},
   "source": [
    "this works:\n",
    "```\n",
    "curl --digest --user dba:pwd123 --url \"http://localhost:8890/sparql-graph-crud-auth?graph=https://golemlab.eu/data\" -X POST -T example-data.ttl\n",
    "```"
   ]
  },
  {
   "cell_type": "code",
   "execution_count": null,
   "id": "4c396e64",
   "metadata": {},
   "outputs": [],
   "source": [
    "ttl_content = g.serialize(format=\"ttl\")"
   ]
  },
  {
   "cell_type": "code",
   "execution_count": null,
   "id": "b23c5021",
   "metadata": {},
   "outputs": [],
   "source": [
    "graph_uri = \"https://golemlab.eu/data\"\n",
    "url =  \"http://localhost:8890/sparql-graph-crud-auth\" + \"?graph=\" + graph_uri\n",
    "print(url)\n",
    "data = ttl_content.encode(encoding='utf-8')\n",
    "response = requests.post(url=url, data=data, auth=HTTPDigestAuth(\"dba\", \"pwd123\"), headers={'Content-Type': 'application/x-turtle'})\n",
    "print(response.status_code)\n",
    "print(response.text)"
   ]
  },
  {
   "cell_type": "markdown",
   "id": "ad083971",
   "metadata": {},
   "source": [
    "## Implemented in DB class"
   ]
  },
  {
   "cell_type": "code",
   "execution_count": 9,
   "id": "7dc946ad",
   "metadata": {},
   "outputs": [],
   "source": [
    "from sparql import DB\n",
    "virtuoso = DB(triplestore=\"virtuoso\", protocol=\"http\",url=\"localhost\",port=\"8890\", username=\"dba\", password=\"pwd123\")"
   ]
  },
  {
   "cell_type": "code",
   "execution_count": 10,
   "id": "338d9449",
   "metadata": {},
   "outputs": [],
   "source": [
    "testdata = g.serialize()"
   ]
  },
  {
   "cell_type": "code",
   "execution_count": 11,
   "id": "b3a6c951",
   "metadata": {},
   "outputs": [
    {
     "data": {
      "text/plain": [
       "'http://localhost:8890/sparql-graph-crud-auth'"
      ]
     },
     "execution_count": 11,
     "metadata": {},
     "output_type": "execute_result"
    }
   ],
   "source": [
    "virtuoso.crud_endpoint"
   ]
  },
  {
   "cell_type": "code",
   "execution_count": 13,
   "id": "dad4ec32",
   "metadata": {},
   "outputs": [
    {
     "data": {
      "text/plain": [
       "True"
      ]
     },
     "execution_count": 13,
     "metadata": {},
     "output_type": "execute_result"
    }
   ],
   "source": [
    "virtuoso.upload(testdata, graph=\"https://golemlab.eu/data\", format=\"ttl\")"
   ]
  },
  {
   "cell_type": "code",
   "execution_count": null,
   "id": "7b926e68",
   "metadata": {},
   "outputs": [],
   "source": []
  }
 ],
 "metadata": {
  "kernelspec": {
   "display_name": "Python 3 (ipykernel)",
   "language": "python",
   "name": "python3"
  },
  "language_info": {
   "codemirror_mode": {
    "name": "ipython",
    "version": 3
   },
   "file_extension": ".py",
   "mimetype": "text/x-python",
   "name": "python",
   "nbconvert_exporter": "python",
   "pygments_lexer": "ipython3",
   "version": "3.9.12"
  }
 },
 "nbformat": 4,
 "nbformat_minor": 5
}

{
 "cells": [
  {
   "cell_type": "markdown",
   "id": "b05eca81",
   "metadata": {},
   "source": [
    "# DraCor Postdata Middle-Ware Tyouts"
   ]
  },
  {
   "cell_type": "code",
   "execution_count": 43,
   "id": "cd6b8a7d",
   "metadata": {},
   "outputs": [
    {
     "data": {
      "text/plain": [
       "'http://localhost:5820'"
      ]
     },
     "execution_count": 43,
     "metadata": {},
     "output_type": "execute_result"
    }
   ],
   "source": [
    "# set sparql endpoint (stardog), user name and password\n",
    "database_name = \"PD_KG\"\n",
    "\n",
    "usr = \"admin\"\n",
    "pwd = \"admin\"\n",
    "\n",
    "sparql_endpoint = \"http://localhost:5820\"\n",
    "sparql_endpoint"
   ]
  },
  {
   "cell_type": "code",
   "execution_count": 6,
   "id": "924e6bfb",
   "metadata": {},
   "outputs": [],
   "source": [
    "#use package\n",
    "#!pip install SPARQLWrapper"
   ]
  },
  {
   "cell_type": "code",
   "execution_count": 26,
   "id": "f3f3c066",
   "metadata": {},
   "outputs": [],
   "source": [
    "# SPARQL: use package https://sparqlwrapper.readthedocs.io/en/latest/main.html\n",
    "#didn't work\n",
    "#from SPARQLWrapper import SPARQLWrapper, JSON, XML"
   ]
  },
  {
   "cell_type": "code",
   "execution_count": 34,
   "id": "ae663c80",
   "metadata": {},
   "outputs": [],
   "source": [
    "#!pip install pystardog"
   ]
  },
  {
   "cell_type": "code",
   "execution_count": 39,
   "id": "41c10b1f",
   "metadata": {},
   "outputs": [],
   "source": [
    "import stardog"
   ]
  },
  {
   "cell_type": "code",
   "execution_count": 44,
   "id": "231f8daf",
   "metadata": {},
   "outputs": [],
   "source": [
    "#as in the pystardog notebook https://github.com/stardog-union/pystardog/blob/develop/notebooks/tutorial.ipynb\n",
    "connection_details = {\n",
    "  'endpoint': sparql_endpoint,\n",
    "  'username': 'admin',\n",
    "  'password': 'admin'\n",
    "}"
   ]
  },
  {
   "cell_type": "code",
   "execution_count": 45,
   "id": "b4d3c3f2",
   "metadata": {},
   "outputs": [],
   "source": [
    "conn = stardog.Connection(database_name, **connection_details)"
   ]
  },
  {
   "cell_type": "code",
   "execution_count": 47,
   "id": "75303758",
   "metadata": {},
   "outputs": [],
   "source": [
    "query = \"\"\"\n",
    "SELECT * WHERE {\n",
    "  ?s ?p ?o\n",
    "}\n",
    "LIMIT 10\n",
    "\"\"\""
   ]
  },
  {
   "cell_type": "code",
   "execution_count": 53,
   "id": "bb12f755",
   "metadata": {},
   "outputs": [],
   "source": [
    "import io\n",
    "import pandas as pd"
   ]
  },
  {
   "cell_type": "code",
   "execution_count": 54,
   "id": "59d0c3cd",
   "metadata": {},
   "outputs": [
    {
     "data": {
      "text/html": [
       "<div>\n",
       "<style scoped>\n",
       "    .dataframe tbody tr th:only-of-type {\n",
       "        vertical-align: middle;\n",
       "    }\n",
       "\n",
       "    .dataframe tbody tr th {\n",
       "        vertical-align: top;\n",
       "    }\n",
       "\n",
       "    .dataframe thead th {\n",
       "        text-align: right;\n",
       "    }\n",
       "</style>\n",
       "<table border=\"1\" class=\"dataframe\">\n",
       "  <thead>\n",
       "    <tr style=\"text-align: right;\">\n",
       "      <th></th>\n",
       "      <th>s</th>\n",
       "      <th>p</th>\n",
       "      <th>o</th>\n",
       "    </tr>\n",
       "  </thead>\n",
       "  <tbody>\n",
       "    <tr>\n",
       "      <th>0</th>\n",
       "      <td>http://postdata.linhd.uned.es/resource/a_unknown</td>\n",
       "      <td>http://postdata.linhd.uned.es/ontology/postdat...</td>\n",
       "      <td>UNKNOWN</td>\n",
       "    </tr>\n",
       "    <tr>\n",
       "      <th>1</th>\n",
       "      <td>http://postdata.linhd.uned.es/resource/st_1_te...</td>\n",
       "      <td>http://postdata.linhd.uned.es/ontology/postdat...</td>\n",
       "      <td>http://postdata.linhd.uned.es/kos/</td>\n",
       "    </tr>\n",
       "    <tr>\n",
       "      <th>2</th>\n",
       "      <td>http://postdata.linhd.uned.es/resource/st_1_te...</td>\n",
       "      <td>http://postdata.linhd.uned.es/ontology/postdat...</td>\n",
       "      <td>http://postdata.linhd.uned.es/kos/</td>\n",
       "    </tr>\n",
       "    <tr>\n",
       "      <th>3</th>\n",
       "      <td>http://postdata.linhd.uned.es/resource/st_1_te...</td>\n",
       "      <td>http://postdata.linhd.uned.es/ontology/postdat...</td>\n",
       "      <td>http://postdata.linhd.uned.es/kos/</td>\n",
       "    </tr>\n",
       "    <tr>\n",
       "      <th>4</th>\n",
       "      <td>http://postdata.linhd.uned.es/resource/st_1_lu...</td>\n",
       "      <td>http://postdata.linhd.uned.es/ontology/postdat...</td>\n",
       "      <td>http://postdata.linhd.uned.es/kos/</td>\n",
       "    </tr>\n",
       "  </tbody>\n",
       "</table>\n",
       "</div>"
      ],
      "text/plain": [
       "                                                   s  \\\n",
       "0   http://postdata.linhd.uned.es/resource/a_unknown   \n",
       "1  http://postdata.linhd.uned.es/resource/st_1_te...   \n",
       "2  http://postdata.linhd.uned.es/resource/st_1_te...   \n",
       "3  http://postdata.linhd.uned.es/resource/st_1_te...   \n",
       "4  http://postdata.linhd.uned.es/resource/st_1_lu...   \n",
       "\n",
       "                                                   p  \\\n",
       "0  http://postdata.linhd.uned.es/ontology/postdat...   \n",
       "1  http://postdata.linhd.uned.es/ontology/postdat...   \n",
       "2  http://postdata.linhd.uned.es/ontology/postdat...   \n",
       "3  http://postdata.linhd.uned.es/ontology/postdat...   \n",
       "4  http://postdata.linhd.uned.es/ontology/postdat...   \n",
       "\n",
       "                                    o  \n",
       "0                             UNKNOWN  \n",
       "1  http://postdata.linhd.uned.es/kos/  \n",
       "2  http://postdata.linhd.uned.es/kos/  \n",
       "3  http://postdata.linhd.uned.es/kos/  \n",
       "4  http://postdata.linhd.uned.es/kos/  "
      ]
     },
     "execution_count": 54,
     "metadata": {},
     "output_type": "execute_result"
    }
   ],
   "source": [
    "csv_results = conn.select(query, content_type='text/csv')\n",
    "df = pd.read_csv(io.BytesIO(csv_results))\n",
    "df.head()"
   ]
  },
  {
   "cell_type": "code",
   "execution_count": 56,
   "id": "d45b9786",
   "metadata": {},
   "outputs": [],
   "source": [
    "query_results = conn.select(query)"
   ]
  },
  {
   "cell_type": "code",
   "execution_count": 57,
   "id": "4055bd6e",
   "metadata": {},
   "outputs": [
    {
     "data": {
      "text/plain": [
       "dict"
      ]
     },
     "execution_count": 57,
     "metadata": {},
     "output_type": "execute_result"
    }
   ],
   "source": [
    "type(query_results)"
   ]
  },
  {
   "cell_type": "code",
   "execution_count": 58,
   "id": "be2b6248",
   "metadata": {},
   "outputs": [
    {
     "data": {
      "text/plain": [
       "{'head': {'vars': ['s', 'p', 'o']},\n",
       " 'results': {'bindings': [{'p': {'type': 'uri',\n",
       "     'value': 'http://postdata.linhd.uned.es/ontology/postdata-core#name'},\n",
       "    's': {'type': 'uri',\n",
       "     'value': 'http://postdata.linhd.uned.es/resource/a_unknown'},\n",
       "    'o': {'type': 'literal', 'value': 'UNKNOWN'}},\n",
       "   {'p': {'type': 'uri',\n",
       "     'value': 'http://postdata.linhd.uned.es/ontology/postdata-poeticAnalysis#typeOfStanza'},\n",
       "    's': {'type': 'uri',\n",
       "     'value': 'http://postdata.linhd.uned.es/resource/st_1_teresa-de-jesus_en-las-internas-entranas_plc_16385049791109872'},\n",
       "    'o': {'type': 'uri', 'value': 'http://postdata.linhd.uned.es/kos/'}},\n",
       "   {'p': {'type': 'uri',\n",
       "     'value': 'http://postdata.linhd.uned.es/ontology/postdata-poeticAnalysis#typeOfStanza'},\n",
       "    's': {'type': 'uri',\n",
       "     'value': 'http://postdata.linhd.uned.es/resource/st_1_teresa-de-jesus_o-gran-amadora_plc_16385049803263023'},\n",
       "    'o': {'type': 'uri', 'value': 'http://postdata.linhd.uned.es/kos/'}},\n",
       "   {'p': {'type': 'uri',\n",
       "     'value': 'http://postdata.linhd.uned.es/ontology/postdata-poeticAnalysis#typeOfStanza'},\n",
       "    's': {'type': 'uri',\n",
       "     'value': 'http://postdata.linhd.uned.es/resource/st_1_teresa-de-jesus_ya-toda-me-entregue-y-di_plc_16385049842460034'},\n",
       "    'o': {'type': 'uri', 'value': 'http://postdata.linhd.uned.es/kos/'}},\n",
       "   {'p': {'type': 'uri',\n",
       "     'value': 'http://postdata.linhd.uned.es/ontology/postdata-poeticAnalysis#typeOfStanza'},\n",
       "    's': {'type': 'uri',\n",
       "     'value': 'http://postdata.linhd.uned.es/resource/st_1_luis-de-camoes_largamente-a-cumplir-su-vano-empleo_plc_1638504986534768'},\n",
       "    'o': {'type': 'uri', 'value': 'http://postdata.linhd.uned.es/kos/'}},\n",
       "   {'p': {'type': 'uri',\n",
       "     'value': 'http://postdata.linhd.uned.es/ontology/postdata-poeticAnalysis#typeOfStanza'},\n",
       "    's': {'type': 'uri',\n",
       "     'value': 'http://postdata.linhd.uned.es/resource/st_1_luis-de-camoes_no-sabia-en-que-forma-complaciese_plc_163850501665418'},\n",
       "    'o': {'type': 'uri', 'value': 'http://postdata.linhd.uned.es/kos/'}},\n",
       "   {'p': {'type': 'uri',\n",
       "     'value': 'http://postdata.linhd.uned.es/ontology/postdata-poeticAnalysis#typeOfStanza'},\n",
       "    's': {'type': 'uri',\n",
       "     'value': 'http://postdata.linhd.uned.es/resource/st_1_luis-de-camoes_vimos-que-el-catual-se-detenia_plc_1638505046079758'},\n",
       "    'o': {'type': 'uri', 'value': 'http://postdata.linhd.uned.es/kos/'}},\n",
       "   {'p': {'type': 'uri',\n",
       "     'value': 'http://postdata.linhd.uned.es/ontology/postdata-poeticAnalysis#typeOfStanza'},\n",
       "    's': {'type': 'uri',\n",
       "     'value': 'http://postdata.linhd.uned.es/resource/st_1_luis-de-camoes_alma-y-primero-amor-del-alma-mia_plc_16385050740981371'},\n",
       "    'o': {'type': 'uri', 'value': 'http://postdata.linhd.uned.es/kos/'}},\n",
       "   {'p': {'type': 'uri',\n",
       "     'value': 'http://postdata.linhd.uned.es/ontology/postdata-poeticAnalysis#typeOfStanza'},\n",
       "    's': {'type': 'uri',\n",
       "     'value': 'http://postdata.linhd.uned.es/resource/st_1_luis-de-camoes_ya-en-este-tiempo-el-fulgido-planeta_plc_16385050783940845'},\n",
       "    'o': {'type': 'uri', 'value': 'http://postdata.linhd.uned.es/kos/'}},\n",
       "   {'p': {'type': 'uri',\n",
       "     'value': 'http://postdata.linhd.uned.es/ontology/postdata-poeticAnalysis#typeOfStanza'},\n",
       "    's': {'type': 'uri',\n",
       "     'value': 'http://postdata.linhd.uned.es/resource/st_1_juan-boscan_bien-pense-yo-pasar-mi-triste-vida_plc_1638505121257613'},\n",
       "    'o': {'type': 'uri', 'value': 'http://postdata.linhd.uned.es/kos/'}}]}}"
      ]
     },
     "execution_count": 58,
     "metadata": {},
     "output_type": "execute_result"
    }
   ],
   "source": [
    "query_results"
   ]
  },
  {
   "cell_type": "code",
   "execution_count": 60,
   "id": "9d17452d",
   "metadata": {},
   "outputs": [],
   "source": [
    "#to clean the connection\n",
    "conn.__exit__()"
   ]
  },
  {
   "cell_type": "markdown",
   "id": "49def82e",
   "metadata": {},
   "source": [
    "## "
   ]
  }
 ],
 "metadata": {
  "kernelspec": {
   "display_name": "Python 3 (ipykernel)",
   "language": "python",
   "name": "python3"
  },
  "language_info": {
   "codemirror_mode": {
    "name": "ipython",
    "version": 3
   },
   "file_extension": ".py",
   "mimetype": "text/x-python",
   "name": "python",
   "nbconvert_exporter": "python",
   "pygments_lexer": "ipython3",
   "version": "3.9.12"
  }
 },
 "nbformat": 4,
 "nbformat_minor": 5
}

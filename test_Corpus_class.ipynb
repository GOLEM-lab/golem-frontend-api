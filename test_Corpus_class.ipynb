{
 "cells": [
  {
   "cell_type": "code",
   "execution_count": 1,
   "id": "90b3ab07",
   "metadata": {},
   "outputs": [],
   "source": [
    "from sparql import DB\n",
    "from corpus import Corpus"
   ]
  },
  {
   "cell_type": "code",
   "execution_count": 2,
   "id": "eccf05b9",
   "metadata": {},
   "outputs": [],
   "source": [
    "virtuoso = DB(triplestore=\"virtuoso\", protocol=\"http\",url=\"localhost\",port=\"8890\", username=\"dba\", password=\"pwd123\")"
   ]
  },
  {
   "cell_type": "code",
   "execution_count": 3,
   "id": "3769c190",
   "metadata": {},
   "outputs": [],
   "source": [
    "potter_corpus = Corpus(database=virtuoso, uri=\"http://golemlab.eu/data/potter_corpus\")"
   ]
  },
  {
   "cell_type": "code",
   "execution_count": 4,
   "id": "e0f67f2b",
   "metadata": {},
   "outputs": [
    {
     "data": {
      "text/plain": [
       "'http://golemlab.eu/data/potter_corpus'"
      ]
     },
     "execution_count": 4,
     "metadata": {},
     "output_type": "execute_result"
    }
   ],
   "source": [
    "potter_corpus.uri"
   ]
  },
  {
   "cell_type": "code",
   "execution_count": 5,
   "id": "2854f793",
   "metadata": {},
   "outputs": [
    {
     "data": {
      "text/plain": [
       "'potter_corpus'"
      ]
     },
     "execution_count": 5,
     "metadata": {},
     "output_type": "execute_result"
    }
   ],
   "source": [
    "potter_corpus.get_name()"
   ]
  },
  {
   "cell_type": "code",
   "execution_count": 6,
   "id": "eca0dc34",
   "metadata": {},
   "outputs": [
    {
     "data": {
      "text/plain": [
       "{'uri': 'http://golemlab.eu/data/potter_corpus',\n",
       " 'name': 'potter_corpus',\n",
       " 'title': None,\n",
       " 'description': None,\n",
       " 'acronym': None}"
      ]
     },
     "execution_count": 6,
     "metadata": {},
     "output_type": "execute_result"
    }
   ],
   "source": [
    "potter_corpus.get_metadata()"
   ]
  },
  {
   "cell_type": "code",
   "execution_count": null,
   "id": "21ad9000",
   "metadata": {},
   "outputs": [],
   "source": []
  }
 ],
 "metadata": {
  "kernelspec": {
   "display_name": "Python 3 (ipykernel)",
   "language": "python",
   "name": "python3"
  },
  "language_info": {
   "codemirror_mode": {
    "name": "ipython",
    "version": 3
   },
   "file_extension": ".py",
   "mimetype": "text/x-python",
   "name": "python",
   "nbconvert_exporter": "python",
   "pygments_lexer": "ipython3",
   "version": "3.9.12"
  }
 },
 "nbformat": 4,
 "nbformat_minor": 5
}

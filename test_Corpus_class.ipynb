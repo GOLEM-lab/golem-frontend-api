{
 "cells": [
  {
   "cell_type": "code",
   "execution_count": 1,
   "id": "01421fa3",
   "metadata": {},
   "outputs": [],
   "source": [
    "from sparql import DB\n",
    "from corpus import Corpus"
   ]
  },
  {
   "cell_type": "code",
   "execution_count": 2,
   "id": "54b9f79d",
   "metadata": {},
   "outputs": [],
   "source": [
    "virtuoso = DB(triplestore=\"virtuoso\", protocol=\"http\",url=\"localhost\",port=\"8890\", username=\"dba\", password=\"pwd123\")"
   ]
  },
  {
   "cell_type": "code",
   "execution_count": 3,
   "id": "1a95b9cd",
   "metadata": {},
   "outputs": [],
   "source": [
    "potter_corpus = Corpus(database=virtuoso, uri=\"http://golemlab.eu/data/potter_corpus\")"
   ]
  },
  {
   "cell_type": "code",
   "execution_count": 4,
   "id": "1de54e70",
   "metadata": {},
   "outputs": [
    {
     "data": {
      "text/plain": [
       "'http://golemlab.eu/data/potter_corpus'"
      ]
     },
     "execution_count": 4,
     "metadata": {},
     "output_type": "execute_result"
    }
   ],
   "source": [
    "potter_corpus.uri"
   ]
  },
  {
   "cell_type": "code",
   "execution_count": 5,
   "id": "51514c69",
   "metadata": {},
   "outputs": [
    {
     "data": {
      "text/plain": [
       "'potter_corpus'"
      ]
     },
     "execution_count": 5,
     "metadata": {},
     "output_type": "execute_result"
    }
   ],
   "source": [
    "potter_corpus.get_name()"
   ]
  },
  {
   "cell_type": "code",
   "execution_count": 6,
   "id": "5f2fb6c3",
   "metadata": {},
   "outputs": [
    {
     "data": {
      "text/plain": [
       "'Potter'"
      ]
     },
     "execution_count": 6,
     "metadata": {},
     "output_type": "execute_result"
    }
   ],
   "source": [
    "# __init won't fetch this automatically\n",
    "potter_corpus.get_acronym()"
   ]
  },
  {
   "cell_type": "code",
   "execution_count": 7,
   "id": "877fc79f",
   "metadata": {},
   "outputs": [
    {
     "data": {
      "text/plain": [
       "{'uri': 'http://golemlab.eu/data/potter_corpus',\n",
       " 'name': 'potter_corpus',\n",
       " 'title': None,\n",
       " 'description': None,\n",
       " 'acronym': 'Potter'}"
      ]
     },
     "execution_count": 7,
     "metadata": {},
     "output_type": "execute_result"
    }
   ],
   "source": [
    "potter_corpus.get_metadata()"
   ]
  },
  {
   "cell_type": "code",
   "execution_count": null,
   "id": "be2c2f3f",
   "metadata": {},
   "outputs": [],
   "source": []
  }
 ],
 "metadata": {
  "kernelspec": {
   "display_name": "Python 3 (ipykernel)",
   "language": "python",
   "name": "python3"
  },
  "language_info": {
   "codemirror_mode": {
    "name": "ipython",
    "version": 3
   },
   "file_extension": ".py",
   "mimetype": "text/x-python",
   "name": "python",
   "nbconvert_exporter": "python",
   "pygments_lexer": "ipython3",
   "version": "3.9.12"
  }
 },
 "nbformat": 4,
 "nbformat_minor": 5
}

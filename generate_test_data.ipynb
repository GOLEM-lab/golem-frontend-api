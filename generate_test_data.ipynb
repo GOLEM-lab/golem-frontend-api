{
 "cells": [
  {
   "cell_type": "code",
   "execution_count": 1,
   "id": "3f9040bd",
   "metadata": {},
   "outputs": [],
   "source": [
    "import rdflib\n",
    "from marshmallow import Schema, fields"
   ]
  },
  {
   "cell_type": "code",
   "execution_count": 2,
   "id": "a5a7f709",
   "metadata": {},
   "outputs": [],
   "source": [
    "from sparql_queries import GolemQuery"
   ]
  },
  {
   "cell_type": "markdown",
   "id": "a49625d4",
   "metadata": {},
   "source": [
    "The defined prefixes are stored in the GolemQuery class in `sparql_queries.py`. These are the cannonical prefixes."
   ]
  },
  {
   "cell_type": "code",
   "execution_count": 3,
   "id": "4dbbd7c6",
   "metadata": {},
   "outputs": [
    {
     "data": {
      "text/plain": [
       "[{'prefix': 'gd', 'uri': 'http://data.golemlab.eu/data/'},\n",
       " {'prefix': 'gt', 'uri': 'http://data.golemlab.eu/data/entity/type/'},\n",
       " {'prefix': 'crm', 'uri': 'http://www.cidoc-crm.org/cidoc-crm/'},\n",
       " {'prefix': 'owl', 'uri': 'http://www.w3.org/2002/07/owl#'},\n",
       " {'prefix': 'xsd', 'uri': 'http://www.w3.org/2001/XMLSchema#'},\n",
       " {'prefix': 'cls', 'uri': 'http://clscor.io/ontology/'},\n",
       " {'prefix': 'go', 'uri': 'http://golemlab.eu/ontology/'},\n",
       " {'prefix': 'rdfs', 'uri': 'http://www.w3.org/2000/01/rdf-schema#'},\n",
       " {'prefix': 'nif',\n",
       "  'uri': 'http://persistence.uni-leipzig.org/nlp2rdf/ontologies/nif-core#'}]"
      ]
     },
     "execution_count": 3,
     "metadata": {},
     "output_type": "execute_result"
    }
   ],
   "source": [
    "GolemQuery.prefixes"
   ]
  },
  {
   "cell_type": "code",
   "execution_count": 4,
   "id": "faf606a3",
   "metadata": {},
   "outputs": [],
   "source": [
    "def get_prefix_uri(prefix):\n",
    "    \"\"\"Get the uri for a prefix form GolemQuery.prefixes\"\"\"\n",
    "    return list(filter(lambda item: prefix in item[\"prefix\"] , GolemQuery.prefixes))[0][\"uri\"]"
   ]
  },
  {
   "cell_type": "markdown",
   "id": "55c6a826",
   "metadata": {},
   "source": [
    "Schemas of response objects are stored in `schemas.py`. These should be used to validate the responses."
   ]
  },
  {
   "cell_type": "code",
   "execution_count": 5,
   "id": "8d277bf2",
   "metadata": {},
   "outputs": [],
   "source": [
    "from corpus import Corpus"
   ]
  },
  {
   "cell_type": "code",
   "execution_count": 6,
   "id": "1c688f31",
   "metadata": {},
   "outputs": [],
   "source": [
    "test_id = \"potter_corpus\""
   ]
  },
  {
   "cell_type": "code",
   "execution_count": 7,
   "id": "ae4f6edf",
   "metadata": {},
   "outputs": [],
   "source": [
    "# Setup an instance with all attributes\n",
    "test_corpus = Corpus(\n",
    "    id = test_id,\n",
    "    #URI will be derived from the ID:\n",
    "    uri = get_prefix_uri(\"gd\") + test_id, \n",
    "    name = \"Harry Potter Corpus\",\n",
    "    acronym = \"potter\",\n",
    "    description = \"Harry Potter Corpus derived form AO3.\",\n",
    "    licence = dict(\n",
    "        name=\"CC0\",\n",
    "        uri=\"https://creativecommons.org/publicdomain/zero/1.0\"),\n",
    "    repository = dict(\n",
    "        url=\"https://github.com/GOLEM-lab/potter_corpus\"\n",
    "    )\n",
    ")"
   ]
  },
  {
   "cell_type": "code",
   "execution_count": 9,
   "id": "c4b86526",
   "metadata": {},
   "outputs": [],
   "source": [
    "# Manually create metrics\n",
    "test_corpus_metrics = dict(\n",
    "    chapters = 500,\n",
    "    paragraphs = 9000,\n",
    "    characters = 4000,\n",
    "    male = 1990,\n",
    "    female = 1990,\n",
    "    nonbinary = 20,\n",
    "    comments = 7000,\n",
    "    wordsInDocuments = 500000,\n",
    "    wordsInComments = 20000\n",
    ")"
   ]
  },
  {
   "cell_type": "code",
   "execution_count": 12,
   "id": "2fa21c3f",
   "metadata": {},
   "outputs": [],
   "source": [
    "test_corpus.metrics = test_corpus_metrics"
   ]
  },
  {
   "cell_type": "code",
   "execution_count": 15,
   "id": "11ed126d",
   "metadata": {},
   "outputs": [
    {
     "data": {
      "text/plain": [
       "{'id': 'potter_corpus',\n",
       " 'uri': 'http://data.golemlab.eu/data/potter_corpus',\n",
       " 'corpusName': 'Harry Potter Corpus',\n",
       " 'acronym': 'potter',\n",
       " 'corpusDescription': 'Harry Potter Corpus derived form AO3.',\n",
       " 'licence': 'CC0',\n",
       " 'licenceUrl': 'https://creativecommons.org/publicdomain/zero/1.0',\n",
       " 'repository': 'https://github.com/GOLEM-lab/potter_corpus',\n",
       " 'metrics': {'chapters': 500,\n",
       "  'paragraphs': 9000,\n",
       "  'characters': 4000,\n",
       "  'male': 1990,\n",
       "  'female': 1990,\n",
       "  'nonbinary': 20,\n",
       "  'comments': 7000}}"
      ]
     },
     "execution_count": 15,
     "metadata": {},
     "output_type": "execute_result"
    }
   ],
   "source": [
    "test_corpus.get_metadata(include_metrics=True,validation=False)"
   ]
  },
  {
   "cell_type": "code",
   "execution_count": null,
   "id": "2eec1bf0",
   "metadata": {},
   "outputs": [],
   "source": []
  }
 ],
 "metadata": {
  "kernelspec": {
   "display_name": "Python 3 (ipykernel)",
   "language": "python",
   "name": "python3"
  },
  "language_info": {
   "codemirror_mode": {
    "name": "ipython",
    "version": 3
   },
   "file_extension": ".py",
   "mimetype": "text/x-python",
   "name": "python",
   "nbconvert_exporter": "python",
   "pygments_lexer": "ipython3",
   "version": "3.9.12"
  }
 },
 "nbformat": 4,
 "nbformat_minor": 5
}

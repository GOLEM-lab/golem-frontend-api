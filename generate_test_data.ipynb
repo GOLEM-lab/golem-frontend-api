{
 "cells": [
  {
   "cell_type": "markdown",
   "id": "a80a4d0b",
   "metadata": {},
   "source": [
    "# Generate Test Data"
   ]
  },
  {
   "cell_type": "markdown",
   "id": "8d44f8e3",
   "metadata": {},
   "source": [
    "## Setup target Graph"
   ]
  },
  {
   "cell_type": "code",
   "execution_count": 1,
   "id": "4bb9dca7",
   "metadata": {},
   "outputs": [],
   "source": [
    "from rdflib import Graph, URIRef"
   ]
  },
  {
   "cell_type": "code",
   "execution_count": 2,
   "id": "6096e14c",
   "metadata": {},
   "outputs": [],
   "source": [
    "# Setup a Graph for the data\n",
    "g = Graph()"
   ]
  },
  {
   "cell_type": "markdown",
   "id": "45258596",
   "metadata": {},
   "source": [
    "The defined **prefixes** are stored in the GolemQuery class in `sparql_queries.py`. These are the cannonical prefixes:"
   ]
  },
  {
   "cell_type": "code",
   "execution_count": 3,
   "id": "a60c39d0",
   "metadata": {},
   "outputs": [
    {
     "data": {
      "text/plain": [
       "[{'prefix': 'gd', 'uri': 'http://data.golemlab.eu/data/'},\n",
       " {'prefix': 'gt', 'uri': 'http://data.golemlab.eu/data/entity/type/'},\n",
       " {'prefix': 'crm', 'uri': 'http://www.cidoc-crm.org/cidoc-crm/'},\n",
       " {'prefix': 'owl', 'uri': 'http://www.w3.org/2002/07/owl#'},\n",
       " {'prefix': 'xsd', 'uri': 'http://www.w3.org/2001/XMLSchema#'},\n",
       " {'prefix': 'cls', 'uri': 'http://clscor.io/ontology/'},\n",
       " {'prefix': 'go', 'uri': 'http://golemlab.eu/ontology/'},\n",
       " {'prefix': 'lrm', 'uri': 'http://www.cidoc-crm.org/cidoc-crm/lrmoo/'},\n",
       " {'prefix': 'rdfs', 'uri': 'http://www.w3.org/2000/01/rdf-schema#'},\n",
       " {'prefix': 'nif',\n",
       "  'uri': 'http://persistence.uni-leipzig.org/nlp2rdf/ontologies/nif-core#'}]"
      ]
     },
     "execution_count": 3,
     "metadata": {},
     "output_type": "execute_result"
    }
   ],
   "source": [
    "# Use defined prefixes\n",
    "from sparql_queries import GolemQuery\n",
    "golem = GolemQuery()\n",
    "golem.prefixes"
   ]
  },
  {
   "cell_type": "code",
   "execution_count": 4,
   "id": "755a5f18",
   "metadata": {},
   "outputs": [],
   "source": [
    "# add the prefixes to the graph\n",
    "for item in golem.prefixes:\n",
    "    g.namespace_manager.bind(item[\"prefix\"], URIRef(item[\"uri\"]))"
   ]
  },
  {
   "cell_type": "markdown",
   "id": "7dc2e5b0",
   "metadata": {},
   "source": [
    "## Corpus\n",
    "\n",
    "Corpus data can be created by using the class `Corpus` in `corpus.py`.\n",
    "We create a \"Harry Potter Corpus\"."
   ]
  },
  {
   "cell_type": "code",
   "execution_count": 5,
   "id": "21078846",
   "metadata": {},
   "outputs": [],
   "source": [
    "from corpus import Corpus"
   ]
  },
  {
   "cell_type": "code",
   "execution_count": 6,
   "id": "58f13e5e",
   "metadata": {},
   "outputs": [],
   "source": [
    "# set the id of the Harry Potter corpus corpus\n",
    "potter_corpus_id = \"potter_corpus\""
   ]
  },
  {
   "cell_type": "code",
   "execution_count": 7,
   "id": "521e718a",
   "metadata": {},
   "outputs": [],
   "source": [
    "# Setup an instance with all attributes\n",
    "harry_potter_corpus = Corpus(\n",
    "    id = potter_corpus_id,\n",
    "    #URI will be derived from the ID:\n",
    "    uri = golem.get_prefix_uri(\"gd\") + potter_corpus_id, \n",
    "    name = \"Harry Potter Corpus\",\n",
    "    acronym = \"potter\",\n",
    "    description = \"Harry Potter Corpus derived form AO3.\",\n",
    "    licence = dict(\n",
    "        name=\"CC0\",\n",
    "        uri=\"https://creativecommons.org/publicdomain/zero/1.0\"),\n",
    "    repository = dict(\n",
    "        url=\"https://github.com/GOLEM-lab/potter_corpus\"\n",
    "    )\n",
    ")"
   ]
  },
  {
   "cell_type": "code",
   "execution_count": 8,
   "id": "e3c565cb",
   "metadata": {},
   "outputs": [],
   "source": [
    "# Manually create metrics add add them\n",
    "harry_potter_corpus_metrics = dict(\n",
    "    chapters = 500,\n",
    "    paragraphs = 9000,\n",
    "    characters = 4000,\n",
    "    male = 1990,\n",
    "    female = 1990,\n",
    "    nonbinary = 20,\n",
    "    comments = 7000,\n",
    "    wordsInDocuments = 500000,\n",
    "    wordsInComments = 20000\n",
    ")\n",
    "\n",
    "harry_potter_corpus.metrics = harry_potter_corpus_metrics"
   ]
  },
  {
   "cell_type": "markdown",
   "id": "f3bc249a",
   "metadata": {},
   "source": [
    "With an instance of the `Corpus` class we can return the metadata as defined in the schema. We can also validate it:"
   ]
  },
  {
   "cell_type": "code",
   "execution_count": 9,
   "id": "5c349aac",
   "metadata": {},
   "outputs": [
    {
     "data": {
      "text/plain": [
       "{'id': 'potter_corpus',\n",
       " 'uri': 'http://data.golemlab.eu/data/potter_corpus',\n",
       " 'corpusName': 'Harry Potter Corpus',\n",
       " 'acronym': 'potter',\n",
       " 'corpusDescription': 'Harry Potter Corpus derived form AO3.',\n",
       " 'licence': 'CC0',\n",
       " 'licenceUrl': 'https://creativecommons.org/publicdomain/zero/1.0',\n",
       " 'repository': 'https://github.com/GOLEM-lab/potter_corpus',\n",
       " 'metrics': {'chapters': 500,\n",
       "  'paragraphs': 9000,\n",
       "  'characters': 4000,\n",
       "  'male': 1990,\n",
       "  'female': 1990,\n",
       "  'nonbinary': 20,\n",
       "  'comments': 7000,\n",
       "  'wordsInDocuments': 500000,\n",
       "  'wordsInComments': 20000}}"
      ]
     },
     "execution_count": 9,
     "metadata": {},
     "output_type": "execute_result"
    }
   ],
   "source": [
    "harry_potter_corpus.get_metadata(include_metrics=True,validation=True)"
   ]
  },
  {
   "cell_type": "markdown",
   "id": "6099c09f",
   "metadata": {},
   "source": [
    "RDF data is generated by calling the method `generate_graph()` on the corpus instance."
   ]
  },
  {
   "cell_type": "code",
   "execution_count": 10,
   "id": "eee6ddc0",
   "metadata": {},
   "outputs": [],
   "source": [
    "harry_potter_corpus_g = harry_potter_corpus.generate_graph()"
   ]
  },
  {
   "cell_type": "code",
   "execution_count": 11,
   "id": "aaca447a",
   "metadata": {},
   "outputs": [
    {
     "name": "stdout",
     "output_type": "stream",
     "text": [
      "@prefix cls: <http://clscor.io/ontology/> .\n",
      "@prefix crm: <http://www.cidoc-crm.org/cidoc-crm/> .\n",
      "@prefix gd: <http://data.golemlab.eu/data/> .\n",
      "@prefix gt: <http://data.golemlab.eu/data/entity/type/> .\n",
      "@prefix rdf: <http://www.w3.org/1999/02/22-rdf-syntax-ns#> .\n",
      "@prefix rdfs: <http://www.w3.org/2000/01/rdf-schema#> .\n",
      "@prefix xsd: <http://www.w3.org/2001/XMLSchema#> .\n",
      "\n",
      "<http://data.golemlab.eu/data/potter_corpus/acronym> a crm:E41_Appellation ;\n",
      "    crm:P1i_identifies gd:potter_corpus ;\n",
      "    crm:P2_has_type gt:corpus_acronym ;\n",
      "    rdf:value \"potter\" .\n",
      "\n",
      "<http://data.golemlab.eu/data/potter_corpus/corpus_name> a crm:E41_Appellation ;\n",
      "    crm:P1i_identifies gd:potter_corpus ;\n",
      "    crm:P2_has_type gt:corpus_name ;\n",
      "    rdf:value \"Harry Potter Corpus\" .\n",
      "\n",
      "<http://data.golemlab.eu/data/potter_corpus/dimension/chapters> a crm:E54_Dimension ;\n",
      "    crm:P90_has_value \"500\"^^xsd:int .\n",
      "\n",
      "<http://data.golemlab.eu/data/potter_corpus/dimension/characters> a crm:E54_Dimension ;\n",
      "    crm:P90_has_value \"4000\"^^xsd:int .\n",
      "\n",
      "<http://data.golemlab.eu/data/potter_corpus/dimension/comments> a crm:E54_Dimension ;\n",
      "    crm:P90_has_value \"7000\"^^xsd:int .\n",
      "\n",
      "<http://data.golemlab.eu/data/potter_corpus/dimension/female> a crm:E54_Dimension ;\n",
      "    crm:P90_has_value \"1990\"^^xsd:int .\n",
      "\n",
      "<http://data.golemlab.eu/data/potter_corpus/dimension/male> a crm:E54_Dimension ;\n",
      "    crm:P90_has_value \"1990\"^^xsd:int .\n",
      "\n",
      "<http://data.golemlab.eu/data/potter_corpus/dimension/nonbinary> a crm:E54_Dimension ;\n",
      "    crm:P90_has_value \"20\"^^xsd:int .\n",
      "\n",
      "<http://data.golemlab.eu/data/potter_corpus/dimension/paragraphs> a crm:E54_Dimension ;\n",
      "    crm:P90_has_value \"9000\"^^xsd:int .\n",
      "\n",
      "<http://data.golemlab.eu/data/potter_corpus/dimension/wordsInComments> a crm:E54_Dimension ;\n",
      "    crm:P90_has_value \"20000\"^^xsd:int .\n",
      "\n",
      "<http://data.golemlab.eu/data/potter_corpus/dimension/wordsInDocuments> a crm:E54_Dimension ;\n",
      "    crm:P90_has_value \"500000\"^^xsd:int .\n",
      "\n",
      "<http://data.golemlab.eu/data/potter_corpus/id> a crm:E42_Identifier ;\n",
      "    crm:P2_has_type gt:id ;\n",
      "    rdf:value \"potter_corpus\" .\n",
      "\n",
      "<http://data.golemlab.eu/data/potter_corpus/licence> a crm:E30_Right ;\n",
      "    crm:P3_has_note \"CC0\" ;\n",
      "    crm:P67_refers_to <https://creativecommons.org/publicdomain/zero/1.0> .\n",
      "\n",
      "gd:potter_corpus a cls:X1_Corpus ;\n",
      "    rdfs:label \"Harry Potter Corpus\" ;\n",
      "    crm:P104_is_subject_to <http://data.golemlab.eu/data/potter_corpus/licence> ;\n",
      "    crm:P1_is_identified_by <http://data.golemlab.eu/data/potter_corpus/acronym>,\n",
      "        <http://data.golemlab.eu/data/potter_corpus/corpus_name>,\n",
      "        <http://data.golemlab.eu/data/potter_corpus/id> ;\n",
      "    crm:P3_has_note \"Harry Potter Corpus derived form AO3.\" ;\n",
      "    crm:P43_has_dimension <http://data.golemlab.eu/data/potter_corpus/dimension/chapters>,\n",
      "        <http://data.golemlab.eu/data/potter_corpus/dimension/characters>,\n",
      "        <http://data.golemlab.eu/data/potter_corpus/dimension/comments>,\n",
      "        <http://data.golemlab.eu/data/potter_corpus/dimension/female>,\n",
      "        <http://data.golemlab.eu/data/potter_corpus/dimension/male>,\n",
      "        <http://data.golemlab.eu/data/potter_corpus/dimension/nonbinary>,\n",
      "        <http://data.golemlab.eu/data/potter_corpus/dimension/paragraphs>,\n",
      "        <http://data.golemlab.eu/data/potter_corpus/dimension/wordsInComments>,\n",
      "        <http://data.golemlab.eu/data/potter_corpus/dimension/wordsInDocuments> .\n",
      "\n",
      "\n"
     ]
    }
   ],
   "source": [
    "# Print the RDF\n",
    "print(harry_potter_corpus_g.serialize())"
   ]
  },
  {
   "cell_type": "markdown",
   "id": "5c4b91e3",
   "metadata": {},
   "source": [
    "Add this to the data graph `g`:"
   ]
  },
  {
   "cell_type": "code",
   "execution_count": 12,
   "id": "9226c940",
   "metadata": {},
   "outputs": [],
   "source": [
    "g = g + harry_potter_corpus_g"
   ]
  },
  {
   "cell_type": "markdown",
   "id": "8a4f6a1b",
   "metadata": {},
   "source": [
    "## Characters\n",
    "Use the class `Character` in `character.py`."
   ]
  },
  {
   "cell_type": "code",
   "execution_count": 13,
   "id": "2f21b689",
   "metadata": {},
   "outputs": [],
   "source": [
    "from character import Character"
   ]
  },
  {
   "cell_type": "markdown",
   "id": "97bd3b7d",
   "metadata": {},
   "source": [
    "### Canon-Characters"
   ]
  },
  {
   "cell_type": "markdown",
   "id": "4104b47d",
   "metadata": {},
   "source": [
    "Canonical Character \"Harry Potter\":"
   ]
  },
  {
   "cell_type": "code",
   "execution_count": 14,
   "id": "fec3fe38",
   "metadata": {},
   "outputs": [],
   "source": [
    "canon_harry_potter_id = \"C000000001\"\n",
    "canon_harry_potter = Character(\n",
    "    id=canon_harry_potter_id,\n",
    "    uri= golem.get_prefix_uri(\"gd\") + canon_harry_potter_id,\n",
    "    name=\"Harry Potter\",\n",
    "    character_type = \"canon\",\n",
    "    gender = \"male\",\n",
    "    refs=[{\"ref\": \"Q3244512\", \"type\": \"wikidata\"}],\n",
    "    corpus_ids = [potter_corpus_id] #corpora the character is included\n",
    ")"
   ]
  },
  {
   "cell_type": "code",
   "execution_count": 15,
   "id": "8f4d25d8",
   "metadata": {},
   "outputs": [],
   "source": [
    "canon_harry_potter_g = canon_harry_potter.generate_graph()"
   ]
  },
  {
   "cell_type": "code",
   "execution_count": 16,
   "id": "e4ff417c",
   "metadata": {},
   "outputs": [
    {
     "name": "stdout",
     "output_type": "stream",
     "text": [
      "@prefix crm: <http://www.cidoc-crm.org/cidoc-crm/> .\n",
      "@prefix gd: <http://data.golemlab.eu/data/> .\n",
      "@prefix go: <http://golemlab.eu/ontology/> .\n",
      "@prefix gt: <http://data.golemlab.eu/data/entity/type/> .\n",
      "@prefix rdf: <http://www.w3.org/1999/02/22-rdf-syntax-ns#> .\n",
      "@prefix rdfs: <http://www.w3.org/2000/01/rdf-schema#> .\n",
      "\n",
      "<http://data.golemlab.eu/data/C000000001/character_name> a crm:E41_Appellation ;\n",
      "    crm:P2_has_type gt:character_name ;\n",
      "    rdf:value \"Harry Potter\" .\n",
      "\n",
      "<http://data.golemlab.eu/data/C000000001/id> a crm:E42_Identifier ;\n",
      "    crm:P2_has_type gt:id ;\n",
      "    rdf:value \"C000000001\" .\n",
      "\n",
      "<http://data.golemlab.eu/data/C000000001/wd> a crm:E42_Identifier ;\n",
      "    crm:P1i_identifies gd:C000000001 ;\n",
      "    crm:P2_has_type gt:wikidata ;\n",
      "    rdf:value \"Q3244512\" .\n",
      "\n",
      "gd:potter_corpus crm:P148_has_component gd:C000000001 .\n",
      "\n",
      "gd:C000000001 a go:C1_Character_Concept ;\n",
      "    rdfs:label \"Harry Potter\" ;\n",
      "    crm:P148i_is_component_of gd:potter_corpus ;\n",
      "    crm:P1_is_identified_by <http://data.golemlab.eu/data/C000000001/character_name>,\n",
      "        <http://data.golemlab.eu/data/C000000001/id>,\n",
      "        <http://data.golemlab.eu/data/C000000001/wd> ;\n",
      "    crm:P2_has_type gt:canon_character,\n",
      "        <http://data.golemlab.eu/data/entity/type/gender/male> .\n",
      "\n",
      "\n"
     ]
    }
   ],
   "source": [
    "print(canon_harry_potter_g.serialize())"
   ]
  },
  {
   "cell_type": "markdown",
   "id": "3357efd2",
   "metadata": {},
   "source": [
    "A second character –– Hermione Granger:"
   ]
  },
  {
   "cell_type": "code",
   "execution_count": 17,
   "id": "5aeb0082",
   "metadata": {},
   "outputs": [],
   "source": [
    "canon_hermione_id = \"C000000002\"\n",
    "canon_hermione = Character(\n",
    "    id=canon_hermione_id,\n",
    "    uri= golem.get_prefix_uri(\"gd\") + canon_hermione_id,\n",
    "    name=\"Hermione Granger\",\n",
    "    character_type = \"canon\",\n",
    "    gender = \"female\",\n",
    "    refs=[{\"ref\": \"Q174009\", \"type\": \"wikidata\"}],\n",
    "    corpus_ids = [potter_corpus_id]\n",
    ")"
   ]
  },
  {
   "cell_type": "code",
   "execution_count": 18,
   "id": "7e627449",
   "metadata": {},
   "outputs": [],
   "source": [
    "canon_hermione_g = canon_hermione.generate_graph()\n",
    "# Could inspect by printing it:\n",
    "# print(hermione_rdf.serialize())"
   ]
  },
  {
   "cell_type": "markdown",
   "id": "51b709ee",
   "metadata": {},
   "source": [
    "Add the two characters to the graph:"
   ]
  },
  {
   "cell_type": "code",
   "execution_count": 19,
   "id": "63d07485",
   "metadata": {},
   "outputs": [],
   "source": [
    "g = g + canon_harry_potter_g + canon_hermione_g"
   ]
  },
  {
   "cell_type": "markdown",
   "id": "92b094b4",
   "metadata": {},
   "source": [
    "### Fanon-Characters"
   ]
  },
  {
   "cell_type": "code",
   "execution_count": 20,
   "id": "9bf6e8ee",
   "metadata": {},
   "outputs": [],
   "source": [
    "fanon_harry_potter_id = \"C000000003\"\n",
    "\n",
    "# to do this derivative:\n",
    "fanon_harry_potter_relations = [\n",
    "    {\"type\": \"derivative_of\", \"id\": canon_harry_potter_id }\n",
    "]\n",
    "\n",
    "fanon_harry_potter = Character(\n",
    "    id=fanon_harry_potter_id,\n",
    "    uri= golem.get_prefix_uri(\"gd\") + fanon_harry_potter_id,\n",
    "    name=\"Harry Potter\",\n",
    "    character_type = \"fanon\",\n",
    "    gender = \"male\",\n",
    "    corpus_ids = [potter_corpus_id],\n",
    "    relations = fanon_harry_potter_relations\n",
    ")"
   ]
  },
  {
   "cell_type": "code",
   "execution_count": 21,
   "id": "95fa1dc5",
   "metadata": {},
   "outputs": [
    {
     "name": "stdout",
     "output_type": "stream",
     "text": [
      "@prefix crm: <http://www.cidoc-crm.org/cidoc-crm/> .\n",
      "@prefix gd: <http://data.golemlab.eu/data/> .\n",
      "@prefix go: <http://golemlab.eu/ontology/> .\n",
      "@prefix gt: <http://data.golemlab.eu/data/entity/type/> .\n",
      "@prefix rdf: <http://www.w3.org/1999/02/22-rdf-syntax-ns#> .\n",
      "@prefix rdfs: <http://www.w3.org/2000/01/rdf-schema#> .\n",
      "\n",
      "gd:C000000001 crm:P130i_features_are_also_found_on gd:C000000003 .\n",
      "\n",
      "<http://data.golemlab.eu/data/C000000003/character_name> a crm:E41_Appellation ;\n",
      "    crm:P2_has_type gt:character_name ;\n",
      "    rdf:value \"Harry Potter\" .\n",
      "\n",
      "<http://data.golemlab.eu/data/C000000003/id> a crm:E42_Identifier ;\n",
      "    crm:P2_has_type gt:id ;\n",
      "    rdf:value \"C000000003\" .\n",
      "\n",
      "gd:potter_corpus crm:P148_has_component gd:C000000003 .\n",
      "\n",
      "gd:C000000003 a go:C1_Character_Concept ;\n",
      "    rdfs:label \"Harry Potter\" ;\n",
      "    crm:P130_shows_features_of gd:C000000001 ;\n",
      "    crm:P148i_is_component_of gd:potter_corpus ;\n",
      "    crm:P1_is_identified_by <http://data.golemlab.eu/data/C000000003/character_name>,\n",
      "        <http://data.golemlab.eu/data/C000000003/id> ;\n",
      "    crm:P2_has_type gt:fanon_character,\n",
      "        <http://data.golemlab.eu/data/entity/type/gender/male> .\n",
      "\n",
      "\n"
     ]
    }
   ],
   "source": [
    "fanon_harry_potter_g = fanon_harry_potter.generate_graph()\n",
    "print(fanon_harry_potter_g.serialize())"
   ]
  },
  {
   "cell_type": "code",
   "execution_count": 22,
   "id": "1752ba78",
   "metadata": {},
   "outputs": [],
   "source": [
    "g = g + fanon_harry_potter_g"
   ]
  },
  {
   "cell_type": "markdown",
   "id": "b41965f7",
   "metadata": {},
   "source": [
    "## Work\n",
    "Use the class `Work` from `work.py`. This class can only be used to create data and is currently not used in the API."
   ]
  },
  {
   "cell_type": "code",
   "execution_count": 23,
   "id": "c6cbeba7",
   "metadata": {},
   "outputs": [],
   "source": [
    "from work import Work"
   ]
  },
  {
   "cell_type": "markdown",
   "id": "ea7d97cb",
   "metadata": {},
   "source": [
    "### Harry Potter and the Philosopher's Stone"
   ]
  },
  {
   "cell_type": "code",
   "execution_count": 24,
   "id": "9766883f",
   "metadata": {},
   "outputs": [],
   "source": [
    "philosophers_stone_work_id = \"W000000001\"\n",
    "\n",
    "# we will also need the author and re-use this ID later\n",
    "j_k_rowling_id = \"A000000001\""
   ]
  },
  {
   "cell_type": "markdown",
   "id": "401d1f17",
   "metadata": {},
   "source": [
    "The `Work` class needs information, which characters are connected to the work. We re-use the ids of the characters above; `\"effect\": \"created\"` means, that the characters where invented/created in this work."
   ]
  },
  {
   "cell_type": "code",
   "execution_count": 25,
   "id": "a902a138",
   "metadata": {},
   "outputs": [],
   "source": [
    "philosophers_stone_work_character_data = [\n",
    "    {\n",
    "        \"id\": canon_harry_potter_id,\n",
    "        \"effect\": \"created\"\n",
    "    },\n",
    "    {\n",
    "        \"id\": canon_hermione_id,\n",
    "        \"effect\": \"created\"\n",
    "    }\n",
    "]\n"
   ]
  },
  {
   "cell_type": "code",
   "execution_count": 26,
   "id": "9f2f15b3",
   "metadata": {},
   "outputs": [],
   "source": [
    "# use the Work class\n",
    "philosophers_stone = Work(\n",
    "    id=philosophers_stone_work_id,\n",
    "    uri=golem.get_prefix_uri(\"gd\") + philosophers_stone_work_id,\n",
    "    title=\"Harry Potter and the Philosopher's Stone\",\n",
    "    characters=philosophers_stone_work_character_data,\n",
    "    authors=[{\"id\": j_k_rowling_id}],\n",
    "    dates={\"created\": 1997},\n",
    "    refs=[{\"ref\": \"Q43361\", \"type\": \"wikidata\"}]\n",
    ")"
   ]
  },
  {
   "cell_type": "code",
   "execution_count": 27,
   "id": "9d56c30b",
   "metadata": {},
   "outputs": [
    {
     "name": "stdout",
     "output_type": "stream",
     "text": [
      "@prefix crm: <http://www.cidoc-crm.org/cidoc-crm/> .\n",
      "@prefix gd: <http://data.golemlab.eu/data/> .\n",
      "@prefix gt: <http://data.golemlab.eu/data/entity/type/> .\n",
      "@prefix lrm: <http://www.cidoc-crm.org/cidoc-crm/lrmoo/> .\n",
      "@prefix rdf: <http://www.w3.org/1999/02/22-rdf-syntax-ns#> .\n",
      "@prefix rdfs: <http://www.w3.org/2000/01/rdf-schema#> .\n",
      "@prefix xsd: <http://www.w3.org/2001/XMLSchema#> .\n",
      "\n",
      "gd:A000000001 crm:P14i_performed <http://data.golemlab.eu/data/W000000001/creation> .\n",
      "\n",
      "gd:C000000001 crm:P94i_was_created_by <http://data.golemlab.eu/data/W000000001/creation> .\n",
      "\n",
      "gd:C000000002 crm:P94i_was_created_by <http://data.golemlab.eu/data/W000000001/creation> .\n",
      "\n",
      "<http://data.golemlab.eu/data/W000000001/creation/ts> a crm:E52_Time-Span ;\n",
      "    crm:P4i_is_time-span_of <http://data.golemlab.eu/data/W000000001/creation> ;\n",
      "    rdf:value 1997 .\n",
      "\n",
      "<http://data.golemlab.eu/data/W000000001/id> a crm:E42_Identifier ;\n",
      "    crm:P1i_identifies gd:W000000001 ;\n",
      "    crm:P2_has_type gt:id ;\n",
      "    rdf:value \"W000000001\" .\n",
      "\n",
      "<http://data.golemlab.eu/data/W000000001/title> a crm:E35_Title ;\n",
      "    crm:P102i_is_title_of gd:W000000001 ;\n",
      "    rdf:value \"Harry Potter and the Philosopher's Stone\" .\n",
      "\n",
      "<http://data.golemlab.eu/data/W000000001/wd> a crm:E42_Identifier ;\n",
      "    crm:P1i_identifies gd:W000000001 ;\n",
      "    crm:P2_has_type gt:wikidata ;\n",
      "    rdf:value \"Q43361\" .\n",
      "\n",
      "gd:W000000001 a lrm:F1_Work ;\n",
      "    rdfs:label \"Harry Potter and the Philosopher's Stone\" ;\n",
      "    crm:P102_has_title <http://data.golemlab.eu/data/W000000001/title> ;\n",
      "    crm:P1_is_identified_by <http://data.golemlab.eu/data/W000000001/id>,\n",
      "        <http://data.golemlab.eu/data/W000000001/wd> ;\n",
      "    lrm:R16i_was_created_by <http://data.golemlab.eu/data/W000000001/creation> .\n",
      "\n",
      "<http://data.golemlab.eu/data/W000000001/creation> a lrm:F27_Work_Creation ;\n",
      "    crm:P14_carried_out_by gd:A000000001 ;\n",
      "    crm:P4_has_time-span <http://data.golemlab.eu/data/W000000001/creation/ts> ;\n",
      "    crm:P94_has_created gd:C000000001,\n",
      "        gd:C000000002 ;\n",
      "    lrm:R16_created gd:W000000001 .\n",
      "\n",
      "\n"
     ]
    }
   ],
   "source": [
    "philosophers_stone_g = philosophers_stone.generate_graph()\n",
    "print(philosophers_stone_g.serialize())"
   ]
  },
  {
   "cell_type": "markdown",
   "id": "82c47624",
   "metadata": {},
   "source": [
    "Add to the data graph:"
   ]
  },
  {
   "cell_type": "code",
   "execution_count": 28,
   "id": "b38c9180",
   "metadata": {},
   "outputs": [],
   "source": [
    "g = g + philosophers_stone_g"
   ]
  },
  {
   "cell_type": "markdown",
   "id": "597bb37b",
   "metadata": {},
   "source": [
    "### Fanfiction story"
   ]
  },
  {
   "cell_type": "code",
   "execution_count": 29,
   "id": "e619bc02",
   "metadata": {},
   "outputs": [],
   "source": [
    "fanfic_work_id = \"W000000002\"\n",
    "fanfic_author_id = \"A000000002\"\n",
    "\n",
    "fanfic_work_character_data = [\n",
    "    {\n",
    "        \"id\": canon_harry_potter_id,\n",
    "        \"effect\": \"used\"\n",
    "    },\n",
    "    {\n",
    "        \"id\": fanon_harry_potter_id,\n",
    "        \"effect\": \"created\"\n",
    "    }\n",
    "    \n",
    "]\n",
    "\n",
    "fanfic_work = Work(\n",
    "    id=fanfic_work_id,\n",
    "    uri=golem.get_prefix_uri(\"gd\") + fanfic_work_id,\n",
    "    title=\"A Harry Potter Fanfiction Story\",\n",
    "    characters=fanfic_work_character_data,\n",
    "    dates={\"created\": 2022},\n",
    "    authors=[{\"id\": fanfic_author_id}]\n",
    ")"
   ]
  },
  {
   "cell_type": "code",
   "execution_count": 30,
   "id": "5f28d09f",
   "metadata": {},
   "outputs": [
    {
     "name": "stdout",
     "output_type": "stream",
     "text": [
      "@prefix crm: <http://www.cidoc-crm.org/cidoc-crm/> .\n",
      "@prefix gd: <http://data.golemlab.eu/data/> .\n",
      "@prefix gt: <http://data.golemlab.eu/data/entity/type/> .\n",
      "@prefix lrm: <http://www.cidoc-crm.org/cidoc-crm/lrmoo/> .\n",
      "@prefix rdf: <http://www.w3.org/1999/02/22-rdf-syntax-ns#> .\n",
      "@prefix rdfs: <http://www.w3.org/2000/01/rdf-schema#> .\n",
      "@prefix xsd: <http://www.w3.org/2001/XMLSchema#> .\n",
      "\n",
      "gd:A000000002 crm:P14i_performed <http://data.golemlab.eu/data/W000000002/creation> .\n",
      "\n",
      "gd:C000000001 crm:P16i_was_used_for <http://data.golemlab.eu/data/W000000002/creation> .\n",
      "\n",
      "gd:C000000003 crm:P94i_was_created_by <http://data.golemlab.eu/data/W000000002/creation> .\n",
      "\n",
      "<http://data.golemlab.eu/data/W000000002/creation/ts> a crm:E52_Time-Span ;\n",
      "    crm:P4i_is_time-span_of <http://data.golemlab.eu/data/W000000002/creation> ;\n",
      "    rdf:value 2022 .\n",
      "\n",
      "<http://data.golemlab.eu/data/W000000002/id> a crm:E42_Identifier ;\n",
      "    crm:P1i_identifies gd:W000000002 ;\n",
      "    crm:P2_has_type gt:id ;\n",
      "    rdf:value \"W000000002\" .\n",
      "\n",
      "<http://data.golemlab.eu/data/W000000002/title> a crm:E35_Title ;\n",
      "    crm:P102i_is_title_of gd:W000000002 ;\n",
      "    rdf:value \"A Harry Potter Fanfiction Story\" .\n",
      "\n",
      "gd:W000000002 a lrm:F1_Work ;\n",
      "    rdfs:label \"A Harry Potter Fanfiction Story\" ;\n",
      "    crm:P102_has_title <http://data.golemlab.eu/data/W000000002/title> ;\n",
      "    crm:P1_is_identified_by <http://data.golemlab.eu/data/W000000002/id> ;\n",
      "    lrm:R16i_was_created_by <http://data.golemlab.eu/data/W000000002/creation> .\n",
      "\n",
      "<http://data.golemlab.eu/data/W000000002/creation> a lrm:F27_Work_Creation ;\n",
      "    crm:P14_carried_out_by gd:A000000002 ;\n",
      "    crm:P16_used_specific_object gd:C000000001 ;\n",
      "    crm:P4_has_time-span <http://data.golemlab.eu/data/W000000002/creation/ts> ;\n",
      "    crm:P94_has_created gd:C000000003 ;\n",
      "    lrm:R16_created gd:W000000002 .\n",
      "\n",
      "\n"
     ]
    }
   ],
   "source": [
    "fanfic_work_g = fanfic_work.generate_graph()\n",
    "print(fanfic_work_g.serialize())"
   ]
  },
  {
   "cell_type": "code",
   "execution_count": 31,
   "id": "62b83c86",
   "metadata": {},
   "outputs": [],
   "source": [
    "g = g + fanfic_work_g"
   ]
  },
  {
   "cell_type": "markdown",
   "id": "5a4b66b9",
   "metadata": {},
   "source": [
    "## Author\n",
    "Use the class `Author` from `author.py`. This class can only be used to create data and is currently not used in the API."
   ]
  },
  {
   "cell_type": "code",
   "execution_count": 32,
   "id": "fb46a772",
   "metadata": {},
   "outputs": [],
   "source": [
    "from author import Author"
   ]
  },
  {
   "cell_type": "markdown",
   "id": "41de69fb",
   "metadata": {},
   "source": [
    "### J. K. Rowling"
   ]
  },
  {
   "cell_type": "code",
   "execution_count": 33,
   "id": "a61a5bd7",
   "metadata": {},
   "outputs": [],
   "source": [
    "j_k_rowling = Author(\n",
    "    id=j_k_rowling_id,\n",
    "    uri=golem.get_prefix_uri(\"gd\") + j_k_rowling_id,\n",
    "    name=\"Rowling, J. K.\",\n",
    "    refs=[{\"ref\": \"Q34660\", \"type\": \"wikidata\"}]\n",
    ")"
   ]
  },
  {
   "cell_type": "code",
   "execution_count": 34,
   "id": "4c1cfb8c",
   "metadata": {},
   "outputs": [
    {
     "name": "stdout",
     "output_type": "stream",
     "text": [
      "@prefix crm: <http://www.cidoc-crm.org/cidoc-crm/> .\n",
      "@prefix gd: <http://data.golemlab.eu/data/> .\n",
      "@prefix gt: <http://data.golemlab.eu/data/entity/type/> .\n",
      "@prefix rdf: <http://www.w3.org/1999/02/22-rdf-syntax-ns#> .\n",
      "@prefix rdfs: <http://www.w3.org/2000/01/rdf-schema#> .\n",
      "\n",
      "<http://data.golemlab.eu/data/A000000001/id> a crm:E42_Identifier ;\n",
      "    crm:P1i_identifies gd:A000000001 ;\n",
      "    crm:P2_has_type gt:id ;\n",
      "    rdf:value \"A000000001\" .\n",
      "\n",
      "<http://data.golemlab.eu/data/A000000001/name> a crm:E41_Appellation ;\n",
      "    crm:P1i_identifies gd:A000000001 ;\n",
      "    crm:P2_has_type gt:author_name ;\n",
      "    rdf:value \"Rowling, J. K.\" .\n",
      "\n",
      "<http://data.golemlab.eu/data/A000000001/wd> a crm:E42_Identifier ;\n",
      "    crm:P1i_identifies gd:A000000001 ;\n",
      "    crm:P2_has_type gt:wikidata ;\n",
      "    rdf:value \"Q34660\" .\n",
      "\n",
      "gd:A000000001 a crm:E39_Actor ;\n",
      "    rdfs:label \"Rowling, J. K.\" ;\n",
      "    crm:P1_is_identified_by <http://data.golemlab.eu/data/A000000001/id>,\n",
      "        <http://data.golemlab.eu/data/A000000001/name>,\n",
      "        <http://data.golemlab.eu/data/A000000001/wd> .\n",
      "\n",
      "\n"
     ]
    }
   ],
   "source": [
    "j_k_rowling_g = j_k_rowling.generate_graph()\n",
    "print(j_k_rowling_g.serialize())"
   ]
  },
  {
   "cell_type": "markdown",
   "id": "7e4321fa",
   "metadata": {},
   "source": [
    "Add the data to the data graph:"
   ]
  },
  {
   "cell_type": "code",
   "execution_count": 35,
   "id": "2ca5854e",
   "metadata": {},
   "outputs": [],
   "source": [
    "g = g + j_k_rowling_g"
   ]
  },
  {
   "cell_type": "markdown",
   "id": "ed241f98",
   "metadata": {},
   "source": [
    "### Author of Fanfiction story"
   ]
  },
  {
   "cell_type": "code",
   "execution_count": 36,
   "id": "853f95fe",
   "metadata": {},
   "outputs": [],
   "source": [
    "fanfic_author = Author(\n",
    "    id=fanfic_author_id,\n",
    "    uri=golem.get_prefix_uri(\"gd\") + fanfic_author_id,\n",
    "    name=\"Fanfiction, Author\"\n",
    ")"
   ]
  },
  {
   "cell_type": "code",
   "execution_count": 37,
   "id": "58b761ed",
   "metadata": {},
   "outputs": [
    {
     "name": "stdout",
     "output_type": "stream",
     "text": [
      "@prefix crm: <http://www.cidoc-crm.org/cidoc-crm/> .\n",
      "@prefix gd: <http://data.golemlab.eu/data/> .\n",
      "@prefix gt: <http://data.golemlab.eu/data/entity/type/> .\n",
      "@prefix rdf: <http://www.w3.org/1999/02/22-rdf-syntax-ns#> .\n",
      "@prefix rdfs: <http://www.w3.org/2000/01/rdf-schema#> .\n",
      "\n",
      "<http://data.golemlab.eu/data/A000000002/id> a crm:E42_Identifier ;\n",
      "    crm:P1i_identifies gd:A000000002 ;\n",
      "    crm:P2_has_type gt:id ;\n",
      "    rdf:value \"A000000002\" .\n",
      "\n",
      "<http://data.golemlab.eu/data/A000000002/name> a crm:E41_Appellation ;\n",
      "    crm:P1i_identifies gd:A000000002 ;\n",
      "    crm:P2_has_type gt:author_name ;\n",
      "    rdf:value \"Fanfiction, Author\" .\n",
      "\n",
      "gd:A000000002 a crm:E39_Actor ;\n",
      "    rdfs:label \"Fanfiction, Author\" ;\n",
      "    crm:P1_is_identified_by <http://data.golemlab.eu/data/A000000002/id>,\n",
      "        <http://data.golemlab.eu/data/A000000002/name> .\n",
      "\n",
      "\n"
     ]
    }
   ],
   "source": [
    "fanfic_author_g = fanfic_author.generate_graph()\n",
    "print(fanfic_author_g.serialize())"
   ]
  },
  {
   "cell_type": "code",
   "execution_count": 38,
   "id": "62c41aae",
   "metadata": {},
   "outputs": [],
   "source": [
    "g = g + fanfic_author_g"
   ]
  },
  {
   "cell_type": "markdown",
   "id": "ea124201",
   "metadata": {},
   "source": [
    "## Export test data"
   ]
  },
  {
   "cell_type": "code",
   "execution_count": 39,
   "id": "5d6c66f4",
   "metadata": {},
   "outputs": [],
   "source": [
    "# print everythig\n",
    "# print(g.serialize())"
   ]
  },
  {
   "cell_type": "code",
   "execution_count": 40,
   "id": "ee919ffa",
   "metadata": {},
   "outputs": [
    {
     "data": {
      "text/plain": [
       "<Graph identifier=N2d3644e5606f4a0f990e272c8ed2d7b0 (<class 'rdflib.graph.Graph'>)>"
      ]
     },
     "execution_count": 40,
     "metadata": {},
     "output_type": "execute_result"
    }
   ],
   "source": [
    "g.serialize(destination=\"data/generated_example_data.ttl\",format=\"ttl\")"
   ]
  }
 ],
 "metadata": {
  "kernelspec": {
   "display_name": "Python 3 (ipykernel)",
   "language": "python",
   "name": "python3"
  },
  "language_info": {
   "codemirror_mode": {
    "name": "ipython",
    "version": 3
   },
   "file_extension": ".py",
   "mimetype": "text/x-python",
   "name": "python",
   "nbconvert_exporter": "python",
   "pygments_lexer": "ipython3",
   "version": "3.9.12"
  }
 },
 "nbformat": 4,
 "nbformat_minor": 5
}

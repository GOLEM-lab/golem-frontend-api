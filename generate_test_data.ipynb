{
 "cells": [
  {
   "cell_type": "code",
   "execution_count": 1,
   "id": "6273a083",
   "metadata": {},
   "outputs": [],
   "source": [
    "from marshmallow import Schema, fields"
   ]
  },
  {
   "cell_type": "code",
   "execution_count": 2,
   "id": "13f40e2a",
   "metadata": {},
   "outputs": [],
   "source": [
    "from sparql_queries import GolemQuery"
   ]
  },
  {
   "cell_type": "markdown",
   "id": "a8302ba2",
   "metadata": {},
   "source": [
    "The defined prefixes are stored in the GolemQuery class in `sparql_queries.py`. These are the cannonical prefixes."
   ]
  },
  {
   "cell_type": "code",
   "execution_count": 3,
   "id": "b76ef330",
   "metadata": {},
   "outputs": [
    {
     "data": {
      "text/plain": [
       "[{'prefix': 'gd', 'uri': 'http://data.golemlab.eu/data/'},\n",
       " {'prefix': 'gt', 'uri': 'http://data.golemlab.eu/data/entity/type/'},\n",
       " {'prefix': 'crm', 'uri': 'http://www.cidoc-crm.org/cidoc-crm/'},\n",
       " {'prefix': 'owl', 'uri': 'http://www.w3.org/2002/07/owl#'},\n",
       " {'prefix': 'xsd', 'uri': 'http://www.w3.org/2001/XMLSchema#'},\n",
       " {'prefix': 'cls', 'uri': 'http://clscor.io/ontology/'},\n",
       " {'prefix': 'go', 'uri': 'http://golemlab.eu/ontology/'},\n",
       " {'prefix': 'rdfs', 'uri': 'http://www.w3.org/2000/01/rdf-schema#'},\n",
       " {'prefix': 'nif',\n",
       "  'uri': 'http://persistence.uni-leipzig.org/nlp2rdf/ontologies/nif-core#'}]"
      ]
     },
     "execution_count": 3,
     "metadata": {},
     "output_type": "execute_result"
    }
   ],
   "source": [
    "GolemQuery.prefixes"
   ]
  },
  {
   "cell_type": "code",
   "execution_count": 4,
   "id": "d09cb946",
   "metadata": {},
   "outputs": [],
   "source": [
    "golem_query = GolemQuery()"
   ]
  },
  {
   "cell_type": "code",
   "execution_count": 5,
   "id": "2675588b",
   "metadata": {},
   "outputs": [
    {
     "data": {
      "text/plain": [
       "'http://data.golemlab.eu/data/'"
      ]
     },
     "execution_count": 5,
     "metadata": {},
     "output_type": "execute_result"
    }
   ],
   "source": [
    "golem_query.get_prefix_uri(\"gd\")"
   ]
  },
  {
   "cell_type": "markdown",
   "id": "46e17d75",
   "metadata": {},
   "source": [
    "Schemas of response objects are stored in `schemas.py`. These should be used to validate the responses."
   ]
  },
  {
   "cell_type": "code",
   "execution_count": 6,
   "id": "9389bf49",
   "metadata": {},
   "outputs": [],
   "source": [
    "from corpus import Corpus"
   ]
  },
  {
   "cell_type": "code",
   "execution_count": 7,
   "id": "a2180739",
   "metadata": {},
   "outputs": [],
   "source": [
    "test_id = \"potter_corpus\""
   ]
  },
  {
   "cell_type": "code",
   "execution_count": 8,
   "id": "288f2d2c",
   "metadata": {},
   "outputs": [],
   "source": [
    "# Setup an instance with all attributes\n",
    "test_corpus = Corpus(\n",
    "    id = test_id,\n",
    "    #URI will be derived from the ID:\n",
    "    uri = golem_query.get_prefix_uri(\"gd\") + test_id, \n",
    "    name = \"Harry Potter Corpus\",\n",
    "    acronym = \"potter\",\n",
    "    description = \"Harry Potter Corpus derived form AO3.\",\n",
    "    licence = dict(\n",
    "        name=\"CC0\",\n",
    "        uri=\"https://creativecommons.org/publicdomain/zero/1.0\"),\n",
    "    repository = dict(\n",
    "        url=\"https://github.com/GOLEM-lab/potter_corpus\"\n",
    "    )\n",
    ")"
   ]
  },
  {
   "cell_type": "code",
   "execution_count": 9,
   "id": "c990bef0",
   "metadata": {},
   "outputs": [],
   "source": [
    "# Manually create metrics\n",
    "test_corpus_metrics = dict(\n",
    "    chapters = 500,\n",
    "    paragraphs = 9000,\n",
    "    characters = 4000,\n",
    "    male = 1990,\n",
    "    female = 1990,\n",
    "    nonbinary = 20,\n",
    "    comments = 7000,\n",
    "    wordsInDocuments = 500000,\n",
    "    wordsInComments = 20000\n",
    ")"
   ]
  },
  {
   "cell_type": "code",
   "execution_count": 10,
   "id": "abd23b9e",
   "metadata": {},
   "outputs": [],
   "source": [
    "test_corpus.metrics = test_corpus_metrics"
   ]
  },
  {
   "cell_type": "code",
   "execution_count": 11,
   "id": "ee60d91f",
   "metadata": {},
   "outputs": [
    {
     "data": {
      "text/plain": [
       "{'id': 'potter_corpus',\n",
       " 'uri': 'http://data.golemlab.eu/data/potter_corpus',\n",
       " 'corpusName': 'Harry Potter Corpus',\n",
       " 'acronym': 'potter',\n",
       " 'corpusDescription': 'Harry Potter Corpus derived form AO3.',\n",
       " 'licence': 'CC0',\n",
       " 'licenceUrl': 'https://creativecommons.org/publicdomain/zero/1.0',\n",
       " 'repository': 'https://github.com/GOLEM-lab/potter_corpus',\n",
       " 'metrics': {'chapters': 500,\n",
       "  'paragraphs': 9000,\n",
       "  'characters': 4000,\n",
       "  'male': 1990,\n",
       "  'female': 1990,\n",
       "  'nonbinary': 20,\n",
       "  'comments': 7000,\n",
       "  'wordsInDocuments': 500000,\n",
       "  'wordsInComments': 20000}}"
      ]
     },
     "execution_count": 11,
     "metadata": {},
     "output_type": "execute_result"
    }
   ],
   "source": [
    "test_corpus.get_metadata(include_metrics=True,validation=True)"
   ]
  },
  {
   "cell_type": "code",
   "execution_count": 12,
   "id": "e739416f",
   "metadata": {},
   "outputs": [],
   "source": [
    "test_corpus_rdf = test_corpus.generate_graph()"
   ]
  },
  {
   "cell_type": "code",
   "execution_count": 13,
   "id": "4a1e9a23",
   "metadata": {},
   "outputs": [
    {
     "name": "stdout",
     "output_type": "stream",
     "text": [
      "@prefix cls: <http://clscor.io/ontology/> .\n",
      "@prefix crm: <http://www.cidoc-crm.org/cidoc-crm/> .\n",
      "@prefix gd: <http://data.golemlab.eu/data/> .\n",
      "@prefix gt: <http://data.golemlab.eu/data/entity/type/> .\n",
      "@prefix rdf: <http://www.w3.org/1999/02/22-rdf-syntax-ns#> .\n",
      "@prefix rdfs: <http://www.w3.org/2000/01/rdf-schema#> .\n",
      "@prefix xsd: <http://www.w3.org/2001/XMLSchema#> .\n",
      "\n",
      "<http://data.golemlab.eu/data/potter_corpus/acronym> a crm:E41_Appellation ;\n",
      "    crm:P1i_identifies gd:potter_corpus ;\n",
      "    crm:P2_has_type gt:corpus_acronym ;\n",
      "    rdf:value \"potter\" .\n",
      "\n",
      "<http://data.golemlab.eu/data/potter_corpus/corpus_name> a crm:E41_Appellation ;\n",
      "    crm:P1i_identifies gd:potter_corpus ;\n",
      "    crm:P2_has_type gt:corpus_name ;\n",
      "    rdf:value \"Harry Potter Corpus\" .\n",
      "\n",
      "<http://data.golemlab.eu/data/potter_corpus/dimension/chapters> a crm:E54_Dimension ;\n",
      "    crm:P90_has_value \"500\"^^xsd:int .\n",
      "\n",
      "<http://data.golemlab.eu/data/potter_corpus/dimension/characters> a crm:E54_Dimension ;\n",
      "    crm:P90_has_value \"4000\"^^xsd:int .\n",
      "\n",
      "<http://data.golemlab.eu/data/potter_corpus/dimension/comments> a crm:E54_Dimension ;\n",
      "    crm:P90_has_value \"7000\"^^xsd:int .\n",
      "\n",
      "<http://data.golemlab.eu/data/potter_corpus/dimension/female> a crm:E54_Dimension ;\n",
      "    crm:P90_has_value \"1990\"^^xsd:int .\n",
      "\n",
      "<http://data.golemlab.eu/data/potter_corpus/dimension/male> a crm:E54_Dimension ;\n",
      "    crm:P90_has_value \"1990\"^^xsd:int .\n",
      "\n",
      "<http://data.golemlab.eu/data/potter_corpus/dimension/nonbinary> a crm:E54_Dimension ;\n",
      "    crm:P90_has_value \"20\"^^xsd:int .\n",
      "\n",
      "<http://data.golemlab.eu/data/potter_corpus/dimension/paragraphs> a crm:E54_Dimension ;\n",
      "    crm:P90_has_value \"9000\"^^xsd:int .\n",
      "\n",
      "<http://data.golemlab.eu/data/potter_corpus/dimension/wordsInComments> a crm:E54_Dimension ;\n",
      "    crm:P90_has_value \"20000\"^^xsd:int .\n",
      "\n",
      "<http://data.golemlab.eu/data/potter_corpus/dimension/wordsInDocuments> a crm:E54_Dimension ;\n",
      "    crm:P90_has_value \"500000\"^^xsd:int .\n",
      "\n",
      "<http://data.golemlab.eu/data/potter_corpus/id> a crm:E42_Identifier ;\n",
      "    crm:P2_has_type gt:id ;\n",
      "    rdf:value \"potter_corpus\" .\n",
      "\n",
      "<http://data.golemlab.eu/data/potter_corpus/licence> a crm:E30_Right ;\n",
      "    crm:P3_has_note \"CC0\" ;\n",
      "    crm:P67_refers_to <https://creativecommons.org/publicdomain/zero/1.0> .\n",
      "\n",
      "gd:potter_corpus a cls:X1_Corpus ;\n",
      "    rdfs:label \"Harry Potter Corpus\" ;\n",
      "    crm:P104_is_subject_to <http://data.golemlab.eu/data/potter_corpus/licence> ;\n",
      "    crm:P1_is_identified_by <http://data.golemlab.eu/data/potter_corpus/acronym>,\n",
      "        <http://data.golemlab.eu/data/potter_corpus/corpus_name>,\n",
      "        <http://data.golemlab.eu/data/potter_corpus/id> ;\n",
      "    crm:P3_has_note \"Harry Potter Corpus derived form AO3.\" ;\n",
      "    crm:P43_has_dimension <http://data.golemlab.eu/data/potter_corpus/dimension/chapters>,\n",
      "        <http://data.golemlab.eu/data/potter_corpus/dimension/characters>,\n",
      "        <http://data.golemlab.eu/data/potter_corpus/dimension/comments>,\n",
      "        <http://data.golemlab.eu/data/potter_corpus/dimension/female>,\n",
      "        <http://data.golemlab.eu/data/potter_corpus/dimension/male>,\n",
      "        <http://data.golemlab.eu/data/potter_corpus/dimension/nonbinary>,\n",
      "        <http://data.golemlab.eu/data/potter_corpus/dimension/paragraphs>,\n",
      "        <http://data.golemlab.eu/data/potter_corpus/dimension/wordsInComments>,\n",
      "        <http://data.golemlab.eu/data/potter_corpus/dimension/wordsInDocuments> .\n",
      "\n",
      "\n"
     ]
    }
   ],
   "source": [
    "print(test_corpus_rdf.serialize())"
   ]
  },
  {
   "cell_type": "code",
   "execution_count": 14,
   "id": "b12e22f1",
   "metadata": {},
   "outputs": [
    {
     "data": {
      "text/plain": [
       "<Graph identifier=N731a8b89670f448f9fcc101caa4c5a62 (<class 'rdflib.graph.Graph'>)>"
      ]
     },
     "execution_count": 14,
     "metadata": {},
     "output_type": "execute_result"
    }
   ],
   "source": [
    "test_corpus_rdf.serialize(destination=\"data/test_corpus.ttl\",format=\"ttl\")"
   ]
  },
  {
   "cell_type": "markdown",
   "id": "2c5624dd",
   "metadata": {},
   "source": [
    "## Character data"
   ]
  },
  {
   "cell_type": "code",
   "execution_count": 15,
   "id": "91549860",
   "metadata": {},
   "outputs": [],
   "source": [
    "from character import Character"
   ]
  },
  {
   "cell_type": "code",
   "execution_count": 16,
   "id": "94e67a58",
   "metadata": {},
   "outputs": [],
   "source": [
    "test_character_id = \"C000000001\"\n",
    "test_character = Character(\n",
    "    id=test_character_id,\n",
    "    uri= golem_query.get_prefix_uri(\"gd\") + test_character_id,\n",
    "    name=\"Harry Potter\",\n",
    "    character_type = \"canon\",\n",
    "    gender = \"male\",\n",
    "    corpus_ids = [test_id] #corpora the character is included\n",
    ")\n",
    "# There would be more to add"
   ]
  },
  {
   "cell_type": "code",
   "execution_count": 17,
   "id": "bcf038dd",
   "metadata": {},
   "outputs": [
    {
     "data": {
      "text/plain": [
       "{'id': 'C000000001', 'uri': 'http://data.golemlab.eu/data/C000000001'}"
      ]
     },
     "execution_count": 17,
     "metadata": {},
     "output_type": "execute_result"
    }
   ],
   "source": [
    "test_character.get_metadata()"
   ]
  },
  {
   "cell_type": "code",
   "execution_count": 18,
   "id": "81404c43",
   "metadata": {},
   "outputs": [],
   "source": [
    "test_character_rdf = test_character.generate_graph()"
   ]
  },
  {
   "cell_type": "code",
   "execution_count": 19,
   "id": "b790ff9e",
   "metadata": {},
   "outputs": [
    {
     "name": "stdout",
     "output_type": "stream",
     "text": [
      "@prefix crm: <http://www.cidoc-crm.org/cidoc-crm/> .\n",
      "@prefix gd: <http://data.golemlab.eu/data/> .\n",
      "@prefix go: <http://golemlab.eu/ontology/> .\n",
      "@prefix gt: <http://data.golemlab.eu/data/entity/type/> .\n",
      "@prefix rdf: <http://www.w3.org/1999/02/22-rdf-syntax-ns#> .\n",
      "@prefix rdfs: <http://www.w3.org/2000/01/rdf-schema#> .\n",
      "\n",
      "gd:C000000001 a go:C1_Character_Concept ;\n",
      "    rdfs:label \"Harry Potter\" ;\n",
      "    crm:P148i_is_component_of gd:potter_corpus ;\n",
      "    crm:P1_is_identified_by <http://data.golemlab.eu/data/C000000001/character_name>,\n",
      "        <http://data.golemlab.eu/data/C000000001/id> ;\n",
      "    crm:P2_has_type gt:canon_character,\n",
      "        <http://data.golemlab.eu/data/entity/type/gender/male> .\n",
      "\n",
      "<http://data.golemlab.eu/data/C000000001/character_name> a crm:E41_Appellation ;\n",
      "    crm:P2_has_type gt:character_name ;\n",
      "    rdf:value \"Harry Potter\" .\n",
      "\n",
      "<http://data.golemlab.eu/data/C000000001/id> a crm:E42_Identifier ;\n",
      "    crm:P2_has_type gt:id ;\n",
      "    rdf:value \"C000000001\" .\n",
      "\n",
      "gd:potter_corpus crm:P148_has_component gd:C000000001 .\n",
      "\n",
      "\n"
     ]
    }
   ],
   "source": [
    "print(test_character_rdf.serialize())"
   ]
  },
  {
   "cell_type": "markdown",
   "id": "628bf9ee",
   "metadata": {},
   "source": [
    "## all"
   ]
  },
  {
   "cell_type": "code",
   "execution_count": 20,
   "id": "82a23b34",
   "metadata": {},
   "outputs": [],
   "source": [
    "combined = test_corpus_rdf + test_character_rdf"
   ]
  },
  {
   "cell_type": "code",
   "execution_count": 21,
   "id": "ec03a950",
   "metadata": {},
   "outputs": [
    {
     "data": {
      "text/plain": [
       "<Graph identifier=N0db2e29c5a1c463ca30a5f7d243eddb3 (<class 'rdflib.graph.Graph'>)>"
      ]
     },
     "execution_count": 21,
     "metadata": {},
     "output_type": "execute_result"
    }
   ],
   "source": [
    "combined.serialize(destination=\"data/testdata.ttl\",format=\"ttl\")"
   ]
  },
  {
   "cell_type": "code",
   "execution_count": null,
   "id": "3791f9bd",
   "metadata": {},
   "outputs": [],
   "source": []
  }
 ],
 "metadata": {
  "kernelspec": {
   "display_name": "Python 3 (ipykernel)",
   "language": "python",
   "name": "python3"
  },
  "language_info": {
   "codemirror_mode": {
    "name": "ipython",
    "version": 3
   },
   "file_extension": ".py",
   "mimetype": "text/x-python",
   "name": "python",
   "nbconvert_exporter": "python",
   "pygments_lexer": "ipython3",
   "version": "3.9.12"
  }
 },
 "nbformat": 4,
 "nbformat_minor": 5
}

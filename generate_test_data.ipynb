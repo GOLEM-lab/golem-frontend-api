{
 "cells": [
  {
   "cell_type": "markdown",
   "id": "d7f85d61",
   "metadata": {},
   "source": [
    "# Generate Test Data"
   ]
  },
  {
   "cell_type": "markdown",
   "id": "584c2504",
   "metadata": {},
   "source": [
    "## Setup target Graph"
   ]
  },
  {
   "cell_type": "code",
   "execution_count": 1,
   "id": "95d6d44b",
   "metadata": {},
   "outputs": [],
   "source": [
    "from rdflib import Graph, URIRef"
   ]
  },
  {
   "cell_type": "code",
   "execution_count": 2,
   "id": "3d9e8c74",
   "metadata": {},
   "outputs": [],
   "source": [
    "# Setup a Graph for the data\n",
    "g = Graph()"
   ]
  },
  {
   "cell_type": "markdown",
   "id": "c6370906",
   "metadata": {},
   "source": [
    "The defined **prefixes** are stored in the GolemQuery class in `sparql_queries.py`. These are the cannonical prefixes:"
   ]
  },
  {
   "cell_type": "code",
   "execution_count": 3,
   "id": "16855e8f",
   "metadata": {},
   "outputs": [
    {
     "data": {
      "text/plain": [
       "[{'prefix': 'gd', 'uri': 'http://data.golemlab.eu/data/'},\n",
       " {'prefix': 'gt', 'uri': 'http://data.golemlab.eu/data/entity/type/'},\n",
       " {'prefix': 'crm', 'uri': 'http://www.cidoc-crm.org/cidoc-crm/'},\n",
       " {'prefix': 'owl', 'uri': 'http://www.w3.org/2002/07/owl#'},\n",
       " {'prefix': 'xsd', 'uri': 'http://www.w3.org/2001/XMLSchema#'},\n",
       " {'prefix': 'cls', 'uri': 'http://clscor.io/ontology/'},\n",
       " {'prefix': 'go', 'uri': 'http://golemlab.eu/ontology/'},\n",
       " {'prefix': 'lrm', 'uri': 'http://www.cidoc-crm.org/cidoc-crm/lrmoo/'},\n",
       " {'prefix': 'rdfs', 'uri': 'http://www.w3.org/2000/01/rdf-schema#'},\n",
       " {'prefix': 'nif',\n",
       "  'uri': 'http://persistence.uni-leipzig.org/nlp2rdf/ontologies/nif-core#'}]"
      ]
     },
     "execution_count": 3,
     "metadata": {},
     "output_type": "execute_result"
    }
   ],
   "source": [
    "# Use defined prefixes\n",
    "from sparql_queries import GolemQuery\n",
    "golem = GolemQuery()\n",
    "golem.prefixes"
   ]
  },
  {
   "cell_type": "code",
   "execution_count": 4,
   "id": "104c5f86",
   "metadata": {},
   "outputs": [],
   "source": [
    "# add the prefixes to the graph\n",
    "for item in golem.prefixes:\n",
    "    g.namespace_manager.bind(item[\"prefix\"], URIRef(item[\"uri\"]))"
   ]
  },
  {
   "cell_type": "markdown",
   "id": "ee0e79ca",
   "metadata": {},
   "source": [
    "## Corpus\n",
    "\n",
    "Corpus data can be created by using the class `Corpus` in `corpus.py`.\n",
    "We create a \"Harry Potter Corpus\"."
   ]
  },
  {
   "cell_type": "code",
   "execution_count": 5,
   "id": "9ddd2463",
   "metadata": {},
   "outputs": [],
   "source": [
    "from corpus import Corpus"
   ]
  },
  {
   "cell_type": "code",
   "execution_count": 6,
   "id": "4d911f27",
   "metadata": {},
   "outputs": [],
   "source": [
    "# set the id of the Harry Potter corpus corpus\n",
    "potter_corpus_id = \"potter_corpus\""
   ]
  },
  {
   "cell_type": "code",
   "execution_count": 7,
   "id": "f9da1523",
   "metadata": {},
   "outputs": [],
   "source": [
    "# Setup an instance with all attributes\n",
    "harry_potter_corpus = Corpus(\n",
    "    id = potter_corpus_id,\n",
    "    #URI will be derived from the ID:\n",
    "    uri = golem.get_prefix_uri(\"gd\") + potter_corpus_id, \n",
    "    name = \"Harry Potter Corpus\",\n",
    "    acronym = \"potter\",\n",
    "    description = \"Harry Potter Corpus derived form AO3.\",\n",
    "    licence = dict(\n",
    "        name=\"CC0\",\n",
    "        uri=\"https://creativecommons.org/publicdomain/zero/1.0\"),\n",
    "    repository = dict(\n",
    "        url=\"https://github.com/GOLEM-lab/potter_corpus\"\n",
    "    )\n",
    ")"
   ]
  },
  {
   "cell_type": "code",
   "execution_count": 8,
   "id": "fd0e3cfb",
   "metadata": {},
   "outputs": [],
   "source": [
    "# Manually create metrics add add them\n",
    "harry_potter_corpus_metrics = dict(\n",
    "    chapters = 500,\n",
    "    paragraphs = 9000,\n",
    "    characters = 4000,\n",
    "    male = 1990,\n",
    "    female = 1990,\n",
    "    nonbinary = 20,\n",
    "    comments = 7000,\n",
    "    wordsInDocuments = 500000,\n",
    "    wordsInComments = 20000\n",
    ")\n",
    "\n",
    "harry_potter_corpus.metrics = harry_potter_corpus_metrics"
   ]
  },
  {
   "cell_type": "markdown",
   "id": "38743082",
   "metadata": {},
   "source": [
    "With an instance of the `Corpus` class we can return the metadata as defined in the schema. We can also validate it:"
   ]
  },
  {
   "cell_type": "code",
   "execution_count": 9,
   "id": "913501ef",
   "metadata": {},
   "outputs": [
    {
     "data": {
      "text/plain": [
       "{'id': 'potter_corpus',\n",
       " 'uri': 'http://data.golemlab.eu/data/potter_corpus',\n",
       " 'corpusName': 'Harry Potter Corpus',\n",
       " 'acronym': 'potter',\n",
       " 'corpusDescription': 'Harry Potter Corpus derived form AO3.',\n",
       " 'licence': 'CC0',\n",
       " 'licenceUrl': 'https://creativecommons.org/publicdomain/zero/1.0',\n",
       " 'repository': 'https://github.com/GOLEM-lab/potter_corpus',\n",
       " 'metrics': {'chapters': 500,\n",
       "  'paragraphs': 9000,\n",
       "  'characters': 4000,\n",
       "  'male': 1990,\n",
       "  'female': 1990,\n",
       "  'nonbinary': 20,\n",
       "  'comments': 7000,\n",
       "  'wordsInDocuments': 500000,\n",
       "  'wordsInComments': 20000}}"
      ]
     },
     "execution_count": 9,
     "metadata": {},
     "output_type": "execute_result"
    }
   ],
   "source": [
    "harry_potter_corpus.get_metadata(include_metrics=True,validation=True)"
   ]
  },
  {
   "cell_type": "markdown",
   "id": "27f4e9df",
   "metadata": {},
   "source": [
    "RDF data is generated by calling the method `generate_graph()` on the corpus instance."
   ]
  },
  {
   "cell_type": "code",
   "execution_count": 10,
   "id": "10b05110",
   "metadata": {},
   "outputs": [],
   "source": [
    "harry_potter_corpus_g = harry_potter_corpus.generate_graph()"
   ]
  },
  {
   "cell_type": "code",
   "execution_count": 11,
   "id": "7a2b4986",
   "metadata": {},
   "outputs": [
    {
     "name": "stdout",
     "output_type": "stream",
     "text": [
      "@prefix cls: <http://clscor.io/ontology/> .\n",
      "@prefix crm: <http://www.cidoc-crm.org/cidoc-crm/> .\n",
      "@prefix gd: <http://data.golemlab.eu/data/> .\n",
      "@prefix gt: <http://data.golemlab.eu/data/entity/type/> .\n",
      "@prefix rdf: <http://www.w3.org/1999/02/22-rdf-syntax-ns#> .\n",
      "@prefix rdfs: <http://www.w3.org/2000/01/rdf-schema#> .\n",
      "@prefix xsd: <http://www.w3.org/2001/XMLSchema#> .\n",
      "\n",
      "<http://data.golemlab.eu/data/potter_corpus/acronym> a crm:E41_Appellation ;\n",
      "    crm:P1i_identifies gd:potter_corpus ;\n",
      "    crm:P2_has_type gt:corpus_acronym ;\n",
      "    rdf:value \"potter\" .\n",
      "\n",
      "<http://data.golemlab.eu/data/potter_corpus/corpus_name> a crm:E41_Appellation ;\n",
      "    crm:P1i_identifies gd:potter_corpus ;\n",
      "    crm:P2_has_type gt:corpus_name ;\n",
      "    rdf:value \"Harry Potter Corpus\" .\n",
      "\n",
      "<http://data.golemlab.eu/data/potter_corpus/dimension/chapters> a crm:E54_Dimension ;\n",
      "    crm:P90_has_value \"500\"^^xsd:int .\n",
      "\n",
      "<http://data.golemlab.eu/data/potter_corpus/dimension/characters> a crm:E54_Dimension ;\n",
      "    crm:P90_has_value \"4000\"^^xsd:int .\n",
      "\n",
      "<http://data.golemlab.eu/data/potter_corpus/dimension/comments> a crm:E54_Dimension ;\n",
      "    crm:P90_has_value \"7000\"^^xsd:int .\n",
      "\n",
      "<http://data.golemlab.eu/data/potter_corpus/dimension/female> a crm:E54_Dimension ;\n",
      "    crm:P90_has_value \"1990\"^^xsd:int .\n",
      "\n",
      "<http://data.golemlab.eu/data/potter_corpus/dimension/male> a crm:E54_Dimension ;\n",
      "    crm:P90_has_value \"1990\"^^xsd:int .\n",
      "\n",
      "<http://data.golemlab.eu/data/potter_corpus/dimension/nonbinary> a crm:E54_Dimension ;\n",
      "    crm:P90_has_value \"20\"^^xsd:int .\n",
      "\n",
      "<http://data.golemlab.eu/data/potter_corpus/dimension/paragraphs> a crm:E54_Dimension ;\n",
      "    crm:P90_has_value \"9000\"^^xsd:int .\n",
      "\n",
      "<http://data.golemlab.eu/data/potter_corpus/dimension/wordsInComments> a crm:E54_Dimension ;\n",
      "    crm:P90_has_value \"20000\"^^xsd:int .\n",
      "\n",
      "<http://data.golemlab.eu/data/potter_corpus/dimension/wordsInDocuments> a crm:E54_Dimension ;\n",
      "    crm:P90_has_value \"500000\"^^xsd:int .\n",
      "\n",
      "<http://data.golemlab.eu/data/potter_corpus/id> a crm:E42_Identifier ;\n",
      "    crm:P2_has_type gt:id ;\n",
      "    rdf:value \"potter_corpus\" .\n",
      "\n",
      "<http://data.golemlab.eu/data/potter_corpus/licence> a crm:E30_Right ;\n",
      "    crm:P3_has_note \"CC0\" ;\n",
      "    crm:P67_refers_to <https://creativecommons.org/publicdomain/zero/1.0> .\n",
      "\n",
      "gd:potter_corpus a cls:X1_Corpus ;\n",
      "    rdfs:label \"Harry Potter Corpus\" ;\n",
      "    crm:P104_is_subject_to <http://data.golemlab.eu/data/potter_corpus/licence> ;\n",
      "    crm:P1_is_identified_by <http://data.golemlab.eu/data/potter_corpus/acronym>,\n",
      "        <http://data.golemlab.eu/data/potter_corpus/corpus_name>,\n",
      "        <http://data.golemlab.eu/data/potter_corpus/id> ;\n",
      "    crm:P3_has_note \"Harry Potter Corpus derived form AO3.\" ;\n",
      "    crm:P43_has_dimension <http://data.golemlab.eu/data/potter_corpus/dimension/chapters>,\n",
      "        <http://data.golemlab.eu/data/potter_corpus/dimension/characters>,\n",
      "        <http://data.golemlab.eu/data/potter_corpus/dimension/comments>,\n",
      "        <http://data.golemlab.eu/data/potter_corpus/dimension/female>,\n",
      "        <http://data.golemlab.eu/data/potter_corpus/dimension/male>,\n",
      "        <http://data.golemlab.eu/data/potter_corpus/dimension/nonbinary>,\n",
      "        <http://data.golemlab.eu/data/potter_corpus/dimension/paragraphs>,\n",
      "        <http://data.golemlab.eu/data/potter_corpus/dimension/wordsInComments>,\n",
      "        <http://data.golemlab.eu/data/potter_corpus/dimension/wordsInDocuments> .\n",
      "\n",
      "\n"
     ]
    }
   ],
   "source": [
    "# Print the RDF\n",
    "print(harry_potter_corpus_g.serialize())"
   ]
  },
  {
   "cell_type": "markdown",
   "id": "3b7ec392",
   "metadata": {},
   "source": [
    "Add this to the data graph `g`:"
   ]
  },
  {
   "cell_type": "code",
   "execution_count": 12,
   "id": "4832bfca",
   "metadata": {},
   "outputs": [],
   "source": [
    "g = g + harry_potter_corpus_g"
   ]
  },
  {
   "cell_type": "markdown",
   "id": "7f1689ea",
   "metadata": {},
   "source": [
    "## Characters\n",
    "Use the class `Character` in `character.py`."
   ]
  },
  {
   "cell_type": "code",
   "execution_count": 13,
   "id": "0d443049",
   "metadata": {},
   "outputs": [],
   "source": [
    "from character import Character"
   ]
  },
  {
   "cell_type": "markdown",
   "id": "8d018821",
   "metadata": {},
   "source": [
    "### Canon-Characters"
   ]
  },
  {
   "cell_type": "markdown",
   "id": "bb5051f8",
   "metadata": {},
   "source": [
    "Canonical Character \"Harry Potter\":"
   ]
  },
  {
   "cell_type": "code",
   "execution_count": 14,
   "id": "2145b8d0",
   "metadata": {},
   "outputs": [],
   "source": [
    "canon_harry_potter_id = \"C000000001\"\n",
    "canon_harry_potter = Character(\n",
    "    id=canon_harry_potter_id,\n",
    "    uri= golem.get_prefix_uri(\"gd\") + canon_harry_potter_id,\n",
    "    name=\"Harry Potter\",\n",
    "    character_type = \"canon\",\n",
    "    gender = \"male\",\n",
    "    refs=[{\"ref\": \"Q3244512\", \"type\": \"wikidata\"}],\n",
    "    corpus_ids = [potter_corpus_id] #corpora the character is included\n",
    ")"
   ]
  },
  {
   "cell_type": "code",
   "execution_count": 15,
   "id": "48874890",
   "metadata": {},
   "outputs": [],
   "source": [
    "canon_harry_potter_g = canon_harry_potter.generate_graph()"
   ]
  },
  {
   "cell_type": "code",
   "execution_count": 16,
   "id": "975a3199",
   "metadata": {},
   "outputs": [
    {
     "name": "stdout",
     "output_type": "stream",
     "text": [
      "@prefix crm: <http://www.cidoc-crm.org/cidoc-crm/> .\n",
      "@prefix gd: <http://data.golemlab.eu/data/> .\n",
      "@prefix go: <http://golemlab.eu/ontology/> .\n",
      "@prefix gt: <http://data.golemlab.eu/data/entity/type/> .\n",
      "@prefix rdf: <http://www.w3.org/1999/02/22-rdf-syntax-ns#> .\n",
      "@prefix rdfs: <http://www.w3.org/2000/01/rdf-schema#> .\n",
      "\n",
      "<http://data.golemlab.eu/data/C000000001/character_name> a crm:E41_Appellation ;\n",
      "    crm:P2_has_type gt:character_name ;\n",
      "    rdf:value \"Harry Potter\" .\n",
      "\n",
      "<http://data.golemlab.eu/data/C000000001/id> a crm:E42_Identifier ;\n",
      "    crm:P2_has_type gt:id ;\n",
      "    rdf:value \"C000000001\" .\n",
      "\n",
      "<http://data.golemlab.eu/data/C000000001/wd> a crm:E42_Identifier ;\n",
      "    crm:P1i_identifies gd:C000000001 ;\n",
      "    crm:P2_has_type gt:wikidata ;\n",
      "    rdf:value \"Q3244512\" .\n",
      "\n",
      "gd:potter_corpus crm:P148_has_component gd:C000000001 .\n",
      "\n",
      "gd:C000000001 a go:C1_Character_Concept ;\n",
      "    rdfs:label \"Harry Potter\" ;\n",
      "    crm:P148i_is_component_of gd:potter_corpus ;\n",
      "    crm:P1_is_identified_by <http://data.golemlab.eu/data/C000000001/character_name>,\n",
      "        <http://data.golemlab.eu/data/C000000001/id>,\n",
      "        <http://data.golemlab.eu/data/C000000001/wd> ;\n",
      "    crm:P2_has_type gt:canon_character,\n",
      "        <http://data.golemlab.eu/data/entity/type/gender/male> .\n",
      "\n",
      "\n"
     ]
    }
   ],
   "source": [
    "print(canon_harry_potter_g.serialize())"
   ]
  },
  {
   "cell_type": "markdown",
   "id": "ea25ab6f",
   "metadata": {},
   "source": [
    "A second character –– Hermione Granger:"
   ]
  },
  {
   "cell_type": "code",
   "execution_count": 17,
   "id": "22e4c2e8",
   "metadata": {},
   "outputs": [],
   "source": [
    "canon_hermione_id = \"C000000002\"\n",
    "canon_hermione = Character(\n",
    "    id=canon_hermione_id,\n",
    "    uri= golem.get_prefix_uri(\"gd\") + canon_hermione_id,\n",
    "    name=\"Hermione Granger\",\n",
    "    character_type = \"canon\",\n",
    "    gender = \"female\",\n",
    "    refs=[{\"ref\": \"Q174009\", \"type\": \"wikidata\"}],\n",
    "    corpus_ids = [potter_corpus_id]\n",
    ")"
   ]
  },
  {
   "cell_type": "code",
   "execution_count": 18,
   "id": "067b024a",
   "metadata": {},
   "outputs": [],
   "source": [
    "canon_hermione_g = canon_hermione.generate_graph()\n",
    "# Could inspect by printing it:\n",
    "# print(hermione_rdf.serialize())"
   ]
  },
  {
   "cell_type": "markdown",
   "id": "94667020",
   "metadata": {},
   "source": [
    "Add the two characters to the graph:"
   ]
  },
  {
   "cell_type": "code",
   "execution_count": 19,
   "id": "d65ea217",
   "metadata": {},
   "outputs": [],
   "source": [
    "g = g + canon_harry_potter_g + canon_hermione_g"
   ]
  },
  {
   "cell_type": "markdown",
   "id": "e642f199",
   "metadata": {},
   "source": [
    "### Fanon-Characters"
   ]
  },
  {
   "cell_type": "code",
   "execution_count": 20,
   "id": "b0b5da2a",
   "metadata": {},
   "outputs": [],
   "source": [
    "fanon_harry_potter_id = \"C000000003\"\n",
    "\n",
    "# to do this derivative:\n",
    "fanon_harry_potter_relations = [\n",
    "    {\"type\": \"derivative_of\", \"id\": canon_harry_potter_id }\n",
    "]\n",
    "\n",
    "fanon_harry_potter = Character(\n",
    "    id=fanon_harry_potter_id,\n",
    "    uri= golem.get_prefix_uri(\"gd\") + fanon_harry_potter_id,\n",
    "    name=\"Harry Potter\",\n",
    "    character_type = \"fanon\",\n",
    "    gender = \"male\",\n",
    "    corpus_ids = [potter_corpus_id],\n",
    "    relations = fanon_harry_potter_relations\n",
    ")"
   ]
  },
  {
   "cell_type": "code",
   "execution_count": 21,
   "id": "6fd9634c",
   "metadata": {},
   "outputs": [
    {
     "name": "stdout",
     "output_type": "stream",
     "text": [
      "@prefix crm: <http://www.cidoc-crm.org/cidoc-crm/> .\n",
      "@prefix gd: <http://data.golemlab.eu/data/> .\n",
      "@prefix go: <http://golemlab.eu/ontology/> .\n",
      "@prefix gt: <http://data.golemlab.eu/data/entity/type/> .\n",
      "@prefix rdf: <http://www.w3.org/1999/02/22-rdf-syntax-ns#> .\n",
      "@prefix rdfs: <http://www.w3.org/2000/01/rdf-schema#> .\n",
      "\n",
      "gd:C000000001 crm:P130i_features_are_also_found_on gd:C000000003 .\n",
      "\n",
      "<http://data.golemlab.eu/data/C000000003/character_name> a crm:E41_Appellation ;\n",
      "    crm:P2_has_type gt:character_name ;\n",
      "    rdf:value \"Harry Potter\" .\n",
      "\n",
      "<http://data.golemlab.eu/data/C000000003/id> a crm:E42_Identifier ;\n",
      "    crm:P2_has_type gt:id ;\n",
      "    rdf:value \"C000000003\" .\n",
      "\n",
      "gd:potter_corpus crm:P148_has_component gd:C000000003 .\n",
      "\n",
      "gd:C000000003 a go:C1_Character_Concept ;\n",
      "    rdfs:label \"Harry Potter\" ;\n",
      "    crm:P130_shows_features_of gd:C000000001 ;\n",
      "    crm:P148i_is_component_of gd:potter_corpus ;\n",
      "    crm:P1_is_identified_by <http://data.golemlab.eu/data/C000000003/character_name>,\n",
      "        <http://data.golemlab.eu/data/C000000003/id> ;\n",
      "    crm:P2_has_type gt:fanon_character,\n",
      "        <http://data.golemlab.eu/data/entity/type/gender/male> .\n",
      "\n",
      "\n"
     ]
    }
   ],
   "source": [
    "fanon_harry_potter_g = fanon_harry_potter.generate_graph()\n",
    "print(fanon_harry_potter_g.serialize())"
   ]
  },
  {
   "cell_type": "code",
   "execution_count": 22,
   "id": "27249168",
   "metadata": {},
   "outputs": [],
   "source": [
    "g = g + fanon_harry_potter_g"
   ]
  },
  {
   "cell_type": "markdown",
   "id": "00766d76",
   "metadata": {},
   "source": [
    "## Work\n",
    "Use the class `Work` from `work.py`. This class can only be used to create data and is currently not used in the API."
   ]
  },
  {
   "cell_type": "code",
   "execution_count": 23,
   "id": "30ea3d1a",
   "metadata": {},
   "outputs": [],
   "source": [
    "from work import Work"
   ]
  },
  {
   "cell_type": "markdown",
   "id": "edd2a906",
   "metadata": {},
   "source": [
    "### Harry Potter and the Philosopher's Stone"
   ]
  },
  {
   "cell_type": "code",
   "execution_count": 24,
   "id": "a4b501d4",
   "metadata": {},
   "outputs": [],
   "source": [
    "philosophers_stone_work_id = \"W000000001\"\n",
    "\n",
    "# we will also need the author and re-use this ID later\n",
    "j_k_rowling_id = \"A000000001\""
   ]
  },
  {
   "cell_type": "markdown",
   "id": "f5338831",
   "metadata": {},
   "source": [
    "The `Work` class needs information, which characters are connected to the work. We re-use the ids of the characters above; `\"effect\": \"created\"` means, that the characters where invented/created in this work."
   ]
  },
  {
   "cell_type": "code",
   "execution_count": 25,
   "id": "ab7749b5",
   "metadata": {},
   "outputs": [],
   "source": [
    "philosophers_stone_work_character_data = [\n",
    "    {\n",
    "        \"id\": canon_harry_potter_id,\n",
    "        \"effect\": \"created\"\n",
    "    },\n",
    "    {\n",
    "        \"id\": canon_hermione_id,\n",
    "        \"effect\": \"created\"\n",
    "    }\n",
    "]\n"
   ]
  },
  {
   "cell_type": "code",
   "execution_count": 26,
   "id": "5a9725db",
   "metadata": {},
   "outputs": [],
   "source": [
    "# use the Work class\n",
    "philosophers_stone = Work(\n",
    "    id=philosophers_stone_work_id,\n",
    "    uri=golem.get_prefix_uri(\"gd\") + philosophers_stone_work_id,\n",
    "    title=\"Harry Potter and the Philosopher's Stone\",\n",
    "    characters=philosophers_stone_work_character_data,\n",
    "    authors=[{\"id\": j_k_rowling_id}],\n",
    "    dates={\"created\": 1997},\n",
    "    refs=[{\"ref\": \"Q43361\", \"type\": \"wikidata\"}]\n",
    ")"
   ]
  },
  {
   "cell_type": "code",
   "execution_count": 27,
   "id": "074fc3a6",
   "metadata": {},
   "outputs": [
    {
     "name": "stdout",
     "output_type": "stream",
     "text": [
      "@prefix crm: <http://www.cidoc-crm.org/cidoc-crm/> .\n",
      "@prefix gd: <http://data.golemlab.eu/data/> .\n",
      "@prefix gt: <http://data.golemlab.eu/data/entity/type/> .\n",
      "@prefix lrm: <http://www.cidoc-crm.org/cidoc-crm/lrmoo/> .\n",
      "@prefix rdf: <http://www.w3.org/1999/02/22-rdf-syntax-ns#> .\n",
      "@prefix rdfs: <http://www.w3.org/2000/01/rdf-schema#> .\n",
      "@prefix xsd: <http://www.w3.org/2001/XMLSchema#> .\n",
      "\n",
      "gd:A000000001 crm:P14i_performed <http://data.golemlab.eu/data/W000000001/creation> .\n",
      "\n",
      "gd:C000000001 crm:P94i_was_created_by <http://data.golemlab.eu/data/W000000001/creation> .\n",
      "\n",
      "gd:C000000002 crm:P94i_was_created_by <http://data.golemlab.eu/data/W000000001/creation> .\n",
      "\n",
      "<http://data.golemlab.eu/data/W000000001/creation/ts> a crm:E52_Time-Span ;\n",
      "    crm:P4i_is_time-span_of <http://data.golemlab.eu/data/W000000001/creation> ;\n",
      "    rdf:value 1997 .\n",
      "\n",
      "<http://data.golemlab.eu/data/W000000001/id> a crm:E42_Identifier ;\n",
      "    crm:P1i_identifies gd:W000000001 ;\n",
      "    crm:P2_has_type gt:id ;\n",
      "    rdf:value \"W000000001\" .\n",
      "\n",
      "<http://data.golemlab.eu/data/W000000001/title> a crm:E35_Title ;\n",
      "    crm:P102i_is_title_of gd:W000000001 ;\n",
      "    rdf:value \"Harry Potter and the Philosopher's Stone\" .\n",
      "\n",
      "<http://data.golemlab.eu/data/W000000001/wd> a crm:E42_Identifier ;\n",
      "    crm:P1i_identifies gd:W000000001 ;\n",
      "    crm:P2_has_type gt:wikidata ;\n",
      "    rdf:value \"Q43361\" .\n",
      "\n",
      "gd:W000000001 a lrm:F1_Work ;\n",
      "    rdfs:label \"Harry Potter and the Philosopher's Stone\" ;\n",
      "    crm:P102_has_title <http://data.golemlab.eu/data/W000000001/title> ;\n",
      "    crm:P1_is_identified_by <http://data.golemlab.eu/data/W000000001/id>,\n",
      "        <http://data.golemlab.eu/data/W000000001/wd> ;\n",
      "    lrm:R16i_was_created_by <http://data.golemlab.eu/data/W000000001/creation> .\n",
      "\n",
      "<http://data.golemlab.eu/data/W000000001/creation> a lrm:F27_Work_Creation ;\n",
      "    crm:P14_carried_out_by gd:A000000001 ;\n",
      "    crm:P4_has_time-span <http://data.golemlab.eu/data/W000000001/creation/ts> ;\n",
      "    crm:P94_has_created gd:C000000001,\n",
      "        gd:C000000002 ;\n",
      "    lrm:R16_created gd:W000000001 .\n",
      "\n",
      "\n"
     ]
    }
   ],
   "source": [
    "philosophers_stone_g = philosophers_stone.generate_graph()\n",
    "print(philosophers_stone_g.serialize())"
   ]
  },
  {
   "cell_type": "markdown",
   "id": "4d0841e3",
   "metadata": {},
   "source": [
    "Add to the data graph:"
   ]
  },
  {
   "cell_type": "code",
   "execution_count": 28,
   "id": "c25c580e",
   "metadata": {},
   "outputs": [],
   "source": [
    "g = g + philosophers_stone_g"
   ]
  },
  {
   "cell_type": "markdown",
   "id": "0c139689",
   "metadata": {},
   "source": [
    "### Fanfiction story"
   ]
  },
  {
   "cell_type": "code",
   "execution_count": 37,
   "id": "f5d9a757",
   "metadata": {},
   "outputs": [],
   "source": [
    "fanfic_work_id = \"W000000002\"\n",
    "fanfic_author_id = \"A000000002\"\n",
    "\n",
    "fanfic_work_character_data = [\n",
    "    {\n",
    "        \"id\": canon_harry_potter_id,\n",
    "        \"effect\": \"used\"\n",
    "    },\n",
    "    {\n",
    "        \"id\": fanon_harry_potter_id,\n",
    "        \"effect\": \"created\"\n",
    "    }\n",
    "    \n",
    "]\n",
    "\n",
    "fanfic_work = Work(\n",
    "    id=fanfic_work_id,\n",
    "    uri=golem.get_prefix_uri(\"gd\") + fanfic_work_id,\n",
    "    title=\"A Harry Potter Fanfiction Story\",\n",
    "    characters=fanfic_work_character_data,\n",
    "    authors=[{\"id\": fanfic_author_id}]\n",
    ")"
   ]
  },
  {
   "cell_type": "code",
   "execution_count": 38,
   "id": "1c02b4bd",
   "metadata": {},
   "outputs": [
    {
     "name": "stdout",
     "output_type": "stream",
     "text": [
      "@prefix crm: <http://www.cidoc-crm.org/cidoc-crm/> .\n",
      "@prefix gd: <http://data.golemlab.eu/data/> .\n",
      "@prefix gt: <http://data.golemlab.eu/data/entity/type/> .\n",
      "@prefix lrm: <http://www.cidoc-crm.org/cidoc-crm/lrmoo/> .\n",
      "@prefix rdf: <http://www.w3.org/1999/02/22-rdf-syntax-ns#> .\n",
      "@prefix rdfs: <http://www.w3.org/2000/01/rdf-schema#> .\n",
      "\n",
      "gd:A000000002 crm:P14i_performed <http://data.golemlab.eu/data/W000000002/creation> .\n",
      "\n",
      "gd:C000000003 crm:P94i_was_created_by <http://data.golemlab.eu/data/W000000002/creation> .\n",
      "\n",
      "<http://data.golemlab.eu/data/W000000002/id> a crm:E42_Identifier ;\n",
      "    crm:P1i_identifies gd:W000000002 ;\n",
      "    crm:P2_has_type gt:id ;\n",
      "    rdf:value \"W000000002\" .\n",
      "\n",
      "<http://data.golemlab.eu/data/W000000002/title> a crm:E35_Title ;\n",
      "    crm:P102i_is_title_of gd:W000000002 ;\n",
      "    rdf:value \"A Harry Potter Fanfiction Story\" .\n",
      "\n",
      "gd:W000000002 a lrm:F1_Work ;\n",
      "    rdfs:label \"A Harry Potter Fanfiction Story\" ;\n",
      "    crm:P102_has_title <http://data.golemlab.eu/data/W000000002/title> ;\n",
      "    crm:P1_is_identified_by <http://data.golemlab.eu/data/W000000002/id> ;\n",
      "    lrm:R16i_was_created_by <http://data.golemlab.eu/data/W000000002/creation> .\n",
      "\n",
      "<http://data.golemlab.eu/data/W000000002/creation> a lrm:F27_Work_Creation ;\n",
      "    crm:P14_carried_out_by gd:A000000002 ;\n",
      "    crm:P94_has_created gd:C000000003 ;\n",
      "    lrm:R16_created gd:W000000002 .\n",
      "\n",
      "\n"
     ]
    }
   ],
   "source": [
    "fanfic_work_g = fanfic_work.generate_graph()\n",
    "print(fanfic_work_g.serialize())"
   ]
  },
  {
   "cell_type": "markdown",
   "id": "4edbc165",
   "metadata": {},
   "source": [
    "## Author\n",
    "Use the class `Author` from `author.py`. This class can only be used to create data and is currently not used in the API."
   ]
  },
  {
   "cell_type": "code",
   "execution_count": 29,
   "id": "ecb26b25",
   "metadata": {},
   "outputs": [],
   "source": [
    "from author import Author"
   ]
  },
  {
   "cell_type": "markdown",
   "id": "015a403b",
   "metadata": {},
   "source": [
    "### J. K. Rowling"
   ]
  },
  {
   "cell_type": "code",
   "execution_count": 30,
   "id": "efb3b815",
   "metadata": {},
   "outputs": [],
   "source": [
    "j_k_rowling = Author(\n",
    "    id=j_k_rowling_id,\n",
    "    uri=golem.get_prefix_uri(\"gd\") + j_k_rowling_id,\n",
    "    name=\"Rowling, J. K.\",\n",
    "    refs=[{\"ref\": \"Q34660\", \"type\": \"wikidata\"}]\n",
    ")"
   ]
  },
  {
   "cell_type": "code",
   "execution_count": 31,
   "id": "8a907fe1",
   "metadata": {},
   "outputs": [
    {
     "name": "stdout",
     "output_type": "stream",
     "text": [
      "@prefix crm: <http://www.cidoc-crm.org/cidoc-crm/> .\n",
      "@prefix gd: <http://data.golemlab.eu/data/> .\n",
      "@prefix gt: <http://data.golemlab.eu/data/entity/type/> .\n",
      "@prefix rdf: <http://www.w3.org/1999/02/22-rdf-syntax-ns#> .\n",
      "@prefix rdfs: <http://www.w3.org/2000/01/rdf-schema#> .\n",
      "\n",
      "<http://data.golemlab.eu/data/A000000001/id> a crm:E42_Identifier ;\n",
      "    crm:P1i_identifies gd:A000000001 ;\n",
      "    crm:P2_has_type gt:id ;\n",
      "    rdf:value \"A000000001\" .\n",
      "\n",
      "<http://data.golemlab.eu/data/A000000001/name> a crm:E41_Appellation ;\n",
      "    crm:P1i_identifies gd:A000000001 ;\n",
      "    crm:P2_has_type gt:author_name ;\n",
      "    rdf:value \"Rowling, J. K.\" .\n",
      "\n",
      "<http://data.golemlab.eu/data/A000000001/wd> a crm:E42_Identifier ;\n",
      "    crm:P1i_identifies gd:A000000001 ;\n",
      "    crm:P2_has_type gt:wikidata ;\n",
      "    rdf:value \"Q34660\" .\n",
      "\n",
      "gd:A000000001 a crm:E39_Actor ;\n",
      "    rdfs:label \"Rowling, J. K.\" ;\n",
      "    crm:P1_is_identified_by <http://data.golemlab.eu/data/A000000001/id>,\n",
      "        <http://data.golemlab.eu/data/A000000001/name>,\n",
      "        <http://data.golemlab.eu/data/A000000001/wd> .\n",
      "\n",
      "\n"
     ]
    }
   ],
   "source": [
    "j_k_rowling_g = j_k_rowling.generate_graph()\n",
    "print(j_k_rowling_g.serialize())"
   ]
  },
  {
   "cell_type": "markdown",
   "id": "f3994996",
   "metadata": {},
   "source": [
    "Add the data to the data graph:"
   ]
  },
  {
   "cell_type": "code",
   "execution_count": 32,
   "id": "45415ee0",
   "metadata": {},
   "outputs": [],
   "source": [
    "g = g + j_k_rowling_g"
   ]
  },
  {
   "cell_type": "markdown",
   "id": "b7f6e828",
   "metadata": {},
   "source": [
    "## Export test data"
   ]
  },
  {
   "cell_type": "code",
   "execution_count": 33,
   "id": "56934949",
   "metadata": {},
   "outputs": [],
   "source": [
    "# print everythig\n",
    "# print(g.serialize())"
   ]
  },
  {
   "cell_type": "code",
   "execution_count": 34,
   "id": "3d3bf52b",
   "metadata": {},
   "outputs": [
    {
     "data": {
      "text/plain": [
       "<Graph identifier=N739323a13812435fb48f91ab74fcd5fe (<class 'rdflib.graph.Graph'>)>"
      ]
     },
     "execution_count": 34,
     "metadata": {},
     "output_type": "execute_result"
    }
   ],
   "source": [
    "g.serialize(destination=\"data/generated_example_data.ttl\",format=\"ttl\")"
   ]
  }
 ],
 "metadata": {
  "kernelspec": {
   "display_name": "Python 3 (ipykernel)",
   "language": "python",
   "name": "python3"
  },
  "language_info": {
   "codemirror_mode": {
    "name": "ipython",
    "version": 3
   },
   "file_extension": ".py",
   "mimetype": "text/x-python",
   "name": "python",
   "nbconvert_exporter": "python",
   "pygments_lexer": "ipython3",
   "version": "3.9.12"
  }
 },
 "nbformat": 4,
 "nbformat_minor": 5
}

{
 "cells": [
  {
   "cell_type": "markdown",
   "id": "123d9e77",
   "metadata": {},
   "source": [
    "# Generate Test Data"
   ]
  },
  {
   "cell_type": "markdown",
   "id": "5072be5a",
   "metadata": {},
   "source": [
    "## Setup target Graph"
   ]
  },
  {
   "cell_type": "code",
   "execution_count": 1,
   "id": "12d0e3ee",
   "metadata": {},
   "outputs": [],
   "source": [
    "from rdflib import Graph, URIRef"
   ]
  },
  {
   "cell_type": "code",
   "execution_count": 2,
   "id": "b046543e",
   "metadata": {},
   "outputs": [],
   "source": [
    "# Setup a Graph for the data\n",
    "g = Graph()"
   ]
  },
  {
   "cell_type": "markdown",
   "id": "651fbfc5",
   "metadata": {},
   "source": [
    "The defined **prefixes** are stored in the GolemQuery class in `sparql_queries.py`. These are the cannonical prefixes:"
   ]
  },
  {
   "cell_type": "code",
   "execution_count": 3,
   "id": "c30bf429",
   "metadata": {},
   "outputs": [
    {
     "data": {
      "text/plain": [
       "[{'prefix': 'gd', 'uri': 'http://data.golemlab.eu/data/'},\n",
       " {'prefix': 'gt', 'uri': 'http://data.golemlab.eu/data/entity/type/'},\n",
       " {'prefix': 'crm', 'uri': 'http://www.cidoc-crm.org/cidoc-crm/'},\n",
       " {'prefix': 'owl', 'uri': 'http://www.w3.org/2002/07/owl#'},\n",
       " {'prefix': 'xsd', 'uri': 'http://www.w3.org/2001/XMLSchema#'},\n",
       " {'prefix': 'cls', 'uri': 'http://clscor.io/ontology/'},\n",
       " {'prefix': 'go', 'uri': 'http://golemlab.eu/ontology/'},\n",
       " {'prefix': 'lrm', 'uri': 'http://www.cidoc-crm.org/cidoc-crm/lrmoo/'},\n",
       " {'prefix': 'rdfs', 'uri': 'http://www.w3.org/2000/01/rdf-schema#'},\n",
       " {'prefix': 'nif',\n",
       "  'uri': 'http://persistence.uni-leipzig.org/nlp2rdf/ontologies/nif-core#'}]"
      ]
     },
     "execution_count": 3,
     "metadata": {},
     "output_type": "execute_result"
    }
   ],
   "source": [
    "# Use defined prefixes\n",
    "from sparql_queries import GolemQuery\n",
    "golem = GolemQuery()\n",
    "golem.prefixes"
   ]
  },
  {
   "cell_type": "code",
   "execution_count": 4,
   "id": "7763e6f0",
   "metadata": {},
   "outputs": [],
   "source": [
    "# add the prefixes to the graph\n",
    "for item in golem.prefixes:\n",
    "    g.namespace_manager.bind(item[\"prefix\"], URIRef(item[\"uri\"]))"
   ]
  },
  {
   "cell_type": "markdown",
   "id": "28fde6d2",
   "metadata": {},
   "source": [
    "## Corpus\n",
    "\n",
    "Corpus data can be created by using the class `Corpus` in `corpus.py`.\n",
    "We create a \"Harry Potter Corpus\"."
   ]
  },
  {
   "cell_type": "code",
   "execution_count": 5,
   "id": "20baa706",
   "metadata": {},
   "outputs": [],
   "source": [
    "from corpus import Corpus"
   ]
  },
  {
   "cell_type": "code",
   "execution_count": 6,
   "id": "7703046b",
   "metadata": {},
   "outputs": [],
   "source": [
    "# set the id of the Harry Potter corpus corpus\n",
    "potter_corpus_id = \"potter_corpus\""
   ]
  },
  {
   "cell_type": "code",
   "execution_count": 7,
   "id": "bb1dec04",
   "metadata": {},
   "outputs": [],
   "source": [
    "# Setup an instance with all attributes\n",
    "harry_potter_corpus = Corpus(\n",
    "    id = potter_corpus_id,\n",
    "    #URI will be derived from the ID:\n",
    "    uri = golem.get_prefix_uri(\"gd\") + potter_corpus_id, \n",
    "    name = \"Harry Potter Corpus\",\n",
    "    acronym = \"potter\",\n",
    "    description = \"Harry Potter Corpus derived form AO3.\",\n",
    "    licence = dict(\n",
    "        name=\"CC0\",\n",
    "        uri=\"https://creativecommons.org/publicdomain/zero/1.0\"),\n",
    "    repository = dict(\n",
    "        url=\"https://github.com/GOLEM-lab/potter_corpus\"\n",
    "    )\n",
    ")"
   ]
  },
  {
   "cell_type": "code",
   "execution_count": 8,
   "id": "fb9ee7da",
   "metadata": {},
   "outputs": [],
   "source": [
    "# Manually create metrics add add them\n",
    "harry_potter_corpus_metrics = dict(\n",
    "    chapters = 500,\n",
    "    paragraphs = 9000,\n",
    "    characters = 4000,\n",
    "    male = 1990,\n",
    "    female = 1990,\n",
    "    nonbinary = 20,\n",
    "    comments = 7000,\n",
    "    wordsInDocuments = 500000,\n",
    "    wordsInComments = 20000\n",
    ")\n",
    "\n",
    "harry_potter_corpus.metrics = harry_potter_corpus_metrics"
   ]
  },
  {
   "cell_type": "markdown",
   "id": "4e55cdcc",
   "metadata": {},
   "source": [
    "With an instance of the `Corpus` class we can return the metadata as defined in the schema. We can also validate it:"
   ]
  },
  {
   "cell_type": "code",
   "execution_count": 9,
   "id": "5f9a4515",
   "metadata": {},
   "outputs": [
    {
     "data": {
      "text/plain": [
       "{'id': 'potter_corpus',\n",
       " 'uri': 'http://data.golemlab.eu/data/potter_corpus',\n",
       " 'corpusName': 'Harry Potter Corpus',\n",
       " 'acronym': 'potter',\n",
       " 'corpusDescription': 'Harry Potter Corpus derived form AO3.',\n",
       " 'licence': 'CC0',\n",
       " 'licenceUrl': 'https://creativecommons.org/publicdomain/zero/1.0',\n",
       " 'repository': 'https://github.com/GOLEM-lab/potter_corpus',\n",
       " 'metrics': {'chapters': 500,\n",
       "  'paragraphs': 9000,\n",
       "  'characters': 4000,\n",
       "  'male': 1990,\n",
       "  'female': 1990,\n",
       "  'nonbinary': 20,\n",
       "  'comments': 7000,\n",
       "  'wordsInDocuments': 500000,\n",
       "  'wordsInComments': 20000}}"
      ]
     },
     "execution_count": 9,
     "metadata": {},
     "output_type": "execute_result"
    }
   ],
   "source": [
    "harry_potter_corpus.get_metadata(include_metrics=True,validation=True)"
   ]
  },
  {
   "cell_type": "markdown",
   "id": "e441761e",
   "metadata": {},
   "source": [
    "RDF data is generated by calling the method `generate_graph()` on the corpus instance."
   ]
  },
  {
   "cell_type": "code",
   "execution_count": 10,
   "id": "fe04c408",
   "metadata": {},
   "outputs": [],
   "source": [
    "harry_potter_corpus_g = harry_potter_corpus.generate_graph()"
   ]
  },
  {
   "cell_type": "code",
   "execution_count": 11,
   "id": "9340a426",
   "metadata": {},
   "outputs": [
    {
     "name": "stdout",
     "output_type": "stream",
     "text": [
      "@prefix cls: <http://clscor.io/ontology/> .\n",
      "@prefix crm: <http://www.cidoc-crm.org/cidoc-crm/> .\n",
      "@prefix gd: <http://data.golemlab.eu/data/> .\n",
      "@prefix gt: <http://data.golemlab.eu/data/entity/type/> .\n",
      "@prefix rdf: <http://www.w3.org/1999/02/22-rdf-syntax-ns#> .\n",
      "@prefix rdfs: <http://www.w3.org/2000/01/rdf-schema#> .\n",
      "@prefix xsd: <http://www.w3.org/2001/XMLSchema#> .\n",
      "\n",
      "<http://data.golemlab.eu/data/potter_corpus/acronym> a crm:E41_Appellation ;\n",
      "    crm:P1i_identifies gd:potter_corpus ;\n",
      "    crm:P2_has_type gt:corpus_acronym ;\n",
      "    rdf:value \"potter\" .\n",
      "\n",
      "<http://data.golemlab.eu/data/potter_corpus/corpus_name> a crm:E41_Appellation ;\n",
      "    crm:P1i_identifies gd:potter_corpus ;\n",
      "    crm:P2_has_type gt:corpus_name ;\n",
      "    rdf:value \"Harry Potter Corpus\" .\n",
      "\n",
      "<http://data.golemlab.eu/data/potter_corpus/dimension/chapters> a crm:E54_Dimension ;\n",
      "    crm:P90_has_value \"500\"^^xsd:int .\n",
      "\n",
      "<http://data.golemlab.eu/data/potter_corpus/dimension/characters> a crm:E54_Dimension ;\n",
      "    crm:P90_has_value \"4000\"^^xsd:int .\n",
      "\n",
      "<http://data.golemlab.eu/data/potter_corpus/dimension/comments> a crm:E54_Dimension ;\n",
      "    crm:P90_has_value \"7000\"^^xsd:int .\n",
      "\n",
      "<http://data.golemlab.eu/data/potter_corpus/dimension/female> a crm:E54_Dimension ;\n",
      "    crm:P90_has_value \"1990\"^^xsd:int .\n",
      "\n",
      "<http://data.golemlab.eu/data/potter_corpus/dimension/male> a crm:E54_Dimension ;\n",
      "    crm:P90_has_value \"1990\"^^xsd:int .\n",
      "\n",
      "<http://data.golemlab.eu/data/potter_corpus/dimension/nonbinary> a crm:E54_Dimension ;\n",
      "    crm:P90_has_value \"20\"^^xsd:int .\n",
      "\n",
      "<http://data.golemlab.eu/data/potter_corpus/dimension/paragraphs> a crm:E54_Dimension ;\n",
      "    crm:P90_has_value \"9000\"^^xsd:int .\n",
      "\n",
      "<http://data.golemlab.eu/data/potter_corpus/dimension/wordsInComments> a crm:E54_Dimension ;\n",
      "    crm:P90_has_value \"20000\"^^xsd:int .\n",
      "\n",
      "<http://data.golemlab.eu/data/potter_corpus/dimension/wordsInDocuments> a crm:E54_Dimension ;\n",
      "    crm:P90_has_value \"500000\"^^xsd:int .\n",
      "\n",
      "<http://data.golemlab.eu/data/potter_corpus/id> a crm:E42_Identifier ;\n",
      "    crm:P2_has_type gt:id ;\n",
      "    rdf:value \"potter_corpus\" .\n",
      "\n",
      "<http://data.golemlab.eu/data/potter_corpus/licence> a crm:E30_Right ;\n",
      "    crm:P3_has_note \"CC0\" ;\n",
      "    crm:P67_refers_to <https://creativecommons.org/publicdomain/zero/1.0> .\n",
      "\n",
      "gd:potter_corpus a cls:X1_Corpus ;\n",
      "    rdfs:label \"Harry Potter Corpus\" ;\n",
      "    crm:P104_is_subject_to <http://data.golemlab.eu/data/potter_corpus/licence> ;\n",
      "    crm:P1_is_identified_by <http://data.golemlab.eu/data/potter_corpus/acronym>,\n",
      "        <http://data.golemlab.eu/data/potter_corpus/corpus_name>,\n",
      "        <http://data.golemlab.eu/data/potter_corpus/id> ;\n",
      "    crm:P3_has_note \"Harry Potter Corpus derived form AO3.\" ;\n",
      "    crm:P43_has_dimension <http://data.golemlab.eu/data/potter_corpus/dimension/chapters>,\n",
      "        <http://data.golemlab.eu/data/potter_corpus/dimension/characters>,\n",
      "        <http://data.golemlab.eu/data/potter_corpus/dimension/comments>,\n",
      "        <http://data.golemlab.eu/data/potter_corpus/dimension/female>,\n",
      "        <http://data.golemlab.eu/data/potter_corpus/dimension/male>,\n",
      "        <http://data.golemlab.eu/data/potter_corpus/dimension/nonbinary>,\n",
      "        <http://data.golemlab.eu/data/potter_corpus/dimension/paragraphs>,\n",
      "        <http://data.golemlab.eu/data/potter_corpus/dimension/wordsInComments>,\n",
      "        <http://data.golemlab.eu/data/potter_corpus/dimension/wordsInDocuments> .\n",
      "\n",
      "\n"
     ]
    }
   ],
   "source": [
    "# Print the RDF\n",
    "print(harry_potter_corpus_g.serialize())"
   ]
  },
  {
   "cell_type": "markdown",
   "id": "e96eac87",
   "metadata": {},
   "source": [
    "Add this to the data graph `g`:"
   ]
  },
  {
   "cell_type": "code",
   "execution_count": 12,
   "id": "eb0050c7",
   "metadata": {},
   "outputs": [],
   "source": [
    "g = g + harry_potter_corpus_g"
   ]
  },
  {
   "cell_type": "markdown",
   "id": "de7138ee",
   "metadata": {},
   "source": [
    "## Characters\n",
    "Use the class `Character` in `character.py`."
   ]
  },
  {
   "cell_type": "code",
   "execution_count": 13,
   "id": "3a7854b9",
   "metadata": {},
   "outputs": [],
   "source": [
    "from character import Character"
   ]
  },
  {
   "cell_type": "markdown",
   "id": "d1676fa2",
   "metadata": {},
   "source": [
    "### Canon-Characters"
   ]
  },
  {
   "cell_type": "markdown",
   "id": "5cfc4bb3",
   "metadata": {},
   "source": [
    "Canonical Character \"Harry Potter\":"
   ]
  },
  {
   "cell_type": "code",
   "execution_count": 14,
   "id": "3f585cac",
   "metadata": {},
   "outputs": [],
   "source": [
    "canon_harry_potter_id = \"C000000001\"\n",
    "canon_harry_potter = Character(\n",
    "    id=canon_harry_potter_id,\n",
    "    uri= golem.get_prefix_uri(\"gd\") + canon_harry_potter_id,\n",
    "    name=\"Harry Potter\",\n",
    "    character_type = \"canon\",\n",
    "    gender = \"male\",\n",
    "    refs=[{\"ref\": \"Q3244512\", \"type\": \"wikidata\"}],\n",
    "    corpus_ids = [potter_corpus_id] #corpora the character is included\n",
    ")"
   ]
  },
  {
   "cell_type": "code",
   "execution_count": 15,
   "id": "5baf1f44",
   "metadata": {},
   "outputs": [],
   "source": [
    "canon_harry_potter_g = canon_harry_potter.generate_graph()"
   ]
  },
  {
   "cell_type": "code",
   "execution_count": 16,
   "id": "93b7de6a",
   "metadata": {},
   "outputs": [
    {
     "name": "stdout",
     "output_type": "stream",
     "text": [
      "@prefix crm: <http://www.cidoc-crm.org/cidoc-crm/> .\n",
      "@prefix gd: <http://data.golemlab.eu/data/> .\n",
      "@prefix go: <http://golemlab.eu/ontology/> .\n",
      "@prefix gt: <http://data.golemlab.eu/data/entity/type/> .\n",
      "@prefix rdf: <http://www.w3.org/1999/02/22-rdf-syntax-ns#> .\n",
      "@prefix rdfs: <http://www.w3.org/2000/01/rdf-schema#> .\n",
      "\n",
      "<http://data.golemlab.eu/data/C000000001/character_name> a crm:E41_Appellation ;\n",
      "    crm:P2_has_type gt:character_name ;\n",
      "    rdf:value \"Harry Potter\" .\n",
      "\n",
      "<http://data.golemlab.eu/data/C000000001/id> a crm:E42_Identifier ;\n",
      "    crm:P2_has_type gt:id ;\n",
      "    rdf:value \"C000000001\" .\n",
      "\n",
      "<http://data.golemlab.eu/data/C000000001/wd> a crm:E42_Identifier ;\n",
      "    crm:P1i_identifies gd:C000000001 ;\n",
      "    crm:P2_has_type gt:wikidata ;\n",
      "    rdf:value \"Q3244512\" .\n",
      "\n",
      "gd:potter_corpus crm:P148_has_component gd:C000000001 .\n",
      "\n",
      "gd:C000000001 a go:C1_Character_Concept ;\n",
      "    rdfs:label \"Harry Potter\" ;\n",
      "    crm:P148i_is_component_of gd:potter_corpus ;\n",
      "    crm:P1_is_identified_by <http://data.golemlab.eu/data/C000000001/character_name>,\n",
      "        <http://data.golemlab.eu/data/C000000001/id>,\n",
      "        <http://data.golemlab.eu/data/C000000001/wd> ;\n",
      "    crm:P2_has_type gt:canon_character,\n",
      "        <http://data.golemlab.eu/data/entity/type/gender/male> .\n",
      "\n",
      "\n"
     ]
    }
   ],
   "source": [
    "print(canon_harry_potter_g.serialize())"
   ]
  },
  {
   "cell_type": "markdown",
   "id": "8d12f405",
   "metadata": {},
   "source": [
    "A second character –– Hermione Granger:"
   ]
  },
  {
   "cell_type": "code",
   "execution_count": 17,
   "id": "0d335c57",
   "metadata": {},
   "outputs": [],
   "source": [
    "canon_hermione_id = \"C000000002\"\n",
    "canon_hermione = Character(\n",
    "    id=canon_hermione_id,\n",
    "    uri= golem.get_prefix_uri(\"gd\") + canon_hermione_id,\n",
    "    name=\"Hermione Granger\",\n",
    "    character_type = \"canon\",\n",
    "    gender = \"female\",\n",
    "    refs=[{\"ref\": \"Q174009\", \"type\": \"wikidata\"}],\n",
    "    corpus_ids = [potter_corpus_id]\n",
    ")"
   ]
  },
  {
   "cell_type": "code",
   "execution_count": 18,
   "id": "a28eb1f1",
   "metadata": {},
   "outputs": [],
   "source": [
    "canon_hermione_g = canon_hermione.generate_graph()\n",
    "# Could inspect by printing it:\n",
    "# print(hermione_rdf.serialize())"
   ]
  },
  {
   "cell_type": "markdown",
   "id": "8911525b",
   "metadata": {},
   "source": [
    "Add the two characters to the graph:"
   ]
  },
  {
   "cell_type": "code",
   "execution_count": 19,
   "id": "f22444ab",
   "metadata": {},
   "outputs": [],
   "source": [
    "g = g + canon_harry_potter_g + canon_hermione_g"
   ]
  },
  {
   "cell_type": "markdown",
   "id": "6e2039c3",
   "metadata": {},
   "source": [
    "### Fanon-Characters\n",
    "TBD"
   ]
  },
  {
   "cell_type": "markdown",
   "id": "9803c9b7",
   "metadata": {},
   "source": [
    "## Work\n",
    "Use the class `Work` from `work.py`. This class can only be used to create data and is currently not used in the API."
   ]
  },
  {
   "cell_type": "code",
   "execution_count": 20,
   "id": "71a22fa6",
   "metadata": {},
   "outputs": [],
   "source": [
    "from work import Work"
   ]
  },
  {
   "cell_type": "markdown",
   "id": "804bd35a",
   "metadata": {},
   "source": [
    "### Harry Potter and the Philosopher's Stone"
   ]
  },
  {
   "cell_type": "code",
   "execution_count": 21,
   "id": "2217af25",
   "metadata": {},
   "outputs": [],
   "source": [
    "philosophers_stone_work_id = \"W000000001\"\n",
    "\n",
    "# we will also need the author and re-use this ID later\n",
    "j_k_rowling_id = \"A000000001\""
   ]
  },
  {
   "cell_type": "markdown",
   "id": "42ea999c",
   "metadata": {},
   "source": [
    "The `Work` class needs information, which characters are connected to the work. We re-use the ids of the characters above; `\"effect\": \"created\"` means, that the characters where invented/created in this work."
   ]
  },
  {
   "cell_type": "code",
   "execution_count": 22,
   "id": "a8492984",
   "metadata": {},
   "outputs": [],
   "source": [
    "philosophers_stone_work_character_data = [\n",
    "    {\n",
    "        \"id\": canon_harry_potter_id,\n",
    "        \"effect\": \"created\"\n",
    "    },\n",
    "    {\n",
    "        \"id\": canon_hermione_id,\n",
    "        \"effect\": \"created\"\n",
    "    }\n",
    "]\n"
   ]
  },
  {
   "cell_type": "code",
   "execution_count": 23,
   "id": "6bae3e85",
   "metadata": {},
   "outputs": [],
   "source": [
    "# use the Work class\n",
    "philosophers_stone = Work(\n",
    "    id=philosophers_stone_work_id,\n",
    "    uri=golem.get_prefix_uri(\"gd\") + philosophers_stone_work_id,\n",
    "    title=\"Harry Potter and the Philosopher's Stone\",\n",
    "    characters=philosophers_stone_work_character_data,\n",
    "    authors=[{\"id\": j_k_rowling_id}],\n",
    "    dates={\"created\": 1997},\n",
    "    refs=[{\"ref\": \"Q43361\", \"type\": \"wikidata\"}]\n",
    ")"
   ]
  },
  {
   "cell_type": "code",
   "execution_count": 24,
   "id": "111b96a2",
   "metadata": {},
   "outputs": [
    {
     "name": "stdout",
     "output_type": "stream",
     "text": [
      "@prefix crm: <http://www.cidoc-crm.org/cidoc-crm/> .\n",
      "@prefix gd: <http://data.golemlab.eu/data/> .\n",
      "@prefix gt: <http://data.golemlab.eu/data/entity/type/> .\n",
      "@prefix lrm: <http://www.cidoc-crm.org/cidoc-crm/lrmoo/> .\n",
      "@prefix rdf: <http://www.w3.org/1999/02/22-rdf-syntax-ns#> .\n",
      "@prefix rdfs: <http://www.w3.org/2000/01/rdf-schema#> .\n",
      "@prefix xsd: <http://www.w3.org/2001/XMLSchema#> .\n",
      "\n",
      "gd:A000000001 crm:P14i_performed <http://data.golemlab.eu/data/W000000001/creation> .\n",
      "\n",
      "gd:C000000001 crm:P94i_was_created_by <http://data.golemlab.eu/data/W000000001/creation> .\n",
      "\n",
      "gd:C000000002 crm:P94i_was_created_by <http://data.golemlab.eu/data/W000000001/creation> .\n",
      "\n",
      "<http://data.golemlab.eu/data/W000000001/creation/ts> a crm:E52_Time-Span ;\n",
      "    crm:P4i_is_time-span_of <http://data.golemlab.eu/data/W000000001/creation> ;\n",
      "    rdf:value 1997 .\n",
      "\n",
      "<http://data.golemlab.eu/data/W000000001/id> a crm:E42_Identifier ;\n",
      "    crm:P1i_identifies gd:W000000001 ;\n",
      "    crm:P2_has_type gt:id ;\n",
      "    rdf:value \"W000000001\" .\n",
      "\n",
      "<http://data.golemlab.eu/data/W000000001/title> a crm:E35_Title ;\n",
      "    crm:P102i_is_title_of gd:W000000001 ;\n",
      "    rdf:value \"Harry Potter and the Philosopher's Stone\" .\n",
      "\n",
      "<http://data.golemlab.eu/data/W000000001/wd> a crm:E42_Identifier ;\n",
      "    crm:P1i_identifies gd:W000000001 ;\n",
      "    crm:P2_has_type gt:wikidata ;\n",
      "    rdf:value \"Q43361\" .\n",
      "\n",
      "gd:W000000001 a lrm:F1_Work ;\n",
      "    rdfs:label \"Harry Potter and the Philosopher's Stone\" ;\n",
      "    crm:P102_has_title <http://data.golemlab.eu/data/W000000001/title> ;\n",
      "    crm:P1_is_identified_by <http://data.golemlab.eu/data/W000000001/id>,\n",
      "        <http://data.golemlab.eu/data/W000000001/wd> ;\n",
      "    lrm:R16i_was_created_by <http://data.golemlab.eu/data/W000000001/creation> .\n",
      "\n",
      "<http://data.golemlab.eu/data/W000000001/creation> a lrm:F27_Work_Creation ;\n",
      "    crm:P14_carried_out_by gd:A000000001 ;\n",
      "    crm:P4_has_time-span <http://data.golemlab.eu/data/W000000001/creation/ts> ;\n",
      "    crm:P94_has_created gd:C000000001,\n",
      "        gd:C000000002 ;\n",
      "    lrm:R16_created gd:W000000001 .\n",
      "\n",
      "\n"
     ]
    }
   ],
   "source": [
    "philosophers_stone_g = philosophers_stone.generate_graph()\n",
    "print(philosophers_stone_g.serialize())"
   ]
  },
  {
   "cell_type": "markdown",
   "id": "49927522",
   "metadata": {},
   "source": [
    "Add to the data graph:"
   ]
  },
  {
   "cell_type": "code",
   "execution_count": 25,
   "id": "8da35dcd",
   "metadata": {},
   "outputs": [],
   "source": [
    "g = g + philosophers_stone_g"
   ]
  },
  {
   "cell_type": "markdown",
   "id": "8d8da3cd",
   "metadata": {},
   "source": [
    "## Author\n",
    "Use the class `Author` from `author.py`. This class can only be used to create data and is currently not used in the API."
   ]
  },
  {
   "cell_type": "code",
   "execution_count": 26,
   "id": "364ebe8a",
   "metadata": {},
   "outputs": [],
   "source": [
    "from author import Author"
   ]
  },
  {
   "cell_type": "markdown",
   "id": "b3bda6f5",
   "metadata": {},
   "source": [
    "### J. K. Rowling"
   ]
  },
  {
   "cell_type": "code",
   "execution_count": 27,
   "id": "9fbe0ddb",
   "metadata": {},
   "outputs": [],
   "source": [
    "j_k_rowling = Author(\n",
    "    id=j_k_rowling_id,\n",
    "    uri=golem.get_prefix_uri(\"gd\") + j_k_rowling_id,\n",
    "    name=\"Rowling, J. K.\",\n",
    "    refs=[{\"ref\": \"Q34660\", \"type\": \"wikidata\"}]\n",
    ")"
   ]
  },
  {
   "cell_type": "code",
   "execution_count": 28,
   "id": "d1e4aff1",
   "metadata": {},
   "outputs": [
    {
     "name": "stdout",
     "output_type": "stream",
     "text": [
      "@prefix crm: <http://www.cidoc-crm.org/cidoc-crm/> .\n",
      "@prefix gd: <http://data.golemlab.eu/data/> .\n",
      "@prefix gt: <http://data.golemlab.eu/data/entity/type/> .\n",
      "@prefix rdf: <http://www.w3.org/1999/02/22-rdf-syntax-ns#> .\n",
      "@prefix rdfs: <http://www.w3.org/2000/01/rdf-schema#> .\n",
      "\n",
      "<http://data.golemlab.eu/data/A000000001/id> a crm:E42_Identifier ;\n",
      "    crm:P1i_identifies gd:A000000001 ;\n",
      "    crm:P2_has_type gt:id ;\n",
      "    rdf:value \"A000000001\" .\n",
      "\n",
      "<http://data.golemlab.eu/data/A000000001/name> a crm:E41_Appellation ;\n",
      "    crm:P1i_identifies gd:A000000001 ;\n",
      "    crm:P2_has_type gt:author_name ;\n",
      "    rdf:value \"Rowling, J. K.\" .\n",
      "\n",
      "<http://data.golemlab.eu/data/A000000001/wd> a crm:E42_Identifier ;\n",
      "    crm:P1i_identifies gd:A000000001 ;\n",
      "    crm:P2_has_type gt:wikidata ;\n",
      "    rdf:value \"Q34660\" .\n",
      "\n",
      "gd:A000000001 a crm:E39_Actor ;\n",
      "    rdfs:label \"Rowling, J. K.\" ;\n",
      "    crm:P1_is_identified_by <http://data.golemlab.eu/data/A000000001/id>,\n",
      "        <http://data.golemlab.eu/data/A000000001/name>,\n",
      "        <http://data.golemlab.eu/data/A000000001/wd> .\n",
      "\n",
      "\n"
     ]
    }
   ],
   "source": [
    "j_k_rowling_g = j_k_rowling.generate_graph()\n",
    "print(j_k_rowling_g.serialize())"
   ]
  },
  {
   "cell_type": "markdown",
   "id": "26f977f3",
   "metadata": {},
   "source": [
    "Add the data to the data graph:"
   ]
  },
  {
   "cell_type": "code",
   "execution_count": 29,
   "id": "f5b31fbe",
   "metadata": {},
   "outputs": [],
   "source": [
    "g = g + j_k_rowling_g"
   ]
  },
  {
   "cell_type": "markdown",
   "id": "b506a0d3",
   "metadata": {},
   "source": [
    "## Export test data"
   ]
  },
  {
   "cell_type": "code",
   "execution_count": 30,
   "id": "77515c21",
   "metadata": {},
   "outputs": [],
   "source": [
    "# print everythig\n",
    "# print(g.serialize())"
   ]
  },
  {
   "cell_type": "code",
   "execution_count": 31,
   "id": "03263d87",
   "metadata": {},
   "outputs": [
    {
     "data": {
      "text/plain": [
       "<Graph identifier=N9a3e223e54664876903a1a6317422630 (<class 'rdflib.graph.Graph'>)>"
      ]
     },
     "execution_count": 31,
     "metadata": {},
     "output_type": "execute_result"
    }
   ],
   "source": [
    "g.serialize(destination=\"data/generated_example_data.ttl\",format=\"ttl\")"
   ]
  }
 ],
 "metadata": {
  "kernelspec": {
   "display_name": "Python 3 (ipykernel)",
   "language": "python",
   "name": "python3"
  },
  "language_info": {
   "codemirror_mode": {
    "name": "ipython",
    "version": 3
   },
   "file_extension": ".py",
   "mimetype": "text/x-python",
   "name": "python",
   "nbconvert_exporter": "python",
   "pygments_lexer": "ipython3",
   "version": "3.9.12"
  }
 },
 "nbformat": 4,
 "nbformat_minor": 5
}

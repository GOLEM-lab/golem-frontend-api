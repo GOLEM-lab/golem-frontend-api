{
 "cells": [
  {
   "cell_type": "code",
   "execution_count": 1,
   "id": "96ac6449",
   "metadata": {},
   "outputs": [],
   "source": [
    "from marshmallow import Schema, fields"
   ]
  },
  {
   "cell_type": "code",
   "execution_count": 2,
   "id": "261fdf46",
   "metadata": {},
   "outputs": [],
   "source": [
    "from sparql_queries import GolemQuery"
   ]
  },
  {
   "cell_type": "markdown",
   "id": "0b86998f",
   "metadata": {},
   "source": [
    "The defined prefixes are stored in the GolemQuery class in `sparql_queries.py`. These are the cannonical prefixes."
   ]
  },
  {
   "cell_type": "code",
   "execution_count": 3,
   "id": "9953153d",
   "metadata": {},
   "outputs": [
    {
     "data": {
      "text/plain": [
       "[{'prefix': 'gd', 'uri': 'http://data.golemlab.eu/data/'},\n",
       " {'prefix': 'gt', 'uri': 'http://data.golemlab.eu/data/entity/type/'},\n",
       " {'prefix': 'crm', 'uri': 'http://www.cidoc-crm.org/cidoc-crm/'},\n",
       " {'prefix': 'owl', 'uri': 'http://www.w3.org/2002/07/owl#'},\n",
       " {'prefix': 'xsd', 'uri': 'http://www.w3.org/2001/XMLSchema#'},\n",
       " {'prefix': 'cls', 'uri': 'http://clscor.io/ontology/'},\n",
       " {'prefix': 'go', 'uri': 'http://golemlab.eu/ontology/'},\n",
       " {'prefix': 'rdfs', 'uri': 'http://www.w3.org/2000/01/rdf-schema#'},\n",
       " {'prefix': 'nif',\n",
       "  'uri': 'http://persistence.uni-leipzig.org/nlp2rdf/ontologies/nif-core#'}]"
      ]
     },
     "execution_count": 3,
     "metadata": {},
     "output_type": "execute_result"
    }
   ],
   "source": [
    "GolemQuery.prefixes"
   ]
  },
  {
   "cell_type": "code",
   "execution_count": 4,
   "id": "68404878",
   "metadata": {},
   "outputs": [],
   "source": [
    "golem_query = GolemQuery()"
   ]
  },
  {
   "cell_type": "code",
   "execution_count": 5,
   "id": "c3f67366",
   "metadata": {},
   "outputs": [
    {
     "data": {
      "text/plain": [
       "'http://data.golemlab.eu/data/'"
      ]
     },
     "execution_count": 5,
     "metadata": {},
     "output_type": "execute_result"
    }
   ],
   "source": [
    "golem_query.get_prefix_uri(\"gd\")"
   ]
  },
  {
   "cell_type": "markdown",
   "id": "9572b314",
   "metadata": {},
   "source": [
    "Schemas of response objects are stored in `schemas.py`. These should be used to validate the responses."
   ]
  },
  {
   "cell_type": "code",
   "execution_count": 6,
   "id": "a3f6cf55",
   "metadata": {},
   "outputs": [],
   "source": [
    "from corpus import Corpus"
   ]
  },
  {
   "cell_type": "code",
   "execution_count": 7,
   "id": "71d3963a",
   "metadata": {},
   "outputs": [],
   "source": [
    "test_id = \"potter_corpus\""
   ]
  },
  {
   "cell_type": "code",
   "execution_count": 8,
   "id": "eef74491",
   "metadata": {},
   "outputs": [],
   "source": [
    "# Setup an instance with all attributes\n",
    "test_corpus = Corpus(\n",
    "    id = test_id,\n",
    "    #URI will be derived from the ID:\n",
    "    uri = golem_query.get_prefix_uri(\"gd\") + test_id, \n",
    "    name = \"Harry Potter Corpus\",\n",
    "    acronym = \"potter\",\n",
    "    description = \"Harry Potter Corpus derived form AO3.\",\n",
    "    licence = dict(\n",
    "        name=\"CC0\",\n",
    "        uri=\"https://creativecommons.org/publicdomain/zero/1.0\"),\n",
    "    repository = dict(\n",
    "        url=\"https://github.com/GOLEM-lab/potter_corpus\"\n",
    "    )\n",
    ")"
   ]
  },
  {
   "cell_type": "code",
   "execution_count": 9,
   "id": "9b633432",
   "metadata": {},
   "outputs": [],
   "source": [
    "# Manually create metrics\n",
    "test_corpus_metrics = dict(\n",
    "    chapters = 500,\n",
    "    paragraphs = 9000,\n",
    "    characters = 4000,\n",
    "    male = 1990,\n",
    "    female = 1990,\n",
    "    nonbinary = 20,\n",
    "    comments = 7000,\n",
    "    wordsInDocuments = 500000,\n",
    "    wordsInComments = 20000\n",
    ")"
   ]
  },
  {
   "cell_type": "code",
   "execution_count": 10,
   "id": "976e5795",
   "metadata": {},
   "outputs": [],
   "source": [
    "test_corpus.metrics = test_corpus_metrics"
   ]
  },
  {
   "cell_type": "code",
   "execution_count": 11,
   "id": "254e9517",
   "metadata": {},
   "outputs": [
    {
     "data": {
      "text/plain": [
       "{'id': 'potter_corpus',\n",
       " 'uri': 'http://data.golemlab.eu/data/potter_corpus',\n",
       " 'corpusName': 'Harry Potter Corpus',\n",
       " 'acronym': 'potter',\n",
       " 'corpusDescription': 'Harry Potter Corpus derived form AO3.',\n",
       " 'licence': 'CC0',\n",
       " 'licenceUrl': 'https://creativecommons.org/publicdomain/zero/1.0',\n",
       " 'repository': 'https://github.com/GOLEM-lab/potter_corpus',\n",
       " 'metrics': {'chapters': 500,\n",
       "  'paragraphs': 9000,\n",
       "  'characters': 4000,\n",
       "  'male': 1990,\n",
       "  'female': 1990,\n",
       "  'nonbinary': 20,\n",
       "  'comments': 7000,\n",
       "  'wordsInDocuments': 500000,\n",
       "  'wordsInComments': 20000}}"
      ]
     },
     "execution_count": 11,
     "metadata": {},
     "output_type": "execute_result"
    }
   ],
   "source": [
    "test_corpus.get_metadata(include_metrics=True,validation=True)"
   ]
  },
  {
   "cell_type": "code",
   "execution_count": 13,
   "id": "b26ffc45",
   "metadata": {},
   "outputs": [
    {
     "name": "stdout",
     "output_type": "stream",
     "text": [
      "@prefix cls: <http://clscor.io/ontology/> .\n",
      "@prefix gd: <http://data.golemlab.eu/data/> .\n",
      "@prefix rdfs: <http://www.w3.org/2000/01/rdf-schema#> .\n",
      "\n",
      "gd:potter_corpus a cls:X1_Corpus ;\n",
      "    rdfs:label \"Harry Potter Corpus\" .\n",
      "\n",
      "\n"
     ]
    }
   ],
   "source": [
    "print(test_corpus.generate_graph().serialize())"
   ]
  },
  {
   "cell_type": "code",
   "execution_count": null,
   "id": "81cfcfc6",
   "metadata": {},
   "outputs": [],
   "source": []
  }
 ],
 "metadata": {
  "kernelspec": {
   "display_name": "Python 3 (ipykernel)",
   "language": "python",
   "name": "python3"
  },
  "language_info": {
   "codemirror_mode": {
    "name": "ipython",
    "version": 3
   },
   "file_extension": ".py",
   "mimetype": "text/x-python",
   "name": "python",
   "nbconvert_exporter": "python",
   "pygments_lexer": "ipython3",
   "version": "3.9.12"
  }
 },
 "nbformat": 4,
 "nbformat_minor": 5
}

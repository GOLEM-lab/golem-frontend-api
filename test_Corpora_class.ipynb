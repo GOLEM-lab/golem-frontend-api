{
 "cells": [
  {
   "cell_type": "code",
   "execution_count": 1,
   "id": "7c9aa603",
   "metadata": {},
   "outputs": [],
   "source": [
    "from sparql import DB\n",
    "from corpora import Corpora"
   ]
  },
  {
   "cell_type": "code",
   "execution_count": 2,
   "id": "8c59c6b6",
   "metadata": {},
   "outputs": [],
   "source": [
    "virtuoso = DB(triplestore=\"virtuoso\", protocol=\"http\",url=\"localhost\",port=\"8890\", username=\"dba\", password=\"pwd123\")"
   ]
  },
  {
   "cell_type": "code",
   "execution_count": 3,
   "id": "99a358fe",
   "metadata": {},
   "outputs": [],
   "source": [
    "corpora = Corpora(database=virtuoso)"
   ]
  },
  {
   "cell_type": "code",
   "execution_count": 4,
   "id": "0f422d99",
   "metadata": {},
   "outputs": [
    {
     "data": {
      "text/plain": [
       "[]"
      ]
     },
     "execution_count": 4,
     "metadata": {},
     "output_type": "execute_result"
    }
   ],
   "source": [
    "corpora.list_corpora()"
   ]
  },
  {
   "cell_type": "code",
   "execution_count": 5,
   "id": "67ad28ee",
   "metadata": {},
   "outputs": [
    {
     "data": {
      "text/plain": [
       "['http://golemlab.eu/data/potter_corpus']"
      ]
     },
     "execution_count": 5,
     "metadata": {},
     "output_type": "execute_result"
    }
   ],
   "source": [
    "corpora.get_uris()"
   ]
  },
  {
   "cell_type": "code",
   "execution_count": 6,
   "id": "c24e9163",
   "metadata": {},
   "outputs": [],
   "source": [
    "corpora.load()"
   ]
  },
  {
   "cell_type": "code",
   "execution_count": 7,
   "id": "4dcf530f",
   "metadata": {},
   "outputs": [
    {
     "data": {
      "text/plain": [
       "[{'uri': 'http://golemlab.eu/data/potter_corpus',\n",
       "  'name': 'potter_corpus',\n",
       "  'title': None,\n",
       "  'description': None,\n",
       "  'acronym': 'Potter'}]"
      ]
     },
     "execution_count": 7,
     "metadata": {},
     "output_type": "execute_result"
    }
   ],
   "source": [
    "corpora.list_corpora()"
   ]
  },
  {
   "cell_type": "code",
   "execution_count": 8,
   "id": "c2e02cda",
   "metadata": {},
   "outputs": [
    {
     "data": {
      "text/plain": [
       "[{'uri': 'http://golemlab.eu/data/potter_corpus',\n",
       "  'name': 'potter_corpus',\n",
       "  'title': None,\n",
       "  'description': None,\n",
       "  'acronym': 'Potter',\n",
       "  'metrics': {'number_of_male_characters': 10,\n",
       "   'number_of_chapters': 700000,\n",
       "   'number_of_characters': 20,\n",
       "   'number_of_comments': 123,\n",
       "   'number_of_documents': 200000,\n",
       "   'number_of_female_characters': 8,\n",
       "   'number_of_nonbinary_characters': 2,\n",
       "   'number_of_paragraphs': 9000000,\n",
       "   'number_of_words-comments': 123000,\n",
       "   'number_of_words-text': 2000000000}}]"
      ]
     },
     "execution_count": 8,
     "metadata": {},
     "output_type": "execute_result"
    }
   ],
   "source": [
    "corpora.list_corpora(include_metrics=True)"
   ]
  },
  {
   "cell_type": "code",
   "execution_count": null,
   "id": "5886545a",
   "metadata": {},
   "outputs": [],
   "source": []
  }
 ],
 "metadata": {
  "kernelspec": {
   "display_name": "Python 3 (ipykernel)",
   "language": "python",
   "name": "python3"
  },
  "language_info": {
   "codemirror_mode": {
    "name": "ipython",
    "version": 3
   },
   "file_extension": ".py",
   "mimetype": "text/x-python",
   "name": "python",
   "nbconvert_exporter": "python",
   "pygments_lexer": "ipython3",
   "version": "3.9.12"
  }
 },
 "nbformat": 4,
 "nbformat_minor": 5
}

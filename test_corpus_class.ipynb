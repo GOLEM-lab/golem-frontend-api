{
 "cells": [
  {
   "cell_type": "code",
   "execution_count": 1,
   "id": "ef90cd20",
   "metadata": {},
   "outputs": [],
   "source": [
    "from sparql import DB"
   ]
  },
  {
   "cell_type": "code",
   "execution_count": 2,
   "id": "87f51191",
   "metadata": {},
   "outputs": [],
   "source": [
    "from pd_corpus import PostdataCorpus"
   ]
  },
  {
   "cell_type": "code",
   "execution_count": 3,
   "id": "ec6a921b",
   "metadata": {},
   "outputs": [],
   "source": [
    "import json"
   ]
  },
  {
   "cell_type": "code",
   "execution_count": 4,
   "id": "9f39458d",
   "metadata": {},
   "outputs": [],
   "source": [
    "# config_file = \"config.local.json\"\n",
    "config_file = \"config.poetrylab.json\""
   ]
  },
  {
   "cell_type": "code",
   "execution_count": 5,
   "id": "3ad73801",
   "metadata": {},
   "outputs": [],
   "source": [
    "with open(config_file) as f:\n",
    "    config = json.load(f)"
   ]
  },
  {
   "cell_type": "code",
   "execution_count": 6,
   "id": "04c61712",
   "metadata": {},
   "outputs": [],
   "source": [
    "# create the connection using the DB class\n",
    "db = DB(\n",
    "    triplestore=\"stardog\",\n",
    "    protocol=config[\"server\"][\"protocol\"],\n",
    "    url=config[\"server\"][\"url\"],\n",
    "    port=config[\"server\"][\"port\"],\n",
    "    username=config[\"server\"][\"credentials\"][\"user\"],\n",
    "    password=config[\"server\"][\"credentials\"][\"password\"],\n",
    "    database=config[\"server\"][\"database\"])"
   ]
  },
  {
   "cell_type": "code",
   "execution_count": 7,
   "id": "541dab83",
   "metadata": {},
   "outputs": [],
   "source": [
    "corpus = PostdataCorpus(database=db)"
   ]
  },
  {
   "cell_type": "code",
   "execution_count": 8,
   "id": "8790f3f8",
   "metadata": {},
   "outputs": [
    {
     "data": {
      "text/plain": [
       "'POSTDATA Knowledge Graph of Poetry. See https://postdata.linhd.uned.es'"
      ]
     },
     "execution_count": 8,
     "metadata": {},
     "output_type": "execute_result"
    }
   ],
   "source": [
    "corpus.description"
   ]
  },
  {
   "cell_type": "code",
   "execution_count": 9,
   "id": "63cc315b",
   "metadata": {},
   "outputs": [],
   "source": [
    "corpus.poem_uris"
   ]
  },
  {
   "cell_type": "code",
   "execution_count": 10,
   "id": "33f13145",
   "metadata": {},
   "outputs": [],
   "source": [
    "from util import shorthash"
   ]
  },
  {
   "cell_type": "code",
   "execution_count": 11,
   "id": "0c9e14a1",
   "metadata": {},
   "outputs": [
    {
     "data": {
      "text/plain": [
       "'db14c89b'"
      ]
     },
     "execution_count": 11,
     "metadata": {},
     "output_type": "execute_result"
    }
   ],
   "source": [
    "shorthash(\"http://postdata.linhd.uned.es/resource/pw_juana-ines-de-la-cruz_copia-divina-en-quien-veo\")"
   ]
  },
  {
   "cell_type": "code",
   "execution_count": 12,
   "id": "33ee942c",
   "metadata": {},
   "outputs": [
    {
     "data": {
      "text/plain": [
       "'http://postdata.linhd.uned.es/resource/pw_juana-ines-de-la-cruz_copia-divina-en-quien-veo'"
      ]
     },
     "execution_count": 12,
     "metadata": {},
     "output_type": "execute_result"
    }
   ],
   "source": [
    "corpus.get_poem_uri_by_id(\"db14c89b\")"
   ]
  },
  {
   "cell_type": "code",
   "execution_count": 13,
   "id": "5994ff4b",
   "metadata": {},
   "outputs": [
    {
     "data": {
      "text/plain": [
       "['http://postdata.linhd.uned.es/resource/pw_juana-ines-de-la-cruz_sabras-querido-fabio',\n",
       " 'http://postdata.linhd.uned.es/resource/pw_juana-ines-de-la-cruz_silvio-tu-opinion-va-errada',\n",
       " 'http://postdata.linhd.uned.es/resource/pw_juana-ines-de-la-cruz_hombres-necios-que-acusais',\n",
       " 'http://postdata.linhd.uned.es/resource/pw_juana-ines-de-la-cruz_si-acaso-fabio-mio',\n",
       " 'http://postdata.linhd.uned.es/resource/pw_juana-ines-de-la-cruz_mientras-la-gracia-me-excita',\n",
       " 'http://postdata.linhd.uned.es/resource/pw_juana-ines-de-la-cruz_dos-dudas-en-que-escoger',\n",
       " 'http://postdata.linhd.uned.es/resource/pw_juana-ines-de-la-cruz_me-acerco-y-me-retiro',\n",
       " 'http://postdata.linhd.uned.es/resource/pw_juana-ines-de-la-cruz_a-estos-penascos-rudos',\n",
       " 'http://postdata.linhd.uned.es/resource/pw_juana-ines-de-la-cruz_amante-dulce-del-alma',\n",
       " 'http://postdata.linhd.uned.es/resource/pw_juana-ines-de-la-cruz_divino-dueno-mio']"
      ]
     },
     "execution_count": 13,
     "metadata": {},
     "output_type": "execute_result"
    }
   ],
   "source": [
    "# get the first 10 URIs\n",
    "corpus.get_uri_set(limit=10)"
   ]
  },
  {
   "cell_type": "code",
   "execution_count": 14,
   "id": "d35a16b9",
   "metadata": {},
   "outputs": [
    {
     "data": {
      "text/plain": [
       "True"
      ]
     },
     "execution_count": 14,
     "metadata": {},
     "output_type": "execute_result"
    }
   ],
   "source": [
    "# load a poem\n",
    "corpus.load_poem(uri=\"http://postdata.linhd.uned.es/resource/pw_juana-ines-de-la-cruz_sabras-querido-fabio\")"
   ]
  },
  {
   "cell_type": "code",
   "execution_count": 15,
   "id": "2d75829b",
   "metadata": {},
   "outputs": [
    {
     "data": {
      "text/plain": [
       "{'572fb37a': <pd_poem.PostdataPoem at 0x109e4a7c0>}"
      ]
     },
     "execution_count": 15,
     "metadata": {},
     "output_type": "execute_result"
    }
   ],
   "source": [
    "corpus.poems"
   ]
  },
  {
   "cell_type": "code",
   "execution_count": 16,
   "id": "894c2a4e",
   "metadata": {},
   "outputs": [
    {
     "data": {
      "text/plain": [
       "'http://postdata.linhd.uned.es/resource/pw_juana-ines-de-la-cruz_sabras-querido-fabio'"
      ]
     },
     "execution_count": 16,
     "metadata": {},
     "output_type": "execute_result"
    }
   ],
   "source": [
    "corpus.poems[\"572fb37a\"].uri"
   ]
  },
  {
   "cell_type": "code",
   "execution_count": 17,
   "id": "c4ca92b3",
   "metadata": {},
   "outputs": [
    {
     "data": {
      "text/plain": [
       "'Sabrás, querido Fabio'"
      ]
     },
     "execution_count": 17,
     "metadata": {},
     "output_type": "execute_result"
    }
   ],
   "source": [
    "corpus.poems[\"572fb37a\"].get_title()"
   ]
  },
  {
   "cell_type": "code",
   "execution_count": 18,
   "id": "9f9d4690",
   "metadata": {},
   "outputs": [
    {
     "data": {
      "text/plain": [
       "True"
      ]
     },
     "execution_count": 18,
     "metadata": {},
     "output_type": "execute_result"
    }
   ],
   "source": [
    "# load a poem set\n",
    "corpus.load_poem_set(limit=20,offset=0)"
   ]
  },
  {
   "cell_type": "code",
   "execution_count": 19,
   "id": "591ee14a",
   "metadata": {},
   "outputs": [
    {
     "data": {
      "text/plain": [
       "{'572fb37a': <pd_poem.PostdataPoem at 0x109e4a7c0>,\n",
       " '85c8165c': <pd_poem.PostdataPoem at 0x109e2cb20>,\n",
       " '59f2ac1a': <pd_poem.PostdataPoem at 0x109e2cc10>,\n",
       " '5af726a5': <pd_poem.PostdataPoem at 0x109e2ceb0>,\n",
       " 'd3ebd48d': <pd_poem.PostdataPoem at 0x109e2cf40>,\n",
       " '7a4fc0ff': <pd_poem.PostdataPoem at 0x109e2cd00>,\n",
       " '0dc3a88b': <pd_poem.PostdataPoem at 0x109e2cb50>,\n",
       " 'ce6d4036': <pd_poem.PostdataPoem at 0x10a652070>,\n",
       " '6ef2db3b': <pd_poem.PostdataPoem at 0x10a652190>,\n",
       " '1f640e9f': <pd_poem.PostdataPoem at 0x10a6522b0>,\n",
       " 'db14c89b': <pd_poem.PostdataPoem at 0x10a6523d0>,\n",
       " 'dc66d9c3': <pd_poem.PostdataPoem at 0x10a6524f0>,\n",
       " '16c6bbba': <pd_poem.PostdataPoem at 0x10a652610>,\n",
       " 'd6ebf61c': <pd_poem.PostdataPoem at 0x10a652730>,\n",
       " '3254174b': <pd_poem.PostdataPoem at 0x10a652850>,\n",
       " '2b808cb3': <pd_poem.PostdataPoem at 0x10a652970>,\n",
       " '1219e5db': <pd_poem.PostdataPoem at 0x10a652a90>,\n",
       " '680fffab': <pd_poem.PostdataPoem at 0x10a652bb0>,\n",
       " 'f5bdf803': <pd_poem.PostdataPoem at 0x10a652cd0>,\n",
       " 'bf9572bb': <pd_poem.PostdataPoem at 0x10a652df0>}"
      ]
     },
     "execution_count": 19,
     "metadata": {},
     "output_type": "execute_result"
    }
   ],
   "source": [
    "corpus.poems"
   ]
  },
  {
   "cell_type": "code",
   "execution_count": 20,
   "id": "484fe418",
   "metadata": {},
   "outputs": [
    {
     "data": {
      "text/plain": [
       "'Ya, desengaño mío'"
      ]
     },
     "execution_count": 20,
     "metadata": {},
     "output_type": "execute_result"
    }
   ],
   "source": [
    "corpus.poems[\"dc66d9c3\"].get_title()"
   ]
  },
  {
   "cell_type": "code",
   "execution_count": 21,
   "id": "428e0f9a",
   "metadata": {},
   "outputs": [
    {
     "name": "stdout",
     "output_type": "stream",
     "text": [
      "CPU times: user 1 µs, sys: 0 ns, total: 1 µs\n",
      "Wall time: 4.05 µs\n"
     ]
    }
   ],
   "source": [
    "%%time\n",
    "#corpus.load_poems()"
   ]
  },
  {
   "cell_type": "code",
   "execution_count": 22,
   "id": "a6964718",
   "metadata": {},
   "outputs": [
    {
     "data": {
      "text/plain": [
       "20"
      ]
     },
     "execution_count": 22,
     "metadata": {},
     "output_type": "execute_result"
    }
   ],
   "source": [
    "len(corpus.poems.keys())"
   ]
  },
  {
   "cell_type": "code",
   "execution_count": 23,
   "id": "0c757a67",
   "metadata": {},
   "outputs": [
    {
     "name": "stdout",
     "output_type": "stream",
     "text": [
      "CPU times: user 200 µs, sys: 9 µs, total: 209 µs\n",
      "Wall time: 212 µs\n"
     ]
    },
    {
     "data": {
      "text/plain": [
       "[{'id': '572fb37a',\n",
       "  'uri': 'http://postdata.linhd.uned.es/resource/pw_juana-ines-de-la-cruz_sabras-querido-fabio',\n",
       "  'name': 'juana-ines-de-la-cruz_sabras-querido-fabio',\n",
       "  'source': 'http://poetry.linhd.uned.es:3000/en/author/juana-ines-de-la-cruz/poetic-work/sabras-querido-fabio',\n",
       "  'sourceUri': 'POSTDATA Poetry Lab'},\n",
       " {'id': '85c8165c',\n",
       "  'uri': 'http://postdata.linhd.uned.es/resource/pw_juana-ines-de-la-cruz_silvio-tu-opinion-va-errada',\n",
       "  'name': 'juana-ines-de-la-cruz_silvio-tu-opinion-va-errada',\n",
       "  'source': 'http://poetry.linhd.uned.es:3000/en/author/juana-ines-de-la-cruz/poetic-work/silvio-tu-opinion-va-errada',\n",
       "  'sourceUri': 'POSTDATA Poetry Lab'},\n",
       " {'id': '59f2ac1a',\n",
       "  'uri': 'http://postdata.linhd.uned.es/resource/pw_juana-ines-de-la-cruz_hombres-necios-que-acusais',\n",
       "  'name': 'juana-ines-de-la-cruz_hombres-necios-que-acusais',\n",
       "  'source': 'http://poetry.linhd.uned.es:3000/en/author/juana-ines-de-la-cruz/poetic-work/hombres-necios-que-acusais',\n",
       "  'sourceUri': 'POSTDATA Poetry Lab'},\n",
       " {'id': '5af726a5',\n",
       "  'uri': 'http://postdata.linhd.uned.es/resource/pw_juana-ines-de-la-cruz_si-acaso-fabio-mio',\n",
       "  'name': 'juana-ines-de-la-cruz_si-acaso-fabio-mio',\n",
       "  'source': 'http://poetry.linhd.uned.es:3000/en/author/juana-ines-de-la-cruz/poetic-work/si-acaso-fabio-mio',\n",
       "  'sourceUri': 'POSTDATA Poetry Lab'},\n",
       " {'id': 'd3ebd48d',\n",
       "  'uri': 'http://postdata.linhd.uned.es/resource/pw_juana-ines-de-la-cruz_mientras-la-gracia-me-excita',\n",
       "  'name': 'juana-ines-de-la-cruz_mientras-la-gracia-me-excita',\n",
       "  'source': 'http://poetry.linhd.uned.es:3000/en/author/juana-ines-de-la-cruz/poetic-work/mientras-la-gracia-me-excita',\n",
       "  'sourceUri': 'POSTDATA Poetry Lab'},\n",
       " {'id': '7a4fc0ff',\n",
       "  'uri': 'http://postdata.linhd.uned.es/resource/pw_juana-ines-de-la-cruz_dos-dudas-en-que-escoger',\n",
       "  'name': 'juana-ines-de-la-cruz_dos-dudas-en-que-escoger',\n",
       "  'source': 'http://poetry.linhd.uned.es:3000/en/author/juana-ines-de-la-cruz/poetic-work/dos-dudas-en-que-escoger',\n",
       "  'sourceUri': 'POSTDATA Poetry Lab'},\n",
       " {'id': '0dc3a88b',\n",
       "  'uri': 'http://postdata.linhd.uned.es/resource/pw_juana-ines-de-la-cruz_me-acerco-y-me-retiro',\n",
       "  'name': 'juana-ines-de-la-cruz_me-acerco-y-me-retiro',\n",
       "  'source': 'http://poetry.linhd.uned.es:3000/en/author/juana-ines-de-la-cruz/poetic-work/me-acerco-y-me-retiro',\n",
       "  'sourceUri': 'POSTDATA Poetry Lab'},\n",
       " {'id': 'ce6d4036',\n",
       "  'uri': 'http://postdata.linhd.uned.es/resource/pw_juana-ines-de-la-cruz_a-estos-penascos-rudos',\n",
       "  'name': 'juana-ines-de-la-cruz_a-estos-penascos-rudos',\n",
       "  'source': 'http://poetry.linhd.uned.es:3000/en/author/juana-ines-de-la-cruz/poetic-work/a-estos-penascos-rudos',\n",
       "  'sourceUri': 'POSTDATA Poetry Lab'},\n",
       " {'id': '6ef2db3b',\n",
       "  'uri': 'http://postdata.linhd.uned.es/resource/pw_juana-ines-de-la-cruz_amante-dulce-del-alma',\n",
       "  'name': 'juana-ines-de-la-cruz_amante-dulce-del-alma',\n",
       "  'source': 'http://poetry.linhd.uned.es:3000/en/author/juana-ines-de-la-cruz/poetic-work/amante-dulce-del-alma',\n",
       "  'sourceUri': 'POSTDATA Poetry Lab'},\n",
       " {'id': '1f640e9f',\n",
       "  'uri': 'http://postdata.linhd.uned.es/resource/pw_juana-ines-de-la-cruz_divino-dueno-mio',\n",
       "  'name': 'juana-ines-de-la-cruz_divino-dueno-mio',\n",
       "  'source': 'http://poetry.linhd.uned.es:3000/en/author/juana-ines-de-la-cruz/poetic-work/divino-dueno-mio',\n",
       "  'sourceUri': 'POSTDATA Poetry Lab'},\n",
       " {'id': 'db14c89b',\n",
       "  'uri': 'http://postdata.linhd.uned.es/resource/pw_juana-ines-de-la-cruz_copia-divina-en-quien-veo',\n",
       "  'name': 'juana-ines-de-la-cruz_copia-divina-en-quien-veo',\n",
       "  'source': 'http://poetry.linhd.uned.es:3000/en/author/juana-ines-de-la-cruz/poetic-work/copia-divina-en-quien-veo',\n",
       "  'sourceUri': 'POSTDATA Poetry Lab'},\n",
       " {'id': 'dc66d9c3',\n",
       "  'uri': 'http://postdata.linhd.uned.es/resource/pw_juana-ines-de-la-cruz_ya-desengano-mio',\n",
       "  'name': 'juana-ines-de-la-cruz_ya-desengano-mio',\n",
       "  'source': 'http://poetry.linhd.uned.es:3000/en/author/juana-ines-de-la-cruz/poetic-work/ya-desengano-mio',\n",
       "  'sourceUri': 'POSTDATA Poetry Lab'},\n",
       " {'id': '16c6bbba',\n",
       "  'uri': 'http://postdata.linhd.uned.es/resource/pw_juana-ines-de-la-cruz_amado-dueno-mio',\n",
       "  'name': 'juana-ines-de-la-cruz_amado-dueno-mio',\n",
       "  'source': 'http://poetry.linhd.uned.es:3000/en/author/juana-ines-de-la-cruz/poetic-work/amado-dueno-mio',\n",
       "  'sourceUri': 'POSTDATA Poetry Lab'},\n",
       " {'id': 'd6ebf61c',\n",
       "  'uri': 'http://postdata.linhd.uned.es/resource/pw_antonio-enriquez-gomez_al-son-de-este-arroyuelo-cuyo-ronco',\n",
       "  'name': 'antonio-enriquez-gomez_al-son-de-este-arroyuelo-cuyo-ronco',\n",
       "  'source': 'http://poetry.linhd.uned.es:3000/en/author/antonio-enriquez-gomez/poetic-work/al-son-de-este-arroyuelo-cuyo-ronco',\n",
       "  'sourceUri': 'POSTDATA Poetry Lab'},\n",
       " {'id': '3254174b',\n",
       "  'uri': 'http://postdata.linhd.uned.es/resource/pw_san-juan-de-la-cruz_ya-que-el-tiempo-era-llegado',\n",
       "  'name': 'san-juan-de-la-cruz_ya-que-el-tiempo-era-llegado',\n",
       "  'source': 'http://poetry.linhd.uned.es:3000/en/author/san-juan-de-la-cruz/poetic-work/ya-que-el-tiempo-era-llegado',\n",
       "  'sourceUri': 'POSTDATA Poetry Lab'},\n",
       " {'id': '2b808cb3',\n",
       "  'uri': 'http://postdata.linhd.uned.es/resource/pw_san-juan-de-la-cruz_encima-de-las-corrientes',\n",
       "  'name': 'san-juan-de-la-cruz_encima-de-las-corrientes',\n",
       "  'source': 'http://poetry.linhd.uned.es:3000/en/author/san-juan-de-la-cruz/poetic-work/encima-de-las-corrientes',\n",
       "  'sourceUri': 'POSTDATA Poetry Lab'},\n",
       " {'id': '1219e5db',\n",
       "  'uri': 'http://postdata.linhd.uned.es/resource/pw_san-juan-de-la-cruz_en-mi-yo-no-vivo-ya',\n",
       "  'name': 'san-juan-de-la-cruz_en-mi-yo-no-vivo-ya',\n",
       "  'source': 'http://poetry.linhd.uned.es:3000/en/author/san-juan-de-la-cruz/poetic-work/en-mi-yo-no-vivo-ya',\n",
       "  'sourceUri': 'POSTDATA Poetry Lab'},\n",
       " {'id': '680fffab',\n",
       "  'uri': 'http://postdata.linhd.uned.es/resource/pw_san-juan-de-la-cruz_no-llora-por-haberle-amor-llagado',\n",
       "  'name': 'san-juan-de-la-cruz_no-llora-por-haberle-amor-llagado',\n",
       "  'source': 'http://poetry.linhd.uned.es:3000/en/author/san-juan-de-la-cruz/poetic-work/no-llora-por-haberle-amor-llagado',\n",
       "  'sourceUri': 'POSTDATA Poetry Lab'},\n",
       " {'id': 'f5bdf803',\n",
       "  'uri': 'http://postdata.linhd.uned.es/resource/pw_san-juan-de-la-cruz_hagase-pues-dijo-el-padre',\n",
       "  'name': 'san-juan-de-la-cruz_hagase-pues-dijo-el-padre',\n",
       "  'source': 'http://poetry.linhd.uned.es:3000/en/author/san-juan-de-la-cruz/poetic-work/hagase-pues-dijo-el-padre',\n",
       "  'sourceUri': 'POSTDATA Poetry Lab'},\n",
       " {'id': 'bf9572bb',\n",
       "  'uri': 'http://postdata.linhd.uned.es/resource/pw_san-juan-de-la-cruz_yo-no-supe-donde-entraba',\n",
       "  'name': 'san-juan-de-la-cruz_yo-no-supe-donde-entraba',\n",
       "  'source': 'http://poetry.linhd.uned.es:3000/en/author/san-juan-de-la-cruz/poetic-work/yo-no-supe-donde-entraba',\n",
       "  'sourceUri': 'POSTDATA Poetry Lab'}]"
      ]
     },
     "execution_count": 23,
     "metadata": {},
     "output_type": "execute_result"
    }
   ],
   "source": [
    "%%time\n",
    "corpus.get_metadata_of_poem_set(limit=20,offset=0)"
   ]
  },
  {
   "cell_type": "code",
   "execution_count": 24,
   "id": "a39f46cd",
   "metadata": {},
   "outputs": [
    {
     "name": "stdout",
     "output_type": "stream",
     "text": [
      "CPU times: user 64 µs, sys: 0 ns, total: 64 µs\n",
      "Wall time: 65.8 µs\n"
     ]
    },
    {
     "data": {
      "text/plain": [
       "[{'id': '6a12e7d6',\n",
       "  'uri': 'http://postdata.linhd.uned.es/resource/pw_cervantes_en-el-quijote-segunda-parte-capitulo-xviii-don-lorenzo-a-don-quijote-este-soneto-a-la-fabula-de-piramo-y-tisbe',\n",
       "  'name': 'cervantes_en-el-quijote-segunda-parte-capitulo-xviii-don-lorenzo-a-don-quijote-este-soneto-a-la-fabula-de-piramo-y-tisbe',\n",
       "  'source': 'http://poetry.linhd.uned.es:3000/en/author/cervantes/poetic-work/en-el-quijote-segunda-parte-capitulo-xviii-don-lorenzo-a-don-quijote-este-soneto-a-la-fabula-de-piramo-y-tisbe',\n",
       "  'sourceUri': 'POSTDATA Poetry Lab'}]"
      ]
     },
     "execution_count": 24,
     "metadata": {},
     "output_type": "execute_result"
    }
   ],
   "source": [
    "%%time\n",
    "corpus.get_metadata_of_poem_set(offset=1000,limit=1)"
   ]
  },
  {
   "cell_type": "code",
   "execution_count": 25,
   "id": "9d45e693",
   "metadata": {},
   "outputs": [
    {
     "name": "stdout",
     "output_type": "stream",
     "text": [
      "CPU times: user 4.12 ms, sys: 1.37 ms, total: 5.49 ms\n",
      "Wall time: 250 ms\n"
     ]
    },
    {
     "data": {
      "text/plain": [
       "[{'id': '6a12e7d6',\n",
       "  'uri': 'http://postdata.linhd.uned.es/resource/pw_cervantes_en-el-quijote-segunda-parte-capitulo-xviii-don-lorenzo-a-don-quijote-este-soneto-a-la-fabula-de-piramo-y-tisbe',\n",
       "  'name': 'cervantes_en-el-quijote-segunda-parte-capitulo-xviii-don-lorenzo-a-don-quijote-este-soneto-a-la-fabula-de-piramo-y-tisbe',\n",
       "  'source': 'http://poetry.linhd.uned.es:3000/en/author/cervantes/poetic-work/en-el-quijote-segunda-parte-capitulo-xviii-don-lorenzo-a-don-quijote-este-soneto-a-la-fabula-de-piramo-y-tisbe',\n",
       "  'sourceUri': 'POSTDATA Poetry Lab',\n",
       "  'authors': [{'name': 'Cervantes',\n",
       "    'uri': 'http://postdata.linhd.uned.es/resource/p_cervantes'}]}]"
      ]
     },
     "execution_count": 25,
     "metadata": {},
     "output_type": "execute_result"
    }
   ],
   "source": [
    "%%time\n",
    "corpus.get_metadata_of_poem_set(offset=1000,limit=1, include_authors=True)"
   ]
  },
  {
   "cell_type": "code",
   "execution_count": 27,
   "id": "8eb17514",
   "metadata": {},
   "outputs": [
    {
     "ename": "KeyError",
     "evalue": "'12345'",
     "output_type": "error",
     "traceback": [
      "\u001b[0;31m---------------------------------------------------------------------------\u001b[0m",
      "\u001b[0;31mKeyError\u001b[0m                                  Traceback (most recent call last)",
      "Input \u001b[0;32mIn [27]\u001b[0m, in \u001b[0;36m<cell line: 2>\u001b[0;34m()\u001b[0m\n\u001b[1;32m      1\u001b[0m corpus\u001b[38;5;241m.\u001b[39mload_poem(\u001b[38;5;28mid\u001b[39m\u001b[38;5;241m=\u001b[39m\u001b[38;5;124m\"\u001b[39m\u001b[38;5;124m12345\u001b[39m\u001b[38;5;124m\"\u001b[39m)\n\u001b[0;32m----> 2\u001b[0m \u001b[43mcorpus\u001b[49m\u001b[38;5;241;43m.\u001b[39;49m\u001b[43mpoems\u001b[49m\u001b[43m[\u001b[49m\u001b[38;5;124;43m\"\u001b[39;49m\u001b[38;5;124;43m12345\u001b[39;49m\u001b[38;5;124;43m\"\u001b[39;49m\u001b[43m]\u001b[49m\n",
      "\u001b[0;31mKeyError\u001b[0m: '12345'"
     ]
    }
   ],
   "source": [
    "corpus.load_poem(id=\"12345\")\n",
    "corpus.poems[\"12345\"]"
   ]
  },
  {
   "cell_type": "code",
   "execution_count": null,
   "id": "f92da9e1",
   "metadata": {},
   "outputs": [],
   "source": []
  }
 ],
 "metadata": {
  "kernelspec": {
   "display_name": "Python 3 (ipykernel)",
   "language": "python",
   "name": "python3"
  },
  "language_info": {
   "codemirror_mode": {
    "name": "ipython",
    "version": 3
   },
   "file_extension": ".py",
   "mimetype": "text/x-python",
   "name": "python",
   "nbconvert_exporter": "python",
   "pygments_lexer": "ipython3",
   "version": "3.9.12"
  }
 },
 "nbformat": 4,
 "nbformat_minor": 5
}

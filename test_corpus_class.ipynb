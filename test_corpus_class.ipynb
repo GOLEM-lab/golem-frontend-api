{
 "cells": [
  {
   "cell_type": "code",
   "execution_count": 1,
   "id": "ef90cd20",
   "metadata": {},
   "outputs": [],
   "source": [
    "from sparql import DB"
   ]
  },
  {
   "cell_type": "code",
   "execution_count": 2,
   "id": "87f51191",
   "metadata": {},
   "outputs": [],
   "source": [
    "from pd_corpus import PostdataCorpus"
   ]
  },
  {
   "cell_type": "code",
   "execution_count": 3,
   "id": "ec6a921b",
   "metadata": {},
   "outputs": [],
   "source": [
    "import json"
   ]
  },
  {
   "cell_type": "code",
   "execution_count": 4,
   "id": "9f39458d",
   "metadata": {},
   "outputs": [],
   "source": [
    "# config_file = \"config.local.json\"\n",
    "config_file = \"config.poetrylab.json\""
   ]
  },
  {
   "cell_type": "code",
   "execution_count": 5,
   "id": "3ad73801",
   "metadata": {},
   "outputs": [],
   "source": [
    "with open(config_file) as f:\n",
    "    config = json.load(f)"
   ]
  },
  {
   "cell_type": "code",
   "execution_count": 6,
   "id": "04c61712",
   "metadata": {},
   "outputs": [],
   "source": [
    "# create the connection using the DB class\n",
    "db = DB(\n",
    "    triplestore=\"stardog\",\n",
    "    protocol=config[\"server\"][\"protocol\"],\n",
    "    url=config[\"server\"][\"url\"],\n",
    "    port=config[\"server\"][\"port\"],\n",
    "    username=config[\"server\"][\"credentials\"][\"user\"],\n",
    "    password=config[\"server\"][\"credentials\"][\"password\"],\n",
    "    database=config[\"server\"][\"database\"])"
   ]
  },
  {
   "cell_type": "code",
   "execution_count": 7,
   "id": "541dab83",
   "metadata": {},
   "outputs": [],
   "source": [
    "corpus = PostdataCorpus(database=db)"
   ]
  },
  {
   "cell_type": "code",
   "execution_count": 8,
   "id": "ddd81f57",
   "metadata": {},
   "outputs": [
    {
     "data": {
      "text/plain": [
       "'POSTDATA Knowledge Graph of Poetry. See https://postdata.linhd.uned.es'"
      ]
     },
     "execution_count": 8,
     "metadata": {},
     "output_type": "execute_result"
    }
   ],
   "source": [
    "corpus.description"
   ]
  },
  {
   "cell_type": "code",
   "execution_count": 9,
   "id": "db9ca960",
   "metadata": {},
   "outputs": [],
   "source": [
    "corpus.poem_uris"
   ]
  },
  {
   "cell_type": "code",
   "execution_count": 10,
   "id": "701b4deb",
   "metadata": {},
   "outputs": [],
   "source": [
    "from util import shorthash"
   ]
  },
  {
   "cell_type": "code",
   "execution_count": 11,
   "id": "04af2afb",
   "metadata": {},
   "outputs": [
    {
     "data": {
      "text/plain": [
       "'db14c89b'"
      ]
     },
     "execution_count": 11,
     "metadata": {},
     "output_type": "execute_result"
    }
   ],
   "source": [
    "shorthash(\"http://postdata.linhd.uned.es/resource/pw_juana-ines-de-la-cruz_copia-divina-en-quien-veo\")"
   ]
  },
  {
   "cell_type": "code",
   "execution_count": 12,
   "id": "f017ab7e",
   "metadata": {},
   "outputs": [
    {
     "data": {
      "text/plain": [
       "'http://postdata.linhd.uned.es/resource/pw_juana-ines-de-la-cruz_copia-divina-en-quien-veo'"
      ]
     },
     "execution_count": 12,
     "metadata": {},
     "output_type": "execute_result"
    }
   ],
   "source": [
    "corpus.get_poem_uri_by_id(\"db14c89b\")"
   ]
  },
  {
   "cell_type": "code",
   "execution_count": 13,
   "id": "150deb5b",
   "metadata": {},
   "outputs": [
    {
     "data": {
      "text/plain": [
       "['http://postdata.linhd.uned.es/resource/pw_juana-ines-de-la-cruz_sabras-querido-fabio',\n",
       " 'http://postdata.linhd.uned.es/resource/pw_juana-ines-de-la-cruz_silvio-tu-opinion-va-errada',\n",
       " 'http://postdata.linhd.uned.es/resource/pw_juana-ines-de-la-cruz_hombres-necios-que-acusais',\n",
       " 'http://postdata.linhd.uned.es/resource/pw_juana-ines-de-la-cruz_si-acaso-fabio-mio',\n",
       " 'http://postdata.linhd.uned.es/resource/pw_juana-ines-de-la-cruz_mientras-la-gracia-me-excita',\n",
       " 'http://postdata.linhd.uned.es/resource/pw_juana-ines-de-la-cruz_dos-dudas-en-que-escoger',\n",
       " 'http://postdata.linhd.uned.es/resource/pw_juana-ines-de-la-cruz_me-acerco-y-me-retiro',\n",
       " 'http://postdata.linhd.uned.es/resource/pw_juana-ines-de-la-cruz_a-estos-penascos-rudos',\n",
       " 'http://postdata.linhd.uned.es/resource/pw_juana-ines-de-la-cruz_amante-dulce-del-alma',\n",
       " 'http://postdata.linhd.uned.es/resource/pw_juana-ines-de-la-cruz_divino-dueno-mio']"
      ]
     },
     "execution_count": 13,
     "metadata": {},
     "output_type": "execute_result"
    }
   ],
   "source": [
    "# get the first 10 URIs\n",
    "corpus.get_uri_set(limit=10)"
   ]
  },
  {
   "cell_type": "code",
   "execution_count": 14,
   "id": "f1357084",
   "metadata": {},
   "outputs": [
    {
     "data": {
      "text/plain": [
       "True"
      ]
     },
     "execution_count": 14,
     "metadata": {},
     "output_type": "execute_result"
    }
   ],
   "source": [
    "# load a poem\n",
    "corpus.load_poem(uri=\"http://postdata.linhd.uned.es/resource/pw_juana-ines-de-la-cruz_sabras-querido-fabio\")"
   ]
  },
  {
   "cell_type": "code",
   "execution_count": 15,
   "id": "bb8f172d",
   "metadata": {},
   "outputs": [
    {
     "data": {
      "text/plain": [
       "{'572fb37a': <pd_poem.PostdataPoem at 0x1129c18b0>}"
      ]
     },
     "execution_count": 15,
     "metadata": {},
     "output_type": "execute_result"
    }
   ],
   "source": [
    "corpus.poems"
   ]
  },
  {
   "cell_type": "code",
   "execution_count": 16,
   "id": "74f93b46",
   "metadata": {},
   "outputs": [
    {
     "data": {
      "text/plain": [
       "'http://postdata.linhd.uned.es/resource/pw_juana-ines-de-la-cruz_sabras-querido-fabio'"
      ]
     },
     "execution_count": 16,
     "metadata": {},
     "output_type": "execute_result"
    }
   ],
   "source": [
    "corpus.poems[\"572fb37a\"].uri"
   ]
  },
  {
   "cell_type": "code",
   "execution_count": 17,
   "id": "5a00e688",
   "metadata": {},
   "outputs": [
    {
     "data": {
      "text/plain": [
       "'Sabrás, querido Fabio'"
      ]
     },
     "execution_count": 17,
     "metadata": {},
     "output_type": "execute_result"
    }
   ],
   "source": [
    "corpus.poems[\"572fb37a\"].get_title()"
   ]
  },
  {
   "cell_type": "code",
   "execution_count": 18,
   "id": "ab170210",
   "metadata": {},
   "outputs": [
    {
     "data": {
      "text/plain": [
       "True"
      ]
     },
     "execution_count": 18,
     "metadata": {},
     "output_type": "execute_result"
    }
   ],
   "source": [
    "# load a poem set\n",
    "corpus.load_poem_set(limit=20,offset=0)"
   ]
  },
  {
   "cell_type": "code",
   "execution_count": 19,
   "id": "a9b0ed12",
   "metadata": {},
   "outputs": [
    {
     "data": {
      "text/plain": [
       "{'572fb37a': <pd_poem.PostdataPoem at 0x1129c18b0>,\n",
       " '85c8165c': <pd_poem.PostdataPoem at 0x1131d7430>,\n",
       " '59f2ac1a': <pd_poem.PostdataPoem at 0x1131d7460>,\n",
       " '5af726a5': <pd_poem.PostdataPoem at 0x1131d7580>,\n",
       " 'd3ebd48d': <pd_poem.PostdataPoem at 0x1131d76a0>,\n",
       " '7a4fc0ff': <pd_poem.PostdataPoem at 0x1131d77c0>,\n",
       " '0dc3a88b': <pd_poem.PostdataPoem at 0x1131d78e0>,\n",
       " 'ce6d4036': <pd_poem.PostdataPoem at 0x1131d7a00>,\n",
       " '6ef2db3b': <pd_poem.PostdataPoem at 0x1131d7b20>,\n",
       " '1f640e9f': <pd_poem.PostdataPoem at 0x1131d7c40>,\n",
       " 'db14c89b': <pd_poem.PostdataPoem at 0x1131d7d60>,\n",
       " 'dc66d9c3': <pd_poem.PostdataPoem at 0x1131d7e80>,\n",
       " '16c6bbba': <pd_poem.PostdataPoem at 0x1131d7fa0>,\n",
       " 'd6ebf61c': <pd_poem.PostdataPoem at 0x1131e1100>,\n",
       " '3254174b': <pd_poem.PostdataPoem at 0x1131e1220>,\n",
       " '2b808cb3': <pd_poem.PostdataPoem at 0x1131e1340>,\n",
       " '1219e5db': <pd_poem.PostdataPoem at 0x1131e1460>,\n",
       " '680fffab': <pd_poem.PostdataPoem at 0x1131e1580>,\n",
       " 'f5bdf803': <pd_poem.PostdataPoem at 0x1131e16a0>,\n",
       " 'bf9572bb': <pd_poem.PostdataPoem at 0x1131e17c0>}"
      ]
     },
     "execution_count": 19,
     "metadata": {},
     "output_type": "execute_result"
    }
   ],
   "source": [
    "corpus.poems"
   ]
  },
  {
   "cell_type": "code",
   "execution_count": 20,
   "id": "2d99b26f",
   "metadata": {},
   "outputs": [
    {
     "data": {
      "text/plain": [
       "'Ya, desengaño mío'"
      ]
     },
     "execution_count": 20,
     "metadata": {},
     "output_type": "execute_result"
    }
   ],
   "source": [
    "corpus.poems[\"dc66d9c3\"].get_title()"
   ]
  },
  {
   "cell_type": "code",
   "execution_count": 21,
   "id": "123ac12a",
   "metadata": {},
   "outputs": [
    {
     "name": "stdout",
     "output_type": "stream",
     "text": [
      "CPU times: user 171 ms, sys: 9.32 ms, total: 181 ms\n",
      "Wall time: 180 ms\n"
     ]
    },
    {
     "data": {
      "text/plain": [
       "True"
      ]
     },
     "execution_count": 21,
     "metadata": {},
     "output_type": "execute_result"
    }
   ],
   "source": [
    "%%time\n",
    "corpus.load_poems()"
   ]
  },
  {
   "cell_type": "code",
   "execution_count": 22,
   "id": "59b168b5",
   "metadata": {},
   "outputs": [
    {
     "data": {
      "text/plain": [
       "10071"
      ]
     },
     "execution_count": 22,
     "metadata": {},
     "output_type": "execute_result"
    }
   ],
   "source": [
    "len(corpus.poems.keys())"
   ]
  },
  {
   "cell_type": "code",
   "execution_count": null,
   "id": "b4aa61d6",
   "metadata": {},
   "outputs": [],
   "source": []
  }
 ],
 "metadata": {
  "kernelspec": {
   "display_name": "Python 3 (ipykernel)",
   "language": "python",
   "name": "python3"
  },
  "language_info": {
   "codemirror_mode": {
    "name": "ipython",
    "version": 3
   },
   "file_extension": ".py",
   "mimetype": "text/x-python",
   "name": "python",
   "nbconvert_exporter": "python",
   "pygments_lexer": "ipython3",
   "version": "3.9.12"
  }
 },
 "nbformat": 4,
 "nbformat_minor": 5
}

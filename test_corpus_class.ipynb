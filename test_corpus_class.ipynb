{
 "cells": [
  {
   "cell_type": "code",
   "execution_count": 1,
   "id": "ef90cd20",
   "metadata": {},
   "outputs": [],
   "source": [
    "from sparql import DB"
   ]
  },
  {
   "cell_type": "code",
   "execution_count": 2,
   "id": "87f51191",
   "metadata": {},
   "outputs": [],
   "source": [
    "from pd_corpus import PostdataCorpus"
   ]
  },
  {
   "cell_type": "code",
   "execution_count": 3,
   "id": "ec6a921b",
   "metadata": {},
   "outputs": [],
   "source": [
    "import json"
   ]
  },
  {
   "cell_type": "code",
   "execution_count": 4,
   "id": "9f39458d",
   "metadata": {},
   "outputs": [],
   "source": [
    "# config_file = \"config.local.json\"\n",
    "config_file = \"config.poetrylab.json\""
   ]
  },
  {
   "cell_type": "code",
   "execution_count": 5,
   "id": "3ad73801",
   "metadata": {},
   "outputs": [],
   "source": [
    "with open(config_file) as f:\n",
    "    config = json.load(f)"
   ]
  },
  {
   "cell_type": "code",
   "execution_count": 6,
   "id": "04c61712",
   "metadata": {},
   "outputs": [],
   "source": [
    "# create the connection using the DB class\n",
    "db = DB(\n",
    "    triplestore=\"stardog\",\n",
    "    protocol=config[\"server\"][\"protocol\"],\n",
    "    url=config[\"server\"][\"url\"],\n",
    "    port=config[\"server\"][\"port\"],\n",
    "    username=config[\"server\"][\"credentials\"][\"user\"],\n",
    "    password=config[\"server\"][\"credentials\"][\"password\"],\n",
    "    database=config[\"server\"][\"database\"])"
   ]
  },
  {
   "cell_type": "code",
   "execution_count": 7,
   "id": "541dab83",
   "metadata": {},
   "outputs": [],
   "source": [
    "corpus = PostdataCorpus(database=db)"
   ]
  },
  {
   "cell_type": "code",
   "execution_count": 8,
   "id": "251248d4",
   "metadata": {},
   "outputs": [
    {
     "data": {
      "text/plain": [
       "'POSTDATA Knowledge Graph of Poetry. See https://postdata.linhd.uned.es'"
      ]
     },
     "execution_count": 8,
     "metadata": {},
     "output_type": "execute_result"
    }
   ],
   "source": [
    "corpus.description"
   ]
  },
  {
   "cell_type": "code",
   "execution_count": 9,
   "id": "195b6868",
   "metadata": {},
   "outputs": [],
   "source": [
    "corpus.poem_uris"
   ]
  },
  {
   "cell_type": "code",
   "execution_count": 10,
   "id": "cf844ed0",
   "metadata": {},
   "outputs": [],
   "source": [
    "from util import shorthash"
   ]
  },
  {
   "cell_type": "code",
   "execution_count": 11,
   "id": "45537617",
   "metadata": {},
   "outputs": [
    {
     "data": {
      "text/plain": [
       "'db14c89b'"
      ]
     },
     "execution_count": 11,
     "metadata": {},
     "output_type": "execute_result"
    }
   ],
   "source": [
    "shorthash(\"http://postdata.linhd.uned.es/resource/pw_juana-ines-de-la-cruz_copia-divina-en-quien-veo\")"
   ]
  },
  {
   "cell_type": "code",
   "execution_count": 12,
   "id": "0789b4b0",
   "metadata": {},
   "outputs": [
    {
     "data": {
      "text/plain": [
       "'http://postdata.linhd.uned.es/resource/pw_juana-ines-de-la-cruz_copia-divina-en-quien-veo'"
      ]
     },
     "execution_count": 12,
     "metadata": {},
     "output_type": "execute_result"
    }
   ],
   "source": [
    "corpus.get_poem_uri_by_id(\"db14c89b\")"
   ]
  },
  {
   "cell_type": "code",
   "execution_count": 15,
   "id": "e0dec7ea",
   "metadata": {},
   "outputs": [
    {
     "data": {
      "text/plain": [
       "['http://postdata.linhd.uned.es/resource/pw_juana-ines-de-la-cruz_sabras-querido-fabio',\n",
       " 'http://postdata.linhd.uned.es/resource/pw_juana-ines-de-la-cruz_silvio-tu-opinion-va-errada',\n",
       " 'http://postdata.linhd.uned.es/resource/pw_juana-ines-de-la-cruz_hombres-necios-que-acusais',\n",
       " 'http://postdata.linhd.uned.es/resource/pw_juana-ines-de-la-cruz_si-acaso-fabio-mio',\n",
       " 'http://postdata.linhd.uned.es/resource/pw_juana-ines-de-la-cruz_mientras-la-gracia-me-excita',\n",
       " 'http://postdata.linhd.uned.es/resource/pw_juana-ines-de-la-cruz_dos-dudas-en-que-escoger',\n",
       " 'http://postdata.linhd.uned.es/resource/pw_juana-ines-de-la-cruz_me-acerco-y-me-retiro',\n",
       " 'http://postdata.linhd.uned.es/resource/pw_juana-ines-de-la-cruz_a-estos-penascos-rudos',\n",
       " 'http://postdata.linhd.uned.es/resource/pw_juana-ines-de-la-cruz_amante-dulce-del-alma',\n",
       " 'http://postdata.linhd.uned.es/resource/pw_juana-ines-de-la-cruz_divino-dueno-mio']"
      ]
     },
     "execution_count": 15,
     "metadata": {},
     "output_type": "execute_result"
    }
   ],
   "source": [
    "# get the first 10 URIs\n",
    "corpus.get_uri_set(limit=10)"
   ]
  },
  {
   "cell_type": "code",
   "execution_count": null,
   "id": "ab6863c3",
   "metadata": {},
   "outputs": [],
   "source": []
  }
 ],
 "metadata": {
  "kernelspec": {
   "display_name": "Python 3 (ipykernel)",
   "language": "python",
   "name": "python3"
  },
  "language_info": {
   "codemirror_mode": {
    "name": "ipython",
    "version": 3
   },
   "file_extension": ".py",
   "mimetype": "text/x-python",
   "name": "python",
   "nbconvert_exporter": "python",
   "pygments_lexer": "ipython3",
   "version": "3.9.12"
  }
 },
 "nbformat": 4,
 "nbformat_minor": 5
}

{
 "cells": [
  {
   "cell_type": "markdown",
   "id": "7ac96dd4",
   "metadata": {},
   "source": [
    "# Test modules\n",
    "\n",
    "Will test classes and functionalities of `sparql.py` and `pd_stardog_queries.py`."
   ]
  },
  {
   "cell_type": "code",
   "execution_count": 1,
   "id": "ca0227fd",
   "metadata": {},
   "outputs": [],
   "source": [
    "# import the database connection class\n",
    "from sparql import DB"
   ]
  },
  {
   "cell_type": "code",
   "execution_count": 2,
   "id": "06ba8edb",
   "metadata": {},
   "outputs": [],
   "source": [
    "import json"
   ]
  },
  {
   "cell_type": "code",
   "execution_count": 3,
   "id": "43c97c40",
   "metadata": {},
   "outputs": [],
   "source": [
    "# config_file = \"config.local.json\"\n",
    "config_file = \"config.poetrylab.json\""
   ]
  },
  {
   "cell_type": "code",
   "execution_count": 4,
   "id": "8e86b193",
   "metadata": {},
   "outputs": [],
   "source": [
    "with open(config_file) as f:\n",
    "    config = json.load(f)"
   ]
  },
  {
   "cell_type": "markdown",
   "id": "019383df",
   "metadata": {},
   "source": [
    "## Database connection `DB`\n",
    "Test the Database connection with a simple query."
   ]
  },
  {
   "cell_type": "code",
   "execution_count": 5,
   "id": "0ecdc6c2",
   "metadata": {},
   "outputs": [],
   "source": [
    "# create the connection using the DB class\n",
    "db = DB(\n",
    "    triplestore=\"stardog\",\n",
    "    protocol=config[\"server\"][\"protocol\"],\n",
    "    url=config[\"server\"][\"url\"],\n",
    "    port=config[\"server\"][\"port\"],\n",
    "    username=config[\"server\"][\"credentials\"][\"user\"],\n",
    "    password=config[\"server\"][\"credentials\"][\"password\"],\n",
    "    database=config[\"server\"][\"database\"])\n"
   ]
  },
  {
   "cell_type": "code",
   "execution_count": 6,
   "id": "ae421dec",
   "metadata": {},
   "outputs": [],
   "source": [
    "query = \"\"\"\n",
    "SELECT * WHERE {\n",
    "    ?s ?p ?o .\n",
    "}\n",
    "LIMIT 1\n",
    "\"\"\""
   ]
  },
  {
   "cell_type": "code",
   "execution_count": 7,
   "id": "8f1f0b7e",
   "metadata": {},
   "outputs": [
    {
     "data": {
      "text/plain": [
       "{'head': {'vars': ['s', 'p', 'o']},\n",
       " 'results': {'bindings': [{'p': {'type': 'uri',\n",
       "     'value': 'http://postdata.linhd.uned.es/ontology/postdata-poeticAnalysis#graphName'},\n",
       "    's': {'type': 'uri',\n",
       "     'value': 'http://postdata.linhd.uned.es/resource/sc_juana-ines-de-la-cruz_sabras-querido-fabio_plc_16454644863503196'},\n",
       "    'o': {'type': 'uri',\n",
       "     'value': 'http://postdata.linhd.uned.es/A_juana-ines-de-la-cruz_sabras-querido-fabio_16454644863503196'}}]}}"
      ]
     },
     "execution_count": 7,
     "metadata": {},
     "output_type": "execute_result"
    }
   ],
   "source": [
    "# send the test query to the database\n",
    "db.sparql(query)"
   ]
  },
  {
   "cell_type": "markdown",
   "id": "431e7d07",
   "metadata": {},
   "source": [
    "## class `SparqlQuery`"
   ]
  },
  {
   "cell_type": "code",
   "execution_count": 8,
   "id": "ee1a3633",
   "metadata": {},
   "outputs": [],
   "source": [
    "from sparql import SparqlQuery"
   ]
  },
  {
   "cell_type": "code",
   "execution_count": 9,
   "id": "e3325ebd",
   "metadata": {},
   "outputs": [],
   "source": [
    "# load the query from above\n",
    "test = SparqlQuery(query=query, label=\"Test\", description=\"Just get one single arbitrary triple.\")"
   ]
  },
  {
   "cell_type": "code",
   "execution_count": 10,
   "id": "4d1fd2f0",
   "metadata": {},
   "outputs": [
    {
     "data": {
      "text/plain": [
       "<sparql.SparqlQuery at 0x112039ca0>"
      ]
     },
     "execution_count": 10,
     "metadata": {},
     "output_type": "execute_result"
    }
   ],
   "source": [
    "test"
   ]
  },
  {
   "cell_type": "code",
   "execution_count": 11,
   "id": "5128cb51",
   "metadata": {},
   "outputs": [
    {
     "data": {
      "text/plain": [
       "'\\nSELECT * WHERE {\\n    ?s ?p ?o .\\n}\\nLIMIT 1\\n'"
      ]
     },
     "execution_count": 11,
     "metadata": {},
     "output_type": "execute_result"
    }
   ],
   "source": [
    "# output the query\n",
    "test.query"
   ]
  },
  {
   "cell_type": "code",
   "execution_count": 12,
   "id": "e41a422c",
   "metadata": {},
   "outputs": [
    {
     "data": {
      "text/plain": [
       "'\\nSELECT * WHERE {\\n    ?s ?p ?o .\\n}\\nLIMIT 1\\n'"
      ]
     },
     "execution_count": 12,
     "metadata": {},
     "output_type": "execute_result"
    }
   ],
   "source": [
    "# has the same effect\n",
    "test.dump()"
   ]
  },
  {
   "cell_type": "code",
   "execution_count": 13,
   "id": "0f24a69b",
   "metadata": {},
   "outputs": [
    {
     "data": {
      "text/plain": [
       "'Test: Just get one single arbitrary triple.'"
      ]
     },
     "execution_count": 13,
     "metadata": {},
     "output_type": "execute_result"
    }
   ],
   "source": [
    "# explain the query\n",
    "test.explain()"
   ]
  },
  {
   "cell_type": "code",
   "execution_count": 14,
   "id": "26ce6911",
   "metadata": {},
   "outputs": [
    {
     "data": {
      "text/plain": [
       "True"
      ]
     },
     "execution_count": 14,
     "metadata": {},
     "output_type": "execute_result"
    }
   ],
   "source": [
    "# run the test query with the database connection established above\n",
    "test.execute(db)"
   ]
  },
  {
   "cell_type": "code",
   "execution_count": 15,
   "id": "87055664",
   "metadata": {},
   "outputs": [
    {
     "data": {
      "text/plain": [
       "{'head': {'vars': ['s', 'p', 'o']},\n",
       " 'results': {'bindings': [{'p': {'type': 'uri',\n",
       "     'value': 'http://postdata.linhd.uned.es/ontology/postdata-poeticAnalysis#graphName'},\n",
       "    's': {'type': 'uri',\n",
       "     'value': 'http://postdata.linhd.uned.es/resource/sc_juana-ines-de-la-cruz_sabras-querido-fabio_plc_16454644863503196'},\n",
       "    'o': {'type': 'uri',\n",
       "     'value': 'http://postdata.linhd.uned.es/A_juana-ines-de-la-cruz_sabras-querido-fabio_16454644863503196'}}]}}"
      ]
     },
     "execution_count": 15,
     "metadata": {},
     "output_type": "execute_result"
    }
   ],
   "source": [
    "# return the results of the executed query\n",
    "test.results"
   ]
  },
  {
   "cell_type": "code",
   "execution_count": 16,
   "id": "d2215279",
   "metadata": {},
   "outputs": [
    {
     "data": {
      "text/plain": [
       "'executed'"
      ]
     },
     "execution_count": 16,
     "metadata": {},
     "output_type": "execute_result"
    }
   ],
   "source": [
    "test.state"
   ]
  },
  {
   "cell_type": "markdown",
   "id": "bf3b98be",
   "metadata": {},
   "source": [
    "### test with a variable in a query"
   ]
  },
  {
   "cell_type": "code",
   "execution_count": 17,
   "id": "e4c30772",
   "metadata": {},
   "outputs": [],
   "source": [
    "query = \"\"\"\n",
    "SELECT * WHERE {\n",
    "    <$1> ?p ?o .\n",
    "}\n",
    "LIMIT 1\n",
    "\"\"\""
   ]
  },
  {
   "cell_type": "code",
   "execution_count": 18,
   "id": "0ea63442",
   "metadata": {},
   "outputs": [],
   "source": [
    "test = SparqlQuery(query=query, label=\"Test with Variable\", description=\"A sample query with a variable.\")"
   ]
  },
  {
   "cell_type": "code",
   "execution_count": 19,
   "id": "b7e13a81",
   "metadata": {},
   "outputs": [
    {
     "data": {
      "text/plain": [
       "'Test with Variable: A sample query with a variable.'"
      ]
     },
     "execution_count": 19,
     "metadata": {},
     "output_type": "execute_result"
    }
   ],
   "source": [
    "test.explain()"
   ]
  },
  {
   "cell_type": "code",
   "execution_count": 20,
   "id": "7c4493ba",
   "metadata": {},
   "outputs": [
    {
     "data": {
      "text/plain": [
       "'\\nSELECT * WHERE {\\n    <$1> ?p ?o .\\n}\\nLIMIT 1\\n'"
      ]
     },
     "execution_count": 20,
     "metadata": {},
     "output_type": "execute_result"
    }
   ],
   "source": [
    "test.dump()"
   ]
  },
  {
   "cell_type": "code",
   "execution_count": 21,
   "id": "132bfc30",
   "metadata": {},
   "outputs": [
    {
     "data": {
      "text/plain": [
       "'new'"
      ]
     },
     "execution_count": 21,
     "metadata": {},
     "output_type": "execute_result"
    }
   ],
   "source": [
    "test.state"
   ]
  },
  {
   "cell_type": "code",
   "execution_count": 22,
   "id": "f4c0f639",
   "metadata": {},
   "outputs": [
    {
     "data": {
      "text/plain": [
       "True"
      ]
     },
     "execution_count": 22,
     "metadata": {},
     "output_type": "execute_result"
    }
   ],
   "source": [
    "# does it contain variables?\n",
    "test.query_includes_variables"
   ]
  },
  {
   "cell_type": "code",
   "execution_count": 23,
   "id": "0a0cbdd9",
   "metadata": {},
   "outputs": [],
   "source": [
    "# should not run\n",
    "#test.execute(db)"
   ]
  },
  {
   "cell_type": "code",
   "execution_count": 24,
   "id": "64d1ac79",
   "metadata": {},
   "outputs": [
    {
     "data": {
      "text/plain": [
       "True"
      ]
     },
     "execution_count": 24,
     "metadata": {},
     "output_type": "execute_result"
    }
   ],
   "source": [
    "# try to inject a value into variable\n",
    "test.inject([\"http://example.uri\"])"
   ]
  },
  {
   "cell_type": "code",
   "execution_count": 25,
   "id": "b8419864",
   "metadata": {},
   "outputs": [
    {
     "data": {
      "text/plain": [
       "False"
      ]
     },
     "execution_count": 25,
     "metadata": {},
     "output_type": "execute_result"
    }
   ],
   "source": [
    "# did it fix?\n",
    "test.query_includes_variables"
   ]
  },
  {
   "cell_type": "code",
   "execution_count": 26,
   "id": "31a409dd",
   "metadata": {},
   "outputs": [
    {
     "data": {
      "text/plain": [
       "'\\nSELECT * WHERE {\\n    <http://example.uri> ?p ?o .\\n}\\nLIMIT 1\\n'"
      ]
     },
     "execution_count": 26,
     "metadata": {},
     "output_type": "execute_result"
    }
   ],
   "source": [
    "test.dump()"
   ]
  },
  {
   "cell_type": "code",
   "execution_count": 27,
   "id": "600dd513",
   "metadata": {},
   "outputs": [
    {
     "data": {
      "text/plain": [
       "True"
      ]
     },
     "execution_count": 27,
     "metadata": {},
     "output_type": "execute_result"
    }
   ],
   "source": [
    "# should be possible to execute\n",
    "test.execute(db)"
   ]
  },
  {
   "cell_type": "code",
   "execution_count": 28,
   "id": "65c652dd",
   "metadata": {},
   "outputs": [
    {
     "data": {
      "text/plain": [
       "'executed'"
      ]
     },
     "execution_count": 28,
     "metadata": {},
     "output_type": "execute_result"
    }
   ],
   "source": [
    "test.state"
   ]
  },
  {
   "cell_type": "markdown",
   "id": "e0d0da41",
   "metadata": {},
   "source": [
    "## Example of a static class template `AuthorsOfPoem`"
   ]
  },
  {
   "cell_type": "code",
   "execution_count": 29,
   "id": "74c76506",
   "metadata": {},
   "outputs": [],
   "source": [
    "from pd_stardog_queries import AuthorsOfPoem"
   ]
  },
  {
   "cell_type": "code",
   "execution_count": 30,
   "id": "fb2bb758",
   "metadata": {},
   "outputs": [],
   "source": [
    "imported_test_query = AuthorsOfPoem()"
   ]
  },
  {
   "cell_type": "code",
   "execution_count": 31,
   "id": "081a9b71",
   "metadata": {},
   "outputs": [
    {
     "data": {
      "text/plain": [
       "<pd_stardog_queries.AuthorsOfPoem at 0x11206e940>"
      ]
     },
     "execution_count": 31,
     "metadata": {},
     "output_type": "execute_result"
    }
   ],
   "source": [
    "imported_test_query"
   ]
  },
  {
   "cell_type": "code",
   "execution_count": 32,
   "id": "d4d017e0",
   "metadata": {},
   "outputs": [
    {
     "name": "stdout",
     "output_type": "stream",
     "text": [
      "Author(s) of a Poem: \n",
      "    For a single poem with a \"poem_uri\" the query returns all URIs of \"agents\"\n",
      "    that have the \"roleFunction\" of \"creator\" in a relation to a \"WorkConception\".\n",
      "    Optionally, it returns a sample name of the author.\n",
      "    \n"
     ]
    }
   ],
   "source": [
    "print(imported_test_query.explain())"
   ]
  },
  {
   "cell_type": "code",
   "execution_count": 33,
   "id": "50bb5ea1",
   "metadata": {},
   "outputs": [
    {
     "data": {
      "text/plain": [
       "'\\n    SELECT ?Agent (SAMPLE(?Name) AS ?Name)  WHERE {\\n        <$1> a pdc:PoeticWork ;\\n            pdc:wasInitiatedBy ?WorkConception .\\n\\n        ?WorkConception pdc:hasAgentRole ?AgentRole .\\n\\n        ?AgentRole pdc:roleFunction <http://postdata.linhd.uned.es/kos/Creator> ;\\n            pdc:hasAgent ?Agent .\\n\\n        OPTIONAL {\\n            ?Agent pdc:name ?Name .\\n        }\\n    }\\n    GROUP BY ?Agent\\n    '"
      ]
     },
     "execution_count": 33,
     "metadata": {},
     "output_type": "execute_result"
    }
   ],
   "source": [
    "imported_test_query.template"
   ]
  },
  {
   "cell_type": "code",
   "execution_count": 34,
   "id": "cd8cc15e",
   "metadata": {},
   "outputs": [
    {
     "data": {
      "text/plain": [
       "'prepared'"
      ]
     },
     "execution_count": 34,
     "metadata": {},
     "output_type": "execute_result"
    }
   ],
   "source": [
    "# should be prepared but not possible to execute\n",
    "imported_test_query.state"
   ]
  },
  {
   "cell_type": "code",
   "execution_count": 35,
   "id": "855cdd7f",
   "metadata": {},
   "outputs": [
    {
     "data": {
      "text/plain": [
       "[{'prefix': 'pdc',\n",
       "  'uri': 'http://postdata.linhd.uned.es/ontology/postdata-core#'},\n",
       " {'prefix': 'pdp',\n",
       "  'uri': 'http://postdata.linhd.uned.es/ontology/postdata-poeticAnalysis#'},\n",
       " {'prefix': 'owl', 'uri': 'http://www.w3.org/2002/07/owl#'}]"
      ]
     },
     "execution_count": 35,
     "metadata": {},
     "output_type": "execute_result"
    }
   ],
   "source": [
    "imported_test_query.prefixes"
   ]
  },
  {
   "cell_type": "code",
   "execution_count": 36,
   "id": "7929c352",
   "metadata": {},
   "outputs": [
    {
     "data": {
      "text/plain": [
       "'PREFIX pdc: <http://postdata.linhd.uned.es/ontology/postdata-core#>\\nPREFIX pdp: <http://postdata.linhd.uned.es/ontology/postdata-poeticAnalysis#>\\nPREFIX owl: <http://www.w3.org/2002/07/owl#>\\n    SELECT ?Agent (SAMPLE(?Name) AS ?Name)  WHERE {\\n        <$1> a pdc:PoeticWork ;\\n            pdc:wasInitiatedBy ?WorkConception .\\n\\n        ?WorkConception pdc:hasAgentRole ?AgentRole .\\n\\n        ?AgentRole pdc:roleFunction <http://postdata.linhd.uned.es/kos/Creator> ;\\n            pdc:hasAgent ?Agent .\\n\\n        OPTIONAL {\\n            ?Agent pdc:name ?Name .\\n        }\\n    }\\n    GROUP BY ?Agent\\n    '"
      ]
     },
     "execution_count": 36,
     "metadata": {},
     "output_type": "execute_result"
    }
   ],
   "source": [
    "# it included the prefixes\n",
    "imported_test_query.dump()"
   ]
  },
  {
   "cell_type": "code",
   "execution_count": 37,
   "id": "f4c47e2d",
   "metadata": {},
   "outputs": [
    {
     "data": {
      "text/plain": [
       "True"
      ]
     },
     "execution_count": 37,
     "metadata": {},
     "output_type": "execute_result"
    }
   ],
   "source": [
    "imported_test_query.query_includes_variables"
   ]
  },
  {
   "cell_type": "code",
   "execution_count": 38,
   "id": "54fe8fcd",
   "metadata": {},
   "outputs": [
    {
     "data": {
      "text/plain": [
       "[{'id': 'poem_uri',\n",
       "  'class': 'pdc:PoeticWork',\n",
       "  'description': 'URI of a Poem.'}]"
      ]
     },
     "execution_count": 38,
     "metadata": {},
     "output_type": "execute_result"
    }
   ],
   "source": [
    "imported_test_query.variables"
   ]
  },
  {
   "cell_type": "code",
   "execution_count": 39,
   "id": "a1d39e6a",
   "metadata": {},
   "outputs": [],
   "source": [
    "test_uri = \"http://postdata.linhd.uned.es/resource/pw_juana-ines-de-la-cruz_sabras-querido-fabio\""
   ]
  },
  {
   "cell_type": "code",
   "execution_count": 40,
   "id": "ae4e9fd0",
   "metadata": {},
   "outputs": [
    {
     "data": {
      "text/plain": [
       "True"
      ]
     },
     "execution_count": 40,
     "metadata": {},
     "output_type": "execute_result"
    }
   ],
   "source": [
    "imported_test_query.inject([test_uri])"
   ]
  },
  {
   "cell_type": "code",
   "execution_count": 41,
   "id": "4d118c47",
   "metadata": {},
   "outputs": [
    {
     "data": {
      "text/plain": [
       "False"
      ]
     },
     "execution_count": 41,
     "metadata": {},
     "output_type": "execute_result"
    }
   ],
   "source": [
    "imported_test_query.query_includes_variables"
   ]
  },
  {
   "cell_type": "code",
   "execution_count": 42,
   "id": "18b9b180",
   "metadata": {},
   "outputs": [
    {
     "data": {
      "text/plain": [
       "True"
      ]
     },
     "execution_count": 42,
     "metadata": {},
     "output_type": "execute_result"
    }
   ],
   "source": [
    "imported_test_query.execute(db)"
   ]
  },
  {
   "cell_type": "code",
   "execution_count": 43,
   "id": "cc68fc0c",
   "metadata": {},
   "outputs": [
    {
     "data": {
      "text/plain": [
       "'executed'"
      ]
     },
     "execution_count": 43,
     "metadata": {},
     "output_type": "execute_result"
    }
   ],
   "source": [
    "imported_test_query.state"
   ]
  },
  {
   "cell_type": "code",
   "execution_count": 44,
   "id": "20641d46",
   "metadata": {},
   "outputs": [
    {
     "data": {
      "text/plain": [
       "{'head': {'vars': ['Agent', 'Name']},\n",
       " 'results': {'bindings': [{'Agent': {'type': 'uri',\n",
       "     'value': 'http://postdata.linhd.uned.es/resource/p_juana-ines-de-la-cruz'},\n",
       "    'Name': {'type': 'literal', 'value': 'Juana Ines de La Cruz'}}]}}"
      ]
     },
     "execution_count": 44,
     "metadata": {},
     "output_type": "execute_result"
    }
   ],
   "source": [
    "imported_test_query.results"
   ]
  },
  {
   "cell_type": "code",
   "execution_count": 45,
   "id": "9d835c8c",
   "metadata": {},
   "outputs": [],
   "source": [
    "# we would also try the function to initialize with a list of uris from the start\n",
    "author_poem_query = AuthorsOfPoem(uris=[test_uri])"
   ]
  },
  {
   "cell_type": "code",
   "execution_count": 46,
   "id": "cbe81dd8",
   "metadata": {},
   "outputs": [
    {
     "data": {
      "text/plain": [
       "True"
      ]
     },
     "execution_count": 46,
     "metadata": {},
     "output_type": "execute_result"
    }
   ],
   "source": [
    "author_poem_query.execute(db)"
   ]
  },
  {
   "cell_type": "code",
   "execution_count": 47,
   "id": "d30e4d92",
   "metadata": {},
   "outputs": [
    {
     "data": {
      "text/plain": [
       "{'head': {'vars': ['Agent', 'Name']},\n",
       " 'results': {'bindings': [{'Agent': {'type': 'uri',\n",
       "     'value': 'http://postdata.linhd.uned.es/resource/p_juana-ines-de-la-cruz'},\n",
       "    'Name': {'type': 'literal', 'value': 'Juana Ines de La Cruz'}}]}}"
      ]
     },
     "execution_count": 47,
     "metadata": {},
     "output_type": "execute_result"
    }
   ],
   "source": [
    "author_poem_query.results"
   ]
  },
  {
   "cell_type": "code",
   "execution_count": 48,
   "id": "b86a5718",
   "metadata": {},
   "outputs": [],
   "source": [
    "# also imeadiatly execute it when initializing:\n",
    "author_poem_query_execute = AuthorsOfPoem(uris=[test_uri],database=db,execute=True)"
   ]
  },
  {
   "cell_type": "code",
   "execution_count": 49,
   "id": "40c9e5a9",
   "metadata": {},
   "outputs": [
    {
     "data": {
      "text/plain": [
       "{'head': {'vars': ['Agent', 'Name']},\n",
       " 'results': {'bindings': [{'Agent': {'type': 'uri',\n",
       "     'value': 'http://postdata.linhd.uned.es/resource/p_juana-ines-de-la-cruz'},\n",
       "    'Name': {'type': 'literal', 'value': 'Juana Ines de La Cruz'}}]}}"
      ]
     },
     "execution_count": 49,
     "metadata": {},
     "output_type": "execute_result"
    }
   ],
   "source": [
    "author_poem_query_execute.results"
   ]
  },
  {
   "cell_type": "code",
   "execution_count": 50,
   "id": "492277a6",
   "metadata": {},
   "outputs": [
    {
     "data": {
      "text/plain": [
       "[{'Agent': 'http://postdata.linhd.uned.es/resource/p_juana-ines-de-la-cruz',\n",
       "  'Name': 'Juana Ines de La Cruz'}]"
      ]
     },
     "execution_count": 50,
     "metadata": {},
     "output_type": "execute_result"
    }
   ],
   "source": [
    "# get a simplified version of the results\n",
    "author_poem_query_execute.simplified_results()"
   ]
  },
  {
   "cell_type": "code",
   "execution_count": 51,
   "id": "0495e5bc",
   "metadata": {},
   "outputs": [
    {
     "data": {
      "text/plain": [
       "[{'authorUri': 'http://postdata.linhd.uned.es/resource/p_juana-ines-de-la-cruz',\n",
       "  'authorName': 'http://postdata.linhd.uned.es/resource/p_juana-ines-de-la-cruz'}]"
      ]
     },
     "execution_count": 51,
     "metadata": {},
     "output_type": "execute_result"
    }
   ],
   "source": [
    "mapping = { \"Agent\" : {\"key\": \"authorUri\", \"datatype\" : \"str\" }, \"Name\" : {\"key\" : \"authorName\"} }\n",
    "author_poem_query_execute.simplified_results(mapping=mapping)"
   ]
  },
  {
   "cell_type": "code",
   "execution_count": null,
   "id": "8f92af3e",
   "metadata": {},
   "outputs": [],
   "source": []
  }
 ],
 "metadata": {
  "kernelspec": {
   "display_name": "Python 3 (ipykernel)",
   "language": "python",
   "name": "python3"
  },
  "language_info": {
   "codemirror_mode": {
    "name": "ipython",
    "version": 3
   },
   "file_extension": ".py",
   "mimetype": "text/x-python",
   "name": "python",
   "nbconvert_exporter": "python",
   "pygments_lexer": "ipython3",
   "version": "3.9.12"
  }
 },
 "nbformat": 4,
 "nbformat_minor": 5
}

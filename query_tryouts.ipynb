{
 "cells": [
  {
   "cell_type": "markdown",
   "id": "b05eca81",
   "metadata": {},
   "source": [
    "# DraCor Postdata Middle-Ware Tyouts\n",
    "\n",
    "Prequisites: a running Stardog instance with a database `PD_KG` (imported the Postdata Knowledge Graph).\n",
    "Used this repo: https://github.com/dh-network/stardog-docker-compose; the data was supplied by POSTDATA. Imported it manually to the database as described in the repo.\n",
    "\n",
    "Used this to get started with Stardog: https://github.com/stardog-union/pystardog/blob/develop/notebooks/tutorial.ipynb"
   ]
  },
  {
   "cell_type": "code",
   "execution_count": 1,
   "id": "41c10b1f",
   "metadata": {},
   "outputs": [],
   "source": [
    "#use the official stardog package: https://pystardog.readthedocs.io/en/latest/\n",
    "import stardog"
   ]
  },
  {
   "cell_type": "code",
   "execution_count": 2,
   "id": "bb12f755",
   "metadata": {},
   "outputs": [],
   "source": [
    "#libraries, that are in the pystardog notebook; used to render the results as pd dataframes (maybe don't need them later)\n",
    "import io\n",
    "import pandas as pd"
   ]
  },
  {
   "cell_type": "markdown",
   "id": "957a625d",
   "metadata": {},
   "source": [
    "## Connect to stardog"
   ]
  },
  {
   "cell_type": "code",
   "execution_count": 3,
   "id": "cd6b8a7d",
   "metadata": {},
   "outputs": [],
   "source": [
    "# set sparql endpoint (stardog), user name and password\n",
    "database_name = \"PD_KG\"\n",
    "\n",
    "usr = \"admin\"\n",
    "pwd = \"admin\"\n",
    "\n",
    "endpoint = \"http://localhost:5820\""
   ]
  },
  {
   "cell_type": "code",
   "execution_count": 4,
   "id": "231f8daf",
   "metadata": {},
   "outputs": [],
   "source": [
    "#as in the pystardog notebook https://github.com/stardog-union/pystardog/blob/develop/notebooks/tutorial.ipynb\n",
    "connection_details = {\n",
    "  'endpoint': endpoint,\n",
    "  'username': usr,\n",
    "  'password': pwd\n",
    "}"
   ]
  },
  {
   "cell_type": "code",
   "execution_count": 5,
   "id": "b4d3c3f2",
   "metadata": {},
   "outputs": [],
   "source": [
    "conn = stardog.Connection(database_name, **connection_details)"
   ]
  },
  {
   "cell_type": "markdown",
   "id": "7c957c01",
   "metadata": {},
   "source": [
    "## Simple Test"
   ]
  },
  {
   "cell_type": "code",
   "execution_count": 6,
   "id": "98497170",
   "metadata": {},
   "outputs": [],
   "source": [
    "query = \"\"\"\n",
    "SELECT * WHERE {\n",
    "  ?s ?p ?o\n",
    "}\n",
    "LIMIT 10\n",
    "\"\"\""
   ]
  },
  {
   "cell_type": "code",
   "execution_count": 7,
   "id": "59d0c3cd",
   "metadata": {},
   "outputs": [
    {
     "data": {
      "text/html": [
       "<div>\n",
       "<style scoped>\n",
       "    .dataframe tbody tr th:only-of-type {\n",
       "        vertical-align: middle;\n",
       "    }\n",
       "\n",
       "    .dataframe tbody tr th {\n",
       "        vertical-align: top;\n",
       "    }\n",
       "\n",
       "    .dataframe thead th {\n",
       "        text-align: right;\n",
       "    }\n",
       "</style>\n",
       "<table border=\"1\" class=\"dataframe\">\n",
       "  <thead>\n",
       "    <tr style=\"text-align: right;\">\n",
       "      <th></th>\n",
       "      <th>s</th>\n",
       "      <th>p</th>\n",
       "      <th>o</th>\n",
       "    </tr>\n",
       "  </thead>\n",
       "  <tbody>\n",
       "    <tr>\n",
       "      <th>0</th>\n",
       "      <td>http://postdata.linhd.uned.es/resource/a_unknown</td>\n",
       "      <td>http://postdata.linhd.uned.es/ontology/postdat...</td>\n",
       "      <td>UNKNOWN</td>\n",
       "    </tr>\n",
       "    <tr>\n",
       "      <th>1</th>\n",
       "      <td>http://postdata.linhd.uned.es/resource/st_1_te...</td>\n",
       "      <td>http://postdata.linhd.uned.es/ontology/postdat...</td>\n",
       "      <td>http://postdata.linhd.uned.es/kos/</td>\n",
       "    </tr>\n",
       "    <tr>\n",
       "      <th>2</th>\n",
       "      <td>http://postdata.linhd.uned.es/resource/st_1_te...</td>\n",
       "      <td>http://postdata.linhd.uned.es/ontology/postdat...</td>\n",
       "      <td>http://postdata.linhd.uned.es/kos/</td>\n",
       "    </tr>\n",
       "    <tr>\n",
       "      <th>3</th>\n",
       "      <td>http://postdata.linhd.uned.es/resource/st_1_te...</td>\n",
       "      <td>http://postdata.linhd.uned.es/ontology/postdat...</td>\n",
       "      <td>http://postdata.linhd.uned.es/kos/</td>\n",
       "    </tr>\n",
       "    <tr>\n",
       "      <th>4</th>\n",
       "      <td>http://postdata.linhd.uned.es/resource/st_1_lu...</td>\n",
       "      <td>http://postdata.linhd.uned.es/ontology/postdat...</td>\n",
       "      <td>http://postdata.linhd.uned.es/kos/</td>\n",
       "    </tr>\n",
       "  </tbody>\n",
       "</table>\n",
       "</div>"
      ],
      "text/plain": [
       "                                                   s  \\\n",
       "0   http://postdata.linhd.uned.es/resource/a_unknown   \n",
       "1  http://postdata.linhd.uned.es/resource/st_1_te...   \n",
       "2  http://postdata.linhd.uned.es/resource/st_1_te...   \n",
       "3  http://postdata.linhd.uned.es/resource/st_1_te...   \n",
       "4  http://postdata.linhd.uned.es/resource/st_1_lu...   \n",
       "\n",
       "                                                   p  \\\n",
       "0  http://postdata.linhd.uned.es/ontology/postdat...   \n",
       "1  http://postdata.linhd.uned.es/ontology/postdat...   \n",
       "2  http://postdata.linhd.uned.es/ontology/postdat...   \n",
       "3  http://postdata.linhd.uned.es/ontology/postdat...   \n",
       "4  http://postdata.linhd.uned.es/ontology/postdat...   \n",
       "\n",
       "                                    o  \n",
       "0                             UNKNOWN  \n",
       "1  http://postdata.linhd.uned.es/kos/  \n",
       "2  http://postdata.linhd.uned.es/kos/  \n",
       "3  http://postdata.linhd.uned.es/kos/  \n",
       "4  http://postdata.linhd.uned.es/kos/  "
      ]
     },
     "execution_count": 7,
     "metadata": {},
     "output_type": "execute_result"
    }
   ],
   "source": [
    "csv_results = conn.select(query, content_type='text/csv')\n",
    "df = pd.read_csv(io.BytesIO(csv_results))\n",
    "df.head()"
   ]
  },
  {
   "cell_type": "code",
   "execution_count": 8,
   "id": "d45b9786",
   "metadata": {},
   "outputs": [],
   "source": [
    "#to get a dictionary instead\n",
    "#query_results = conn.select(query)\n",
    "#type(query_results)"
   ]
  },
  {
   "cell_type": "code",
   "execution_count": 9,
   "id": "9d17452d",
   "metadata": {},
   "outputs": [],
   "source": [
    "#to clean the connection\n",
    "#conn.__exit__()"
   ]
  },
  {
   "cell_type": "markdown",
   "id": "b832a7c1",
   "metadata": {},
   "source": [
    "## Helper Functions\n",
    "Setup functions to query and parse the results (e.g. as pd dataframe)."
   ]
  },
  {
   "cell_type": "code",
   "execution_count": 10,
   "id": "aa4e1bfd",
   "metadata": {},
   "outputs": [],
   "source": [
    "def sparql(query, parse=False):\n",
    "    \"\"\"\n",
    "    Helper function to send a SPARQL query to the Stardog (should have a connection `conn` established).\n",
    "    The optional parameter `parse` can be used to get a padas dataframe back. \n",
    "    \"\"\"\n",
    "    if parse:\n",
    "        csv_results = conn.select(query, content_type='text/csv')\n",
    "        df = pd.read_csv(io.BytesIO(csv_results))\n",
    "        return df\n",
    "    else:\n",
    "        results = conn.select(query)\n",
    "        return results"
   ]
  },
  {
   "cell_type": "code",
   "execution_count": 11,
   "id": "2e602a24",
   "metadata": {},
   "outputs": [],
   "source": [
    "#inject <$> to queries\n",
    "def replace_placeholder(query,uri):\n",
    "    \"\"\"Replaces the placeholder in a query.\n",
    "    \"\"\"\n",
    "    placeholder = \"$\"\n",
    "    return query.replace(placeholder,uri)"
   ]
  },
  {
   "cell_type": "markdown",
   "id": "efe24c17",
   "metadata": {},
   "source": [
    "## Query the Postdata Knowledge Graph\n",
    "I played around in Stardog Studio and came up with some queries. These need to be tested here and then eventually wrapped in functions to be used in an API."
   ]
  },
  {
   "cell_type": "markdown",
   "id": "49def82e",
   "metadata": {},
   "source": [
    "### poeticWorks"
   ]
  },
  {
   "cell_type": "markdown",
   "id": "baedc0f2",
   "metadata": {},
   "source": [
    "#### List all works\n",
    "\n",
    "A \"poeticWork\" is of the class `http://postdata.linhd.uned.es/ontology/postdata-core#PoeticWork`."
   ]
  },
  {
   "cell_type": "code",
   "execution_count": 12,
   "id": "6a45b7b8",
   "metadata": {},
   "outputs": [],
   "source": [
    "query = \"\"\"\n",
    "PREFIX pdc: <http://postdata.linhd.uned.es/ontology/postdata-core#>\n",
    "\n",
    "SELECT ?work ?title WHERE {\n",
    "    ?work a pdc:PoeticWork ;\n",
    "          pdc:title ?title.\n",
    "}\n",
    "LIMIT 1000000\n",
    "\"\"\"\n",
    "# by default stardog returns 1.000 results only; need to set a LIMIT that exceeds the number of works expected "
   ]
  },
  {
   "cell_type": "code",
   "execution_count": 13,
   "id": "90e2573c",
   "metadata": {},
   "outputs": [],
   "source": [
    "#use the helper function to send the query\n",
    "results = sparql(query,parse=True)"
   ]
  },
  {
   "cell_type": "code",
   "execution_count": 14,
   "id": "9f9af110",
   "metadata": {},
   "outputs": [
    {
     "data": {
      "text/plain": [
       "pandas.core.frame.DataFrame"
      ]
     },
     "execution_count": 14,
     "metadata": {},
     "output_type": "execute_result"
    }
   ],
   "source": [
    "type(results)"
   ]
  },
  {
   "cell_type": "code",
   "execution_count": 15,
   "id": "766b54e7",
   "metadata": {},
   "outputs": [
    {
     "data": {
      "text/plain": [
       "1003"
      ]
     },
     "execution_count": 15,
     "metadata": {},
     "output_type": "execute_result"
    }
   ],
   "source": [
    "len(results)"
   ]
  },
  {
   "cell_type": "code",
   "execution_count": 16,
   "id": "a9abc79e",
   "metadata": {},
   "outputs": [
    {
     "data": {
      "text/html": [
       "<div>\n",
       "<style scoped>\n",
       "    .dataframe tbody tr th:only-of-type {\n",
       "        vertical-align: middle;\n",
       "    }\n",
       "\n",
       "    .dataframe tbody tr th {\n",
       "        vertical-align: top;\n",
       "    }\n",
       "\n",
       "    .dataframe thead th {\n",
       "        text-align: right;\n",
       "    }\n",
       "</style>\n",
       "<table border=\"1\" class=\"dataframe\">\n",
       "  <thead>\n",
       "    <tr style=\"text-align: right;\">\n",
       "      <th></th>\n",
       "      <th>work</th>\n",
       "      <th>title</th>\n",
       "    </tr>\n",
       "  </thead>\n",
       "  <tbody>\n",
       "    <tr>\n",
       "      <th>0</th>\n",
       "      <td>http://postdata.linhd.uned.es/resource/pw_juan...</td>\n",
       "      <td>Sabrás, querido Fabio</td>\n",
       "    </tr>\n",
       "    <tr>\n",
       "      <th>1</th>\n",
       "      <td>http://postdata.linhd.uned.es/resource/pw_juan...</td>\n",
       "      <td>Divino dueño mío</td>\n",
       "    </tr>\n",
       "    <tr>\n",
       "      <th>2</th>\n",
       "      <td>http://postdata.linhd.uned.es/resource/pw_jaci...</td>\n",
       "      <td>En corros aquí y allí,</td>\n",
       "    </tr>\n",
       "    <tr>\n",
       "      <th>3</th>\n",
       "      <td>http://postdata.linhd.uned.es/resource/pw_pedr...</td>\n",
       "      <td>Al Marqués de Priego</td>\n",
       "    </tr>\n",
       "    <tr>\n",
       "      <th>4</th>\n",
       "      <td>http://postdata.linhd.uned.es/resource/pw_vice...</td>\n",
       "      <td>Part of:</td>\n",
       "    </tr>\n",
       "  </tbody>\n",
       "</table>\n",
       "</div>"
      ],
      "text/plain": [
       "                                                work                    title\n",
       "0  http://postdata.linhd.uned.es/resource/pw_juan...    Sabrás, querido Fabio\n",
       "1  http://postdata.linhd.uned.es/resource/pw_juan...         Divino dueño mío\n",
       "2  http://postdata.linhd.uned.es/resource/pw_jaci...  En corros aquí y allí, \n",
       "3  http://postdata.linhd.uned.es/resource/pw_pedr...     Al Marqués de Priego\n",
       "4  http://postdata.linhd.uned.es/resource/pw_vice...                Part of: "
      ]
     },
     "execution_count": 16,
     "metadata": {},
     "output_type": "execute_result"
    }
   ],
   "source": [
    "results.head()"
   ]
  },
  {
   "cell_type": "code",
   "execution_count": 17,
   "id": "44322763",
   "metadata": {},
   "outputs": [
    {
     "data": {
      "text/plain": [
       "'http://postdata.linhd.uned.es/resource/pw_juana-ines-de-la-cruz_sabras-querido-fabio'"
      ]
     },
     "execution_count": 17,
     "metadata": {},
     "output_type": "execute_result"
    }
   ],
   "source": [
    "# a simple uri of a work\n",
    "results[\"work\"][0]"
   ]
  },
  {
   "cell_type": "markdown",
   "id": "15752735",
   "metadata": {},
   "source": [
    "#### Works, Titles and Authors (Creators in the WorkConception)\n",
    "A \"poeticWork\" \"isRealisedThrough\" `<http://postdata.linhd.uned.es/ontology/postdata-core#isRealisedThrough>` a `<http://postdata.linhd.uned.es/ontology/postdata-core#WorkConception>`. \"WorkConception\".\n",
    "\n",
    "This \"WorkConception\" has a \"AgentRole \"`<http://postdata.linhd.uned.es/ontology/postdata-core#hasAgentRole>`; the property \"hasAgentRole\" connects it to a \"AgentRole\" `<http://postdata.linhd.uned.es/ontology/postdata-core#AgentRole>`.\n",
    "\n",
    "\"AgentRole\" can be classified with \"<http://postdata.linhd.uned.es/ontology/postdata-core#roleFunction>\" which links to the KOS, e.g. `<http://postdata.linhd.uned.es/kos/Creator>`. (This one should be used for the author).\n",
    "\n",
    "The Autor is connected to the \"AgentRole\" with the property \"hasAgent\" `<http://postdata.linhd.uned.es/ontology/postdata-core#hasAgent>`.\n",
    "\n",
    "\"Agent\" is a <http://postdata.linhd.uned.es/ontology/postdata-core#Person> .\n",
    "The \"Agent\" `pdc:name` has a Name (Literal!)."
   ]
  },
  {
   "cell_type": "code",
   "execution_count": 18,
   "id": "c97c0a46",
   "metadata": {},
   "outputs": [],
   "source": [
    "query = \"\"\"\n",
    "PREFIX pdc: <http://postdata.linhd.uned.es/ontology/postdata-core#>\n",
    "\n",
    "SELECT ?Work ?Title ?Agent ?Name WHERE {\n",
    "    ?Work a pdc:PoeticWork ;\n",
    "        pdc:title ?Title .\n",
    "    \n",
    "    OPTIONAL { \n",
    "        ?Work pdc:wasInitiatedBy ?WorkConception .\n",
    "        \n",
    "        ?WorkConception pdc:hasAgentRole ?AgentRole .\n",
    "        \n",
    "        ?AgentRole pdc:roleFunction <http://postdata.linhd.uned.es/kos/Creator> ; \n",
    "                   pdc:hasAgent ?Agent .\n",
    "        \n",
    "        ?Agent pdc:name ?Name .\n",
    "    }\n",
    "}\n",
    "LIMIT 1000000\n",
    "\"\"\""
   ]
  },
  {
   "cell_type": "code",
   "execution_count": 19,
   "id": "502a90af",
   "metadata": {},
   "outputs": [
    {
     "data": {
      "text/html": [
       "<div>\n",
       "<style scoped>\n",
       "    .dataframe tbody tr th:only-of-type {\n",
       "        vertical-align: middle;\n",
       "    }\n",
       "\n",
       "    .dataframe tbody tr th {\n",
       "        vertical-align: top;\n",
       "    }\n",
       "\n",
       "    .dataframe thead th {\n",
       "        text-align: right;\n",
       "    }\n",
       "</style>\n",
       "<table border=\"1\" class=\"dataframe\">\n",
       "  <thead>\n",
       "    <tr style=\"text-align: right;\">\n",
       "      <th></th>\n",
       "      <th>Work</th>\n",
       "      <th>Title</th>\n",
       "      <th>Agent</th>\n",
       "      <th>Name</th>\n",
       "    </tr>\n",
       "  </thead>\n",
       "  <tbody>\n",
       "    <tr>\n",
       "      <th>0</th>\n",
       "      <td>http://postdata.linhd.uned.es/resource/pw_juan...</td>\n",
       "      <td>Sabrás, querido Fabio</td>\n",
       "      <td>http://postdata.linhd.uned.es/resource/p_juana...</td>\n",
       "      <td>Juana Inés de la Cruz</td>\n",
       "    </tr>\n",
       "    <tr>\n",
       "      <th>1</th>\n",
       "      <td>http://postdata.linhd.uned.es/resource/pw_juan...</td>\n",
       "      <td>Divino dueño mío</td>\n",
       "      <td>http://postdata.linhd.uned.es/resource/p_juana...</td>\n",
       "      <td>Juana Inés de la Cruz</td>\n",
       "    </tr>\n",
       "    <tr>\n",
       "      <th>2</th>\n",
       "      <td>http://postdata.linhd.uned.es/resource/pw_jaci...</td>\n",
       "      <td>En corros aquí y allí,</td>\n",
       "      <td>http://postdata.linhd.uned.es/resource/p_jacin...</td>\n",
       "      <td>Jacinto Polo de Medina</td>\n",
       "    </tr>\n",
       "    <tr>\n",
       "      <th>3</th>\n",
       "      <td>http://postdata.linhd.uned.es/resource/pw_pedr...</td>\n",
       "      <td>Al Marqués de Priego</td>\n",
       "      <td>http://postdata.linhd.uned.es/resource/p_pedro...</td>\n",
       "      <td>Pedro Fernández Marañón</td>\n",
       "    </tr>\n",
       "    <tr>\n",
       "      <th>4</th>\n",
       "      <td>http://postdata.linhd.uned.es/resource/pw_vice...</td>\n",
       "      <td>Part of:</td>\n",
       "      <td>http://postdata.linhd.uned.es/resource/p_vicen...</td>\n",
       "      <td>Vicente Wenceslao Querolt</td>\n",
       "    </tr>\n",
       "  </tbody>\n",
       "</table>\n",
       "</div>"
      ],
      "text/plain": [
       "                                                Work                    Title  \\\n",
       "0  http://postdata.linhd.uned.es/resource/pw_juan...    Sabrás, querido Fabio   \n",
       "1  http://postdata.linhd.uned.es/resource/pw_juan...         Divino dueño mío   \n",
       "2  http://postdata.linhd.uned.es/resource/pw_jaci...  En corros aquí y allí,    \n",
       "3  http://postdata.linhd.uned.es/resource/pw_pedr...     Al Marqués de Priego   \n",
       "4  http://postdata.linhd.uned.es/resource/pw_vice...                Part of:    \n",
       "\n",
       "                                               Agent  \\\n",
       "0  http://postdata.linhd.uned.es/resource/p_juana...   \n",
       "1  http://postdata.linhd.uned.es/resource/p_juana...   \n",
       "2  http://postdata.linhd.uned.es/resource/p_jacin...   \n",
       "3  http://postdata.linhd.uned.es/resource/p_pedro...   \n",
       "4  http://postdata.linhd.uned.es/resource/p_vicen...   \n",
       "\n",
       "                        Name  \n",
       "0      Juana Inés de la Cruz  \n",
       "1      Juana Inés de la Cruz  \n",
       "2     Jacinto Polo de Medina  \n",
       "3    Pedro Fernández Marañón  \n",
       "4  Vicente Wenceslao Querolt  "
      ]
     },
     "execution_count": 19,
     "metadata": {},
     "output_type": "execute_result"
    }
   ],
   "source": [
    "results = sparql(query,parse=True)\n",
    "results.head()"
   ]
  },
  {
   "cell_type": "code",
   "execution_count": 20,
   "id": "919fbbad",
   "metadata": {},
   "outputs": [
    {
     "data": {
      "text/plain": [
       "1003"
      ]
     },
     "execution_count": 20,
     "metadata": {},
     "output_type": "execute_result"
    }
   ],
   "source": [
    "len(results)"
   ]
  },
  {
   "cell_type": "markdown",
   "id": "89946026",
   "metadata": {},
   "source": [
    "Obviously, there are no poems with more than one author. But this could happen, so maybe the query needs to be adapted."
   ]
  },
  {
   "cell_type": "markdown",
   "id": "6f3a35a6",
   "metadata": {},
   "source": [
    "#### Author(s) of a given PoeticWork\n",
    "\n",
    "Adapted query of the one above to get the authors by a given PoeticWork."
   ]
  },
  {
   "cell_type": "code",
   "execution_count": 21,
   "id": "4476878b",
   "metadata": {},
   "outputs": [],
   "source": [
    "query = \"\"\"\n",
    "PREFIX pdc: <http://postdata.linhd.uned.es/ontology/postdata-core#>\n",
    "\n",
    "SELECT ?Agent ?Name WHERE {\n",
    "    <$> a pdc:PoeticWork ;\n",
    "        pdc:wasInitiatedBy ?WorkConception .\n",
    "        \n",
    "        ?WorkConception pdc:hasAgentRole ?AgentRole .\n",
    "        \n",
    "        ?AgentRole pdc:roleFunction <http://postdata.linhd.uned.es/kos/Creator> ; \n",
    "                   pdc:hasAgent ?Agent .\n",
    "        \n",
    "        OPTIONAL {\n",
    "            ?Agent pdc:name ?Name .\n",
    "        }\n",
    "}\n",
    "\"\"\""
   ]
  },
  {
   "cell_type": "code",
   "execution_count": 22,
   "id": "6aab9dac",
   "metadata": {},
   "outputs": [
    {
     "name": "stdout",
     "output_type": "stream",
     "text": [
      "\n",
      "PREFIX pdc: <http://postdata.linhd.uned.es/ontology/postdata-core#>\n",
      "\n",
      "SELECT ?Agent ?Name WHERE {\n",
      "    <http://postdata.linhd.uned.es/resource/pw_juana-ines-de-la-cruz_sabras-querido-fabio> a pdc:PoeticWork ;\n",
      "        pdc:wasInitiatedBy ?WorkConception .\n",
      "        \n",
      "        ?WorkConception pdc:hasAgentRole ?AgentRole .\n",
      "        \n",
      "        ?AgentRole pdc:roleFunction <http://postdata.linhd.uned.es/kos/Creator> ; \n",
      "                   pdc:hasAgent ?Agent .\n",
      "        \n",
      "        OPTIONAL {\n",
      "            ?Agent pdc:name ?Name .\n",
      "        }\n",
      "}\n",
      "\n"
     ]
    }
   ],
   "source": [
    "uri = \"http://postdata.linhd.uned.es/resource/pw_juana-ines-de-la-cruz_sabras-querido-fabio\"\n",
    "print(replace_placeholder(query,uri))\n",
    "results = sparql(replace_placeholder(query,uri))"
   ]
  },
  {
   "cell_type": "code",
   "execution_count": 23,
   "id": "9fcea643",
   "metadata": {},
   "outputs": [
    {
     "data": {
      "text/plain": [
       "{'head': {'vars': ['Agent', 'Name']},\n",
       " 'results': {'bindings': [{'Agent': {'type': 'uri',\n",
       "     'value': 'http://postdata.linhd.uned.es/resource/p_juana-ines-de-la-cruz'},\n",
       "    'Name': {'type': 'literal', 'value': 'Juana Inés de la Cruz'}}]}}"
      ]
     },
     "execution_count": 23,
     "metadata": {},
     "output_type": "execute_result"
    }
   ],
   "source": [
    "results"
   ]
  },
  {
   "cell_type": "markdown",
   "id": "056dccce",
   "metadata": {},
   "source": [
    "An endpoint to get creators of a poem `/corpora/{corpus}/poems/{poem}/authors` could return something along the lines of DraCor API `https://dracor.org/api/corpora/{corpus}/play/{play}`:\n",
    "\n",
    "```\n",
    "\"authors\": [\n",
    "    {\n",
    "      \"name\": \"Lessing, Gotthold Ephraim\",\n",
    "      \"fullname\": \"Gotthold Ephraim Lessing\",\n",
    "      \"shortname\": \"Lessing\",\n",
    "      \"refs\": [\n",
    "        {\n",
    "          \"ref\": \"Q34628\",\n",
    "          \"type\": \"wikidata\"\n",
    "        },\n",
    "        {\n",
    "          \"ref\": \"118572121\",\n",
    "          \"type\": \"pnd\"\n",
    "        }\n",
    "      ]\n",
    "    }\n",
    "  ]\n",
    "```"
   ]
  },
  {
   "cell_type": "code",
   "execution_count": 24,
   "id": "8ef0ce7c",
   "metadata": {},
   "outputs": [],
   "source": [
    "def get_authors_of_poem(poem_uri:str) -> list:\n",
    "    \"\"\"Get the autors \n",
    "    Returns the agents in an AgentRole with the roleFunction of \"creator\".\n",
    "    \n",
    "    Args:\n",
    "        poem_uri (str): URI of a poeticWork\n",
    "    Returns:\n",
    "        list: List of dictionaries containg information on author name and id = uri.\n",
    "    \"\"\"\n",
    "    \n",
    "    query = \"\"\"\n",
    "        PREFIX pdc: <http://postdata.linhd.uned.es/ontology/postdata-core#>\n",
    "\n",
    "        SELECT ?Agent ?Name WHERE {\n",
    "            <$> a pdc:PoeticWork ;\n",
    "            pdc:wasInitiatedBy ?WorkConception .\n",
    "        \n",
    "            ?WorkConception pdc:hasAgentRole ?AgentRole .\n",
    "        \n",
    "            ?AgentRole pdc:roleFunction <http://postdata.linhd.uned.es/kos/Creator> ; \n",
    "                   pdc:hasAgent ?Agent .\n",
    "        \n",
    "            OPTIONAL {\n",
    "                ?Agent pdc:name ?Name .\n",
    "            }\n",
    "    }\n",
    "    \"\"\"\n",
    "    sparql_results = sparql(replace_placeholder(query,poem_uri))\n",
    "    \n",
    "    authors = []\n",
    "    for binding in sparql_results[\"results\"][\"bindings\"]:\n",
    "        author = {}\n",
    "        author[\"name\"] = binding[\"Name\"][\"value\"]\n",
    "        author[\"uri\"] = binding[\"Agent\"][\"value\"]\n",
    "        authors.append(author)\n",
    "        \n",
    "    \n",
    "    return authors"
   ]
  },
  {
   "cell_type": "code",
   "execution_count": 25,
   "id": "6f513c51",
   "metadata": {},
   "outputs": [
    {
     "data": {
      "text/plain": [
       "[{'name': 'Juana Inés de la Cruz',\n",
       "  'uri': 'http://postdata.linhd.uned.es/resource/p_juana-ines-de-la-cruz'}]"
      ]
     },
     "execution_count": 25,
     "metadata": {},
     "output_type": "execute_result"
    }
   ],
   "source": [
    "get_authors_of_poem(uri)"
   ]
  },
  {
   "cell_type": "markdown",
   "id": "aed642e7",
   "metadata": {},
   "source": [
    "### Information on a single corpus (the whole graph)\n",
    "DraCor's endpoint `/corpora` returns information on all corpora in the database. This endpoint is used to display the stats by setting the parameter `include=metrics`. See https://dracor.org/doc/api#/public/list-corpora. The data on a single corpus:\n",
    "\n",
    "```\n",
    "{\n",
    "    \"licence\": \"CC BY-NC 3.0\",\n",
    "    \"licenceUrl\": \"https://creativecommons.org/licenses/by-nc/3.0/deed.en_US\",\n",
    "    \"description\": \"Derived from the [Folger Shakespeare Library](https://shakespeare.folger.edu/). Enhancements documented in our [README at GitHub](https://github.com/dracor-org/shakedracor).\",\n",
    "    \"uri\": \"https://dracor.org/api/corpora/shake\",\n",
    "    \"title\": \"Shakespeare Drama Corpus\",\n",
    "    \"name\": \"shake\",\n",
    "    \"acronym\": \"ShakeDraCor\",\n",
    "    \"metrics\": {\n",
    "      \"plays\": 37,\n",
    "      \"characters\": 1433,\n",
    "      \"male\": 797,\n",
    "      \"female\": 116,\n",
    "      \"text\": 37,\n",
    "      \"sp\": 31066,\n",
    "      \"stage\": 10450,\n",
    "      \"wordcount\": {\n",
    "        \"text\": 908286,\n",
    "        \"sp\": 876744,\n",
    "        \"stage\": 41230\n",
    "      },\n",
    "      \"updated\": \"2022-07-02T23:36:24.109+02:00\"\n",
    "    },\n",
    "    \"repository\": \"https://github.com/dracor-org/shakedracor\"\n",
    "  }\n",
    "```\n",
    "We can not really list \"corpora\" in the POSTDATA Knowledge Graph because there is only one included, but stil we have to implement an endpoint that would provide information for the frontpage.\n",
    "\n",
    "We can at least provide some metrics, e.g.\n",
    "\n",
    "```\n",
    "\"metrics\": {\n",
    "      \"authors\" : 1,\n",
    "      \"poems\": 1,\n",
    "      \"stanzas\": 1,\n",
    "      \"verses\": 1,\n",
    "      \"words\" : 1\n",
    "      }\n",
    "```"
   ]
  },
  {
   "cell_type": "code",
   "execution_count": 26,
   "id": "35366afe",
   "metadata": {},
   "outputs": [],
   "source": [
    "def count_works(corpus=None) -> int:\n",
    "    \"\"\"Count poeticWorks in a corpus.\n",
    "    \n",
    "    Returns:\n",
    "        int: Number of poetic works/poems.\n",
    "        \n",
    "    TODO: handle multiple corpora\n",
    "    \"\"\"\n",
    "    \n",
    "    query = \"\"\"\n",
    "    PREFIX pdc: <http://postdata.linhd.uned.es/ontology/postdata-core#>\n",
    "    \n",
    "    SELECT (COUNT(?poeticWork) AS ?count) WHERE {\n",
    "    ?poeticWork a pdc:PoeticWork .\n",
    "    } \n",
    "    LIMIT 1000000\n",
    "    \"\"\"\n",
    "    \n",
    "    sparql_results = sparql(query)\n",
    "    work_count = int(sparql_results[\"results\"][\"bindings\"][0][\"count\"][\"value\"])\n",
    "    \n",
    "    return work_count"
   ]
  },
  {
   "cell_type": "code",
   "execution_count": 27,
   "id": "83533e4b",
   "metadata": {},
   "outputs": [
    {
     "data": {
      "text/plain": [
       "1003"
      ]
     },
     "execution_count": 27,
     "metadata": {},
     "output_type": "execute_result"
    }
   ],
   "source": [
    "count_works()"
   ]
  },
  {
   "cell_type": "code",
   "execution_count": 28,
   "id": "1be2bab5",
   "metadata": {},
   "outputs": [],
   "source": [
    "def count_stanzas(corpus=None) -> int:\n",
    "    \"\"\"Count stanzas in a corpus.\n",
    "    \n",
    "    Returns:\n",
    "        int: Number of stanzas.\n",
    "        \n",
    "    TODO: handle multiple corpora\n",
    "    \"\"\"\n",
    "    \n",
    "    query = \"\"\"\n",
    "    PREFIX pdp: <http://postdata.linhd.uned.es/ontology/postdata-poeticAnalysis#>\n",
    "    \n",
    "    SELECT (COUNT(?Stanza) AS ?count) WHERE {\n",
    "    ?Stanza a pdp:Stanza .\n",
    "    } \n",
    "    LIMIT 1000000\n",
    "    \"\"\"\n",
    "    \n",
    "    sparql_results = sparql(query)\n",
    "    stanza_count = int(sparql_results[\"results\"][\"bindings\"][0][\"count\"][\"value\"])\n",
    "    return stanza_count"
   ]
  },
  {
   "cell_type": "code",
   "execution_count": 29,
   "id": "53bcdce3",
   "metadata": {},
   "outputs": [
    {
     "data": {
      "text/plain": [
       "5109"
      ]
     },
     "execution_count": 29,
     "metadata": {},
     "output_type": "execute_result"
    }
   ],
   "source": [
    "count_stanzas()"
   ]
  },
  {
   "cell_type": "code",
   "execution_count": 30,
   "id": "f3e7206b",
   "metadata": {},
   "outputs": [],
   "source": [
    "def count_verses(corpus=None) -> int:\n",
    "    \"\"\"Count verses/lines in a corpus.\n",
    "    \n",
    "    Returns:\n",
    "        int: Number of verselines.\n",
    "        \n",
    "    TODO: handle multiple corpora\n",
    "    \"\"\"\n",
    "    \n",
    "    query = \"\"\"\n",
    "    PREFIX pdp: <http://postdata.linhd.uned.es/ontology/postdata-poeticAnalysis#>\n",
    "    \n",
    "    SELECT (COUNT(?line) AS ?count) WHERE {\n",
    "        ?line a pdp:Line .\n",
    "    } \n",
    "    LIMIT 1000000\n",
    "    \"\"\"\n",
    "    \n",
    "    sparql_results = sparql(query)\n",
    "    verses_count = int(sparql_results[\"results\"][\"bindings\"][0][\"count\"][\"value\"])\n",
    "    return verses_count"
   ]
  },
  {
   "cell_type": "code",
   "execution_count": 31,
   "id": "046ad4c4",
   "metadata": {},
   "outputs": [
    {
     "data": {
      "text/plain": [
       "105236"
      ]
     },
     "execution_count": 31,
     "metadata": {},
     "output_type": "execute_result"
    }
   ],
   "source": [
    "count_verses()"
   ]
  },
  {
   "cell_type": "code",
   "execution_count": 32,
   "id": "758d01bc",
   "metadata": {},
   "outputs": [],
   "source": [
    "def count_words(corpus=None) -> int:\n",
    "    \"\"\"Count words in a corpus.\n",
    "    \n",
    "    Returns:\n",
    "        int: Number of words.\n",
    "        \n",
    "    TODO: handle multiple corpora\n",
    "    \"\"\"\n",
    "    \n",
    "    query = \"\"\"\n",
    "    PREFIX pdp: <http://postdata.linhd.uned.es/ontology/postdata-poeticAnalysis#>\n",
    "    \n",
    "    SELECT (COUNT(?word) AS ?count) WHERE {\n",
    "        ?word a <http://postdata.linhd.uned.es/ontology/postdata-poeticAnalysis#Word> .\n",
    "    } \n",
    "    LIMIT 1000000\n",
    "    \"\"\"\n",
    "    \n",
    "    sparql_results = sparql(query)\n",
    "    word_count = int(sparql_results[\"results\"][\"bindings\"][0][\"count\"][\"value\"])\n",
    "    return word_count"
   ]
  },
  {
   "cell_type": "code",
   "execution_count": 33,
   "id": "567bb1ad",
   "metadata": {},
   "outputs": [
    {
     "data": {
      "text/plain": [
       "571355"
      ]
     },
     "execution_count": 33,
     "metadata": {},
     "output_type": "execute_result"
    }
   ],
   "source": [
    "count_words()"
   ]
  },
  {
   "cell_type": "markdown",
   "id": "2c3d6754",
   "metadata": {},
   "source": [
    "Syllables are different: There are \"GrammaticalSyllables\" `<http://postdata.linhd.uned.es/ontology/postdata-poeticAnalysis#GrammaticalSyllable>` and \"MetricalSyllables\" `<http://postdata.linhd.uned.es/ontology/postdata-poeticAnalysis#MetricalSyllable>`."
   ]
  },
  {
   "cell_type": "code",
   "execution_count": 34,
   "id": "56dcfa5b",
   "metadata": {},
   "outputs": [],
   "source": [
    "def count_metrical_syllables(corpus=None) -> int:\n",
    "    \"\"\"Count metrical syllables in a corpus.\n",
    "    \n",
    "    Returns:\n",
    "        int: number of metrical syllables\n",
    "    \"\"\"\n",
    "    \n",
    "    query = \"\"\"\n",
    "    PREFIX pdp: <http://postdata.linhd.uned.es/ontology/postdata-poeticAnalysis#>\n",
    "    \n",
    "    SELECT (COUNT(?syllable) AS ?count) WHERE {\n",
    "        ?syllable a <http://postdata.linhd.uned.es/ontology/postdata-poeticAnalysis#MetricalSyllable> .\n",
    "    } \n",
    "    LIMIT 1000000\n",
    "    \"\"\"\n",
    "    \n",
    "    sparql_results = sparql(query)\n",
    "    syllable_count = int(sparql_results[\"results\"][\"bindings\"][0][\"count\"][\"value\"])\n",
    "    \n",
    "    return syllable_count\n",
    "    "
   ]
  },
  {
   "cell_type": "code",
   "execution_count": 35,
   "id": "0ee86a7b",
   "metadata": {},
   "outputs": [
    {
     "data": {
      "text/plain": [
       "299990"
      ]
     },
     "execution_count": 35,
     "metadata": {},
     "output_type": "execute_result"
    }
   ],
   "source": [
    "count_metrical_syllables()"
   ]
  },
  {
   "cell_type": "code",
   "execution_count": 36,
   "id": "88490de2",
   "metadata": {},
   "outputs": [],
   "source": [
    "def count_grammatical_syllables(corpus=None) -> int:\n",
    "    \"\"\"Count grammatical syllables in a corpus.\n",
    "    \n",
    "    Returns:\n",
    "        int: number of gramamtical syllables\n",
    "    \"\"\"\n",
    "    \n",
    "    query = \"\"\"\n",
    "    PREFIX pdp: <http://postdata.linhd.uned.es/ontology/postdata-poeticAnalysis#>\n",
    "    \n",
    "    SELECT (COUNT(?syllable) AS ?count) WHERE {\n",
    "        ?syllable a <http://postdata.linhd.uned.es/ontology/postdata-poeticAnalysis#GrammaticalSyllable> .\n",
    "    } \n",
    "    LIMIT 1000000\n",
    "    \"\"\"\n",
    "    \n",
    "    sparql_results = sparql(query)\n",
    "    syllable_count = int(sparql_results[\"results\"][\"bindings\"][0][\"count\"][\"value\"])\n",
    "    \n",
    "    return syllable_count"
   ]
  },
  {
   "cell_type": "code",
   "execution_count": 37,
   "id": "cdbbe7bc",
   "metadata": {},
   "outputs": [
    {
     "data": {
      "text/plain": [
       "1054869"
      ]
     },
     "execution_count": 37,
     "metadata": {},
     "output_type": "execute_result"
    }
   ],
   "source": [
    "count_grammatical_syllables()"
   ]
  },
  {
   "cell_type": "markdown",
   "id": "655ddff9",
   "metadata": {},
   "source": [
    "Authors (Actors/Persons) should only be counted if they are connected to a WorkConception in the ActorRole of creator. See above."
   ]
  },
  {
   "cell_type": "code",
   "execution_count": 38,
   "id": "6b80654d",
   "metadata": {},
   "outputs": [],
   "source": [
    "def count_authors(corpus=None) -> int:\n",
    "    \"\"\"Count authors in a corpus.\n",
    "    \n",
    "    Authors (Actors/Persons) are only counted if they are \n",
    "    connected to a \"WorkConception\" in the \"ActorRole\" with the function \"creator\".\n",
    "    \n",
    "    Returns:\n",
    "        int: Number of actors.\n",
    "        \n",
    "    TODO: handle multiple corpora\n",
    "    \"\"\"\n",
    "    \n",
    "    query = \"\"\"\n",
    "    PREFIX pdc: <http://postdata.linhd.uned.es/ontology/postdata-core#>\n",
    "\n",
    "    SELECT (COUNT(DISTINCT ?Agent) AS ?count) WHERE {\n",
    "        ?WorkConception a pdc:WorkConception ;\n",
    "            pdc:hasAgentRole ?AgentRole .\n",
    "        \n",
    "        ?AgentRole pdc:roleFunction <http://postdata.linhd.uned.es/kos/Creator> ; \n",
    "            pdc:hasAgent ?Agent .\n",
    "    }\n",
    "    LIMIT 1000000\n",
    "    \"\"\"\n",
    "    \n",
    "    sparql_results = sparql(query)\n",
    "    authors_count = int(sparql_results[\"results\"][\"bindings\"][0][\"count\"][\"value\"])\n",
    "    return authors_count"
   ]
  },
  {
   "cell_type": "code",
   "execution_count": 39,
   "id": "fe5cccdc",
   "metadata": {},
   "outputs": [
    {
     "data": {
      "text/plain": [
       "73"
      ]
     },
     "execution_count": 39,
     "metadata": {},
     "output_type": "execute_result"
    }
   ],
   "source": [
    "count_authors()"
   ]
  },
  {
   "cell_type": "markdown",
   "id": "2f56dbdb",
   "metadata": {},
   "source": [
    "#### Combine the corpus metrics"
   ]
  },
  {
   "cell_type": "code",
   "execution_count": 40,
   "id": "fa4999ec",
   "metadata": {},
   "outputs": [],
   "source": [
    "def get_corpus_metrics(corpus=None) -> dict:\n",
    "    \"\"\"Get metrics for a given corpus.\n",
    "    \n",
    "    Returns:\n",
    "        dict: corpus metrics\n",
    "    \"\"\"\n",
    "    \n",
    "    metrics = {}\n",
    "    metrics[\"authors\"] = count_authors(corpus)\n",
    "    metrics[\"poems\"] = count_works(corpus)\n",
    "    metrics[\"stanzas\"] = count_stanzas(corpus)\n",
    "    metrics[\"verses\"] = count_verses(corpus)\n",
    "    metrics[\"words\"] = count_words(corpus)\n",
    "    metrics[\"grammatical_syllables\"] = count_grammatical_syllables(corpus)\n",
    "    metrics[\"metrical_syllables\"] = count_metrical_syllables(corpus)\n",
    "    \n",
    "    return metrics "
   ]
  },
  {
   "cell_type": "code",
   "execution_count": 41,
   "id": "8355724c",
   "metadata": {},
   "outputs": [
    {
     "data": {
      "text/plain": [
       "{'authors': 73,\n",
       " 'poems': 1003,\n",
       " 'stanzas': 5109,\n",
       " 'verses': 105236,\n",
       " 'words': 571355,\n",
       " 'grammatical_syllables': 1054869,\n",
       " 'metrical_syllables': 299990}"
      ]
     },
     "execution_count": 41,
     "metadata": {},
     "output_type": "execute_result"
    }
   ],
   "source": [
    "get_corpus_metrics()"
   ]
  },
  {
   "cell_type": "code",
   "execution_count": 42,
   "id": "5669bc0f",
   "metadata": {},
   "outputs": [],
   "source": [
    "# TODO: general function to entites of type in graph."
   ]
  },
  {
   "cell_type": "markdown",
   "id": "85a54062",
   "metadata": {},
   "source": [
    "#### Corpus info\n",
    "Because we don't really have metadata on the corpus, we fake this here for demonstrator purposes.\n",
    "\n",
    "DraCor example:\n",
    "```\n",
    "{\n",
    "    \"licence\": \"CC BY-NC 3.0\",\n",
    "    \"licenceUrl\": \"https://creativecommons.org/licenses/by-nc/3.0/deed.en_US\",\n",
    "    \"description\": \"Derived from the [Folger Shakespeare Library](https://shakespeare.folger.edu/). Enhancements documented in our [README at GitHub](https://github.com/dracor-org/shakedracor).\",\n",
    "    \"uri\": \"https://dracor.org/api/corpora/shake\",\n",
    "    \"title\": \"Shakespeare Drama Corpus\",\n",
    "    \"name\": \"shake\",\n",
    "    \"acronym\": \"ShakeDraCor\",\n",
    "    \"metrics\": {\n",
    "      \"plays\": 37,\n",
    "      \"characters\": 1433,\n",
    "      \"male\": 797,\n",
    "      \"female\": 116,\n",
    "      \"text\": 37,\n",
    "      \"sp\": 31066,\n",
    "      \"stage\": 10450,\n",
    "      \"wordcount\": {\n",
    "        \"text\": 908286,\n",
    "        \"sp\": 876744,\n",
    "        \"stage\": 41230\n",
    "      },\n",
    "      \"updated\": \"2022-07-02T23:36:24.109+02:00\"\n",
    "    },\n",
    "    \"repository\": \"https://github.com/dracor-org/shakedracor\"\n",
    "  }\n",
    "```"
   ]
  },
  {
   "cell_type": "code",
   "execution_count": 43,
   "id": "222c8f5c",
   "metadata": {},
   "outputs": [],
   "source": [
    "def get_corpus_info(corpus=None, metrics=False) -> dict:\n",
    "    \"\"\"Get information on a corpus\n",
    "    \n",
    "     Args:\n",
    "        corpus (optional): select a corpus (not implemented yet). defaults to None.\n",
    "        metrics (optional): include corpus metrics. defaults to False.    \n",
    "    Returns:\n",
    "        dict: information on the given corpus.\n",
    "    TODO: include more data (e.g. repository; see DraCor output)\n",
    "    \"\"\"\n",
    "    #we don't have a mechanism yet that allows for filtering of a corpus,\n",
    "    \n",
    "    \n",
    "    corpus_data = {}\n",
    "    \n",
    "    if corpus == None:\n",
    "        # corpus defaults to None --> get the default POSTDATA corpus\n",
    "        corpus_data[\"name\"] = \"postdata\"\n",
    "        corpus_data[\"title\"] = \"POSTDATA Corpus\"\n",
    "        corpus_data[\"description\"] = \"POSTDATA Knowledge Graph of Spanish Poetry. See https://postdata.linhd.uned.es\"\n",
    "    \n",
    "    if metrics == True:\n",
    "        corpus_data[\"metrics\"] = get_corpus_metrics(corpus)\n",
    "        \n",
    "    return corpus_data  "
   ]
  },
  {
   "cell_type": "code",
   "execution_count": 44,
   "id": "2aa49d32",
   "metadata": {},
   "outputs": [
    {
     "data": {
      "text/plain": [
       "{'name': 'postdata',\n",
       " 'title': 'POSTDATA Corpus',\n",
       " 'description': 'POSTDATA Knowledge Graph of Spanish Poetry. See https://postdata.linhd.uned.es',\n",
       " 'metrics': {'authors': 73,\n",
       "  'poems': 1003,\n",
       "  'stanzas': 5109,\n",
       "  'verses': 105236,\n",
       "  'words': 571355,\n",
       "  'grammatical_syllables': 1054869,\n",
       "  'metrical_syllables': 299990}}"
      ]
     },
     "execution_count": 44,
     "metadata": {},
     "output_type": "execute_result"
    }
   ],
   "source": [
    "get_corpus_info(metrics=True)"
   ]
  },
  {
   "cell_type": "markdown",
   "id": "7a00fddc",
   "metadata": {},
   "source": [
    "#### List of available corpora\n",
    "For the DraCor frontend (uses `/corpora` with param `include=metrics`) we need to have the on the corpora wrapped to an array even though we only have one corpus for the demonstrator."
   ]
  },
  {
   "cell_type": "code",
   "execution_count": 45,
   "id": "ff394a89",
   "metadata": {},
   "outputs": [],
   "source": [
    "def get_corpora(metrics=False) -> list:\n",
    "    \"\"\"Get a list of corpora\n",
    "    \n",
    "    Only one corpus is returned at the moment!\n",
    "    TODO: handle more corpora\n",
    "    \"\"\"\n",
    "    data = get_corpus_info(metrics=metrics)\n",
    "    \n",
    "    return [data]"
   ]
  },
  {
   "cell_type": "code",
   "execution_count": 46,
   "id": "74c19733",
   "metadata": {},
   "outputs": [
    {
     "data": {
      "text/plain": [
       "[{'name': 'postdata',\n",
       "  'title': 'POSTDATA Corpus',\n",
       "  'description': 'POSTDATA Knowledge Graph of Spanish Poetry. See https://postdata.linhd.uned.es',\n",
       "  'metrics': {'authors': 73,\n",
       "   'poems': 1003,\n",
       "   'stanzas': 5109,\n",
       "   'verses': 105236,\n",
       "   'words': 571355,\n",
       "   'grammatical_syllables': 1054869,\n",
       "   'metrical_syllables': 299990}}]"
      ]
     },
     "execution_count": 46,
     "metadata": {},
     "output_type": "execute_result"
    }
   ],
   "source": [
    "get_corpora(metrics=True)"
   ]
  },
  {
   "cell_type": "markdown",
   "id": "c6052891",
   "metadata": {},
   "source": [
    "### Data on a single Poem\n",
    "(as included in the list of poems returned by the DraCor `/corpora/{corpus}` endpoint)\n",
    "\n",
    "see DraCor example:\n",
    "```\n",
    "{\n",
    "      \"writtenYear\": \"1908\",\n",
    "      \"wikidataId\": \"Q25556355\",\n",
    "      \"source\": \"Татарская электронная библиотека\",\n",
    "      \"id\": \"tat000001\",\n",
    "      \"title\": \"Беренче театр\",\n",
    "      \"sourceUrl\": \"http://kitap.net.ru/galiaskar/2.php\",\n",
    "      \"networkSize\": \"7\",\n",
    "      \"name\": \"qamal-berenche-teatr\",\n",
    "      \"yearNormalized\": 1908,\n",
    "      \"printYear\": null,\n",
    "      \"subtitle\": \"Комедия 1 пәрдәдә\",\n",
    "      \"premiereYear\": null,\n",
    "      \"authors\": [\n",
    "        {\n",
    "          \"name\": \"Камал, Галиәсгар\",\n",
    "          \"fullname\": \"Галиәсгар Камал\",\n",
    "          \"shortname\": \"Камал\",\n",
    "          \"refs\": [\n",
    "            {\n",
    "              \"ref\": \"Q2497099\",\n",
    "              \"type\": \"wikidata\"\n",
    "            }\n",
    "          ],\n",
    "          \"fullnameEn\": \"Ğäliäsğar Kamal\",\n",
    "          \"nameEn\": \"Kamal, Ğäliäsğar\",\n",
    "          \"shortnameEn\": \"Kamal\",\n",
    "          \"alsoKnownAs\": [\n",
    "            \"Ğäliäsğar Kamal\"\n",
    "          ]\n",
    "        }\n",
    "      ],\n",
    "      \"networkdataCsvUrl\": \"https://dracor.org/api/corpora/tat/play/qamal-berenche-teatr/networkdata/csv\",\n",
    "      \"author\": {\n",
    "        \"name\": \"Камал, Галиәсгар\"\n",
    "      },\n",
    "      \"subtitleEn\": \"Comedy in 1 Act\",\n",
    "      \"titleEn\": \"First Theatre\"\n",
    "    }\n",
    "```"
   ]
  },
  {
   "cell_type": "code",
   "execution_count": 47,
   "id": "d1f59af4",
   "metadata": {},
   "outputs": [],
   "source": [
    "#we test with \n",
    "poem_uri = \"http://postdata.linhd.uned.es/resource/pw_juana-ines-de-la-cruz_sabras-querido-fabio\""
   ]
  },
  {
   "cell_type": "code",
   "execution_count": 48,
   "id": "2b446009",
   "metadata": {},
   "outputs": [],
   "source": [
    "#Function to get title of poem\n",
    "def get_poem_title(poem_uri:str) -> str:\n",
    "    \"\"\"Get the title of a poem\n",
    "    \n",
    "    Args:\n",
    "        poem_uri (str): URI of the poem\n",
    "    \n",
    "    Returns:\n",
    "        str: Title of the poem\n",
    "    \"\"\"\n",
    "    \n",
    "    query = \"\"\"\n",
    "    PREFIX pdc: <http://postdata.linhd.uned.es/ontology/postdata-core#>\n",
    "\n",
    "    SELECT ?title WHERE {\n",
    "        <$> a pdc:PoeticWork ;\n",
    "            pdc:title ?title.\n",
    "    }\n",
    "    \"\"\"\n",
    "    \n",
    "    sparql_results = sparql(replace_placeholder(query,poem_uri))\n",
    "    title = str(sparql_results[\"results\"][\"bindings\"][0][\"title\"][\"value\"])\n",
    "    return title"
   ]
  },
  {
   "cell_type": "code",
   "execution_count": 49,
   "id": "d9a12d75",
   "metadata": {},
   "outputs": [
    {
     "data": {
      "text/plain": [
       "'Sabrás, querido Fabio'"
      ]
     },
     "execution_count": 49,
     "metadata": {},
     "output_type": "execute_result"
    }
   ],
   "source": [
    "get_poem_title(poem_uri)"
   ]
  },
  {
   "cell_type": "code",
   "execution_count": 50,
   "id": "50057770",
   "metadata": {},
   "outputs": [],
   "source": [
    "#Function to convert poem uri to postdata poetry lab link\n",
    "# this will be used in \"sourceUrl\" (which is somewhat wrong, but will do because it links back to poetry lab)\n",
    "\n",
    "def work_uri_to_poetry_lab_url(poem_uri:str) -> str:\n",
    "    \"\"\"Convert the URI of a poem into a link to poetry lab platform\n",
    "    \"\"\"\n",
    "    poetry_lab_base_url = \"http://poetry.linhd.uned.es:3000\" + \"/en/\"\n",
    "    \n",
    "    #In the Graph: http://postdata.linhd.uned.es/resource/pw_juana-ines-de-la-cruz_sabras-querido-fabio\n",
    "    # On the platform: http://poetry.linhd.uned.es:3000/es/author/juana-ines-de-la-cruz/poetic-work/sabras-querido-fabio\n",
    "    #Split on \"_\"\n",
    "    \n",
    "    author_part = poem_uri.split(\"_\")[1]\n",
    "    title_part = poem_uri.split(\"_\")[2]\n",
    "    \n",
    "    poetry_lab_url = poetry_lab_base_url + \"author/\" + author_part + \"/poetic-work/\" + title_part\n",
    "    \n",
    "    return poetry_lab_url"
   ]
  },
  {
   "cell_type": "code",
   "execution_count": 51,
   "id": "977ff555",
   "metadata": {},
   "outputs": [
    {
     "data": {
      "text/plain": [
       "'http://poetry.linhd.uned.es:3000/en/author/juana-ines-de-la-cruz/poetic-work/sabras-querido-fabio'"
      ]
     },
     "execution_count": 51,
     "metadata": {},
     "output_type": "execute_result"
    }
   ],
   "source": [
    "work_uri_to_poetry_lab_url(poem_uri)"
   ]
  },
  {
   "cell_type": "code",
   "execution_count": 52,
   "id": "f53e76c5",
   "metadata": {},
   "outputs": [],
   "source": [
    "#in DraCor we have id/uri and a name. Don't know if this is feasible\n",
    "def work_uri_to_poem_name(poem_uri:str) -> str:\n",
    "    \"\"\"Convert the URI to a local name consisting of author + \"_\" + \"title\"\n",
    "    \"\"\"\n",
    "    author_part = poem_uri.split(\"_\")[1]\n",
    "    title_part = poem_uri.split(\"_\")[2]\n",
    "    \n",
    "    poem_name = author_part + \"_\" + title_part\n",
    "    \n",
    "    return poem_name"
   ]
  },
  {
   "cell_type": "code",
   "execution_count": 53,
   "id": "758195a1",
   "metadata": {},
   "outputs": [
    {
     "data": {
      "text/plain": [
       "'juana-ines-de-la-cruz_sabras-querido-fabio'"
      ]
     },
     "execution_count": 53,
     "metadata": {},
     "output_type": "execute_result"
    }
   ],
   "source": [
    "work_uri_to_poem_name(poem_uri)"
   ]
  },
  {
   "cell_type": "code",
   "execution_count": 54,
   "id": "ede41234",
   "metadata": {},
   "outputs": [],
   "source": [
    "def poem_name_to_work_uri(poem_name:str) -> str:\n",
    "    \"\"\"Convert poem_name back to URI\"\"\"\n",
    "    uri = \"http://postdata.linhd.uned.es/resource/\" + \"pw_\" + poem_name\n",
    "    return uri"
   ]
  },
  {
   "cell_type": "code",
   "execution_count": 55,
   "id": "2645b555",
   "metadata": {},
   "outputs": [
    {
     "data": {
      "text/plain": [
       "'http://postdata.linhd.uned.es/resource/pw_juana-ines-de-la-cruz_sabras-querido-fabio'"
      ]
     },
     "execution_count": 55,
     "metadata": {},
     "output_type": "execute_result"
    }
   ],
   "source": [
    "poem_name_to_work_uri(\"juana-ines-de-la-cruz_sabras-querido-fabio\")"
   ]
  },
  {
   "cell_type": "code",
   "execution_count": 56,
   "id": "2033b3f1",
   "metadata": {},
   "outputs": [],
   "source": [
    "#have not tested this!\n",
    "def author_title_parts_to_poem_uri(author_part:str,title_part:str) -> str:\n",
    "    \"\"\"Concat author part and title part to poem URI\"\"\"\n",
    "    uri = \"http://postdata.linhd.uned.es/resource/\" + \"pw_\" + author_part + \"_\" + title_part\n",
    "    return uri\n",
    "    "
   ]
  },
  {
   "cell_type": "code",
   "execution_count": 57,
   "id": "0d97272e",
   "metadata": {},
   "outputs": [
    {
     "data": {
      "text/plain": [
       "'http://postdata.linhd.uned.es/resource/pw_juana-ines-de-la-cruz_sabras-querido-fabio'"
      ]
     },
     "execution_count": 57,
     "metadata": {},
     "output_type": "execute_result"
    }
   ],
   "source": [
    "author_title_parts_to_poem_uri(\"juana-ines-de-la-cruz\", \"sabras-querido-fabio\")"
   ]
  },
  {
   "cell_type": "code",
   "execution_count": 58,
   "id": "427892e1",
   "metadata": {},
   "outputs": [],
   "source": [
    "import hashlib\n",
    "def shorthash(textstring:str, chars:int=8):\n",
    "    \"\"\"Create a trunctated md5 hash\"\"\"\n",
    "    #set the number of characters to trunctate\n",
    "    hash = hashlib.sha1(textstring.encode(\"UTF-8\")).hexdigest()\n",
    "    shorthash = hash[:chars]\n",
    "    return shorthash"
   ]
  },
  {
   "cell_type": "code",
   "execution_count": 59,
   "id": "2b080b56",
   "metadata": {},
   "outputs": [
    {
     "data": {
      "text/plain": [
       "'572fb37a'"
      ]
     },
     "execution_count": 59,
     "metadata": {},
     "output_type": "execute_result"
    }
   ],
   "source": [
    "shorthash(poem_uri)"
   ]
  },
  {
   "cell_type": "code",
   "execution_count": 60,
   "id": "bb6cd5cd",
   "metadata": {},
   "outputs": [],
   "source": [
    "def poem_uri_to_id(poem_uri:str,prefix:str=\"pd\") -> str:\n",
    "    \"\"\"Generate an ID by hashing the uri\"\"\"\n",
    "    \"\"\n",
    "    return prefix + \"_\" + shorthash(poem_uri)"
   ]
  },
  {
   "cell_type": "code",
   "execution_count": 61,
   "id": "021cb0df",
   "metadata": {},
   "outputs": [
    {
     "data": {
      "text/plain": [
       "'pd_572fb37a'"
      ]
     },
     "execution_count": 61,
     "metadata": {},
     "output_type": "execute_result"
    }
   ],
   "source": [
    "poem_uri_to_id(poem_uri)"
   ]
  },
  {
   "cell_type": "code",
   "execution_count": 62,
   "id": "55aea25a",
   "metadata": {},
   "outputs": [],
   "source": [
    "# do we have information on dates? \n",
    "# (need to sparql that in Stardog Studio first; probably look for all disitinct propertues in the work conception)"
   ]
  },
  {
   "cell_type": "code",
   "execution_count": 63,
   "id": "ef151986",
   "metadata": {},
   "outputs": [],
   "source": [
    "def get_poem_metadata(poem_uri:str) -> dict:\n",
    "    \"\"\"Get Metadata of a single poem.\n",
    "    \"\"\"\n",
    "    \n",
    "    poem_data = {}\n",
    "    #id is a trunctated md5 hash of the poem uri\n",
    "    poem_data[\"id\"] = poem_uri_to_id(poem_uri)\n",
    "    poem_data[\"uri\"] = poem_uri\n",
    "    \n",
    "    #don't know if this works; only for POSTDATA but assumes that the URIs are always structured the same way\n",
    "    poem_data[\"name\"] = work_uri_to_poem_name(poem_uri)\n",
    "    poem_data[\"title\"] = get_poem_title(poem_uri)\n",
    "    poem_data[\"authors\"] = get_authors_of_poem(poem_uri)\n",
    "    \n",
    "    # this only works for postdata\n",
    "    poem_data[\"source\"] = \"POSTDATA Poetry Lab\"\n",
    "    poem_data[\"sourceUrl\"] = work_uri_to_poetry_lab_url(poem_uri)\n",
    "    \n",
    "    return poem_data"
   ]
  },
  {
   "cell_type": "code",
   "execution_count": 64,
   "id": "ea9aa4c7",
   "metadata": {},
   "outputs": [
    {
     "data": {
      "text/plain": [
       "{'id': 'pd_572fb37a',\n",
       " 'uri': 'http://postdata.linhd.uned.es/resource/pw_juana-ines-de-la-cruz_sabras-querido-fabio',\n",
       " 'name': 'juana-ines-de-la-cruz_sabras-querido-fabio',\n",
       " 'title': 'Sabrás, querido Fabio',\n",
       " 'authors': [{'name': 'Juana Inés de la Cruz',\n",
       "   'uri': 'http://postdata.linhd.uned.es/resource/p_juana-ines-de-la-cruz'}],\n",
       " 'source': 'POSTDATA Poetry Lab',\n",
       " 'sourceUrl': 'http://poetry.linhd.uned.es:3000/en/author/juana-ines-de-la-cruz/poetic-work/sabras-querido-fabio'}"
      ]
     },
     "execution_count": 64,
     "metadata": {},
     "output_type": "execute_result"
    }
   ],
   "source": [
    "#test this\n",
    "get_poem_metadata(poem_uri)"
   ]
  },
  {
   "cell_type": "markdown",
   "id": "efcead52",
   "metadata": {},
   "source": [
    "### List of Works need by DraCor frontend\n",
    "\n",
    "To create a view like https://dracor.org/ger we need to create an response like the endpoint https://dracor.org/doc/api#/public/list-corpus-content\n",
    "\n",
    "```\n",
    "{\n",
    "  \"description\": \"Edited by Daniil Skorinkin and Frank Fischer. Features a handful of plays in Tatar language, provided through Tatar Electronic Library.\",\n",
    "  \"title\": \"Tatar Drama Corpus\",\n",
    "  \"repository\": \"https://github.com/dracor-org/tatdracor\",\n",
    "  \"name\": \"tat\",\n",
    "  \"dramas\": [\n",
    "    {\n",
    "      \"writtenYear\": \"1908\",\n",
    "      \"wikidataId\": \"Q25556355\",\n",
    "      \"source\": \"Татарская электронная библиотека\",\n",
    "      \"id\": \"tat000001\",\n",
    "      \"title\": \"Беренче театр\",\n",
    "      \"sourceUrl\": \"http://kitap.net.ru/galiaskar/2.php\",\n",
    "      \"networkSize\": \"7\",\n",
    "      \"name\": \"qamal-berenche-teatr\",\n",
    "      \"yearNormalized\": 1908,\n",
    "      \"printYear\": null,\n",
    "      \"subtitle\": \"Комедия 1 пәрдәдә\",\n",
    "      \"premiereYear\": null,\n",
    "      \"authors\": [\n",
    "        {\n",
    "          \"name\": \"Камал, Галиәсгар\",\n",
    "          \"fullname\": \"Галиәсгар Камал\",\n",
    "          \"shortname\": \"Камал\",\n",
    "          \"refs\": [\n",
    "            {\n",
    "              \"ref\": \"Q2497099\",\n",
    "              \"type\": \"wikidata\"\n",
    "            }\n",
    "          ],\n",
    "          \"fullnameEn\": \"Ğäliäsğar Kamal\",\n",
    "          \"nameEn\": \"Kamal, Ğäliäsğar\",\n",
    "          \"shortnameEn\": \"Kamal\",\n",
    "          \"alsoKnownAs\": [\n",
    "            \"Ğäliäsğar Kamal\"\n",
    "          ]\n",
    "        }\n",
    "      ],\n",
    "      \"networkdataCsvUrl\": \"https://dracor.org/api/corpora/tat/play/qamal-berenche-teatr/networkdata/csv\",\n",
    "      \"author\": {\n",
    "        \"name\": \"Камал, Галиәсгар\"\n",
    "      },\n",
    "      \"subtitleEn\": \"Comedy in 1 Act\",\n",
    "      \"titleEn\": \"First Theatre\"\n",
    "    }\n",
    "  ],\n",
    "  \"acronym\": \"TatDraCor\"\n",
    "}\n",
    "```"
   ]
  },
  {
   "cell_type": "code",
   "execution_count": 65,
   "id": "558c63c8",
   "metadata": {},
   "outputs": [],
   "source": [
    "def get_poem_uris(corpus=None) -> list:\n",
    "    \"\"\"Helper function to get a list of URIs of PoeticWorks\n",
    "    \"\"\"\n",
    "    query = \"\"\"\n",
    "    PREFIX pdc: <http://postdata.linhd.uned.es/ontology/postdata-core#>\n",
    "\n",
    "    SELECT ?work WHERE {\n",
    "        ?work a pdc:PoeticWork .\n",
    "    }\n",
    "    LIMIT 1000000\n",
    "    \"\"\"\n",
    "    \n",
    "    sparql_results = sparql(query)\n",
    "    bindings = sparql_results[\"results\"][\"bindings\"]\n",
    "    \n",
    "    poem_uris = []\n",
    "    \n",
    "    for binding in bindings:\n",
    "        poem_uris.append(binding[\"work\"][\"value\"])\n",
    "    \n",
    "    return poem_uris"
   ]
  },
  {
   "cell_type": "code",
   "execution_count": 66,
   "id": "558b7cc9",
   "metadata": {},
   "outputs": [
    {
     "data": {
      "text/plain": [
       "1003"
      ]
     },
     "execution_count": 66,
     "metadata": {},
     "output_type": "execute_result"
    }
   ],
   "source": [
    "#get_poem_uris() returns a very long list\n",
    "len(get_poem_uris())"
   ]
  },
  {
   "cell_type": "code",
   "execution_count": 67,
   "id": "d5cf7b73",
   "metadata": {},
   "outputs": [],
   "source": [
    "def get_corpus_content(corpus=None) -> dict:\n",
    "    \"\"\"Returns metadata on the corpus.\n",
    "        \n",
    "        Similar to DraCor's https://dracor.org/doc/api#/public/list-corpus-content\n",
    "        \n",
    "        Returns:\n",
    "            dict: data on the corpus listing all the poems\n",
    "    \"\"\"\n",
    "    \n",
    "    corpus_data = get_corpus_info(metrics=False)\n",
    "    \n",
    "    corpus_data[\"poems\"] = []\n",
    "    \n",
    "    poem_uris = get_poem_uris()\n",
    "    \n",
    "    for poem_uri in poem_uris:\n",
    "        poem_data = get_poem_metadata(poem_uri)\n",
    "        corpus_data[\"poems\"].append(poem_data)\n",
    "    \n",
    "    return corpus_data"
   ]
  },
  {
   "cell_type": "code",
   "execution_count": 68,
   "id": "4805e291",
   "metadata": {},
   "outputs": [],
   "source": [
    "#%%time\n",
    "#this is a little bit slow, hmpf\n",
    "#uncomment to show\n",
    "#get_corpus_content()"
   ]
  },
  {
   "cell_type": "code",
   "execution_count": 69,
   "id": "31744b07",
   "metadata": {},
   "outputs": [],
   "source": [
    "import json"
   ]
  },
  {
   "cell_type": "code",
   "execution_count": 70,
   "id": "8684884e",
   "metadata": {},
   "outputs": [],
   "source": [
    "#create example data for postman mock server\n",
    "example_data = get_corpus_content()\n",
    "with open(\"corpus_content_example.json\", \"w\", encoding='utf-8') as outfile:\n",
    "    json.dump(example_data, outfile, ensure_ascii=False)"
   ]
  },
  {
   "cell_type": "code",
   "execution_count": 71,
   "id": "b64ca00d",
   "metadata": {},
   "outputs": [
    {
     "data": {
      "text/plain": [
       "'http://postdata.linhd.uned.es/resource/pw_juana-ines-de-la-cruz_sabras-querido-fabio'"
      ]
     },
     "execution_count": 71,
     "metadata": {},
     "output_type": "execute_result"
    }
   ],
   "source": [
    "#example poem uri\n",
    "poem_uri"
   ]
  },
  {
   "cell_type": "markdown",
   "id": "e702aabc",
   "metadata": {},
   "source": [
    "### Text of a single poem\n",
    "The text can be retrieved by looking at the Redaction, which has a propery `pdc:text`. There are newlines `\\n`. Later maybe use the `Accept` header `text/plain` returning plaintext with `\\n`; no stanzas; but also a version, that would display the poem according to the postdata json, stanzas as lists e.g.\n",
    "\n",
    "```\n",
    "{\n",
    "        \"author\": \"Abschatz, Hans A\\u00dfmann von\",\n",
    "        \"authorRef\": \"pnd:118500279\",\n",
    "        \"publicationDate\": \"1970\",\n",
    "        \"title\": \"Die fremde Regung\",\n",
    "        \"text\": [\n",
    "            [\n",
    "                \"Im Mittel aller Lust/ die Gl\\u00fcck und Zeit mir geben/\",\n",
    "                \"Kan ich ohn Silvien nicht fr\\u00f6lich leben;\",\n",
    "                \"Und wenn ich bey ihr bin/ so spielet um mein Hertz\",\n",
    "                \"Ein angenehmer Schmertz.\"\n",
    "            ],\n",
    "            [\n",
    "                \"Mein Sinn f\\u00fchlt sich gereizt von unbekandtem Triebe/\",\n",
    "                \"Ich such/ und treffe sie doch ohne Furcht nicht an.\",\n",
    "                \"Wofern ein Mensch iemahls unwissend lieben kan/\",\n",
    "                \"So glaub ich/ da\\u00df ich liebe.\"\n",
    "            ]\n",
    "        ]\n",
    "    }\n",
    "```"
   ]
  },
  {
   "cell_type": "code",
   "execution_count": 72,
   "id": "c11abdf0",
   "metadata": {},
   "outputs": [],
   "source": [
    "#use poem with stanzas as example \n",
    "poem_uri = \"http://postdata.linhd.uned.es/resource/pw_carlos-mendoza_noviembre\""
   ]
  },
  {
   "cell_type": "code",
   "execution_count": 73,
   "id": "87f45c78",
   "metadata": {},
   "outputs": [],
   "source": [
    "def get_poem_plaintext(poem_uri:str) -> str:\n",
    "    \"\"\"Returns the text of a poem\"\"\"\n",
    "    \n",
    "    query = \"\"\"\n",
    "    PREFIX pdc: <http://postdata.linhd.uned.es/ontology/postdata-core#>\n",
    "    \n",
    "    SELECT ?Text WHERE {\n",
    "        <$> pdc:isRealisedThrough ?Redaction .\n",
    "        ?Redaction pdc:text ?Text .\n",
    "    }\n",
    "    \"\"\"\n",
    "    \n",
    "    sparql_results = sparql(replace_placeholder(query,poem_uri))\n",
    "    text = sparql_results[\"results\"][\"bindings\"][0][\"Text\"][\"value\"]\n",
    "    return text"
   ]
  },
  {
   "cell_type": "code",
   "execution_count": 74,
   "id": "28ff3bd7",
   "metadata": {},
   "outputs": [
    {
     "data": {
      "text/plain": [
       "'Conmemórase ahora los difuntos,\\nva la gente en tropel al Campo santo,\\ny oye luego el Tenorio con encanto,\\nteatro y devoción andando juntos.\\n\\nSon la ropa y la lumbre los asuntos\\nque ocasionan el mayor quebranto,\\nteniéndose los pobres, con espanto,\\nsin fuego, por cadáveres presuntos.\\n\\nS abren de los ricos los salones,\\nse cierran como pueden los desvanes,\\ngoza, el que tiene, caras diversiones;\\n\\npadece, el que no tiene, mil afanes;\\ny si hay quien se duerme entre edredones\\nmuchos más se adormitan como Adanes.'"
      ]
     },
     "execution_count": 74,
     "metadata": {},
     "output_type": "execute_result"
    }
   ],
   "source": [
    "get_poem_plaintext(poem_uri)"
   ]
  },
  {
   "cell_type": "code",
   "execution_count": 75,
   "id": "ab953761",
   "metadata": {},
   "outputs": [
    {
     "name": "stdout",
     "output_type": "stream",
     "text": [
      "Conmemórase ahora los difuntos,\n",
      "va la gente en tropel al Campo santo,\n",
      "y oye luego el Tenorio con encanto,\n",
      "teatro y devoción andando juntos.\n",
      "\n",
      "Son la ropa y la lumbre los asuntos\n",
      "que ocasionan el mayor quebranto,\n",
      "teniéndose los pobres, con espanto,\n",
      "sin fuego, por cadáveres presuntos.\n",
      "\n",
      "S abren de los ricos los salones,\n",
      "se cierran como pueden los desvanes,\n",
      "goza, el que tiene, caras diversiones;\n",
      "\n",
      "padece, el que no tiene, mil afanes;\n",
      "y si hay quien se duerme entre edredones\n",
      "muchos más se adormitan como Adanes.\n"
     ]
    }
   ],
   "source": [
    "print(get_poem_plaintext(poem_uri))"
   ]
  },
  {
   "cell_type": "markdown",
   "id": "608295b4",
   "metadata": {},
   "source": [
    "#### text as json\n",
    "\n",
    "List in List\n",
    "\n",
    "```\n",
    "[\n",
    "    [\n",
    "    \"Im Mittel aller Lust/ die Gl\\u00fcck und Zeit mir geben/\",\n",
    "    \"Kan ich ohn Silvien nicht fr\\u00f6lich leben;\",\n",
    "    \"Und wenn ich bey ihr bin/ so spielet um mein Hertz\",\n",
    "    \"Ein angenehmer Schmertz.\"\n",
    "    ],\n",
    "    [\n",
    "    \"Mein Sinn f\\u00fchlt sich gereizt von unbekandtem Triebe/\",\n",
    "    \"Ich such/ und treffe sie doch ohne Furcht nicht an.\",\n",
    "    \"Wofern ein Mensch iemahls unwissend lieben kan/\",\n",
    "    \"So glaub ich/ da\\u00df ich liebe.\"\n",
    "    ]\n",
    "]\n",
    "```\n",
    "Probably, such a structure could be created with SPARQL CONSTRUCT but don't know, how to exactly do that.\n",
    "Meanwhile, I created a query that would use `pdp:stanzaNumber` and `pdp:relativeLineNumber` . We then have to create the structure in Python."
   ]
  },
  {
   "cell_type": "code",
   "execution_count": 76,
   "id": "f733a44d",
   "metadata": {},
   "outputs": [],
   "source": [
    "def get_poem_text_json(poem_uri:str) -> list:\n",
    "    \"\"\"Returns the text of a poem as list\n",
    "        \n",
    "        stanzas are lists themselves.\n",
    "    \"\"\"\n",
    "    \n",
    "    query = \"\"\"\n",
    "    PREFIX pdc: <http://postdata.linhd.uned.es/ontology/postdata-core#>\n",
    "    PREFIX pdp: <http://postdata.linhd.uned.es/ontology/postdata-poeticAnalysis#>\n",
    "\n",
    "    SELECT ?StanzaNo ?LineNo ?LineContent {\n",
    "        <$> pdc:isRealisedThrough ?Redaction .\n",
    "    \n",
    "        ?Redaction pdp:wasInputFor ?ScansionProcess .\n",
    "    \n",
    "        ?ScansionProcess pdp:generated ?Scansion .\n",
    "    \n",
    "        ?Scansion pdp:typeOfScansion <http://postdata.linhd.uned.es/kos/automaticscansion>. #only automatic\n",
    "        ?Scansion pdp:hasStanza ?Stanza .\n",
    "    \n",
    "        ?Stanza pdp:stanzaNumber ?StanzaNo ;\n",
    "            pdp:hasLine ?Line .\n",
    "\n",
    "        ?Line pdp:content ?LineContent ;\n",
    "          pdp:relativeLineNumber ?LineNo .\n",
    "                            \n",
    "    }\n",
    "    ORDER BY ?StanzaNo ?LineNo\n",
    "    \"\"\"\n",
    "    \n",
    "    sparql_results = sparql(replace_placeholder(query,poem_uri))\n",
    "    \n",
    "    #very spaghetti: i need something to put the stanzas together\n",
    "    stanzas = {}\n",
    "    \n",
    "    for binding in sparql_results[\"results\"][\"bindings\"]:\n",
    "        stanza_no = binding[\"StanzaNo\"][\"value\"]\n",
    "        line_no = binding[\"LineNo\"][\"value\"]\n",
    "        line_content = binding[\"LineContent\"][\"value\"]\n",
    "        \n",
    "        if stanza_no not in stanzas:\n",
    "            stanzas[stanza_no] = {}\n",
    "            stanzas[stanza_no][\"lines\"] = []\n",
    "        #hopefully the sorting in the query works, otherwhise I have to sort here as well\n",
    "        stanzas[stanza_no][\"lines\"].append(line_content)\n",
    "    \n",
    "    text = []\n",
    "    \n",
    "    keys = list(stanzas.keys())\n",
    "    keys.sort()\n",
    "    for key in keys:\n",
    "        text.append(stanzas[key][\"lines\"])\n",
    "    \n",
    "    return text"
   ]
  },
  {
   "cell_type": "code",
   "execution_count": 77,
   "id": "3ef3c031",
   "metadata": {},
   "outputs": [
    {
     "data": {
      "text/plain": [
       "[['Conmemórase ahora los difuntos ,',\n",
       "  'va la gente en tropel al Campo santo ,',\n",
       "  'y oye luego el Tenorio con encanto ,',\n",
       "  'teatro y devoción andando juntos .'],\n",
       " ['Son la ropa y la lumbre los asuntos',\n",
       "  'que ocasionan el mayor quebranto ,',\n",
       "  'teniéndose los pobres , con espanto ,',\n",
       "  'sin fuego , por cadáveres presuntos .'],\n",
       " ['S abren de los ricos los salones ,',\n",
       "  'se cierran como pueden los desvanes ,',\n",
       "  'goza , el que tiene , caras diversiones ;'],\n",
       " ['padece , el que no tiene , mil afanes ;',\n",
       "  'y si hay quien se duerme entre edredones',\n",
       "  'muchos más se adormitan como Adanes .']]"
      ]
     },
     "execution_count": 77,
     "metadata": {},
     "output_type": "execute_result"
    }
   ],
   "source": [
    "get_poem_text_json(poem_uri)\n",
    "#I don't know why we have the strange whitespace handling here; this is what comes from pdp:content from Line"
   ]
  },
  {
   "cell_type": "code",
   "execution_count": 78,
   "id": "94bdc1e7",
   "metadata": {},
   "outputs": [
    {
     "data": {
      "text/plain": [
       "[['De pura honestidad templo sagrado ,',\n",
       "  'cuyo bello cimiento y gentil muro ,',\n",
       "  'de blanco nácar y alabastro duro',\n",
       "  'fue por divina mano fabricado ;'],\n",
       " ['pequeña puerta de coral preciado ,',\n",
       "  'claras lumbreras de mirar seguro ,',\n",
       "  'que a la esmeralda fina el verde puro',\n",
       "  'habéis para viriles usurpado ;'],\n",
       " ['soberbio techo , cuyas cimbrias de oro',\n",
       "  'al claro sol , en cuanto en torno gira ,',\n",
       "  'ornan de luz , coronan de belleza ;'],\n",
       " ['ídolo bello , a quien humilde adoro ,',\n",
       "  'oye piadoso al que por ti suspira ,',\n",
       "  'tus himnos canta , y tus virtudes reza .']]"
      ]
     },
     "execution_count": 78,
     "metadata": {},
     "output_type": "execute_result"
    }
   ],
   "source": [
    "get_poem_text_json(\"http://postdata.linhd.uned.es/resource/pw_gongora-luis-de_de-pura-honestidad-templo-sagrado\")"
   ]
  },
  {
   "cell_type": "code",
   "execution_count": 79,
   "id": "7e0a071b",
   "metadata": {},
   "outputs": [],
   "source": [
    "#need a function to clean remove the whitespace problems."
   ]
  },
  {
   "cell_type": "markdown",
   "id": "3ee75282",
   "metadata": {},
   "source": [
    "### Single Poem View\n",
    "Would be some kind of equivalent to `https://dracor.org/api/corpora/ger/play/lessing-emilia-galotti` --> `/corpora/{corpus}/poems/{poem-name}` but also depends on the metadata of a single poem:"
   ]
  },
  {
   "cell_type": "code",
   "execution_count": 80,
   "id": "4212876f",
   "metadata": {},
   "outputs": [
    {
     "data": {
      "text/plain": [
       "{'id': 'pd_c64285d2',\n",
       " 'uri': 'http://postdata.linhd.uned.es/resource/pw_carlos-mendoza_noviembre',\n",
       " 'name': 'carlos-mendoza_noviembre',\n",
       " 'title': 'Noviembre',\n",
       " 'authors': [{'name': 'Carlos Mendoza',\n",
       "   'uri': 'http://postdata.linhd.uned.es/resource/p_carlos-mendoza'}],\n",
       " 'source': 'POSTDATA Poetry Lab',\n",
       " 'sourceUrl': 'http://poetry.linhd.uned.es:3000/en/author/carlos-mendoza/poetic-work/noviembre'}"
      ]
     },
     "execution_count": 80,
     "metadata": {},
     "output_type": "execute_result"
    }
   ],
   "source": [
    "get_poem_metadata(poem_uri)"
   ]
  },
  {
   "cell_type": "markdown",
   "id": "7a3bc111",
   "metadata": {},
   "source": [
    "The authoritative source of an analysis of a poem would be the scansion. POSTDATA implemented a query that returns all information on the scansion. There is no need to replicate that; we would rather add some aggregated information, like number of stanzas and lines in stanzas.\n",
    "\n",
    "The automatic scansion can be viewed in the poem-viewer: http://poetry.linhd.uned.es:3000/en/poem-viewer/A_carlos-mendoza_noviembre_1645475669320137"
   ]
  },
  {
   "cell_type": "markdown",
   "id": "57001696",
   "metadata": {},
   "source": [
    "Could add a link to the scansions: `/corpora/{corpus}/poems/{poem}/scansions`\n",
    "```\n",
    "{\n",
    "\"scansions\" : [\n",
    "    {\n",
    "    \"id\" : \"{URI}\" , \n",
    "    \"type\" : \"automatic\",\n",
    "    \"viewerUrl\" : \"http://poetry.linhd.uned.es:3000/en/poem-viewer/A_carlos-mendoza_noviembre_1645475669320137\"\n",
    "    }\n",
    "]\n",
    "}\n",
    "```"
   ]
  },
  {
   "cell_type": "code",
   "execution_count": 81,
   "id": "0650e65e",
   "metadata": {},
   "outputs": [],
   "source": [
    "def get_scansions_metadata(poem_uri:str) -> dict:\n",
    "    \"\"\"Returns basic metadata about the Scansions for a given poem identified by URI\n",
    "    \"\"\"\n",
    "    \n",
    "    query= \"\"\"\n",
    "    PREFIX pdc: <http://postdata.linhd.uned.es/ontology/postdata-core#>\n",
    "    PREFIX pdp: <http://postdata.linhd.uned.es/ontology/postdata-poeticAnalysis#>\n",
    "\n",
    "    SELECT ?Scansion ?ScansionType  WHERE {\n",
    "        <$> pdc:isRealisedThrough ?Redaction .\n",
    "    \n",
    "        ?Redaction pdp:wasInputFor ?ScansionProcess .\n",
    "    \n",
    "        ?ScansionProcess pdp:generated ?Scansion .\n",
    "    \n",
    "        ?Scansion pdp:typeOfScansion ?ScansionType.\n",
    "    }\n",
    "    \"\"\"\n",
    "    \n",
    "    sparql_results = sparql(replace_placeholder(query,poem_uri))\n",
    "    \n",
    "    scansions = []\n",
    "    \n",
    "    for binding in sparql_results[\"results\"][\"bindings\"]:\n",
    "        scansion = {}\n",
    "        scansion[\"uri\"] = binding[\"Scansion\"][\"value\"]\n",
    "        \n",
    "        #this returns the KOS entry, maybe, because we are simplifying anyways, we can translate it to a more readable form\n",
    "        if binding[\"ScansionType\"][\"value\"] == \"http://postdata.linhd.uned.es/kos/automaticscansion\":\n",
    "            scansion[\"type\"] = \"automatic\"\n",
    "        elif binding[\"ScansionType\"][\"value\"] == \"http://postdata.linhd.uned.es/kos/ManualAnnotation\":\n",
    "            scansion[\"type\"] = \"manual\"\n",
    "        else:\n",
    "            #fallback\n",
    "            scansion[\"type\"] = binding[\"ScansionType\"][\"value\"]\n",
    "        \n",
    "        #it is not possible to generate the viewer URL, unfortunately..\n",
    "        \n",
    "        \n",
    "        scansions.append(scansion)\n",
    "    \n",
    "    return scansions"
   ]
  },
  {
   "cell_type": "code",
   "execution_count": 82,
   "id": "40b63dfb",
   "metadata": {},
   "outputs": [
    {
     "data": {
      "text/plain": [
       "[{'uri': 'http://postdata.linhd.uned.es/resource/sc_carlos-mendoza_noviembre_disco2-1_16385254777095923',\n",
       "  'type': 'automatic'},\n",
       " {'uri': 'http://postdata.linhd.uned.es/resource/sc_carlos-mendoza_noviembre_disco2-1_16385254774844754',\n",
       "  'type': 'manual'}]"
      ]
     },
     "execution_count": 82,
     "metadata": {},
     "output_type": "execute_result"
    }
   ],
   "source": [
    "get_scansions_metadata(poem_uri)"
   ]
  },
  {
   "cell_type": "markdown",
   "id": "dd5f2100",
   "metadata": {},
   "source": [
    "The URIs that are in the Knowledge Graph are only partly usable with the current version of the data in poetry lab. I tested this: http://poetry.linhd.uned.es:3000/es/poem-viewer/A_carlos-mendoza_noviembre_1645475669320137. This URI can't be retrieved from the Graph. Therefore, it is not possible to generate the viewer URL, unfortunately.. Ask POSTDATA people about this! The ID could come from the Scansion Process. "
   ]
  },
  {
   "cell_type": "markdown",
   "id": "a4887c18",
   "metadata": {},
   "source": [
    "#### Metrics on a poem\n",
    "An endpoint, that would return some kind of \"metrics\": `/corpora/{corpus}/poems/{poem}/analysis` or include this in the basic metadata?"
   ]
  },
  {
   "cell_type": "markdown",
   "id": "51caca83",
   "metadata": {},
   "source": [
    "```\n",
    "{\n",
    "    \"\"\n",
    "    \"numOfStanzas\" : 4 ,\n",
    "    \"numOfLines\" : 14 ,\n",
    "    \"numOfLinesInStanzas\" : [4,4,3,3] ,\n",
    "    \"StanzaRhymeSchema\" : [\"abba\", \"abba\", \"cdc\", \"cdc\"]\n",
    "    ...\n",
    "}\n",
    "```"
   ]
  },
  {
   "cell_type": "code",
   "execution_count": 83,
   "id": "0b8a7850",
   "metadata": {},
   "outputs": [],
   "source": [
    "def get_numOfStanzas(poem_uri:str, scansion:str=\"auto\") -> int:\n",
    "    \"\"\"Returns the number of stanzas\n",
    "    \n",
    "    Args:\n",
    "        scansion (str, optional): Return data based on automatic or manual (\"manual\") scansion. Defaults to \"auto\" (automatic).\n",
    "    \n",
    "    TODO: implement retrieving data based on \"manual\".\n",
    "    \"\"\"\n",
    "    \n",
    "    query = \"\"\"\n",
    "    PREFIX pdc: <http://postdata.linhd.uned.es/ontology/postdata-core#>\n",
    "    PREFIX pdp: <http://postdata.linhd.uned.es/ontology/postdata-poeticAnalysis#>\n",
    "\n",
    "    SELECT (COUNT(?Stanza) as ?count)  WHERE {\n",
    "        <$> pdc:isRealisedThrough ?Redaction .\n",
    "    \n",
    "        ?Redaction pdp:wasInputFor ?ScansionProcess .\n",
    "    \n",
    "        ?ScansionProcess pdp:generated ?Scansion .\n",
    "    \n",
    "        ?Scansion pdp:typeOfScansion <http://postdata.linhd.uned.es/kos/automaticscansion> ;\n",
    "              pdp:hasStanza ?Stanza .\n",
    "}\n",
    "    \"\"\"\n",
    "    \n",
    "    sparql_results = sparql(replace_placeholder(query,poem_uri))\n",
    "    return int(sparql_results[\"results\"][\"bindings\"][0][\"count\"][\"value\"])\n",
    "    "
   ]
  },
  {
   "cell_type": "code",
   "execution_count": 84,
   "id": "51e9186a",
   "metadata": {},
   "outputs": [
    {
     "data": {
      "text/plain": [
       "4"
      ]
     },
     "execution_count": 84,
     "metadata": {},
     "output_type": "execute_result"
    }
   ],
   "source": [
    "get_numOfStanzas(poem_uri)"
   ]
  },
  {
   "cell_type": "code",
   "execution_count": 85,
   "id": "e93d70a4",
   "metadata": {},
   "outputs": [],
   "source": [
    "def get_numOfLines(poem_uri:str, scansion:str=\"auto\") -> int:\n",
    "    \"\"\"Returns the number of lines/verses\n",
    "    \n",
    "    Args:\n",
    "        scansion (str, optional): Return data based on automatic or manual (\"manual\") scansion. Defaults to \"auto\" (automatic).\n",
    "    \n",
    "    TODO: implement retrieving data based on \"manual\".\n",
    "    \"\"\"\n",
    "    \n",
    "    query = \"\"\"\n",
    "    PREFIX pdc: <http://postdata.linhd.uned.es/ontology/postdata-core#>\n",
    "    PREFIX pdp: <http://postdata.linhd.uned.es/ontology/postdata-poeticAnalysis#>\n",
    "\n",
    "    SELECT (COUNT(?Line) AS ?count)  WHERE {\n",
    "        <$> pdc:isRealisedThrough ?Redaction .\n",
    "    \n",
    "        ?Redaction pdp:wasInputFor ?ScansionProcess .\n",
    "    \n",
    "        ?ScansionProcess pdp:generated ?Scansion .\n",
    "    \n",
    "        ?Scansion pdp:typeOfScansion <http://postdata.linhd.uned.es/kos/automaticscansion> ;\n",
    "              pdp:hasStanza ?Stanza .\n",
    "    \n",
    "        ?Stanza pdp:hasLine ?Line .\n",
    "    }\n",
    "    \"\"\"\n",
    "    \n",
    "    sparql_results = sparql(replace_placeholder(query,poem_uri))\n",
    "    return int(sparql_results[\"results\"][\"bindings\"][0][\"count\"][\"value\"])"
   ]
  },
  {
   "cell_type": "code",
   "execution_count": 86,
   "id": "b4870494",
   "metadata": {},
   "outputs": [
    {
     "data": {
      "text/plain": [
       "14"
      ]
     },
     "execution_count": 86,
     "metadata": {},
     "output_type": "execute_result"
    }
   ],
   "source": [
    "get_numOfLines(poem_uri)"
   ]
  },
  {
   "cell_type": "code",
   "execution_count": 87,
   "id": "6593bae2",
   "metadata": {},
   "outputs": [],
   "source": [
    "def get_rhymeSchemes(poem_uri:str, scansion:str=\"auto\") -> list:\n",
    "    \"\"\"Returns the rhyme schemes of the stanzas of a poem\n",
    "    \"\"\"\n",
    "    \n",
    "    query = \"\"\"\n",
    "    PREFIX pdc: <http://postdata.linhd.uned.es/ontology/postdata-core#>\n",
    "    PREFIX pdp: <http://postdata.linhd.uned.es/ontology/postdata-poeticAnalysis#>\n",
    "\n",
    "    SELECT ?StanzaNumber ?rhymeScheme WHERE {\n",
    "        <$> pdc:isRealisedThrough ?Redaction .\n",
    "    \n",
    "        ?Redaction pdp:wasInputFor ?ScansionProcess .\n",
    "    \n",
    "        ?ScansionProcess pdp:generated ?Scansion .\n",
    "    \n",
    "        ?Scansion pdp:typeOfScansion <http://postdata.linhd.uned.es/kos/automaticscansion> ;\n",
    "              pdp:hasStanza ?Stanza .\n",
    "    \n",
    "        ?Stanza pdp:hasStanzaPattern ?StanzaPattern ;\n",
    "            pdp:stanzaNumber ?StanzaNumber .\n",
    "\n",
    "        OPTIONAL {\n",
    "            ?StanzaPattern pdp:rhymeScheme ?rhymeScheme .\n",
    "        }\n",
    "    }\n",
    "    ORDER BY ?StanzaNumber\n",
    "    \"\"\"\n",
    "    \n",
    "    sparql_results = sparql(replace_placeholder(query,poem_uri))\n",
    "    \n",
    "    #hope, that ordering works for 1, 11 ...\n",
    "    rhyme_schemes = []\n",
    "    for binding in sparql_results[\"results\"][\"bindings\"]:\n",
    "        rhyme_schemes.append(binding[\"rhymeScheme\"][\"value\"])\n",
    "    \n",
    "    return rhyme_schemes\n",
    "    "
   ]
  },
  {
   "cell_type": "code",
   "execution_count": 88,
   "id": "b98cde45",
   "metadata": {},
   "outputs": [
    {
     "data": {
      "text/plain": [
       "['abba', 'abba', 'a-a', 'a-a']"
      ]
     },
     "execution_count": 88,
     "metadata": {},
     "output_type": "execute_result"
    }
   ],
   "source": [
    "get_rhymeSchemes(poem_uri)"
   ]
  },
  {
   "cell_type": "code",
   "execution_count": 89,
   "id": "7e080358",
   "metadata": {},
   "outputs": [],
   "source": [
    "#\"numOfLinesInStanzas\" : [4,4,3,3] ,\n",
    "def get_numOfLines_in_stanzas(poem_uri:str, scansion:str=\"auto\") -> list:\n",
    "    \"\"\"Returns the number of lines of all stanzas\"\"\"\n",
    "    \n",
    "    query = \"\"\"\n",
    "    PREFIX pdc: <http://postdata.linhd.uned.es/ontology/postdata-core#>\n",
    "    PREFIX pdp: <http://postdata.linhd.uned.es/ontology/postdata-poeticAnalysis#>\n",
    "\n",
    "    SELECT ?StanzaNumber (COUNT(?Line) AS ?count) WHERE {\n",
    "        <$> pdc:isRealisedThrough ?Redaction .\n",
    "    \n",
    "    ?Redaction pdp:wasInputFor ?ScansionProcess .\n",
    "    \n",
    "    ?ScansionProcess pdp:generated ?Scansion .\n",
    "    \n",
    "    ?Scansion pdp:typeOfScansion <http://postdata.linhd.uned.es/kos/automaticscansion> ;\n",
    "              pdp:hasStanza ?Stanza .\n",
    "    \n",
    "    ?Stanza pdp:stanzaNumber ?StanzaNumber ;\n",
    "            pdp:hasLine ?Line .\n",
    "\n",
    "    \n",
    "    }\n",
    "    GROUP BY ?StanzaNumber\n",
    "    ORDER BY ?StanzaNumber\n",
    "    \"\"\"\n",
    "    \n",
    "    sparql_results = sparql(replace_placeholder(query,poem_uri))\n",
    "    \n",
    "    line_counts = []\n",
    "    for binding in sparql_results[\"results\"][\"bindings\"]:\n",
    "        line_counts.append(int(binding[\"count\"][\"value\"]))\n",
    "    \n",
    "    return line_counts\n",
    "    "
   ]
  },
  {
   "cell_type": "code",
   "execution_count": 90,
   "id": "989255e8",
   "metadata": {},
   "outputs": [
    {
     "data": {
      "text/plain": [
       "[4, 4, 3, 3]"
      ]
     },
     "execution_count": 90,
     "metadata": {},
     "output_type": "execute_result"
    }
   ],
   "source": [
    "get_numOfLines_in_stanzas(poem_uri)"
   ]
  },
  {
   "cell_type": "code",
   "execution_count": 91,
   "id": "51364a87",
   "metadata": {},
   "outputs": [],
   "source": [
    "def get_numOfWords(poem_uri:str, scansion:str=\"auto\") -> int:\n",
    "    \"\"\"Returns the number of words in a poem\"\"\"\n",
    "    \n",
    "    query = \"\"\"\n",
    "    PREFIX pdc: <http://postdata.linhd.uned.es/ontology/postdata-core#>\n",
    "    PREFIX pdp: <http://postdata.linhd.uned.es/ontology/postdata-poeticAnalysis#>\n",
    "\n",
    "    SELECT (COUNT(?Word) AS ?count) WHERE {\n",
    "        <$> pdc:isRealisedThrough ?Redaction .\n",
    "    \n",
    "    ?Redaction pdp:wasInputFor ?ScansionProcess .\n",
    "    \n",
    "    ?ScansionProcess pdp:generated ?Scansion .\n",
    "    \n",
    "    ?Scansion pdp:typeOfScansion <http://postdata.linhd.uned.es/kos/automaticscansion> ;\n",
    "              pdp:hasStanza ?Stanza .\n",
    "    \n",
    "    ?Stanza pdp:hasLine ?Line .\n",
    "    \n",
    "    ?Line pdp:hasWord ?Word .\n",
    "    }\n",
    "    \"\"\"\n",
    "    \n",
    "    sparql_results = sparql(replace_placeholder(query,poem_uri))\n",
    "    \n",
    "    return int(sparql_results[\"results\"][\"bindings\"][0][\"count\"][\"value\"])\n",
    "    \n",
    "    \n",
    "    "
   ]
  },
  {
   "cell_type": "code",
   "execution_count": 92,
   "id": "ad2f8c39",
   "metadata": {},
   "outputs": [
    {
     "data": {
      "text/plain": [
       "87"
      ]
     },
     "execution_count": 92,
     "metadata": {},
     "output_type": "execute_result"
    }
   ],
   "source": [
    "get_numOfWords(poem_uri)"
   ]
  },
  {
   "cell_type": "code",
   "execution_count": 93,
   "id": "a05274f2",
   "metadata": {},
   "outputs": [],
   "source": [
    "def get_numOfWords_in_stanzas(poem_uri:str, scansion:str=\"auto\") -> int:\n",
    "    \"\"\"Returns the words per line groupt into stanzas\n",
    "    \"\"\"\n",
    "    \n",
    "    query = \"\"\"\n",
    "    PREFIX pdc: <http://postdata.linhd.uned.es/ontology/postdata-core#>\n",
    "    PREFIX pdp: <http://postdata.linhd.uned.es/ontology/postdata-poeticAnalysis#>\n",
    "\n",
    "    SELECT (SAMPLE(?StanzaNumber) AS ?StanzaNo) (SAMPLE(?relativeLineNumber) AS ?LineNo) ?absoluteLineNumber (COUNT(?Word) AS ?count) WHERE {\n",
    "        <$> pdc:isRealisedThrough ?Redaction .\n",
    "    \n",
    "        ?Redaction pdp:wasInputFor ?ScansionProcess .\n",
    "    \n",
    "        ?ScansionProcess pdp:generated ?Scansion .\n",
    "    \n",
    "        ?Scansion pdp:typeOfScansion <http://postdata.linhd.uned.es/kos/automaticscansion> ;\n",
    "              pdp:hasStanza ?Stanza .\n",
    "    \n",
    "        ?Stanza pdp:stanzaNumber ?StanzaNumber ;\n",
    "            pdp:hasLine ?Line .\n",
    "    \n",
    "        ?Line pdp:relativeLineNumber ?relativeLineNumber ;\n",
    "          pdp:absoluteLineNumber ?absoluteLineNumber ;\n",
    "          pdp:hasWord ?Word .\n",
    "    }\n",
    "    GROUP BY ?absoluteLineNumber\n",
    "    ORDER BY ?absoluteLineNumber\n",
    "    \"\"\"\n",
    "    \n",
    "    \n",
    "    #replace the uri of the poem\n",
    "    query = replace_placeholder(query,poem_uri)\n",
    "    sparql_results = sparql(query)\n",
    "    \n",
    "    words = []\n",
    "    stanza = []\n",
    "    current_stanza = 0\n",
    "    for binding in sparql_results[\"results\"][\"bindings\"]:\n",
    "        stanza_no = int(binding[\"StanzaNo\"][\"value\"])\n",
    "        #print(\"this:\" + str(stanza_no))\n",
    "        #print(\"current:\" + str(current_stanza))\n",
    "        \n",
    "        if current_stanza == stanza_no:\n",
    "            stanza.append(int(binding[\"count\"][\"value\"]))\n",
    "        else:\n",
    "            #next stanza\n",
    "            #print(\"next\")\n",
    "            words.append(stanza)\n",
    "            #set this as current stanza\n",
    "            current_stanza = stanza_no\n",
    "            #reset the stanza\n",
    "            stanza = []\n",
    "            stanza.append(int(binding[\"count\"][\"value\"]))\n",
    "        \n",
    "    #append the last stanza\n",
    "    words.append(stanza)\n",
    "         \n",
    "    return words\n",
    "    \n",
    "    "
   ]
  },
  {
   "cell_type": "code",
   "execution_count": 94,
   "id": "d9550526",
   "metadata": {},
   "outputs": [
    {
     "data": {
      "text/plain": [
       "[[4, 8, 7, 5], [8, 5, 5, 5], [7, 6, 6], [7, 8, 6]]"
      ]
     },
     "execution_count": 94,
     "metadata": {},
     "output_type": "execute_result"
    }
   ],
   "source": [
    "get_numOfWords_in_stanzas(poem_uri)"
   ]
  },
  {
   "cell_type": "code",
   "execution_count": 95,
   "id": "1231983c",
   "metadata": {},
   "outputs": [],
   "source": [
    "#overall count of syllables in poem\n",
    "def get_numOfSyllables(poem_uri:str, syllable_type:str=\"metrical\", scansion:str=\"auto\") -> int:\n",
    "    \"\"\"Returns the overall number of syllables in the poem\n",
    "    \n",
    "    Args:\n",
    "        syllable_type (str, optional): Type of Syllable to count (grammatical or metrical). Defaults to \"metrical\".\n",
    "    \"\"\"\n",
    "    \n",
    "    query = \"\"\"\n",
    "    PREFIX pdc: <http://postdata.linhd.uned.es/ontology/postdata-core#>\n",
    "    PREFIX pdp: <http://postdata.linhd.uned.es/ontology/postdata-poeticAnalysis#>\n",
    "\n",
    "    SELECT (COUNT(?Syllable) AS ?count)  WHERE {\n",
    "        <$> pdc:isRealisedThrough ?Redaction .\n",
    "    \n",
    "        ?Redaction pdp:wasInputFor ?ScansionProcess .\n",
    "    \n",
    "        ?ScansionProcess pdp:generated ?Scansion .\n",
    "    \n",
    "        ?Scansion pdp:typeOfScansion <http://postdata.linhd.uned.es/kos/automaticscansion> ;\n",
    "              pdp:hasStanza ?Stanza .\n",
    "    \n",
    "        ?Stanza pdp:stanzaNumber ?StanzaNumber ;\n",
    "            pdp:hasLine ?Line .\n",
    "    \n",
    "        \n",
    "    #could be: pdp:hasGrammaticalSyllable or pdp:hasMetricalSyllable\n",
    "    ?Line pdp:§ ?Syllable .\n",
    "    }\n",
    "    \"\"\"\n",
    "    \n",
    "    #need to replace the work-uri and a property \"§\"\n",
    "    \n",
    "    query = replace_placeholder(query,poem_uri)\n",
    "    \n",
    "    #have to set the type of syllable by replacing \"§\" in the query as well\n",
    "    # can be \"hasGrammaticalSyllable\"  or \"hasMetricalSyllable\"\n",
    "    if syllable_type == \"metrical\":\n",
    "        query = query.replace(\"§\", \"hasMetricalSyllable\")\n",
    "    elif syllable_type == \"grammatical\":\n",
    "        query = query.replace(\"§\", \"hasGrammaticalSyllable\")\n",
    "    else:\n",
    "        raise Exception(\"Syllable Type is not valid.\")\n",
    "    \n",
    "    sparql_results = sparql(query)\n",
    "    \n",
    "    return int(sparql_results[\"results\"][\"bindings\"][0][\"count\"][\"value\"])\n",
    "    "
   ]
  },
  {
   "cell_type": "code",
   "execution_count": 96,
   "id": "02aed757",
   "metadata": {},
   "outputs": [
    {
     "data": {
      "text/plain": [
       "154"
      ]
     },
     "execution_count": 96,
     "metadata": {},
     "output_type": "execute_result"
    }
   ],
   "source": [
    "#default metrical\n",
    "#get_numOfSyllables(poem_uri)\n",
    "get_numOfSyllables(poem_uri, syllable_type=\"metrical\")"
   ]
  },
  {
   "cell_type": "code",
   "execution_count": 97,
   "id": "b9d8e7f7",
   "metadata": {},
   "outputs": [
    {
     "data": {
      "text/plain": [
       "166"
      ]
     },
     "execution_count": 97,
     "metadata": {},
     "output_type": "execute_result"
    }
   ],
   "source": [
    "#grammatical syllables\n",
    "get_numOfSyllables(poem_uri, syllable_type=\"grammatical\")"
   ]
  },
  {
   "cell_type": "markdown",
   "id": "faeccca1",
   "metadata": {},
   "source": [
    "Syllables\n",
    "```\n",
    "[\n",
    "[10,10,10,10] ,\n",
    "[...]\n",
    "]\n",
    "```"
   ]
  },
  {
   "cell_type": "code",
   "execution_count": 98,
   "id": "2987cf42",
   "metadata": {},
   "outputs": [],
   "source": [
    "def get_numOfSyllables_in_stanzas(poem_uri:str, syllable_type:str=\"metrical\", scansion:str=\"auto\") -> list:\n",
    "    \"\"\"Returns the number of syllables per line grouped by stanzas\n",
    "    \n",
    "    Args:\n",
    "        syllable_type (str, optional): Type of Syllable to count (grammatical or metrical). Defaults to \"metrical\".\n",
    "    \"\"\"\n",
    "    \n",
    "    query = \"\"\"\n",
    "    PREFIX pdc: <http://postdata.linhd.uned.es/ontology/postdata-core#>\n",
    "    PREFIX pdp: <http://postdata.linhd.uned.es/ontology/postdata-poeticAnalysis#>\n",
    "\n",
    "    SELECT (SAMPLE(?StanzaNumber) AS ?StanzaNo) (SAMPLE(?relativeLineNumber) AS ?relativeLineNo) ?absoluteLineNumber (COUNT(?Syllable) AS ?count)  WHERE {\n",
    "        <$> pdc:isRealisedThrough ?Redaction .\n",
    "    \n",
    "        ?Redaction pdp:wasInputFor ?ScansionProcess .\n",
    "    \n",
    "        ?ScansionProcess pdp:generated ?Scansion .\n",
    "    \n",
    "        ?Scansion pdp:typeOfScansion <http://postdata.linhd.uned.es/kos/automaticscansion> ;\n",
    "              pdp:hasStanza ?Stanza .\n",
    "    \n",
    "        ?Stanza pdp:stanzaNumber ?StanzaNumber ;\n",
    "            pdp:hasLine ?Line .\n",
    "    \n",
    "    \n",
    "        ?Line pdp:relativeLineNumber ?relativeLineNumber ;\n",
    "          pdp:absoluteLineNumber ?absoluteLineNumber ;\n",
    "          pdp:§ ?Syllable .\n",
    "    }\n",
    "    GROUP BY ?absoluteLineNumber\n",
    "    ORDER BY ?absoluteLineNumber\n",
    "    \"\"\"\n",
    "    \n",
    "    #replace the uri of the poem\n",
    "    query = replace_placeholder(query,poem_uri)\n",
    "    \n",
    "    #have to set the type of syllable by replacing \"§\" in the query as well\n",
    "    # can be \"hasGrammaticalSyllable\"  or \"hasMetricalSyllable\"\n",
    "    if syllable_type == \"metrical\":\n",
    "        query = query.replace(\"§\", \"hasMetricalSyllable\")\n",
    "    elif syllable_type == \"grammatical\":\n",
    "        query = query.replace(\"§\", \"hasGrammaticalSyllable\")\n",
    "    else:\n",
    "        raise Exception(\"Syllable Type is not valid.\")\n",
    "    \n",
    "    sparql_results = sparql(query)\n",
    "    \n",
    "    syllables = []\n",
    "    stanza = []\n",
    "    current_stanza = 0\n",
    "    for binding in sparql_results[\"results\"][\"bindings\"]:\n",
    "        stanza_no = int(binding[\"StanzaNo\"][\"value\"])\n",
    "        #print(\"this:\" + str(stanza_no))\n",
    "        #print(\"current:\" + str(current_stanza))\n",
    "        \n",
    "        if current_stanza == stanza_no:\n",
    "            stanza.append(int(binding[\"count\"][\"value\"]))\n",
    "        else:\n",
    "            #next stanza\n",
    "            #print(\"next\")\n",
    "            syllables.append(stanza)\n",
    "            #set this as current stanza\n",
    "            current_stanza = stanza_no\n",
    "            #reset the stanza\n",
    "            stanza = []\n",
    "            stanza.append(int(binding[\"count\"][\"value\"]))\n",
    "        \n",
    "    #append the last stanza\n",
    "    syllables.append(stanza)\n",
    "         \n",
    "    return syllables"
   ]
  },
  {
   "cell_type": "code",
   "execution_count": 99,
   "id": "619c6865",
   "metadata": {},
   "outputs": [
    {
     "data": {
      "text/plain": [
       "[[11, 11, 11, 11], [11, 11, 11, 11], [11, 11, 11], [11, 11, 11]]"
      ]
     },
     "execution_count": 99,
     "metadata": {},
     "output_type": "execute_result"
    }
   ],
   "source": [
    "#use default metrical syllables\n",
    "get_numOfSyllables_in_stanzas(poem_uri)"
   ]
  },
  {
   "cell_type": "code",
   "execution_count": 100,
   "id": "a53c28a6",
   "metadata": {},
   "outputs": [
    {
     "data": {
      "text/plain": [
       "[[12, 12, 13, 12], [12, 11, 11, 11], [11, 11, 12], [12, 13, 13]]"
      ]
     },
     "execution_count": 100,
     "metadata": {},
     "output_type": "execute_result"
    }
   ],
   "source": [
    "#get the counts for grammatical syllables\n",
    "get_numOfSyllables_in_stanzas(poem_uri, syllable_type=\"grammatical\")"
   ]
  },
  {
   "cell_type": "code",
   "execution_count": 101,
   "id": "7d0ab0d3",
   "metadata": {},
   "outputs": [],
   "source": [
    "#grammatical stress\n",
    "def get_grammaticalStressPatterns_in_stanza(poem_uri:str,scansion:str=\"auto\") -> list:\n",
    "    \"\"\"Get grammatical stress patterns of lines grouped into stanzas\"\"\"\n",
    "    query = \"\"\"\n",
    "    PREFIX pdc: <http://postdata.linhd.uned.es/ontology/postdata-core#>\n",
    "    PREFIX pdp: <http://postdata.linhd.uned.es/ontology/postdata-poeticAnalysis#>\n",
    "\n",
    "    SELECT ?StanzaNumber ?absoluteLineNumber ?grammaticalStressPattern  WHERE {\n",
    "        <$> pdc:isRealisedThrough ?Redaction .\n",
    "    \n",
    "    ?Redaction pdp:wasInputFor ?ScansionProcess .\n",
    "    \n",
    "    ?ScansionProcess pdp:generated ?Scansion .\n",
    "    \n",
    "    ?Scansion pdp:typeOfScansion <http://postdata.linhd.uned.es/kos/automaticscansion> ;\n",
    "              pdp:hasStanza ?Stanza .\n",
    "    \n",
    "    ?Stanza pdp:stanzaNumber ?StanzaNumber ;\n",
    "            pdp:hasLine ?Line .\n",
    "    \n",
    "    ?Line pdp:hasLinePattern ?LinePattern;\n",
    "          pdp:absoluteLineNumber ?absoluteLineNumber .\n",
    "          \n",
    "    \n",
    "    ?LinePattern pdp:grammaticalStressPattern ?grammaticalStressPattern.  \n",
    "    }\n",
    "    ORDER BY ?absoluteLineNumber\n",
    "    \"\"\"\n",
    "    \n",
    "    query = replace_placeholder(query,poem_uri)\n",
    "    sparql_results = sparql(query)\n",
    "    \n",
    "    stress_patterns = []\n",
    "    stanza = []\n",
    "    current_stanza = 0\n",
    "    for binding in sparql_results[\"results\"][\"bindings\"]:\n",
    "        stanza_no = int(binding[\"StanzaNumber\"][\"value\"])\n",
    "        #print(\"this:\" + str(stanza_no))\n",
    "        #print(\"current:\" + str(current_stanza))\n",
    "        \n",
    "        if current_stanza == stanza_no:\n",
    "            stanza.append(binding[\"grammaticalStressPattern\"][\"value\"])\n",
    "        else:\n",
    "            #next stanza\n",
    "            #print(\"next\")\n",
    "            stress_patterns.append(stanza)\n",
    "            #set this as current stanza\n",
    "            current_stanza = stanza_no\n",
    "            #reset the stanza\n",
    "            stanza = []\n",
    "            stanza.append(binding[\"grammaticalStressPattern\"][\"value\"])\n",
    "        \n",
    "    #append the last stanza\n",
    "    stress_patterns.append(stanza)\n",
    "         \n",
    "    return stress_patterns\n",
    "    \n",
    "    "
   ]
  },
  {
   "cell_type": "code",
   "execution_count": 102,
   "id": "1b092d39",
   "metadata": {},
   "outputs": [
    {
     "data": {
      "text/plain": [
       "[['--+---+---+-', '+-+---+-+-+-', '-+-+---+---+-', '-+----+-+-+-'],\n",
       " ['+-+---+---+-', '---+---+-+-', '-+---+---+-', '-+---+---+-'],\n",
       " ['++---+---+-', '-+---+---+-', '+---+-+---+-'],\n",
       " ['-+---++-+-+-', '--+--+-----+-', '+-+---+----+-']]"
      ]
     },
     "execution_count": 102,
     "metadata": {},
     "output_type": "execute_result"
    }
   ],
   "source": [
    "get_grammaticalStressPatterns_in_stanza(poem_uri)"
   ]
  },
  {
   "cell_type": "code",
   "execution_count": 103,
   "id": "7ffd77ed",
   "metadata": {},
   "outputs": [],
   "source": [
    "#meter\n",
    "#grammatical stress\n",
    "def get_metricalPatterns_in_stanza(poem_uri:str,scansion:str=\"auto\") -> list:\n",
    "    \"\"\"Get metrical patterns of lines grouped into stanzas\"\"\"\n",
    "    query = \"\"\"\n",
    "    PREFIX pdc: <http://postdata.linhd.uned.es/ontology/postdata-core#>\n",
    "    PREFIX pdp: <http://postdata.linhd.uned.es/ontology/postdata-poeticAnalysis#>\n",
    "\n",
    "    SELECT ?StanzaNumber ?absoluteLineNumber ?metricalPattern  WHERE {\n",
    "        <$> pdc:isRealisedThrough ?Redaction .\n",
    "    \n",
    "        ?Redaction pdp:wasInputFor ?ScansionProcess .\n",
    "    \n",
    "        ?ScansionProcess pdp:generated ?Scansion .\n",
    "    \n",
    "        ?Scansion pdp:typeOfScansion <http://postdata.linhd.uned.es/kos/automaticscansion> ;\n",
    "              pdp:hasStanza ?Stanza .\n",
    "    \n",
    "        ?Stanza pdp:stanzaNumber ?StanzaNumber ;\n",
    "            pdp:hasLine ?Line .\n",
    "    \n",
    "        ?Line pdp:hasLinePattern ?LinePattern;\n",
    "          pdp:absoluteLineNumber ?absoluteLineNumber .\n",
    "    \n",
    "        ?LinePattern pdp:patterningMetricalScheme ?metricalPattern.  \n",
    "    }\n",
    "    ORDER BY ?absoluteLineNumber\n",
    "    \"\"\"\n",
    "    \n",
    "    query = replace_placeholder(query,poem_uri)\n",
    "    sparql_results = sparql(query)\n",
    "    \n",
    "    metrical_patterns = []\n",
    "    stanza = []\n",
    "    current_stanza = 0\n",
    "    for binding in sparql_results[\"results\"][\"bindings\"]:\n",
    "        stanza_no = int(binding[\"StanzaNumber\"][\"value\"])\n",
    "        #print(\"this:\" + str(stanza_no))\n",
    "        #print(\"current:\" + str(current_stanza))\n",
    "        \n",
    "        if current_stanza == stanza_no:\n",
    "            stanza.append(binding[\"metricalPattern\"][\"value\"])\n",
    "        else:\n",
    "            #next stanza\n",
    "            #print(\"next\")\n",
    "            metrical_patterns.append(stanza)\n",
    "            #set this as current stanza\n",
    "            current_stanza = stanza_no\n",
    "            #reset the stanza\n",
    "            stanza = []\n",
    "            stanza.append(binding[\"metricalPattern\"][\"value\"])\n",
    "        \n",
    "    #append the last stanza\n",
    "    metrical_patterns.append(stanza)\n",
    "         \n",
    "    return metrical_patterns"
   ]
  },
  {
   "cell_type": "code",
   "execution_count": 104,
   "id": "18779274",
   "metadata": {},
   "outputs": [
    {
     "data": {
      "text/plain": [
       "[['--+--+---+-', '+-+--+-+-+-', '+-+--+---+-', '-+---+-+-+-'],\n",
       " ['+-+--+---+-', '---+---+-+-', '-+---+---+-', '-+---+---+-'],\n",
       " ['++---+---+-', '-+---+---+-', '+--+-+---+-'],\n",
       " ['-+--++-+-+-', '--+--+---+-', '+-+--+---+-']]"
      ]
     },
     "execution_count": 104,
     "metadata": {},
     "output_type": "execute_result"
    }
   ],
   "source": [
    "get_metricalPatterns_in_stanza(poem_uri)"
   ]
  },
  {
   "cell_type": "code",
   "execution_count": 105,
   "id": "c7b4b189",
   "metadata": {},
   "outputs": [],
   "source": [
    "def get_poem_analysis(poem_uri:str, scansion:str=\"auto\") -> dict:\n",
    "    \"\"\"Returns metrics/analysis of a poem based on a scansion\"\"\"\n",
    "    \n",
    "    analysis = {}\n",
    "    \n",
    "    #based on? should somehow relate to the scansion\n",
    "    \n",
    "    #Number of Stanzas\n",
    "    analysis[\"numOfStanzas\"] = get_numOfStanzas(poem_uri)\n",
    "    \n",
    "    #Overall number of Lines\n",
    "    analysis[\"numOfLines\"] = get_numOfLines(poem_uri)\n",
    "    \n",
    "    #Overall count of words\n",
    "    analysis[\"numOfWords\"] = get_numOfWords(poem_uri)\n",
    "    \n",
    "    # Number of Lines in Stanzas\n",
    "    analysis[\"numOfLinesInStanzas\"] = get_numOfLines_in_stanzas(poem_uri)\n",
    "    \n",
    "    #rhyme scheme\n",
    "    analysis[\"rhymeSchemesOfStanzas\"] = get_rhymeSchemes(poem_uri)\n",
    "    \n",
    "    #overall count of metrical syllables\n",
    "    analysis[\"numOfMetricalSyllables\"] = get_numOfSyllables(poem_uri, syllable_type=\"metrical\")\n",
    "    \n",
    "    #overall count of grammatical syllables\n",
    "    analysis[\"numOfGrammaticalSyllables\"] = get_numOfSyllables(poem_uri, syllable_type=\"grammatical\")\n",
    "    \n",
    "    #metrical syllables\n",
    "    analysis[\"numOfMetricalSyllablesInStanzas\"] = get_numOfSyllables_in_stanzas(poem_uri, syllable_type=\"metrical\")\n",
    "    \n",
    "    #grammatical syllables in lines of stanzas\n",
    "    analysis[\"numOfGrammaticalSyllablesInStanzas\"] = get_numOfSyllables_in_stanzas(poem_uri, syllable_type=\"grammatical\")\n",
    "    \n",
    "    #or maybe put them together into one dictionary:\n",
    "    # \"numOfSyllablesInStanzas\" : {\"metricalSyllables\" : [[],[]] , \"grammaticalSyllables\" : \"[[],[]]\"  }\n",
    "    \n",
    "    #Words in stanzas\n",
    "    analysis[\"numOfWordsInStanzas\"] = get_numOfWords_in_stanzas(poem_uri)\n",
    "    \n",
    "    #grammatical stress\n",
    "    analysis[\"grammaticalStressPatternsInStanzas\"] = get_grammaticalStressPatterns_in_stanza(poem_uri)\n",
    "    \n",
    "    #meter\n",
    "    analysis[\"metricalPatternsInStanzas\"] = get_metricalPatterns_in_stanza(poem_uri)\n",
    "    \n",
    "    \n",
    "    return analysis"
   ]
  },
  {
   "cell_type": "code",
   "execution_count": 106,
   "id": "051ed926",
   "metadata": {
    "scrolled": true
   },
   "outputs": [
    {
     "name": "stdout",
     "output_type": "stream",
     "text": [
      "CPU times: user 21.3 ms, sys: 3.48 ms, total: 24.8 ms\n",
      "Wall time: 131 ms\n"
     ]
    },
    {
     "data": {
      "text/plain": [
       "{'numOfStanzas': 4,\n",
       " 'numOfLines': 14,\n",
       " 'numOfWords': 87,\n",
       " 'numOfLinesInStanzas': [4, 4, 3, 3],\n",
       " 'rhymeSchemesOfStanzas': ['abba', 'abba', 'a-a', 'a-a'],\n",
       " 'numOfMetricalSyllables': 154,\n",
       " 'numOfGrammaticalSyllables': 166,\n",
       " 'numOfMetricalSyllablesInStanzas': [[11, 11, 11, 11],\n",
       "  [11, 11, 11, 11],\n",
       "  [11, 11, 11],\n",
       "  [11, 11, 11]],\n",
       " 'numOfGrammaticalSyllablesInStanzas': [[12, 12, 13, 12],\n",
       "  [12, 11, 11, 11],\n",
       "  [11, 11, 12],\n",
       "  [12, 13, 13]],\n",
       " 'numOfWordsInStanzas': [[4, 8, 7, 5], [8, 5, 5, 5], [7, 6, 6], [7, 8, 6]],\n",
       " 'grammaticalStressPatternsInStanzas': [['--+---+---+-',\n",
       "   '+-+---+-+-+-',\n",
       "   '-+-+---+---+-',\n",
       "   '-+----+-+-+-'],\n",
       "  ['+-+---+---+-', '---+---+-+-', '-+---+---+-', '-+---+---+-'],\n",
       "  ['++---+---+-', '-+---+---+-', '+---+-+---+-'],\n",
       "  ['-+---++-+-+-', '--+--+-----+-', '+-+---+----+-']],\n",
       " 'metricalPatternsInStanzas': [['--+--+---+-',\n",
       "   '+-+--+-+-+-',\n",
       "   '+-+--+---+-',\n",
       "   '-+---+-+-+-'],\n",
       "  ['+-+--+---+-', '---+---+-+-', '-+---+---+-', '-+---+---+-'],\n",
       "  ['++---+---+-', '-+---+---+-', '+--+-+---+-'],\n",
       "  ['-+--++-+-+-', '--+--+---+-', '+-+--+---+-']]}"
      ]
     },
     "execution_count": 106,
     "metadata": {},
     "output_type": "execute_result"
    }
   ],
   "source": [
    "%%time\n",
    "get_poem_analysis(poem_uri)"
   ]
  },
  {
   "cell_type": "markdown",
   "id": "8b222161",
   "metadata": {},
   "source": [
    "### Sample Data to test with GraphQL"
   ]
  },
  {
   "cell_type": "code",
   "execution_count": 107,
   "id": "8b7ee9b6",
   "metadata": {},
   "outputs": [],
   "source": [
    "def get_poem_with_analysis(poem_uri:str) -> dict:\n",
    "    \"\"\"Returns data on poem with analysis included\n",
    "    \"\"\"\n",
    "    poem_data = get_poem_metadata(poem_uri)\n",
    "    poem_data[\"analysis\"] = get_poem_analysis(poem_uri)\n",
    "    return poem_data"
   ]
  },
  {
   "cell_type": "code",
   "execution_count": 108,
   "id": "72a88ece",
   "metadata": {},
   "outputs": [
    {
     "data": {
      "text/plain": [
       "{'id': 'pd_c64285d2',\n",
       " 'uri': 'http://postdata.linhd.uned.es/resource/pw_carlos-mendoza_noviembre',\n",
       " 'name': 'carlos-mendoza_noviembre',\n",
       " 'title': 'Noviembre',\n",
       " 'authors': [{'name': 'Carlos Mendoza',\n",
       "   'uri': 'http://postdata.linhd.uned.es/resource/p_carlos-mendoza'}],\n",
       " 'source': 'POSTDATA Poetry Lab',\n",
       " 'sourceUrl': 'http://poetry.linhd.uned.es:3000/en/author/carlos-mendoza/poetic-work/noviembre',\n",
       " 'analysis': {'numOfStanzas': 4,\n",
       "  'numOfLines': 14,\n",
       "  'numOfWords': 87,\n",
       "  'numOfLinesInStanzas': [4, 4, 3, 3],\n",
       "  'rhymeSchemesOfStanzas': ['abba', 'abba', 'a-a', 'a-a'],\n",
       "  'numOfMetricalSyllables': 154,\n",
       "  'numOfGrammaticalSyllables': 166,\n",
       "  'numOfMetricalSyllablesInStanzas': [[11, 11, 11, 11],\n",
       "   [11, 11, 11, 11],\n",
       "   [11, 11, 11],\n",
       "   [11, 11, 11]],\n",
       "  'numOfGrammaticalSyllablesInStanzas': [[12, 12, 13, 12],\n",
       "   [12, 11, 11, 11],\n",
       "   [11, 11, 12],\n",
       "   [12, 13, 13]],\n",
       "  'numOfWordsInStanzas': [[4, 8, 7, 5], [8, 5, 5, 5], [7, 6, 6], [7, 8, 6]],\n",
       "  'grammaticalStressPatternsInStanzas': [['--+---+---+-',\n",
       "    '+-+---+-+-+-',\n",
       "    '-+-+---+---+-',\n",
       "    '-+----+-+-+-'],\n",
       "   ['+-+---+---+-', '---+---+-+-', '-+---+---+-', '-+---+---+-'],\n",
       "   ['++---+---+-', '-+---+---+-', '+---+-+---+-'],\n",
       "   ['-+---++-+-+-', '--+--+-----+-', '+-+---+----+-']],\n",
       "  'metricalPatternsInStanzas': [['--+--+---+-',\n",
       "    '+-+--+-+-+-',\n",
       "    '+-+--+---+-',\n",
       "    '-+---+-+-+-'],\n",
       "   ['+-+--+---+-', '---+---+-+-', '-+---+---+-', '-+---+---+-'],\n",
       "   ['++---+---+-', '-+---+---+-', '+--+-+---+-'],\n",
       "   ['-+--++-+-+-', '--+--+---+-', '+-+--+---+-']]}}"
      ]
     },
     "execution_count": 108,
     "metadata": {},
     "output_type": "execute_result"
    }
   ],
   "source": [
    "get_poem_with_analysis(poem_uri)"
   ]
  },
  {
   "cell_type": "code",
   "execution_count": 109,
   "id": "edfe250e",
   "metadata": {},
   "outputs": [
    {
     "name": "stdout",
     "output_type": "stream",
     "text": [
      "CPU times: user 3.88 ms, sys: 1.45 ms, total: 5.33 ms\n",
      "Wall time: 13.5 ms\n"
     ]
    }
   ],
   "source": [
    "%%time\n",
    "poem_ids = get_poem_uris()"
   ]
  },
  {
   "cell_type": "code",
   "execution_count": 110,
   "id": "53375efc",
   "metadata": {},
   "outputs": [
    {
     "name": "stdout",
     "output_type": "stream",
     "text": [
      "CPU times: user 22 s, sys: 2.38 s, total: 24.4 s\n",
      "Wall time: 2min 10s\n"
     ]
    }
   ],
   "source": [
    "%%time\n",
    "errors = []\n",
    "poems_with_analysis = []\n",
    "for poem_uri in poem_ids:\n",
    "    try:\n",
    "        poem_data = get_poem_with_analysis(poem_uri)\n",
    "        poems_with_analysis.append(poem_data)\n",
    "    except:\n",
    "        errors.append(poem_uri)"
   ]
  },
  {
   "cell_type": "code",
   "execution_count": 111,
   "id": "06fe9ae8",
   "metadata": {},
   "outputs": [],
   "source": [
    "with open(\"poems_analysis_example.json\", \"w\", encoding='utf-8') as outfile:\n",
    "    json.dump(poems_with_analysis, outfile, ensure_ascii=False)"
   ]
  },
  {
   "cell_type": "code",
   "execution_count": 112,
   "id": "b7d2b90f",
   "metadata": {},
   "outputs": [
    {
     "data": {
      "text/plain": [
       "79"
      ]
     },
     "execution_count": 112,
     "metadata": {},
     "output_type": "execute_result"
    }
   ],
   "source": [
    "len(errors)"
   ]
  },
  {
   "cell_type": "markdown",
   "id": "98fca053",
   "metadata": {},
   "source": [
    "#### Testing to filter these data"
   ]
  },
  {
   "cell_type": "code",
   "execution_count": 113,
   "id": "ddbc6b7a",
   "metadata": {},
   "outputs": [
    {
     "name": "stdout",
     "output_type": "stream",
     "text": [
      "CPU times: user 537 µs, sys: 46 µs, total: 583 µs\n",
      "Wall time: 1.64 ms\n"
     ]
    }
   ],
   "source": [
    "%%time\n",
    "#filter for poems with 4 Stanzas\n",
    "filtered = list(filter(lambda item: item[\"analysis\"][\"numOfStanzas\"] == 4 , poems_with_analysis))"
   ]
  },
  {
   "cell_type": "code",
   "execution_count": 114,
   "id": "e05a29d4",
   "metadata": {},
   "outputs": [
    {
     "data": {
      "text/plain": [
       "297"
      ]
     },
     "execution_count": 114,
     "metadata": {},
     "output_type": "execute_result"
    }
   ],
   "source": [
    "len(filtered)"
   ]
  },
  {
   "cell_type": "code",
   "execution_count": 115,
   "id": "88b08ad2",
   "metadata": {},
   "outputs": [
    {
     "data": {
      "text/plain": [
       "{'id': 'pd_d21ee0d4',\n",
       " 'uri': 'http://postdata.linhd.uned.es/resource/pw_pedro-fernandez-maranon_al-marques-de-priego',\n",
       " 'name': 'pedro-fernandez-maranon_al-marques-de-priego',\n",
       " 'title': 'Al Marqués de Priego',\n",
       " 'authors': [{'name': 'Pedro Fernández Marañón',\n",
       "   'uri': 'http://postdata.linhd.uned.es/resource/p_pedro-fernandez-maranon'}],\n",
       " 'source': 'POSTDATA Poetry Lab',\n",
       " 'sourceUrl': 'http://poetry.linhd.uned.es:3000/en/author/pedro-fernandez-maranon/poetic-work/al-marques-de-priego',\n",
       " 'analysis': {'numOfStanzas': 4,\n",
       "  'numOfLines': 14,\n",
       "  'numOfWords': 90,\n",
       "  'numOfLinesInStanzas': [4, 4, 3, 3],\n",
       "  'rhymeSchemesOfStanzas': ['abba', 'abba', '---', '---'],\n",
       "  'numOfMetricalSyllables': 154,\n",
       "  'numOfGrammaticalSyllables': 169,\n",
       "  'numOfMetricalSyllablesInStanzas': [[11, 11, 11, 11],\n",
       "   [11, 11, 11, 11],\n",
       "   [11, 11, 11],\n",
       "   [11, 11, 11]],\n",
       "  'numOfGrammaticalSyllablesInStanzas': [[11, 12, 12, 13],\n",
       "   [12, 12, 14, 12],\n",
       "   [11, 12, 12],\n",
       "   [11, 11, 14]],\n",
       "  'numOfWordsInStanzas': [[7, 7, 6, 8], [7, 5, 9, 5], [7, 7, 6], [4, 4, 8]],\n",
       "  'grammaticalStressPatternsInStanzas': [['+--+-+---+-',\n",
       "    '+-+------++-',\n",
       "    '-+----+---+-',\n",
       "    '-+--+---+--+-'],\n",
       "   ['---+----+-+-', '---+--+---+-', '--+----++---+-', '-+-+---+--+-'],\n",
       "   ['+--+-+---+-', '---+---+--+-', '-+--+-+---+-'],\n",
       "   ['--+----+-+-', '---+---+-+-', '--+---+--+--+-']],\n",
       "  'metricalPatternsInStanzas': [['+--+-+---+-',\n",
       "    '+-+-----++-',\n",
       "    '-+---+---+-',\n",
       "    '-+-+---+-+-'],\n",
       "   ['---+---+-+-', '---+-+---+-', '-+---++--+-', '-+-+---+-+-'],\n",
       "   ['+--+-+---+-', '---+---+-+-', '+--+-+---+-'],\n",
       "   ['--+----+-+-', '---+---+-+-', '-+---+-+-+-']]}}"
      ]
     },
     "execution_count": 115,
     "metadata": {},
     "output_type": "execute_result"
    }
   ],
   "source": [
    "filtered[0]"
   ]
  },
  {
   "cell_type": "code",
   "execution_count": 116,
   "id": "04dcc8fd",
   "metadata": {},
   "outputs": [
    {
     "name": "stdout",
     "output_type": "stream",
     "text": [
      "CPU times: user 499 µs, sys: 3 µs, total: 502 µs\n",
      "Wall time: 526 µs\n"
     ]
    }
   ],
   "source": [
    "%%time\n",
    "\n",
    "#filter for sonnet stanza structure\n",
    "filtered = list(filter(lambda item: item[\"analysis\"][\"numOfLinesInStanzas\"] == [4,4,3,3] , poems_with_analysis))"
   ]
  },
  {
   "cell_type": "code",
   "execution_count": 117,
   "id": "26ca7e6a",
   "metadata": {},
   "outputs": [
    {
     "data": {
      "text/plain": [
       "269"
      ]
     },
     "execution_count": 117,
     "metadata": {},
     "output_type": "execute_result"
    }
   ],
   "source": [
    "len(filtered)"
   ]
  },
  {
   "cell_type": "code",
   "execution_count": 118,
   "id": "87bc9502",
   "metadata": {},
   "outputs": [
    {
     "data": {
      "text/plain": [
       "{'id': 'pd_d21ee0d4',\n",
       " 'uri': 'http://postdata.linhd.uned.es/resource/pw_pedro-fernandez-maranon_al-marques-de-priego',\n",
       " 'name': 'pedro-fernandez-maranon_al-marques-de-priego',\n",
       " 'title': 'Al Marqués de Priego',\n",
       " 'authors': [{'name': 'Pedro Fernández Marañón',\n",
       "   'uri': 'http://postdata.linhd.uned.es/resource/p_pedro-fernandez-maranon'}],\n",
       " 'source': 'POSTDATA Poetry Lab',\n",
       " 'sourceUrl': 'http://poetry.linhd.uned.es:3000/en/author/pedro-fernandez-maranon/poetic-work/al-marques-de-priego',\n",
       " 'analysis': {'numOfStanzas': 4,\n",
       "  'numOfLines': 14,\n",
       "  'numOfWords': 90,\n",
       "  'numOfLinesInStanzas': [4, 4, 3, 3],\n",
       "  'rhymeSchemesOfStanzas': ['abba', 'abba', '---', '---'],\n",
       "  'numOfMetricalSyllables': 154,\n",
       "  'numOfGrammaticalSyllables': 169,\n",
       "  'numOfMetricalSyllablesInStanzas': [[11, 11, 11, 11],\n",
       "   [11, 11, 11, 11],\n",
       "   [11, 11, 11],\n",
       "   [11, 11, 11]],\n",
       "  'numOfGrammaticalSyllablesInStanzas': [[11, 12, 12, 13],\n",
       "   [12, 12, 14, 12],\n",
       "   [11, 12, 12],\n",
       "   [11, 11, 14]],\n",
       "  'numOfWordsInStanzas': [[7, 7, 6, 8], [7, 5, 9, 5], [7, 7, 6], [4, 4, 8]],\n",
       "  'grammaticalStressPatternsInStanzas': [['+--+-+---+-',\n",
       "    '+-+------++-',\n",
       "    '-+----+---+-',\n",
       "    '-+--+---+--+-'],\n",
       "   ['---+----+-+-', '---+--+---+-', '--+----++---+-', '-+-+---+--+-'],\n",
       "   ['+--+-+---+-', '---+---+--+-', '-+--+-+---+-'],\n",
       "   ['--+----+-+-', '---+---+-+-', '--+---+--+--+-']],\n",
       "  'metricalPatternsInStanzas': [['+--+-+---+-',\n",
       "    '+-+-----++-',\n",
       "    '-+---+---+-',\n",
       "    '-+-+---+-+-'],\n",
       "   ['---+---+-+-', '---+-+---+-', '-+---++--+-', '-+-+---+-+-'],\n",
       "   ['+--+-+---+-', '---+---+-+-', '+--+-+---+-'],\n",
       "   ['--+----+-+-', '---+---+-+-', '-+---+-+-+-']]}}"
      ]
     },
     "execution_count": 118,
     "metadata": {},
     "output_type": "execute_result"
    }
   ],
   "source": [
    "filtered[0]"
   ]
  },
  {
   "cell_type": "code",
   "execution_count": 119,
   "id": "ed5e604d",
   "metadata": {},
   "outputs": [
    {
     "name": "stdout",
     "output_type": "stream",
     "text": [
      "CPU times: user 681 µs, sys: 63 µs, total: 744 µs\n",
      "Wall time: 1.22 ms\n"
     ]
    }
   ],
   "source": [
    "%%time\n",
    "#Petrarca\n",
    "filtered = list(filter(lambda item: item[\"analysis\"][\"rhymeSchemesOfStanzas\"] == ['abba', 'abba', 'cdc', 'dcd'] , poems_with_analysis))"
   ]
  },
  {
   "cell_type": "code",
   "execution_count": 120,
   "id": "22f0349d",
   "metadata": {},
   "outputs": [
    {
     "data": {
      "text/plain": [
       "0"
      ]
     },
     "execution_count": 120,
     "metadata": {},
     "output_type": "execute_result"
    }
   ],
   "source": [
    "len(filtered)"
   ]
  },
  {
   "cell_type": "code",
   "execution_count": 121,
   "id": "7c5e814c",
   "metadata": {},
   "outputs": [],
   "source": [
    "filtered = list(filter(lambda item: item[\"analysis\"][\"rhymeSchemesOfStanzas\"] == ['abba', 'abba', '---', '---'] , poems_with_analysis))"
   ]
  },
  {
   "cell_type": "code",
   "execution_count": 122,
   "id": "74932c80",
   "metadata": {},
   "outputs": [
    {
     "data": {
      "text/plain": [
       "138"
      ]
     },
     "execution_count": 122,
     "metadata": {},
     "output_type": "execute_result"
    }
   ],
   "source": [
    "len(filtered)"
   ]
  },
  {
   "cell_type": "code",
   "execution_count": 123,
   "id": "e422dff3",
   "metadata": {},
   "outputs": [],
   "source": [
    "#4 hebiger Jambus irgendwo in der ersten strophe\n",
    "filtered = list(filter(lambda item: \"-+-+-+-+-\" in item[\"analysis\"][\"metricalPatternsInStanzas\"][0] , poems_with_analysis))"
   ]
  },
  {
   "cell_type": "code",
   "execution_count": 124,
   "id": "49b8a6b7",
   "metadata": {},
   "outputs": [
    {
     "data": {
      "text/plain": [
       "2"
      ]
     },
     "execution_count": 124,
     "metadata": {},
     "output_type": "execute_result"
    }
   ],
   "source": [
    "len(filtered)"
   ]
  },
  {
   "cell_type": "code",
   "execution_count": null,
   "id": "6b06b658",
   "metadata": {},
   "outputs": [],
   "source": [
    "filtered"
   ]
  },
  {
   "cell_type": "code",
   "execution_count": null,
   "id": "61431a2f",
   "metadata": {},
   "outputs": [],
   "source": []
  }
 ],
 "metadata": {
  "kernelspec": {
   "display_name": "Python 3 (ipykernel)",
   "language": "python",
   "name": "python3"
  },
  "language_info": {
   "codemirror_mode": {
    "name": "ipython",
    "version": 3
   },
   "file_extension": ".py",
   "mimetype": "text/x-python",
   "name": "python",
   "nbconvert_exporter": "python",
   "pygments_lexer": "ipython3",
   "version": "3.9.12"
  }
 },
 "nbformat": 4,
 "nbformat_minor": 5
}

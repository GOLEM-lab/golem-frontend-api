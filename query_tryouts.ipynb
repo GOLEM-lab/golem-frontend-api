{
 "cells": [
  {
   "cell_type": "markdown",
   "id": "b05eca81",
   "metadata": {},
   "source": [
    "# DraCor Postdata Middle-Ware Tyouts\n",
    "\n",
    "Prequisites: a running Stardog instance with a database `PD_KG` (imported the Postdata Knowledge Graph).\n",
    "Used this repo: https://github.com/dh-network/stardog-docker-compose; the data was supplied by POSTDATA. Imported it manually to the database as described in the repo.\n",
    "\n",
    "Used this to get started with Stardog: https://github.com/stardog-union/pystardog/blob/develop/notebooks/tutorial.ipynb"
   ]
  },
  {
   "cell_type": "code",
   "execution_count": 4,
   "id": "41c10b1f",
   "metadata": {},
   "outputs": [],
   "source": [
    "#use the official stardog package: https://pystardog.readthedocs.io/en/latest/\n",
    "import stardog"
   ]
  },
  {
   "cell_type": "code",
   "execution_count": 15,
   "id": "bb12f755",
   "metadata": {},
   "outputs": [],
   "source": [
    "#libraries, that are in the pystardog notebook; used to render the results as pd dataframes (maybe don't need them later)\n",
    "import io\n",
    "import pandas as pd"
   ]
  },
  {
   "cell_type": "markdown",
   "id": "957a625d",
   "metadata": {},
   "source": [
    "## Connect to stardog"
   ]
  },
  {
   "cell_type": "code",
   "execution_count": 6,
   "id": "cd6b8a7d",
   "metadata": {},
   "outputs": [],
   "source": [
    "# set sparql endpoint (stardog), user name and password\n",
    "database_name = \"PD_KG\"\n",
    "\n",
    "usr = \"admin\"\n",
    "pwd = \"admin\"\n",
    "\n",
    "endpoint = \"http://localhost:5820\""
   ]
  },
  {
   "cell_type": "code",
   "execution_count": 7,
   "id": "231f8daf",
   "metadata": {},
   "outputs": [],
   "source": [
    "#as in the pystardog notebook https://github.com/stardog-union/pystardog/blob/develop/notebooks/tutorial.ipynb\n",
    "connection_details = {\n",
    "  'endpoint': endpoint,\n",
    "  'username': usr,\n",
    "  'password': pwd\n",
    "}"
   ]
  },
  {
   "cell_type": "code",
   "execution_count": 8,
   "id": "b4d3c3f2",
   "metadata": {},
   "outputs": [],
   "source": [
    "conn = stardog.Connection(database_name, **connection_details)"
   ]
  },
  {
   "cell_type": "markdown",
   "id": "7c957c01",
   "metadata": {},
   "source": [
    "## Simple Test"
   ]
  },
  {
   "cell_type": "code",
   "execution_count": 10,
   "id": "98497170",
   "metadata": {},
   "outputs": [],
   "source": [
    "query = \"\"\"\n",
    "SELECT * WHERE {\n",
    "  ?s ?p ?o\n",
    "}\n",
    "LIMIT 10\n",
    "\"\"\""
   ]
  },
  {
   "cell_type": "code",
   "execution_count": 11,
   "id": "59d0c3cd",
   "metadata": {},
   "outputs": [
    {
     "data": {
      "text/html": [
       "<div>\n",
       "<style scoped>\n",
       "    .dataframe tbody tr th:only-of-type {\n",
       "        vertical-align: middle;\n",
       "    }\n",
       "\n",
       "    .dataframe tbody tr th {\n",
       "        vertical-align: top;\n",
       "    }\n",
       "\n",
       "    .dataframe thead th {\n",
       "        text-align: right;\n",
       "    }\n",
       "</style>\n",
       "<table border=\"1\" class=\"dataframe\">\n",
       "  <thead>\n",
       "    <tr style=\"text-align: right;\">\n",
       "      <th></th>\n",
       "      <th>s</th>\n",
       "      <th>p</th>\n",
       "      <th>o</th>\n",
       "    </tr>\n",
       "  </thead>\n",
       "  <tbody>\n",
       "    <tr>\n",
       "      <th>0</th>\n",
       "      <td>http://postdata.linhd.uned.es/resource/a_unknown</td>\n",
       "      <td>http://postdata.linhd.uned.es/ontology/postdat...</td>\n",
       "      <td>UNKNOWN</td>\n",
       "    </tr>\n",
       "    <tr>\n",
       "      <th>1</th>\n",
       "      <td>http://postdata.linhd.uned.es/resource/st_1_te...</td>\n",
       "      <td>http://postdata.linhd.uned.es/ontology/postdat...</td>\n",
       "      <td>http://postdata.linhd.uned.es/kos/</td>\n",
       "    </tr>\n",
       "    <tr>\n",
       "      <th>2</th>\n",
       "      <td>http://postdata.linhd.uned.es/resource/st_1_te...</td>\n",
       "      <td>http://postdata.linhd.uned.es/ontology/postdat...</td>\n",
       "      <td>http://postdata.linhd.uned.es/kos/</td>\n",
       "    </tr>\n",
       "    <tr>\n",
       "      <th>3</th>\n",
       "      <td>http://postdata.linhd.uned.es/resource/st_1_te...</td>\n",
       "      <td>http://postdata.linhd.uned.es/ontology/postdat...</td>\n",
       "      <td>http://postdata.linhd.uned.es/kos/</td>\n",
       "    </tr>\n",
       "    <tr>\n",
       "      <th>4</th>\n",
       "      <td>http://postdata.linhd.uned.es/resource/st_1_lu...</td>\n",
       "      <td>http://postdata.linhd.uned.es/ontology/postdat...</td>\n",
       "      <td>http://postdata.linhd.uned.es/kos/</td>\n",
       "    </tr>\n",
       "  </tbody>\n",
       "</table>\n",
       "</div>"
      ],
      "text/plain": [
       "                                                   s  \\\n",
       "0   http://postdata.linhd.uned.es/resource/a_unknown   \n",
       "1  http://postdata.linhd.uned.es/resource/st_1_te...   \n",
       "2  http://postdata.linhd.uned.es/resource/st_1_te...   \n",
       "3  http://postdata.linhd.uned.es/resource/st_1_te...   \n",
       "4  http://postdata.linhd.uned.es/resource/st_1_lu...   \n",
       "\n",
       "                                                   p  \\\n",
       "0  http://postdata.linhd.uned.es/ontology/postdat...   \n",
       "1  http://postdata.linhd.uned.es/ontology/postdat...   \n",
       "2  http://postdata.linhd.uned.es/ontology/postdat...   \n",
       "3  http://postdata.linhd.uned.es/ontology/postdat...   \n",
       "4  http://postdata.linhd.uned.es/ontology/postdat...   \n",
       "\n",
       "                                    o  \n",
       "0                             UNKNOWN  \n",
       "1  http://postdata.linhd.uned.es/kos/  \n",
       "2  http://postdata.linhd.uned.es/kos/  \n",
       "3  http://postdata.linhd.uned.es/kos/  \n",
       "4  http://postdata.linhd.uned.es/kos/  "
      ]
     },
     "execution_count": 11,
     "metadata": {},
     "output_type": "execute_result"
    }
   ],
   "source": [
    "csv_results = conn.select(query, content_type='text/csv')\n",
    "df = pd.read_csv(io.BytesIO(csv_results))\n",
    "df.head()"
   ]
  },
  {
   "cell_type": "code",
   "execution_count": 12,
   "id": "d45b9786",
   "metadata": {},
   "outputs": [],
   "source": [
    "#to get a dictionary instead\n",
    "#query_results = conn.select(query)\n",
    "#type(query_results)"
   ]
  },
  {
   "cell_type": "code",
   "execution_count": 14,
   "id": "9d17452d",
   "metadata": {},
   "outputs": [],
   "source": [
    "#to clean the connection\n",
    "#conn.__exit__()"
   ]
  },
  {
   "cell_type": "markdown",
   "id": "b832a7c1",
   "metadata": {},
   "source": [
    "## Helper Functions\n",
    "Setup functions to query and parse the results (e.g. as pd dataframe)."
   ]
  },
  {
   "cell_type": "code",
   "execution_count": 35,
   "id": "aa4e1bfd",
   "metadata": {},
   "outputs": [],
   "source": [
    "def sparql(query, parse=False):\n",
    "    \"\"\"\n",
    "    Helper function to send a SPARQL query to the Stardog (should have a connection `conn` established).\n",
    "    The optional parameter `parse` can be used to get a padas dataframe back. \n",
    "    \"\"\"\n",
    "    if parse:\n",
    "        csv_results = conn.select(query, content_type='text/csv')\n",
    "        df = pd.read_csv(io.BytesIO(csv_results))\n",
    "        return df\n",
    "    else:\n",
    "        results = conn.select(query)\n",
    "        return results"
   ]
  },
  {
   "cell_type": "code",
   "execution_count": 50,
   "id": "2e602a24",
   "metadata": {},
   "outputs": [],
   "source": [
    "#inject <$> to queries\n",
    "def replace_placeholder(query,uri):\n",
    "    \"\"\"Replaces the placeholder in a query.\n",
    "    \"\"\"\n",
    "    placeholder = \"$\"\n",
    "    return query.replace(placeholder,uri)"
   ]
  },
  {
   "cell_type": "markdown",
   "id": "efe24c17",
   "metadata": {},
   "source": [
    "## Query the Postdata Knowledge Graph\n",
    "I played around in Stardog Studio and came up with some queries. These need to be tested here and then eventually wrapped in functions to be used in an API."
   ]
  },
  {
   "cell_type": "markdown",
   "id": "49def82e",
   "metadata": {},
   "source": [
    "### poeticWorks"
   ]
  },
  {
   "cell_type": "markdown",
   "id": "baedc0f2",
   "metadata": {},
   "source": [
    "#### List all works\n",
    "\n",
    "A \"poeticWork\" is of the class `http://postdata.linhd.uned.es/ontology/postdata-core#PoeticWork`."
   ]
  },
  {
   "cell_type": "code",
   "execution_count": 29,
   "id": "6a45b7b8",
   "metadata": {},
   "outputs": [],
   "source": [
    "query = \"\"\"\n",
    "PREFIX pdc: <http://postdata.linhd.uned.es/ontology/postdata-core#>\n",
    "\n",
    "SELECT ?work ?title WHERE {\n",
    "    ?work a pdc:PoeticWork ;\n",
    "          pdc:title ?title.\n",
    "}\n",
    "LIMIT 1000000\n",
    "\"\"\"\n",
    "# by default stardog returns 1.000 results only; need to set a LIMIT that exceeds the number of works expected "
   ]
  },
  {
   "cell_type": "code",
   "execution_count": 36,
   "id": "90e2573c",
   "metadata": {},
   "outputs": [],
   "source": [
    "#use the helper function to send the query\n",
    "results = sparql(query,parse=True)"
   ]
  },
  {
   "cell_type": "code",
   "execution_count": 37,
   "id": "9f9af110",
   "metadata": {},
   "outputs": [
    {
     "data": {
      "text/plain": [
       "pandas.core.frame.DataFrame"
      ]
     },
     "execution_count": 37,
     "metadata": {},
     "output_type": "execute_result"
    }
   ],
   "source": [
    "type(results)"
   ]
  },
  {
   "cell_type": "code",
   "execution_count": 39,
   "id": "766b54e7",
   "metadata": {},
   "outputs": [
    {
     "data": {
      "text/plain": [
       "1003"
      ]
     },
     "execution_count": 39,
     "metadata": {},
     "output_type": "execute_result"
    }
   ],
   "source": [
    "len(results)"
   ]
  },
  {
   "cell_type": "code",
   "execution_count": 40,
   "id": "a9abc79e",
   "metadata": {},
   "outputs": [
    {
     "data": {
      "text/html": [
       "<div>\n",
       "<style scoped>\n",
       "    .dataframe tbody tr th:only-of-type {\n",
       "        vertical-align: middle;\n",
       "    }\n",
       "\n",
       "    .dataframe tbody tr th {\n",
       "        vertical-align: top;\n",
       "    }\n",
       "\n",
       "    .dataframe thead th {\n",
       "        text-align: right;\n",
       "    }\n",
       "</style>\n",
       "<table border=\"1\" class=\"dataframe\">\n",
       "  <thead>\n",
       "    <tr style=\"text-align: right;\">\n",
       "      <th></th>\n",
       "      <th>work</th>\n",
       "      <th>title</th>\n",
       "    </tr>\n",
       "  </thead>\n",
       "  <tbody>\n",
       "    <tr>\n",
       "      <th>0</th>\n",
       "      <td>http://postdata.linhd.uned.es/resource/pw_juan...</td>\n",
       "      <td>Sabrás, querido Fabio</td>\n",
       "    </tr>\n",
       "    <tr>\n",
       "      <th>1</th>\n",
       "      <td>http://postdata.linhd.uned.es/resource/pw_juan...</td>\n",
       "      <td>Divino dueño mío</td>\n",
       "    </tr>\n",
       "    <tr>\n",
       "      <th>2</th>\n",
       "      <td>http://postdata.linhd.uned.es/resource/pw_jaci...</td>\n",
       "      <td>En corros aquí y allí,</td>\n",
       "    </tr>\n",
       "    <tr>\n",
       "      <th>3</th>\n",
       "      <td>http://postdata.linhd.uned.es/resource/pw_pedr...</td>\n",
       "      <td>Al Marqués de Priego</td>\n",
       "    </tr>\n",
       "    <tr>\n",
       "      <th>4</th>\n",
       "      <td>http://postdata.linhd.uned.es/resource/pw_vice...</td>\n",
       "      <td>Part of:</td>\n",
       "    </tr>\n",
       "  </tbody>\n",
       "</table>\n",
       "</div>"
      ],
      "text/plain": [
       "                                                work                    title\n",
       "0  http://postdata.linhd.uned.es/resource/pw_juan...    Sabrás, querido Fabio\n",
       "1  http://postdata.linhd.uned.es/resource/pw_juan...         Divino dueño mío\n",
       "2  http://postdata.linhd.uned.es/resource/pw_jaci...  En corros aquí y allí, \n",
       "3  http://postdata.linhd.uned.es/resource/pw_pedr...     Al Marqués de Priego\n",
       "4  http://postdata.linhd.uned.es/resource/pw_vice...                Part of: "
      ]
     },
     "execution_count": 40,
     "metadata": {},
     "output_type": "execute_result"
    }
   ],
   "source": [
    "results.head()"
   ]
  },
  {
   "cell_type": "code",
   "execution_count": 41,
   "id": "44322763",
   "metadata": {},
   "outputs": [
    {
     "data": {
      "text/plain": [
       "'http://postdata.linhd.uned.es/resource/pw_juana-ines-de-la-cruz_sabras-querido-fabio'"
      ]
     },
     "execution_count": 41,
     "metadata": {},
     "output_type": "execute_result"
    }
   ],
   "source": [
    "# a simple uri of a work\n",
    "results[\"work\"][0]"
   ]
  },
  {
   "cell_type": "markdown",
   "id": "15752735",
   "metadata": {},
   "source": [
    "#### Works, Titles and Authors (Creators in the WorkConception)\n",
    "A \"poeticWork\" \"isRealisedThrough\" `<http://postdata.linhd.uned.es/ontology/postdata-core#isRealisedThrough>` a `<http://postdata.linhd.uned.es/ontology/postdata-core#WorkConception>`. \"WorkConception\".\n",
    "\n",
    "This \"WorkConception\" has a \"AgentRole \"`<http://postdata.linhd.uned.es/ontology/postdata-core#hasAgentRole>`; the property \"hasAgentRole\" connects it to a \"AgentRole\" `<http://postdata.linhd.uned.es/ontology/postdata-core#AgentRole>`.\n",
    "\n",
    "\"AgentRole\" can be classified with \"<http://postdata.linhd.uned.es/ontology/postdata-core#roleFunction>\" which links to the KOS, e.g. `<http://postdata.linhd.uned.es/kos/Creator>`. (This one should be used for the author).\n",
    "\n",
    "The Autor is connected to the \"AgentRole\" with the property \"hasAgent\" `<http://postdata.linhd.uned.es/ontology/postdata-core#hasAgent>`.\n",
    "\n",
    "\"Agent\" is a <http://postdata.linhd.uned.es/ontology/postdata-core#Person> .\n",
    "The \"Agent\" `pdc:name` has a Name (Literal!)."
   ]
  },
  {
   "cell_type": "code",
   "execution_count": 45,
   "id": "c97c0a46",
   "metadata": {},
   "outputs": [],
   "source": [
    "query = \"\"\"\n",
    "PREFIX pdc: <http://postdata.linhd.uned.es/ontology/postdata-core#>\n",
    "\n",
    "SELECT ?Work ?Title ?Agent ?Name WHERE {\n",
    "    ?Work a pdc:PoeticWork ;\n",
    "        pdc:title ?Title .\n",
    "    \n",
    "    OPTIONAL { \n",
    "        ?Work pdc:wasInitiatedBy ?WorkConception .\n",
    "        \n",
    "        ?WorkConception pdc:hasAgentRole ?AgentRole .\n",
    "        \n",
    "        ?AgentRole pdc:roleFunction <http://postdata.linhd.uned.es/kos/Creator> ; \n",
    "                   pdc:hasAgent ?Agent .\n",
    "        \n",
    "        ?Agent pdc:name ?Name .\n",
    "    }\n",
    "}\n",
    "LIMIT 1000000\n",
    "\"\"\""
   ]
  },
  {
   "cell_type": "code",
   "execution_count": 46,
   "id": "502a90af",
   "metadata": {},
   "outputs": [
    {
     "data": {
      "text/html": [
       "<div>\n",
       "<style scoped>\n",
       "    .dataframe tbody tr th:only-of-type {\n",
       "        vertical-align: middle;\n",
       "    }\n",
       "\n",
       "    .dataframe tbody tr th {\n",
       "        vertical-align: top;\n",
       "    }\n",
       "\n",
       "    .dataframe thead th {\n",
       "        text-align: right;\n",
       "    }\n",
       "</style>\n",
       "<table border=\"1\" class=\"dataframe\">\n",
       "  <thead>\n",
       "    <tr style=\"text-align: right;\">\n",
       "      <th></th>\n",
       "      <th>Work</th>\n",
       "      <th>Title</th>\n",
       "      <th>Agent</th>\n",
       "      <th>Name</th>\n",
       "    </tr>\n",
       "  </thead>\n",
       "  <tbody>\n",
       "    <tr>\n",
       "      <th>0</th>\n",
       "      <td>http://postdata.linhd.uned.es/resource/pw_juan...</td>\n",
       "      <td>Sabrás, querido Fabio</td>\n",
       "      <td>http://postdata.linhd.uned.es/resource/p_juana...</td>\n",
       "      <td>Juana Inés de la Cruz</td>\n",
       "    </tr>\n",
       "    <tr>\n",
       "      <th>1</th>\n",
       "      <td>http://postdata.linhd.uned.es/resource/pw_juan...</td>\n",
       "      <td>Divino dueño mío</td>\n",
       "      <td>http://postdata.linhd.uned.es/resource/p_juana...</td>\n",
       "      <td>Juana Inés de la Cruz</td>\n",
       "    </tr>\n",
       "    <tr>\n",
       "      <th>2</th>\n",
       "      <td>http://postdata.linhd.uned.es/resource/pw_jaci...</td>\n",
       "      <td>En corros aquí y allí,</td>\n",
       "      <td>http://postdata.linhd.uned.es/resource/p_jacin...</td>\n",
       "      <td>Jacinto Polo de Medina</td>\n",
       "    </tr>\n",
       "    <tr>\n",
       "      <th>3</th>\n",
       "      <td>http://postdata.linhd.uned.es/resource/pw_pedr...</td>\n",
       "      <td>Al Marqués de Priego</td>\n",
       "      <td>http://postdata.linhd.uned.es/resource/p_pedro...</td>\n",
       "      <td>Pedro Fernández Marañón</td>\n",
       "    </tr>\n",
       "    <tr>\n",
       "      <th>4</th>\n",
       "      <td>http://postdata.linhd.uned.es/resource/pw_vice...</td>\n",
       "      <td>Part of:</td>\n",
       "      <td>http://postdata.linhd.uned.es/resource/p_vicen...</td>\n",
       "      <td>Vicente Wenceslao Querolt</td>\n",
       "    </tr>\n",
       "  </tbody>\n",
       "</table>\n",
       "</div>"
      ],
      "text/plain": [
       "                                                Work                    Title  \\\n",
       "0  http://postdata.linhd.uned.es/resource/pw_juan...    Sabrás, querido Fabio   \n",
       "1  http://postdata.linhd.uned.es/resource/pw_juan...         Divino dueño mío   \n",
       "2  http://postdata.linhd.uned.es/resource/pw_jaci...  En corros aquí y allí,    \n",
       "3  http://postdata.linhd.uned.es/resource/pw_pedr...     Al Marqués de Priego   \n",
       "4  http://postdata.linhd.uned.es/resource/pw_vice...                Part of:    \n",
       "\n",
       "                                               Agent  \\\n",
       "0  http://postdata.linhd.uned.es/resource/p_juana...   \n",
       "1  http://postdata.linhd.uned.es/resource/p_juana...   \n",
       "2  http://postdata.linhd.uned.es/resource/p_jacin...   \n",
       "3  http://postdata.linhd.uned.es/resource/p_pedro...   \n",
       "4  http://postdata.linhd.uned.es/resource/p_vicen...   \n",
       "\n",
       "                        Name  \n",
       "0      Juana Inés de la Cruz  \n",
       "1      Juana Inés de la Cruz  \n",
       "2     Jacinto Polo de Medina  \n",
       "3    Pedro Fernández Marañón  \n",
       "4  Vicente Wenceslao Querolt  "
      ]
     },
     "execution_count": 46,
     "metadata": {},
     "output_type": "execute_result"
    }
   ],
   "source": [
    "results = sparql(query,parse=True)\n",
    "results.head()"
   ]
  },
  {
   "cell_type": "code",
   "execution_count": 47,
   "id": "919fbbad",
   "metadata": {},
   "outputs": [
    {
     "data": {
      "text/plain": [
       "1003"
      ]
     },
     "execution_count": 47,
     "metadata": {},
     "output_type": "execute_result"
    }
   ],
   "source": [
    "len(results)"
   ]
  },
  {
   "cell_type": "markdown",
   "id": "89946026",
   "metadata": {},
   "source": [
    "Obviously, there are no poems with more than one author. But this could happen, so maybe the query needs to be adapted."
   ]
  },
  {
   "cell_type": "markdown",
   "id": "6f3a35a6",
   "metadata": {},
   "source": [
    "#### Author(s) of a given PoeticWork\n",
    "\n",
    "Adapted query of the one above to get the authors by a given PoeticWork."
   ]
  },
  {
   "cell_type": "code",
   "execution_count": 54,
   "id": "4476878b",
   "metadata": {},
   "outputs": [],
   "source": [
    "query = \"\"\"\n",
    "PREFIX pdc: <http://postdata.linhd.uned.es/ontology/postdata-core#>\n",
    "\n",
    "SELECT ?Agent ?Name WHERE {\n",
    "    <$> a pdc:PoeticWork ;\n",
    "        pdc:wasInitiatedBy ?WorkConception .\n",
    "        \n",
    "        ?WorkConception pdc:hasAgentRole ?AgentRole .\n",
    "        \n",
    "        ?AgentRole pdc:roleFunction <http://postdata.linhd.uned.es/kos/Creator> ; \n",
    "                   pdc:hasAgent ?Agent .\n",
    "        \n",
    "        OPTIONAL {\n",
    "            ?Agent pdc:name ?Name .\n",
    "        }\n",
    "}\n",
    "\"\"\""
   ]
  },
  {
   "cell_type": "code",
   "execution_count": 56,
   "id": "6aab9dac",
   "metadata": {},
   "outputs": [
    {
     "name": "stdout",
     "output_type": "stream",
     "text": [
      "\n",
      "PREFIX pdc: <http://postdata.linhd.uned.es/ontology/postdata-core#>\n",
      "\n",
      "SELECT ?Agent ?Name WHERE {\n",
      "    <http://postdata.linhd.uned.es/resource/pw_juana-ines-de-la-cruz_sabras-querido-fabio> a pdc:PoeticWork ;\n",
      "        pdc:wasInitiatedBy ?WorkConception .\n",
      "        \n",
      "        ?WorkConception pdc:hasAgentRole ?AgentRole .\n",
      "        \n",
      "        ?AgentRole pdc:roleFunction <http://postdata.linhd.uned.es/kos/Creator> ; \n",
      "                   pdc:hasAgent ?Agent .\n",
      "        \n",
      "        OPTIONAL {\n",
      "            ?Agent pdc:name ?Name .\n",
      "        }\n",
      "}\n",
      "\n"
     ]
    }
   ],
   "source": [
    "uri = \"http://postdata.linhd.uned.es/resource/pw_juana-ines-de-la-cruz_sabras-querido-fabio\"\n",
    "print(replace_placeholder(query,uri))\n",
    "results = sparql(replace_placeholder(query,uri))"
   ]
  },
  {
   "cell_type": "code",
   "execution_count": 57,
   "id": "9fcea643",
   "metadata": {},
   "outputs": [
    {
     "data": {
      "text/plain": [
       "{'head': {'vars': ['Agent', 'Name']},\n",
       " 'results': {'bindings': [{'Agent': {'type': 'uri',\n",
       "     'value': 'http://postdata.linhd.uned.es/resource/p_juana-ines-de-la-cruz'},\n",
       "    'Name': {'type': 'literal', 'value': 'Juana Inés de la Cruz'}}]}}"
      ]
     },
     "execution_count": 57,
     "metadata": {},
     "output_type": "execute_result"
    }
   ],
   "source": [
    "results"
   ]
  },
  {
   "cell_type": "markdown",
   "id": "056dccce",
   "metadata": {},
   "source": [
    "An endpoint to get creators of a poem `/corpora/{corpus}/poems/{poem}/authors` could return something along the lines of DraCor API `https://dracor.org/api/corpora/{corpus}/play/{play}`:\n",
    "\n",
    "```\n",
    "\"authors\": [\n",
    "    {\n",
    "      \"name\": \"Lessing, Gotthold Ephraim\",\n",
    "      \"fullname\": \"Gotthold Ephraim Lessing\",\n",
    "      \"shortname\": \"Lessing\",\n",
    "      \"refs\": [\n",
    "        {\n",
    "          \"ref\": \"Q34628\",\n",
    "          \"type\": \"wikidata\"\n",
    "        },\n",
    "        {\n",
    "          \"ref\": \"118572121\",\n",
    "          \"type\": \"pnd\"\n",
    "        }\n",
    "      ]\n",
    "    }\n",
    "  ]\n",
    "```"
   ]
  },
  {
   "cell_type": "code",
   "execution_count": 93,
   "id": "8ef0ce7c",
   "metadata": {},
   "outputs": [],
   "source": [
    "def get_authors_of_poem(poem_uri:str) -> list:\n",
    "    \"\"\"Get the autors \n",
    "    Returns the agents in an AgentRole with the roleFunction of \"creator\".\n",
    "    \n",
    "    Args:\n",
    "        poem_uri (str): URI of a poeticWork\n",
    "    Returns:\n",
    "        list: List of dictionaries containg information on author name and id = uri.\n",
    "    \"\"\"\n",
    "    \n",
    "    query = \"\"\"\n",
    "        PREFIX pdc: <http://postdata.linhd.uned.es/ontology/postdata-core#>\n",
    "\n",
    "        SELECT ?Agent ?Name WHERE {\n",
    "            <$> a pdc:PoeticWork ;\n",
    "            pdc:wasInitiatedBy ?WorkConception .\n",
    "        \n",
    "            ?WorkConception pdc:hasAgentRole ?AgentRole .\n",
    "        \n",
    "            ?AgentRole pdc:roleFunction <http://postdata.linhd.uned.es/kos/Creator> ; \n",
    "                   pdc:hasAgent ?Agent .\n",
    "        \n",
    "            OPTIONAL {\n",
    "                ?Agent pdc:name ?Name .\n",
    "            }\n",
    "    }\n",
    "    \"\"\"\n",
    "    sparql_results = sparql(replace_placeholder(query,poem_uri))\n",
    "    \n",
    "    authors = []\n",
    "    for binding in sparql_results[\"results\"][\"bindings\"]:\n",
    "        author = {}\n",
    "        author[\"name\"] = binding[\"Name\"][\"value\"]\n",
    "        author[\"id\"] = binding[\"Agent\"][\"value\"]\n",
    "        authors.append(author)\n",
    "        \n",
    "    \n",
    "    return authors"
   ]
  },
  {
   "cell_type": "code",
   "execution_count": 94,
   "id": "6f513c51",
   "metadata": {},
   "outputs": [
    {
     "data": {
      "text/plain": [
       "[{'name': 'Juana Inés de la Cruz',\n",
       "  'id': 'http://postdata.linhd.uned.es/resource/p_juana-ines-de-la-cruz'}]"
      ]
     },
     "execution_count": 94,
     "metadata": {},
     "output_type": "execute_result"
    }
   ],
   "source": [
    "get_authors_of_poem(uri)"
   ]
  },
  {
   "cell_type": "markdown",
   "id": "aed642e7",
   "metadata": {},
   "source": [
    "### Information on a single corpus (the whole graph)\n",
    "DraCor's endpoint `/corpora` returns information on all corpora in the database. This endpoint is used to display the stats by setting the parameter `include=metrics`. See https://dracor.org/doc/api#/public/list-corpora. The data on a single corpus:\n",
    "\n",
    "```\n",
    "{\n",
    "    \"licence\": \"CC BY-NC 3.0\",\n",
    "    \"licenceUrl\": \"https://creativecommons.org/licenses/by-nc/3.0/deed.en_US\",\n",
    "    \"description\": \"Derived from the [Folger Shakespeare Library](https://shakespeare.folger.edu/). Enhancements documented in our [README at GitHub](https://github.com/dracor-org/shakedracor).\",\n",
    "    \"uri\": \"https://dracor.org/api/corpora/shake\",\n",
    "    \"title\": \"Shakespeare Drama Corpus\",\n",
    "    \"name\": \"shake\",\n",
    "    \"acronym\": \"ShakeDraCor\",\n",
    "    \"metrics\": {\n",
    "      \"plays\": 37,\n",
    "      \"characters\": 1433,\n",
    "      \"male\": 797,\n",
    "      \"female\": 116,\n",
    "      \"text\": 37,\n",
    "      \"sp\": 31066,\n",
    "      \"stage\": 10450,\n",
    "      \"wordcount\": {\n",
    "        \"text\": 908286,\n",
    "        \"sp\": 876744,\n",
    "        \"stage\": 41230\n",
    "      },\n",
    "      \"updated\": \"2022-07-02T23:36:24.109+02:00\"\n",
    "    },\n",
    "    \"repository\": \"https://github.com/dracor-org/shakedracor\"\n",
    "  }\n",
    "```\n",
    "We can not really list \"corpora\" in the POSTDATA Knowledge Graph because there is only one included, but stil we have to implement an endpoint that would provide information for the frontpage.\n",
    "\n",
    "We can at least provide some metrics, e.g.\n",
    "\n",
    "```\n",
    "\"metrics\": {\n",
    "      \"authors\" : 1,\n",
    "      \"poems\": 1,\n",
    "      \"stanzas\": 1,\n",
    "      \"verses\": 1,\n",
    "      \"words\" : 1\n",
    "      }\n",
    "```"
   ]
  },
  {
   "cell_type": "code",
   "execution_count": 121,
   "id": "35366afe",
   "metadata": {},
   "outputs": [],
   "source": [
    "def count_works(corpus=None) -> int:\n",
    "    \"\"\"Count poeticWorks in a corpus.\n",
    "    \n",
    "    Returns:\n",
    "        int: Number of poetic works/poems.\n",
    "        \n",
    "    TODO: handle multiple corpora\n",
    "    \"\"\"\n",
    "    \n",
    "    query = \"\"\"\n",
    "    PREFIX pdc: <http://postdata.linhd.uned.es/ontology/postdata-core#>\n",
    "    \n",
    "    SELECT (COUNT(?poeticWork) AS ?count) WHERE {\n",
    "    ?poeticWork a pdc:PoeticWork .\n",
    "    } \n",
    "    LIMIT 1000000\n",
    "    \"\"\"\n",
    "    \n",
    "    sparql_results = sparql(query)\n",
    "    work_count = int(sparql_results[\"results\"][\"bindings\"][0][\"count\"][\"value\"])\n",
    "    \n",
    "    return work_count"
   ]
  },
  {
   "cell_type": "code",
   "execution_count": 122,
   "id": "83533e4b",
   "metadata": {},
   "outputs": [
    {
     "data": {
      "text/plain": [
       "1003"
      ]
     },
     "execution_count": 122,
     "metadata": {},
     "output_type": "execute_result"
    }
   ],
   "source": [
    "count_works()"
   ]
  },
  {
   "cell_type": "code",
   "execution_count": 115,
   "id": "1be2bab5",
   "metadata": {},
   "outputs": [],
   "source": [
    "def count_stanzas(corpus=None) -> int:\n",
    "    \"\"\"Count stanzas in a corpus.\n",
    "    \n",
    "    Returns:\n",
    "        int: Number of stanzas.\n",
    "        \n",
    "    TODO: handle multiple corpora\n",
    "    \"\"\"\n",
    "    \n",
    "    query = \"\"\"\n",
    "    PREFIX pdp: <http://postdata.linhd.uned.es/ontology/postdata-poeticAnalysis#>\n",
    "    \n",
    "    SELECT (COUNT(?Stanza) AS ?count) WHERE {\n",
    "    ?Stanza a pdp:Stanza .\n",
    "    } \n",
    "    LIMIT 1000000\n",
    "    \"\"\"\n",
    "    \n",
    "    sparql_results = sparql(query)\n",
    "    stanza_count = int(sparql_results[\"results\"][\"bindings\"][0][\"count\"][\"value\"])\n",
    "    return stanza_count"
   ]
  },
  {
   "cell_type": "code",
   "execution_count": 116,
   "id": "53bcdce3",
   "metadata": {},
   "outputs": [
    {
     "data": {
      "text/plain": [
       "5109"
      ]
     },
     "execution_count": 116,
     "metadata": {},
     "output_type": "execute_result"
    }
   ],
   "source": [
    "count_stanzas()"
   ]
  },
  {
   "cell_type": "code",
   "execution_count": 123,
   "id": "f3e7206b",
   "metadata": {},
   "outputs": [],
   "source": [
    "def count_verses(corpus=None) -> int:\n",
    "    \"\"\"Count verses/lines in a corpus.\n",
    "    \n",
    "    Returns:\n",
    "        int: Number of verselines.\n",
    "        \n",
    "    TODO: handle multiple corpora\n",
    "    \"\"\"\n",
    "    \n",
    "    query = \"\"\"\n",
    "    PREFIX pdp: <http://postdata.linhd.uned.es/ontology/postdata-poeticAnalysis#>\n",
    "    \n",
    "    SELECT (COUNT(?line) AS ?count) WHERE {\n",
    "        ?line a pdp:Line .\n",
    "    } \n",
    "    LIMIT 1000000\n",
    "    \"\"\"\n",
    "    \n",
    "    sparql_results = sparql(query)\n",
    "    verses_count = int(sparql_results[\"results\"][\"bindings\"][0][\"count\"][\"value\"])\n",
    "    return verses_count"
   ]
  },
  {
   "cell_type": "code",
   "execution_count": 120,
   "id": "046ad4c4",
   "metadata": {},
   "outputs": [
    {
     "data": {
      "text/plain": [
       "105236"
      ]
     },
     "execution_count": 120,
     "metadata": {},
     "output_type": "execute_result"
    }
   ],
   "source": [
    "count_verses()"
   ]
  },
  {
   "cell_type": "code",
   "execution_count": 124,
   "id": "758d01bc",
   "metadata": {},
   "outputs": [],
   "source": [
    "def count_words(corpus=None) -> int:\n",
    "    \"\"\"Count words in a corpus.\n",
    "    \n",
    "    Returns:\n",
    "        int: Number of words.\n",
    "        \n",
    "    TODO: handle multiple corpora\n",
    "    \"\"\"\n",
    "    \n",
    "    query = \"\"\"\n",
    "    PREFIX pdp: <http://postdata.linhd.uned.es/ontology/postdata-poeticAnalysis#>\n",
    "    \n",
    "    SELECT (COUNT(?word) AS ?count) WHERE {\n",
    "        ?word a <http://postdata.linhd.uned.es/ontology/postdata-poeticAnalysis#Word> .\n",
    "    } \n",
    "    LIMIT 1000000\n",
    "    \"\"\"\n",
    "    \n",
    "    sparql_results = sparql(query)\n",
    "    word_count = int(sparql_results[\"results\"][\"bindings\"][0][\"count\"][\"value\"])\n",
    "    return word_count"
   ]
  },
  {
   "cell_type": "code",
   "execution_count": 125,
   "id": "567bb1ad",
   "metadata": {},
   "outputs": [
    {
     "data": {
      "text/plain": [
       "571355"
      ]
     },
     "execution_count": 125,
     "metadata": {},
     "output_type": "execute_result"
    }
   ],
   "source": [
    "count_words()"
   ]
  },
  {
   "cell_type": "markdown",
   "id": "2c3d6754",
   "metadata": {},
   "source": [
    "Syllables are different: There are \"GrammaticalSyllables\" `<http://postdata.linhd.uned.es/ontology/postdata-poeticAnalysis#GrammaticalSyllable>` and \"MetricalSyllables\" `<http://postdata.linhd.uned.es/ontology/postdata-poeticAnalysis#MetricalSyllable>`."
   ]
  },
  {
   "cell_type": "code",
   "execution_count": 133,
   "id": "56dcfa5b",
   "metadata": {},
   "outputs": [],
   "source": [
    "def count_metrical_syllables(corpus=None) -> int:\n",
    "    \"\"\"Count metrical syllables in a corpus.\n",
    "    \n",
    "    Returns:\n",
    "        int: number of metrical syllables\n",
    "    \"\"\"\n",
    "    \n",
    "    query = \"\"\"\n",
    "    PREFIX pdp: <http://postdata.linhd.uned.es/ontology/postdata-poeticAnalysis#>\n",
    "    \n",
    "    SELECT (COUNT(?syllable) AS ?count) WHERE {\n",
    "        ?syllable a <http://postdata.linhd.uned.es/ontology/postdata-poeticAnalysis#MetricalSyllable> .\n",
    "    } \n",
    "    LIMIT 1000000\n",
    "    \"\"\"\n",
    "    \n",
    "    sparql_results = sparql(query)\n",
    "    syllable_count = int(sparql_results[\"results\"][\"bindings\"][0][\"count\"][\"value\"])\n",
    "    \n",
    "    return syllable_count\n",
    "    "
   ]
  },
  {
   "cell_type": "code",
   "execution_count": 134,
   "id": "0ee86a7b",
   "metadata": {},
   "outputs": [
    {
     "data": {
      "text/plain": [
       "299990"
      ]
     },
     "execution_count": 134,
     "metadata": {},
     "output_type": "execute_result"
    }
   ],
   "source": [
    "count_metrical_syllables()"
   ]
  },
  {
   "cell_type": "code",
   "execution_count": 135,
   "id": "88490de2",
   "metadata": {},
   "outputs": [],
   "source": [
    "def count_grammatical_syllables(corpus=None) -> int:\n",
    "    \"\"\"Count grammatical syllables in a corpus.\n",
    "    \n",
    "    Returns:\n",
    "        int: number of gramamtical syllables\n",
    "    \"\"\"\n",
    "    \n",
    "    query = \"\"\"\n",
    "    PREFIX pdp: <http://postdata.linhd.uned.es/ontology/postdata-poeticAnalysis#>\n",
    "    \n",
    "    SELECT (COUNT(?syllable) AS ?count) WHERE {\n",
    "        ?syllable a <http://postdata.linhd.uned.es/ontology/postdata-poeticAnalysis#GrammaticalSyllable> .\n",
    "    } \n",
    "    LIMIT 1000000\n",
    "    \"\"\"\n",
    "    \n",
    "    sparql_results = sparql(query)\n",
    "    syllable_count = int(sparql_results[\"results\"][\"bindings\"][0][\"count\"][\"value\"])\n",
    "    \n",
    "    return syllable_count"
   ]
  },
  {
   "cell_type": "code",
   "execution_count": 136,
   "id": "cdbbe7bc",
   "metadata": {},
   "outputs": [
    {
     "data": {
      "text/plain": [
       "1054869"
      ]
     },
     "execution_count": 136,
     "metadata": {},
     "output_type": "execute_result"
    }
   ],
   "source": [
    "count_grammatical_syllables()"
   ]
  },
  {
   "cell_type": "markdown",
   "id": "655ddff9",
   "metadata": {},
   "source": [
    "Authors (Actors/Persons) should only be counted if they are connected to a WorkConception in the ActorRole of creator. See above."
   ]
  },
  {
   "cell_type": "code",
   "execution_count": 129,
   "id": "6b80654d",
   "metadata": {},
   "outputs": [],
   "source": [
    "def count_authors(corpus=None) -> int:\n",
    "    \"\"\"Count authors in a corpus.\n",
    "    \n",
    "    Authors (Actors/Persons) are only counted if they are \n",
    "    connected to a \"WorkConception\" in the \"ActorRole\" with the function \"creator\".\n",
    "    \n",
    "    Returns:\n",
    "        int: Number of actors.\n",
    "        \n",
    "    TODO: handle multiple corpora\n",
    "    \"\"\"\n",
    "    \n",
    "    query = \"\"\"\n",
    "    PREFIX pdc: <http://postdata.linhd.uned.es/ontology/postdata-core#>\n",
    "\n",
    "    SELECT (COUNT(DISTINCT ?Agent) AS ?count) WHERE {\n",
    "        ?WorkConception a pdc:WorkConception ;\n",
    "            pdc:hasAgentRole ?AgentRole .\n",
    "        \n",
    "        ?AgentRole pdc:roleFunction <http://postdata.linhd.uned.es/kos/Creator> ; \n",
    "            pdc:hasAgent ?Agent .\n",
    "    }\n",
    "    LIMIT 1000000\n",
    "    \"\"\"\n",
    "    \n",
    "    sparql_results = sparql(query)\n",
    "    authors_count = int(sparql_results[\"results\"][\"bindings\"][0][\"count\"][\"value\"])\n",
    "    return authors_count"
   ]
  },
  {
   "cell_type": "code",
   "execution_count": 130,
   "id": "fe5cccdc",
   "metadata": {},
   "outputs": [
    {
     "data": {
      "text/plain": [
       "73"
      ]
     },
     "execution_count": 130,
     "metadata": {},
     "output_type": "execute_result"
    }
   ],
   "source": [
    "count_authors()"
   ]
  },
  {
   "cell_type": "markdown",
   "id": "2f56dbdb",
   "metadata": {},
   "source": [
    "#### Combine the corpus metrics"
   ]
  },
  {
   "cell_type": "code",
   "execution_count": 137,
   "id": "fa4999ec",
   "metadata": {},
   "outputs": [],
   "source": [
    "def get_corpus_metrics(corpus=None) -> dict:\n",
    "    \"\"\"Get metrics for a given corpus.\n",
    "    \n",
    "    Returns:\n",
    "        dict: corpus metrics\n",
    "    \"\"\"\n",
    "    \n",
    "    metrics = {}\n",
    "    metrics[\"authors\"] = count_authors(corpus)\n",
    "    metrics[\"poems\"] = count_works(corpus)\n",
    "    metrics[\"stanzas\"] = count_stanzas(corpus)\n",
    "    metrics[\"verses\"] = count_verses(corpus)\n",
    "    metrics[\"words\"] = count_words(corpus)\n",
    "    metrics[\"grammatical_syllables\"] = count_grammatical_syllables(corpus)\n",
    "    metrics[\"metrical_syllables\"] = count_metrical_syllables(corpus)\n",
    "    \n",
    "    return metrics "
   ]
  },
  {
   "cell_type": "code",
   "execution_count": 138,
   "id": "8355724c",
   "metadata": {},
   "outputs": [
    {
     "data": {
      "text/plain": [
       "{'authors': 73,\n",
       " 'poems': 1003,\n",
       " 'stanzas': 5109,\n",
       " 'verses': 105236,\n",
       " 'words': 571355,\n",
       " 'grammatical_syllables': 1054869,\n",
       " 'metrical_syllables': 299990}"
      ]
     },
     "execution_count": 138,
     "metadata": {},
     "output_type": "execute_result"
    }
   ],
   "source": [
    "get_corpus_metrics()"
   ]
  },
  {
   "cell_type": "code",
   "execution_count": null,
   "id": "5669bc0f",
   "metadata": {},
   "outputs": [],
   "source": [
    "# TODO: general function to entites of type in graph."
   ]
  },
  {
   "cell_type": "markdown",
   "id": "85a54062",
   "metadata": {},
   "source": [
    "#### Corpus info\n",
    "Because we don't really have metadata on the corpus, we fake this here for demonstrator purposes.\n",
    "\n",
    "DraCor example:\n",
    "```\n",
    "{\n",
    "    \"licence\": \"CC BY-NC 3.0\",\n",
    "    \"licenceUrl\": \"https://creativecommons.org/licenses/by-nc/3.0/deed.en_US\",\n",
    "    \"description\": \"Derived from the [Folger Shakespeare Library](https://shakespeare.folger.edu/). Enhancements documented in our [README at GitHub](https://github.com/dracor-org/shakedracor).\",\n",
    "    \"uri\": \"https://dracor.org/api/corpora/shake\",\n",
    "    \"title\": \"Shakespeare Drama Corpus\",\n",
    "    \"name\": \"shake\",\n",
    "    \"acronym\": \"ShakeDraCor\",\n",
    "    \"metrics\": {\n",
    "      \"plays\": 37,\n",
    "      \"characters\": 1433,\n",
    "      \"male\": 797,\n",
    "      \"female\": 116,\n",
    "      \"text\": 37,\n",
    "      \"sp\": 31066,\n",
    "      \"stage\": 10450,\n",
    "      \"wordcount\": {\n",
    "        \"text\": 908286,\n",
    "        \"sp\": 876744,\n",
    "        \"stage\": 41230\n",
    "      },\n",
    "      \"updated\": \"2022-07-02T23:36:24.109+02:00\"\n",
    "    },\n",
    "    \"repository\": \"https://github.com/dracor-org/shakedracor\"\n",
    "  }\n",
    "```"
   ]
  },
  {
   "cell_type": "code",
   "execution_count": 146,
   "id": "222c8f5c",
   "metadata": {},
   "outputs": [],
   "source": [
    "def get_corpus_info(corpus=None, metrics=False) -> dict:\n",
    "    \"\"\"Get information on a corpus\n",
    "    \n",
    "     Args:\n",
    "        corpus (optional): select a corpus (not implemented yet). defaults to None.\n",
    "        metrics (optional): include corpus metrics. defaults to False.    \n",
    "    Returns:\n",
    "        dict: information on the given corpus.\n",
    "    TODO: include more data (e.g. repository; see DraCor output)\n",
    "    \"\"\"\n",
    "    #we don't have a mechanism yet that allows for filtering of a corpus,\n",
    "    \n",
    "    \n",
    "    corpus_data = {}\n",
    "    \n",
    "    if corpus == None:\n",
    "        # corpus defaults to None --> get the default POSTDATA corpus\n",
    "        corpus_data[\"name\"] = \"postdata\"\n",
    "        corpus_data[\"title\"] = \"POSTDATA Corpus\"\n",
    "        corpus_data[\"description\"] = \"POSTDATA Knowledge Graph of Spanish Poetry. See https://postdata.linhd.uned.es\"\n",
    "    \n",
    "    if metrics == True:\n",
    "        corpus_data[\"metrics\"] = get_corpus_metrics(corpus)\n",
    "        \n",
    "    return corpus_data  "
   ]
  },
  {
   "cell_type": "code",
   "execution_count": 147,
   "id": "2aa49d32",
   "metadata": {},
   "outputs": [
    {
     "data": {
      "text/plain": [
       "{'name': 'postdata',\n",
       " 'title': 'POSTDATA Corpus',\n",
       " 'description': 'POSTDATA Knowledge Graph of Spanish Poetry. See https://postdata.linhd.uned.es',\n",
       " 'metrics': {'authors': 73,\n",
       "  'poems': 1003,\n",
       "  'stanzas': 5109,\n",
       "  'verses': 105236,\n",
       "  'words': 571355,\n",
       "  'grammatical_syllables': 1054869,\n",
       "  'metrical_syllables': 299990}}"
      ]
     },
     "execution_count": 147,
     "metadata": {},
     "output_type": "execute_result"
    }
   ],
   "source": [
    "get_corpus_info(metrics=True)"
   ]
  },
  {
   "cell_type": "markdown",
   "id": "7a00fddc",
   "metadata": {},
   "source": [
    "#### List of available corpora\n",
    "For the DraCor frontend (uses `/corpora` with param `include=metrics`) we need to have the on the corpora wrapped to an array even though we only have one corpus for the demonstrator."
   ]
  },
  {
   "cell_type": "code",
   "execution_count": 161,
   "id": "ff394a89",
   "metadata": {},
   "outputs": [],
   "source": [
    "def get_corpora(metrics=False) -> list:\n",
    "    \"\"\"Get a list of corpora\n",
    "    \n",
    "    Only one corpus is returned at the moment!\n",
    "    TODO: handle more corpora\n",
    "    \"\"\"\n",
    "    data = get_corpus_info(metrics=metrics)\n",
    "    \n",
    "    return [data]"
   ]
  },
  {
   "cell_type": "code",
   "execution_count": 154,
   "id": "74c19733",
   "metadata": {},
   "outputs": [
    {
     "data": {
      "text/plain": [
       "[{'name': 'postdata',\n",
       "  'title': 'POSTDATA Corpus',\n",
       "  'description': 'POSTDATA Knowledge Graph of Spanish Poetry. See https://postdata.linhd.uned.es',\n",
       "  'metrics': {'authors': 73,\n",
       "   'poems': 1003,\n",
       "   'stanzas': 5109,\n",
       "   'verses': 105236,\n",
       "   'words': 571355,\n",
       "   'grammatical_syllables': 1054869,\n",
       "   'metrical_syllables': 299990}}]"
      ]
     },
     "execution_count": 154,
     "metadata": {},
     "output_type": "execute_result"
    }
   ],
   "source": [
    "get_corpora(metrics=True)"
   ]
  },
  {
   "cell_type": "markdown",
   "id": "c6052891",
   "metadata": {},
   "source": [
    "### Data on a single Poem\n",
    "(as included in the list of poems returned by the DraCor `/corpora/{corpus}` endpoint)\n",
    "\n",
    "see DraCor example:\n",
    "```\n",
    "{\n",
    "      \"writtenYear\": \"1908\",\n",
    "      \"wikidataId\": \"Q25556355\",\n",
    "      \"source\": \"Татарская электронная библиотека\",\n",
    "      \"id\": \"tat000001\",\n",
    "      \"title\": \"Беренче театр\",\n",
    "      \"sourceUrl\": \"http://kitap.net.ru/galiaskar/2.php\",\n",
    "      \"networkSize\": \"7\",\n",
    "      \"name\": \"qamal-berenche-teatr\",\n",
    "      \"yearNormalized\": 1908,\n",
    "      \"printYear\": null,\n",
    "      \"subtitle\": \"Комедия 1 пәрдәдә\",\n",
    "      \"premiereYear\": null,\n",
    "      \"authors\": [\n",
    "        {\n",
    "          \"name\": \"Камал, Галиәсгар\",\n",
    "          \"fullname\": \"Галиәсгар Камал\",\n",
    "          \"shortname\": \"Камал\",\n",
    "          \"refs\": [\n",
    "            {\n",
    "              \"ref\": \"Q2497099\",\n",
    "              \"type\": \"wikidata\"\n",
    "            }\n",
    "          ],\n",
    "          \"fullnameEn\": \"Ğäliäsğar Kamal\",\n",
    "          \"nameEn\": \"Kamal, Ğäliäsğar\",\n",
    "          \"shortnameEn\": \"Kamal\",\n",
    "          \"alsoKnownAs\": [\n",
    "            \"Ğäliäsğar Kamal\"\n",
    "          ]\n",
    "        }\n",
    "      ],\n",
    "      \"networkdataCsvUrl\": \"https://dracor.org/api/corpora/tat/play/qamal-berenche-teatr/networkdata/csv\",\n",
    "      \"author\": {\n",
    "        \"name\": \"Камал, Галиәсгар\"\n",
    "      },\n",
    "      \"subtitleEn\": \"Comedy in 1 Act\",\n",
    "      \"titleEn\": \"First Theatre\"\n",
    "    }\n",
    "```"
   ]
  },
  {
   "cell_type": "code",
   "execution_count": 166,
   "id": "d1f59af4",
   "metadata": {},
   "outputs": [],
   "source": [
    "#we test with \n",
    "poem_uri = \"http://postdata.linhd.uned.es/resource/pw_juana-ines-de-la-cruz_sabras-querido-fabio\""
   ]
  },
  {
   "cell_type": "code",
   "execution_count": 165,
   "id": "2b446009",
   "metadata": {},
   "outputs": [],
   "source": [
    "#Function to get title of poem\n",
    "def get_poem_title(poem_uri:str) -> str:\n",
    "    \"\"\"Get the title of a poem\n",
    "    \n",
    "    Args:\n",
    "        poem_uri (str): URI of the poem\n",
    "    \n",
    "    Returns:\n",
    "        str: Title of the poem\n",
    "    \"\"\"\n",
    "    \n",
    "    query = \"\"\"\n",
    "    PREFIX pdc: <http://postdata.linhd.uned.es/ontology/postdata-core#>\n",
    "\n",
    "    SELECT ?title WHERE {\n",
    "        <$> a pdc:PoeticWork ;\n",
    "            pdc:title ?title.\n",
    "    }\n",
    "    \"\"\"\n",
    "    \n",
    "    sparql_results = sparql(replace_placeholder(query,poem_uri))\n",
    "    title = str(sparql_results[\"results\"][\"bindings\"][0][\"title\"][\"value\"])\n",
    "    return title"
   ]
  },
  {
   "cell_type": "code",
   "execution_count": 167,
   "id": "d9a12d75",
   "metadata": {},
   "outputs": [
    {
     "data": {
      "text/plain": [
       "'Sabrás, querido Fabio'"
      ]
     },
     "execution_count": 167,
     "metadata": {},
     "output_type": "execute_result"
    }
   ],
   "source": [
    "get_poem_title(poem_uri)"
   ]
  },
  {
   "cell_type": "code",
   "execution_count": 173,
   "id": "50057770",
   "metadata": {},
   "outputs": [],
   "source": [
    "#Function to convert poem uri to postdata poetry lab link\n",
    "# this will be used in \"sourceUrl\" (which is somewhat wrong, but will do because it links back to poetry lab)\n",
    "\n",
    "def work_uri_to_poetry_lab_url(poem_uri:str) -> str:\n",
    "    \"\"\"Convert the URI of a poem into a link to poetry lab platform\n",
    "    \"\"\"\n",
    "    poetry_lab_base_url = \"http://poetry.linhd.uned.es:3000\" + \"/en/\"\n",
    "    \n",
    "    #In the Graph: http://postdata.linhd.uned.es/resource/pw_juana-ines-de-la-cruz_sabras-querido-fabio\n",
    "    # On the platform: http://poetry.linhd.uned.es:3000/es/author/juana-ines-de-la-cruz/poetic-work/sabras-querido-fabio\n",
    "    #Split on \"_\"\n",
    "    \n",
    "    author_part = poem_uri.split(\"_\")[1]\n",
    "    title_part = poem_uri.split(\"_\")[2]\n",
    "    \n",
    "    poetry_lab_url = poetry_lab_base_url + \"author/\" + author_part + \"/poetic-work/\" + title_part\n",
    "    \n",
    "    return poetry_lab_url"
   ]
  },
  {
   "cell_type": "code",
   "execution_count": 174,
   "id": "977ff555",
   "metadata": {},
   "outputs": [
    {
     "data": {
      "text/plain": [
       "'http://poetry.linhd.uned.es:3000/en/author/juana-ines-de-la-cruz/poetic-work/sabras-querido-fabio'"
      ]
     },
     "execution_count": 174,
     "metadata": {},
     "output_type": "execute_result"
    }
   ],
   "source": [
    "work_uri_to_poetry_lab_url(poem_uri)"
   ]
  },
  {
   "cell_type": "code",
   "execution_count": 179,
   "id": "f53e76c5",
   "metadata": {},
   "outputs": [],
   "source": [
    "#in DraCor we have id/uri and a name. Don't know if this is feasible\n",
    "def work_uri_to_poem_name(poem_uri:str) -> str:\n",
    "    \"\"\"Convert the URI to a local name consisting of author + \"_\" + \"title\"\n",
    "    \"\"\"\n",
    "    author_part = poem_uri.split(\"_\")[1]\n",
    "    title_part = poem_uri.split(\"_\")[2]\n",
    "    \n",
    "    poem_name = author_part + \"_\" + title_part\n",
    "    \n",
    "    return poem_name"
   ]
  },
  {
   "cell_type": "code",
   "execution_count": 180,
   "id": "758195a1",
   "metadata": {},
   "outputs": [
    {
     "data": {
      "text/plain": [
       "'juana-ines-de-la-cruz_sabras-querido-fabio'"
      ]
     },
     "execution_count": 180,
     "metadata": {},
     "output_type": "execute_result"
    }
   ],
   "source": [
    "work_uri_to_poem_name(poem_uri)"
   ]
  },
  {
   "cell_type": "code",
   "execution_count": 164,
   "id": "55aea25a",
   "metadata": {},
   "outputs": [],
   "source": [
    "# do we have information on dates? \n",
    "# (need to sparql that in Stardog Studio first; probably look for all disitinct propertues in the work conception)"
   ]
  },
  {
   "cell_type": "code",
   "execution_count": 183,
   "id": "ef151986",
   "metadata": {},
   "outputs": [],
   "source": [
    "def get_poem_metadata(poem_uri:str) -> dict:\n",
    "    \"\"\"Get Metadata of a single poem.\n",
    "    \"\"\"\n",
    "    \n",
    "    poem_data = {}\n",
    "    poem_data[\"id\"] = poem_uri\n",
    "    \n",
    "    #don't know if this works; only for POSTDATA but assumes that the URIs are always structured the same way\n",
    "    poem_data[\"name\"] = work_uri_to_poem_name(poem_uri)\n",
    "    poem_data[\"title\"] = get_poem_title(poem_uri)\n",
    "    poem_data[\"authors\"] = get_authors_of_poem(poem_uri)\n",
    "    \n",
    "    # this only works for postdata\n",
    "    poem_data[\"source\"] = \"POSTDATA Poetry Lab\"\n",
    "    poem_data[\"sourceUrl\"] = work_uri_to_poetry_lab_url(poem_uri)\n",
    "    \n",
    "    return poem_data"
   ]
  },
  {
   "cell_type": "code",
   "execution_count": 184,
   "id": "ea9aa4c7",
   "metadata": {},
   "outputs": [
    {
     "data": {
      "text/plain": [
       "{'id': 'http://postdata.linhd.uned.es/resource/pw_juana-ines-de-la-cruz_sabras-querido-fabio',\n",
       " 'name': 'juana-ines-de-la-cruz_sabras-querido-fabio',\n",
       " 'title': 'Sabrás, querido Fabio',\n",
       " 'authors': [{'name': 'Juana Inés de la Cruz',\n",
       "   'id': 'http://postdata.linhd.uned.es/resource/p_juana-ines-de-la-cruz'}],\n",
       " 'source': 'POSTDATA Poetry Lab',\n",
       " 'sourceUrl': 'http://poetry.linhd.uned.es:3000/en/author/juana-ines-de-la-cruz/poetic-work/sabras-querido-fabio'}"
      ]
     },
     "execution_count": 184,
     "metadata": {},
     "output_type": "execute_result"
    }
   ],
   "source": [
    "#test this\n",
    "get_poem_metadata(poem_uri)"
   ]
  },
  {
   "cell_type": "markdown",
   "id": "efcead52",
   "metadata": {},
   "source": [
    "### List of Works need by DraCor frontend\n",
    "\n",
    "To create a view like https://dracor.org/ger we need to create an response like the endpoint https://dracor.org/doc/api#/public/list-corpus-content\n",
    "\n",
    "```\n",
    "{\n",
    "  \"description\": \"Edited by Daniil Skorinkin and Frank Fischer. Features a handful of plays in Tatar language, provided through Tatar Electronic Library.\",\n",
    "  \"title\": \"Tatar Drama Corpus\",\n",
    "  \"repository\": \"https://github.com/dracor-org/tatdracor\",\n",
    "  \"name\": \"tat\",\n",
    "  \"dramas\": [\n",
    "    {\n",
    "      \"writtenYear\": \"1908\",\n",
    "      \"wikidataId\": \"Q25556355\",\n",
    "      \"source\": \"Татарская электронная библиотека\",\n",
    "      \"id\": \"tat000001\",\n",
    "      \"title\": \"Беренче театр\",\n",
    "      \"sourceUrl\": \"http://kitap.net.ru/galiaskar/2.php\",\n",
    "      \"networkSize\": \"7\",\n",
    "      \"name\": \"qamal-berenche-teatr\",\n",
    "      \"yearNormalized\": 1908,\n",
    "      \"printYear\": null,\n",
    "      \"subtitle\": \"Комедия 1 пәрдәдә\",\n",
    "      \"premiereYear\": null,\n",
    "      \"authors\": [\n",
    "        {\n",
    "          \"name\": \"Камал, Галиәсгар\",\n",
    "          \"fullname\": \"Галиәсгар Камал\",\n",
    "          \"shortname\": \"Камал\",\n",
    "          \"refs\": [\n",
    "            {\n",
    "              \"ref\": \"Q2497099\",\n",
    "              \"type\": \"wikidata\"\n",
    "            }\n",
    "          ],\n",
    "          \"fullnameEn\": \"Ğäliäsğar Kamal\",\n",
    "          \"nameEn\": \"Kamal, Ğäliäsğar\",\n",
    "          \"shortnameEn\": \"Kamal\",\n",
    "          \"alsoKnownAs\": [\n",
    "            \"Ğäliäsğar Kamal\"\n",
    "          ]\n",
    "        }\n",
    "      ],\n",
    "      \"networkdataCsvUrl\": \"https://dracor.org/api/corpora/tat/play/qamal-berenche-teatr/networkdata/csv\",\n",
    "      \"author\": {\n",
    "        \"name\": \"Камал, Галиәсгар\"\n",
    "      },\n",
    "      \"subtitleEn\": \"Comedy in 1 Act\",\n",
    "      \"titleEn\": \"First Theatre\"\n",
    "    }\n",
    "  ],\n",
    "  \"acronym\": \"TatDraCor\"\n",
    "}\n",
    "```"
   ]
  },
  {
   "cell_type": "code",
   "execution_count": 189,
   "id": "558c63c8",
   "metadata": {},
   "outputs": [],
   "source": [
    "def get_poem_uris(corpus=None) -> list:\n",
    "    \"\"\"Helper function to get a list of URIs of PoeticWorks\n",
    "    \"\"\"\n",
    "    query = \"\"\"\n",
    "    PREFIX pdc: <http://postdata.linhd.uned.es/ontology/postdata-core#>\n",
    "\n",
    "    SELECT ?work WHERE {\n",
    "        ?work a pdc:PoeticWork .\n",
    "    }\n",
    "    LIMIT 1000000\n",
    "    \"\"\"\n",
    "    \n",
    "    sparql_results = sparql(query)\n",
    "    bindings = sparql_results[\"results\"][\"bindings\"]\n",
    "    \n",
    "    poem_uris = []\n",
    "    \n",
    "    for binding in bindings:\n",
    "        poem_uris.append(binding[\"work\"][\"value\"])\n",
    "    \n",
    "    return poem_uris"
   ]
  },
  {
   "cell_type": "code",
   "execution_count": 191,
   "id": "558b7cc9",
   "metadata": {},
   "outputs": [
    {
     "data": {
      "text/plain": [
       "1003"
      ]
     },
     "execution_count": 191,
     "metadata": {},
     "output_type": "execute_result"
    }
   ],
   "source": [
    "#get_poem_uris() returns a very long list\n",
    "len(get_poem_uris())"
   ]
  },
  {
   "cell_type": "code",
   "execution_count": 192,
   "id": "d5cf7b73",
   "metadata": {},
   "outputs": [],
   "source": [
    "def get_corpus_content(corpus=None) -> dict:\n",
    "    \"\"\"Returns metadata on the corpus.\n",
    "        \n",
    "        Similar to DraCor's https://dracor.org/doc/api#/public/list-corpus-content\n",
    "        \n",
    "        Returns:\n",
    "            dict: data on the corpus listing all the poems\n",
    "    \"\"\"\n",
    "    \n",
    "    corpus_data = get_corpus_info(metrics=False)\n",
    "    \n",
    "    corpus_data[\"poems\"] = []\n",
    "    \n",
    "    poem_uris = get_poem_uris()\n",
    "    \n",
    "    for poem_uri in poem_uris:\n",
    "        poem_data = get_poem_metadata(poem_uri)\n",
    "        corpus_data[\"poems\"].append(poem_data)\n",
    "    \n",
    "    return corpus_data"
   ]
  },
  {
   "cell_type": "code",
   "execution_count": 203,
   "id": "4805e291",
   "metadata": {},
   "outputs": [],
   "source": [
    "#%%time\n",
    "#this is a little bit slow, hmpf\n",
    "#uncomment to show\n",
    "#get_corpus_content()"
   ]
  },
  {
   "cell_type": "code",
   "execution_count": 200,
   "id": "8684884e",
   "metadata": {},
   "outputs": [],
   "source": [
    "#create example data for postman mock server\n",
    "example_data = get_corpus_content()\n",
    "with open(\"corpus_content_example.json\", \"w\", encoding='utf-8') as outfile:\n",
    "    json.dump(example_data, outfile, ensure_ascii=False)"
   ]
  },
  {
   "cell_type": "code",
   "execution_count": null,
   "id": "422cec28",
   "metadata": {},
   "outputs": [],
   "source": []
  }
 ],
 "metadata": {
  "kernelspec": {
   "display_name": "Python 3 (ipykernel)",
   "language": "python",
   "name": "python3"
  },
  "language_info": {
   "codemirror_mode": {
    "name": "ipython",
    "version": 3
   },
   "file_extension": ".py",
   "mimetype": "text/x-python",
   "name": "python",
   "nbconvert_exporter": "python",
   "pygments_lexer": "ipython3",
   "version": "3.9.12"
  }
 },
 "nbformat": 4,
 "nbformat_minor": 5
}

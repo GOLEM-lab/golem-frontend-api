{
 "cells": [
  {
   "cell_type": "markdown",
   "id": "b05eca81",
   "metadata": {},
   "source": [
    "# DraCor Postdata Middle-Ware Tyouts\n",
    "\n",
    "Prequisites: a running Stardog instance with a database `PD_KG` (imported the Postdata Knowledge Graph).\n",
    "Used this repo: https://github.com/dh-network/stardog-docker-compose; the data was supplied by POSTDATA. Imported it manually to the database as described in the repo.\n",
    "\n",
    "Used this to get started with Stardog: https://github.com/stardog-union/pystardog/blob/develop/notebooks/tutorial.ipynb"
   ]
  },
  {
   "cell_type": "code",
   "execution_count": 4,
   "id": "41c10b1f",
   "metadata": {},
   "outputs": [],
   "source": [
    "#use the official stardog package: https://pystardog.readthedocs.io/en/latest/\n",
    "import stardog"
   ]
  },
  {
   "cell_type": "code",
   "execution_count": 15,
   "id": "bb12f755",
   "metadata": {},
   "outputs": [],
   "source": [
    "#libraries, that are in the pystardog notebook; used to render the results as pd dataframes (maybe don't need them later)\n",
    "import io\n",
    "import pandas as pd"
   ]
  },
  {
   "cell_type": "markdown",
   "id": "8ddc9e4c",
   "metadata": {},
   "source": [
    "## Connect to stardog"
   ]
  },
  {
   "cell_type": "code",
   "execution_count": 6,
   "id": "cd6b8a7d",
   "metadata": {},
   "outputs": [],
   "source": [
    "# set sparql endpoint (stardog), user name and password\n",
    "database_name = \"PD_KG\"\n",
    "\n",
    "usr = \"admin\"\n",
    "pwd = \"admin\"\n",
    "\n",
    "endpoint = \"http://localhost:5820\""
   ]
  },
  {
   "cell_type": "code",
   "execution_count": 7,
   "id": "231f8daf",
   "metadata": {},
   "outputs": [],
   "source": [
    "#as in the pystardog notebook https://github.com/stardog-union/pystardog/blob/develop/notebooks/tutorial.ipynb\n",
    "connection_details = {\n",
    "  'endpoint': endpoint,\n",
    "  'username': usr,\n",
    "  'password': pwd\n",
    "}"
   ]
  },
  {
   "cell_type": "code",
   "execution_count": 8,
   "id": "b4d3c3f2",
   "metadata": {},
   "outputs": [],
   "source": [
    "conn = stardog.Connection(database_name, **connection_details)"
   ]
  },
  {
   "cell_type": "markdown",
   "id": "5db569e5",
   "metadata": {},
   "source": [
    "## Simple Test"
   ]
  },
  {
   "cell_type": "code",
   "execution_count": 10,
   "id": "fd5fe9c3",
   "metadata": {},
   "outputs": [],
   "source": [
    "query = \"\"\"\n",
    "SELECT * WHERE {\n",
    "  ?s ?p ?o\n",
    "}\n",
    "LIMIT 10\n",
    "\"\"\""
   ]
  },
  {
   "cell_type": "code",
   "execution_count": 11,
   "id": "59d0c3cd",
   "metadata": {},
   "outputs": [
    {
     "data": {
      "text/html": [
       "<div>\n",
       "<style scoped>\n",
       "    .dataframe tbody tr th:only-of-type {\n",
       "        vertical-align: middle;\n",
       "    }\n",
       "\n",
       "    .dataframe tbody tr th {\n",
       "        vertical-align: top;\n",
       "    }\n",
       "\n",
       "    .dataframe thead th {\n",
       "        text-align: right;\n",
       "    }\n",
       "</style>\n",
       "<table border=\"1\" class=\"dataframe\">\n",
       "  <thead>\n",
       "    <tr style=\"text-align: right;\">\n",
       "      <th></th>\n",
       "      <th>s</th>\n",
       "      <th>p</th>\n",
       "      <th>o</th>\n",
       "    </tr>\n",
       "  </thead>\n",
       "  <tbody>\n",
       "    <tr>\n",
       "      <th>0</th>\n",
       "      <td>http://postdata.linhd.uned.es/resource/a_unknown</td>\n",
       "      <td>http://postdata.linhd.uned.es/ontology/postdat...</td>\n",
       "      <td>UNKNOWN</td>\n",
       "    </tr>\n",
       "    <tr>\n",
       "      <th>1</th>\n",
       "      <td>http://postdata.linhd.uned.es/resource/st_1_te...</td>\n",
       "      <td>http://postdata.linhd.uned.es/ontology/postdat...</td>\n",
       "      <td>http://postdata.linhd.uned.es/kos/</td>\n",
       "    </tr>\n",
       "    <tr>\n",
       "      <th>2</th>\n",
       "      <td>http://postdata.linhd.uned.es/resource/st_1_te...</td>\n",
       "      <td>http://postdata.linhd.uned.es/ontology/postdat...</td>\n",
       "      <td>http://postdata.linhd.uned.es/kos/</td>\n",
       "    </tr>\n",
       "    <tr>\n",
       "      <th>3</th>\n",
       "      <td>http://postdata.linhd.uned.es/resource/st_1_te...</td>\n",
       "      <td>http://postdata.linhd.uned.es/ontology/postdat...</td>\n",
       "      <td>http://postdata.linhd.uned.es/kos/</td>\n",
       "    </tr>\n",
       "    <tr>\n",
       "      <th>4</th>\n",
       "      <td>http://postdata.linhd.uned.es/resource/st_1_lu...</td>\n",
       "      <td>http://postdata.linhd.uned.es/ontology/postdat...</td>\n",
       "      <td>http://postdata.linhd.uned.es/kos/</td>\n",
       "    </tr>\n",
       "  </tbody>\n",
       "</table>\n",
       "</div>"
      ],
      "text/plain": [
       "                                                   s  \\\n",
       "0   http://postdata.linhd.uned.es/resource/a_unknown   \n",
       "1  http://postdata.linhd.uned.es/resource/st_1_te...   \n",
       "2  http://postdata.linhd.uned.es/resource/st_1_te...   \n",
       "3  http://postdata.linhd.uned.es/resource/st_1_te...   \n",
       "4  http://postdata.linhd.uned.es/resource/st_1_lu...   \n",
       "\n",
       "                                                   p  \\\n",
       "0  http://postdata.linhd.uned.es/ontology/postdat...   \n",
       "1  http://postdata.linhd.uned.es/ontology/postdat...   \n",
       "2  http://postdata.linhd.uned.es/ontology/postdat...   \n",
       "3  http://postdata.linhd.uned.es/ontology/postdat...   \n",
       "4  http://postdata.linhd.uned.es/ontology/postdat...   \n",
       "\n",
       "                                    o  \n",
       "0                             UNKNOWN  \n",
       "1  http://postdata.linhd.uned.es/kos/  \n",
       "2  http://postdata.linhd.uned.es/kos/  \n",
       "3  http://postdata.linhd.uned.es/kos/  \n",
       "4  http://postdata.linhd.uned.es/kos/  "
      ]
     },
     "execution_count": 11,
     "metadata": {},
     "output_type": "execute_result"
    }
   ],
   "source": [
    "csv_results = conn.select(query, content_type='text/csv')\n",
    "df = pd.read_csv(io.BytesIO(csv_results))\n",
    "df.head()"
   ]
  },
  {
   "cell_type": "code",
   "execution_count": 12,
   "id": "d45b9786",
   "metadata": {},
   "outputs": [],
   "source": [
    "#to get a dictionary instead\n",
    "#query_results = conn.select(query)\n",
    "#type(query_results)"
   ]
  },
  {
   "cell_type": "code",
   "execution_count": 14,
   "id": "9d17452d",
   "metadata": {},
   "outputs": [],
   "source": [
    "#to clean the connection\n",
    "#conn.__exit__()"
   ]
  },
  {
   "cell_type": "markdown",
   "id": "1e74bc5f",
   "metadata": {},
   "source": [
    "## Helper Functions\n",
    "Setup functions to query and parse the results (e.g. as pd dataframe)."
   ]
  },
  {
   "cell_type": "code",
   "execution_count": 35,
   "id": "6ccd7009",
   "metadata": {},
   "outputs": [],
   "source": [
    "def sparql(query, parse=False):\n",
    "    \"\"\"\n",
    "    Helper function to send a SPARQL query to the Stardog (should have a connection `conn` established).\n",
    "    The optional parameter `parse` can be used to get a padas dataframe back. \n",
    "    \"\"\"\n",
    "    if parse:\n",
    "        csv_results = conn.select(query, content_type='text/csv')\n",
    "        df = pd.read_csv(io.BytesIO(csv_results))\n",
    "        return df\n",
    "    else:\n",
    "        results = conn.select(query)\n",
    "        return results"
   ]
  },
  {
   "cell_type": "code",
   "execution_count": 50,
   "id": "715677b6",
   "metadata": {},
   "outputs": [],
   "source": [
    "#inject <$> to queries\n",
    "def replace_placeholder(query,uri):\n",
    "    \"\"\"Replaces the placeholder in a query.\n",
    "    \"\"\"\n",
    "    placeholder = \"$\"\n",
    "    return query.replace(placeholder,uri)"
   ]
  },
  {
   "cell_type": "markdown",
   "id": "e6670287",
   "metadata": {},
   "source": [
    "## Query the Postdata Knowledge Graph\n",
    "I played around in Stardog Studio and came up with some queries. These need to be tested here and then eventually wrapped in functions to be used in an API."
   ]
  },
  {
   "cell_type": "markdown",
   "id": "49def82e",
   "metadata": {},
   "source": [
    "### poeticWorks"
   ]
  },
  {
   "cell_type": "markdown",
   "id": "57813611",
   "metadata": {},
   "source": [
    "#### List all works\n",
    "\n",
    "A \"poeticWork\" is of the class `http://postdata.linhd.uned.es/ontology/postdata-core#PoeticWork`."
   ]
  },
  {
   "cell_type": "code",
   "execution_count": 29,
   "id": "57925237",
   "metadata": {},
   "outputs": [],
   "source": [
    "query = \"\"\"\n",
    "PREFIX pdc: <http://postdata.linhd.uned.es/ontology/postdata-core#>\n",
    "\n",
    "SELECT ?work ?title WHERE {\n",
    "    ?work a pdc:PoeticWork ;\n",
    "          pdc:title ?title.\n",
    "}\n",
    "LIMIT 1000000\n",
    "\"\"\"\n",
    "# by default stardog returns 1.000 results only; need to set a LIMIT that exceeds the number of works expected "
   ]
  },
  {
   "cell_type": "code",
   "execution_count": 36,
   "id": "9b41cdc9",
   "metadata": {},
   "outputs": [],
   "source": [
    "#use the helper function to send the query\n",
    "results = sparql(query,parse=True)"
   ]
  },
  {
   "cell_type": "code",
   "execution_count": 37,
   "id": "ebd776c9",
   "metadata": {},
   "outputs": [
    {
     "data": {
      "text/plain": [
       "pandas.core.frame.DataFrame"
      ]
     },
     "execution_count": 37,
     "metadata": {},
     "output_type": "execute_result"
    }
   ],
   "source": [
    "type(results)"
   ]
  },
  {
   "cell_type": "code",
   "execution_count": 39,
   "id": "0f22a69d",
   "metadata": {},
   "outputs": [
    {
     "data": {
      "text/plain": [
       "1003"
      ]
     },
     "execution_count": 39,
     "metadata": {},
     "output_type": "execute_result"
    }
   ],
   "source": [
    "len(results)"
   ]
  },
  {
   "cell_type": "code",
   "execution_count": 40,
   "id": "c75c5397",
   "metadata": {},
   "outputs": [
    {
     "data": {
      "text/html": [
       "<div>\n",
       "<style scoped>\n",
       "    .dataframe tbody tr th:only-of-type {\n",
       "        vertical-align: middle;\n",
       "    }\n",
       "\n",
       "    .dataframe tbody tr th {\n",
       "        vertical-align: top;\n",
       "    }\n",
       "\n",
       "    .dataframe thead th {\n",
       "        text-align: right;\n",
       "    }\n",
       "</style>\n",
       "<table border=\"1\" class=\"dataframe\">\n",
       "  <thead>\n",
       "    <tr style=\"text-align: right;\">\n",
       "      <th></th>\n",
       "      <th>work</th>\n",
       "      <th>title</th>\n",
       "    </tr>\n",
       "  </thead>\n",
       "  <tbody>\n",
       "    <tr>\n",
       "      <th>0</th>\n",
       "      <td>http://postdata.linhd.uned.es/resource/pw_juan...</td>\n",
       "      <td>Sabrás, querido Fabio</td>\n",
       "    </tr>\n",
       "    <tr>\n",
       "      <th>1</th>\n",
       "      <td>http://postdata.linhd.uned.es/resource/pw_juan...</td>\n",
       "      <td>Divino dueño mío</td>\n",
       "    </tr>\n",
       "    <tr>\n",
       "      <th>2</th>\n",
       "      <td>http://postdata.linhd.uned.es/resource/pw_jaci...</td>\n",
       "      <td>En corros aquí y allí,</td>\n",
       "    </tr>\n",
       "    <tr>\n",
       "      <th>3</th>\n",
       "      <td>http://postdata.linhd.uned.es/resource/pw_pedr...</td>\n",
       "      <td>Al Marqués de Priego</td>\n",
       "    </tr>\n",
       "    <tr>\n",
       "      <th>4</th>\n",
       "      <td>http://postdata.linhd.uned.es/resource/pw_vice...</td>\n",
       "      <td>Part of:</td>\n",
       "    </tr>\n",
       "  </tbody>\n",
       "</table>\n",
       "</div>"
      ],
      "text/plain": [
       "                                                work                    title\n",
       "0  http://postdata.linhd.uned.es/resource/pw_juan...    Sabrás, querido Fabio\n",
       "1  http://postdata.linhd.uned.es/resource/pw_juan...         Divino dueño mío\n",
       "2  http://postdata.linhd.uned.es/resource/pw_jaci...  En corros aquí y allí, \n",
       "3  http://postdata.linhd.uned.es/resource/pw_pedr...     Al Marqués de Priego\n",
       "4  http://postdata.linhd.uned.es/resource/pw_vice...                Part of: "
      ]
     },
     "execution_count": 40,
     "metadata": {},
     "output_type": "execute_result"
    }
   ],
   "source": [
    "results.head()"
   ]
  },
  {
   "cell_type": "code",
   "execution_count": 41,
   "id": "f48cc1d7",
   "metadata": {},
   "outputs": [
    {
     "data": {
      "text/plain": [
       "'http://postdata.linhd.uned.es/resource/pw_juana-ines-de-la-cruz_sabras-querido-fabio'"
      ]
     },
     "execution_count": 41,
     "metadata": {},
     "output_type": "execute_result"
    }
   ],
   "source": [
    "# a simple uri of a work\n",
    "results[\"work\"][0]"
   ]
  },
  {
   "cell_type": "markdown",
   "id": "036de6d7",
   "metadata": {},
   "source": [
    "#### Works, Titles and Authors (Creators in the WorkConception)\n",
    "A \"poeticWork\" \"isRealisedThrough\" `<http://postdata.linhd.uned.es/ontology/postdata-core#isRealisedThrough>` a `<http://postdata.linhd.uned.es/ontology/postdata-core#WorkConception>`. \"WorkConception\".\n",
    "\n",
    "This \"WorkConception\" has a \"AgentRole \"`<http://postdata.linhd.uned.es/ontology/postdata-core#hasAgentRole>`; the property \"hasAgentRole\" connects it to a \"AgentRole\" `<http://postdata.linhd.uned.es/ontology/postdata-core#AgentRole>`.\n",
    "\n",
    "\"AgentRole\" can be classified with \"<http://postdata.linhd.uned.es/ontology/postdata-core#roleFunction>\" which links to the KOS, e.g. `<http://postdata.linhd.uned.es/kos/Creator>`. (This one should be used for the author).\n",
    "\n",
    "The Autor is connected to the \"AgentRole\" with the property \"hasAgent\" `<http://postdata.linhd.uned.es/ontology/postdata-core#hasAgent>`.\n",
    "\n",
    "\"Agent\" is a <http://postdata.linhd.uned.es/ontology/postdata-core#Person> .\n",
    "The \"Agent\" `pdc:name` has a Name (Literal!)."
   ]
  },
  {
   "cell_type": "code",
   "execution_count": 45,
   "id": "ad3a9240",
   "metadata": {},
   "outputs": [],
   "source": [
    "query = \"\"\"\n",
    "PREFIX pdc: <http://postdata.linhd.uned.es/ontology/postdata-core#>\n",
    "\n",
    "SELECT ?Work ?Title ?Agent ?Name WHERE {\n",
    "    ?Work a pdc:PoeticWork ;\n",
    "        pdc:title ?Title .\n",
    "    \n",
    "    OPTIONAL { \n",
    "        ?Work pdc:wasInitiatedBy ?WorkConception .\n",
    "        \n",
    "        ?WorkConception pdc:hasAgentRole ?AgentRole .\n",
    "        \n",
    "        ?AgentRole pdc:roleFunction <http://postdata.linhd.uned.es/kos/Creator> ; \n",
    "                   pdc:hasAgent ?Agent .\n",
    "        \n",
    "        ?Agent pdc:name ?Name .\n",
    "    }\n",
    "}\n",
    "LIMIT 1000000\n",
    "\"\"\""
   ]
  },
  {
   "cell_type": "code",
   "execution_count": 46,
   "id": "c3cba47e",
   "metadata": {},
   "outputs": [
    {
     "data": {
      "text/html": [
       "<div>\n",
       "<style scoped>\n",
       "    .dataframe tbody tr th:only-of-type {\n",
       "        vertical-align: middle;\n",
       "    }\n",
       "\n",
       "    .dataframe tbody tr th {\n",
       "        vertical-align: top;\n",
       "    }\n",
       "\n",
       "    .dataframe thead th {\n",
       "        text-align: right;\n",
       "    }\n",
       "</style>\n",
       "<table border=\"1\" class=\"dataframe\">\n",
       "  <thead>\n",
       "    <tr style=\"text-align: right;\">\n",
       "      <th></th>\n",
       "      <th>Work</th>\n",
       "      <th>Title</th>\n",
       "      <th>Agent</th>\n",
       "      <th>Name</th>\n",
       "    </tr>\n",
       "  </thead>\n",
       "  <tbody>\n",
       "    <tr>\n",
       "      <th>0</th>\n",
       "      <td>http://postdata.linhd.uned.es/resource/pw_juan...</td>\n",
       "      <td>Sabrás, querido Fabio</td>\n",
       "      <td>http://postdata.linhd.uned.es/resource/p_juana...</td>\n",
       "      <td>Juana Inés de la Cruz</td>\n",
       "    </tr>\n",
       "    <tr>\n",
       "      <th>1</th>\n",
       "      <td>http://postdata.linhd.uned.es/resource/pw_juan...</td>\n",
       "      <td>Divino dueño mío</td>\n",
       "      <td>http://postdata.linhd.uned.es/resource/p_juana...</td>\n",
       "      <td>Juana Inés de la Cruz</td>\n",
       "    </tr>\n",
       "    <tr>\n",
       "      <th>2</th>\n",
       "      <td>http://postdata.linhd.uned.es/resource/pw_jaci...</td>\n",
       "      <td>En corros aquí y allí,</td>\n",
       "      <td>http://postdata.linhd.uned.es/resource/p_jacin...</td>\n",
       "      <td>Jacinto Polo de Medina</td>\n",
       "    </tr>\n",
       "    <tr>\n",
       "      <th>3</th>\n",
       "      <td>http://postdata.linhd.uned.es/resource/pw_pedr...</td>\n",
       "      <td>Al Marqués de Priego</td>\n",
       "      <td>http://postdata.linhd.uned.es/resource/p_pedro...</td>\n",
       "      <td>Pedro Fernández Marañón</td>\n",
       "    </tr>\n",
       "    <tr>\n",
       "      <th>4</th>\n",
       "      <td>http://postdata.linhd.uned.es/resource/pw_vice...</td>\n",
       "      <td>Part of:</td>\n",
       "      <td>http://postdata.linhd.uned.es/resource/p_vicen...</td>\n",
       "      <td>Vicente Wenceslao Querolt</td>\n",
       "    </tr>\n",
       "  </tbody>\n",
       "</table>\n",
       "</div>"
      ],
      "text/plain": [
       "                                                Work                    Title  \\\n",
       "0  http://postdata.linhd.uned.es/resource/pw_juan...    Sabrás, querido Fabio   \n",
       "1  http://postdata.linhd.uned.es/resource/pw_juan...         Divino dueño mío   \n",
       "2  http://postdata.linhd.uned.es/resource/pw_jaci...  En corros aquí y allí,    \n",
       "3  http://postdata.linhd.uned.es/resource/pw_pedr...     Al Marqués de Priego   \n",
       "4  http://postdata.linhd.uned.es/resource/pw_vice...                Part of:    \n",
       "\n",
       "                                               Agent  \\\n",
       "0  http://postdata.linhd.uned.es/resource/p_juana...   \n",
       "1  http://postdata.linhd.uned.es/resource/p_juana...   \n",
       "2  http://postdata.linhd.uned.es/resource/p_jacin...   \n",
       "3  http://postdata.linhd.uned.es/resource/p_pedro...   \n",
       "4  http://postdata.linhd.uned.es/resource/p_vicen...   \n",
       "\n",
       "                        Name  \n",
       "0      Juana Inés de la Cruz  \n",
       "1      Juana Inés de la Cruz  \n",
       "2     Jacinto Polo de Medina  \n",
       "3    Pedro Fernández Marañón  \n",
       "4  Vicente Wenceslao Querolt  "
      ]
     },
     "execution_count": 46,
     "metadata": {},
     "output_type": "execute_result"
    }
   ],
   "source": [
    "results = sparql(query,parse=True)\n",
    "results.head()"
   ]
  },
  {
   "cell_type": "code",
   "execution_count": 47,
   "id": "fa1a9eae",
   "metadata": {},
   "outputs": [
    {
     "data": {
      "text/plain": [
       "1003"
      ]
     },
     "execution_count": 47,
     "metadata": {},
     "output_type": "execute_result"
    }
   ],
   "source": [
    "len(results)"
   ]
  },
  {
   "cell_type": "markdown",
   "id": "527bf7e1",
   "metadata": {},
   "source": [
    "Obviously, there are no poems with more than one author. But this could happen, so maybe the query needs to be adapted."
   ]
  },
  {
   "cell_type": "markdown",
   "id": "b6f9beeb",
   "metadata": {},
   "source": [
    "#### Author(s) of a given PoeticWork\n",
    "\n",
    "Adapted query of the one above to get the authors by a given PoeticWork."
   ]
  },
  {
   "cell_type": "code",
   "execution_count": 54,
   "id": "0ccc4415",
   "metadata": {},
   "outputs": [],
   "source": [
    "query = \"\"\"\n",
    "PREFIX pdc: <http://postdata.linhd.uned.es/ontology/postdata-core#>\n",
    "\n",
    "SELECT ?Agent ?Name WHERE {\n",
    "    <$> a pdc:PoeticWork ;\n",
    "        pdc:wasInitiatedBy ?WorkConception .\n",
    "        \n",
    "        ?WorkConception pdc:hasAgentRole ?AgentRole .\n",
    "        \n",
    "        ?AgentRole pdc:roleFunction <http://postdata.linhd.uned.es/kos/Creator> ; \n",
    "                   pdc:hasAgent ?Agent .\n",
    "        \n",
    "        OPTIONAL {\n",
    "            ?Agent pdc:name ?Name .\n",
    "        }\n",
    "}\n",
    "\"\"\""
   ]
  },
  {
   "cell_type": "code",
   "execution_count": 56,
   "id": "d8484c82",
   "metadata": {},
   "outputs": [
    {
     "name": "stdout",
     "output_type": "stream",
     "text": [
      "\n",
      "PREFIX pdc: <http://postdata.linhd.uned.es/ontology/postdata-core#>\n",
      "\n",
      "SELECT ?Agent ?Name WHERE {\n",
      "    <http://postdata.linhd.uned.es/resource/pw_juana-ines-de-la-cruz_sabras-querido-fabio> a pdc:PoeticWork ;\n",
      "        pdc:wasInitiatedBy ?WorkConception .\n",
      "        \n",
      "        ?WorkConception pdc:hasAgentRole ?AgentRole .\n",
      "        \n",
      "        ?AgentRole pdc:roleFunction <http://postdata.linhd.uned.es/kos/Creator> ; \n",
      "                   pdc:hasAgent ?Agent .\n",
      "        \n",
      "        OPTIONAL {\n",
      "            ?Agent pdc:name ?Name .\n",
      "        }\n",
      "}\n",
      "\n"
     ]
    }
   ],
   "source": [
    "uri = \"http://postdata.linhd.uned.es/resource/pw_juana-ines-de-la-cruz_sabras-querido-fabio\"\n",
    "print(replace_placeholder(query,uri))\n",
    "results = sparql(replace_placeholder(query,uri))"
   ]
  },
  {
   "cell_type": "code",
   "execution_count": 57,
   "id": "23788b80",
   "metadata": {},
   "outputs": [
    {
     "data": {
      "text/plain": [
       "{'head': {'vars': ['Agent', 'Name']},\n",
       " 'results': {'bindings': [{'Agent': {'type': 'uri',\n",
       "     'value': 'http://postdata.linhd.uned.es/resource/p_juana-ines-de-la-cruz'},\n",
       "    'Name': {'type': 'literal', 'value': 'Juana Inés de la Cruz'}}]}}"
      ]
     },
     "execution_count": 57,
     "metadata": {},
     "output_type": "execute_result"
    }
   ],
   "source": [
    "results"
   ]
  },
  {
   "cell_type": "markdown",
   "id": "9d1c7156",
   "metadata": {},
   "source": [
    "An endpoint to get creators of a poem `/corpora/{corpus}/poems/{poem}/authors` could return something along the lines of DraCor API `https://dracor.org/api/corpora/{corpus}/play/{play}`:\n",
    "\n",
    "```\n",
    "\"authors\": [\n",
    "    {\n",
    "      \"name\": \"Lessing, Gotthold Ephraim\",\n",
    "      \"fullname\": \"Gotthold Ephraim Lessing\",\n",
    "      \"shortname\": \"Lessing\",\n",
    "      \"refs\": [\n",
    "        {\n",
    "          \"ref\": \"Q34628\",\n",
    "          \"type\": \"wikidata\"\n",
    "        },\n",
    "        {\n",
    "          \"ref\": \"118572121\",\n",
    "          \"type\": \"pnd\"\n",
    "        }\n",
    "      ]\n",
    "    }\n",
    "  ]\n",
    "```"
   ]
  },
  {
   "cell_type": "code",
   "execution_count": 93,
   "id": "0d3757cf",
   "metadata": {},
   "outputs": [],
   "source": [
    "def get_authors_of_poem(poem_uri:str) -> list:\n",
    "    \"\"\"Get the autors \n",
    "    Returns the agents in an AgentRole with the roleFunction of \"creator\".\n",
    "    \n",
    "    Args:\n",
    "        poem_uri (str): URI of a poeticWork\n",
    "    Returns:\n",
    "        list: List of dictionaries containg information on author name and id = uri.\n",
    "    \"\"\"\n",
    "    \n",
    "    query = \"\"\"\n",
    "        PREFIX pdc: <http://postdata.linhd.uned.es/ontology/postdata-core#>\n",
    "\n",
    "        SELECT ?Agent ?Name WHERE {\n",
    "            <$> a pdc:PoeticWork ;\n",
    "            pdc:wasInitiatedBy ?WorkConception .\n",
    "        \n",
    "            ?WorkConception pdc:hasAgentRole ?AgentRole .\n",
    "        \n",
    "            ?AgentRole pdc:roleFunction <http://postdata.linhd.uned.es/kos/Creator> ; \n",
    "                   pdc:hasAgent ?Agent .\n",
    "        \n",
    "            OPTIONAL {\n",
    "                ?Agent pdc:name ?Name .\n",
    "            }\n",
    "    }\n",
    "    \"\"\"\n",
    "    sparql_results = sparql(replace_placeholder(query,poem_uri))\n",
    "    \n",
    "    authors = []\n",
    "    for binding in sparql_results[\"results\"][\"bindings\"]:\n",
    "        author = {}\n",
    "        author[\"name\"] = binding[\"Name\"][\"value\"]\n",
    "        author[\"id\"] = binding[\"Agent\"][\"value\"]\n",
    "        authors.append(author)\n",
    "        \n",
    "    \n",
    "    return authors"
   ]
  },
  {
   "cell_type": "code",
   "execution_count": 94,
   "id": "fb7f87db",
   "metadata": {},
   "outputs": [
    {
     "data": {
      "text/plain": [
       "[{'name': 'Juana Inés de la Cruz',\n",
       "  'id': 'http://postdata.linhd.uned.es/resource/p_juana-ines-de-la-cruz'}]"
      ]
     },
     "execution_count": 94,
     "metadata": {},
     "output_type": "execute_result"
    }
   ],
   "source": [
    "get_authors_of_poem(uri)"
   ]
  },
  {
   "cell_type": "markdown",
   "id": "6b69ba72",
   "metadata": {},
   "source": [
    "#### Information on a single corpus (the whole graph)\n",
    "DraCor's endpoint `/corpora` returns information on all corpora in the database. This endpoint is used to display the stats by setting the parameter `include=metrics`. See https://dracor.org/doc/api#/public/list-corpora. The data on a single corpus:\n",
    "\n",
    "```\n",
    "{\n",
    "    \"licence\": \"CC BY-NC 3.0\",\n",
    "    \"licenceUrl\": \"https://creativecommons.org/licenses/by-nc/3.0/deed.en_US\",\n",
    "    \"description\": \"Derived from the [Folger Shakespeare Library](https://shakespeare.folger.edu/). Enhancements documented in our [README at GitHub](https://github.com/dracor-org/shakedracor).\",\n",
    "    \"uri\": \"https://dracor.org/api/corpora/shake\",\n",
    "    \"title\": \"Shakespeare Drama Corpus\",\n",
    "    \"name\": \"shake\",\n",
    "    \"acronym\": \"ShakeDraCor\",\n",
    "    \"metrics\": {\n",
    "      \"plays\": 37,\n",
    "      \"characters\": 1433,\n",
    "      \"male\": 797,\n",
    "      \"female\": 116,\n",
    "      \"text\": 37,\n",
    "      \"sp\": 31066,\n",
    "      \"stage\": 10450,\n",
    "      \"wordcount\": {\n",
    "        \"text\": 908286,\n",
    "        \"sp\": 876744,\n",
    "        \"stage\": 41230\n",
    "      },\n",
    "      \"updated\": \"2022-07-02T23:36:24.109+02:00\"\n",
    "    },\n",
    "    \"repository\": \"https://github.com/dracor-org/shakedracor\"\n",
    "  }\n",
    "```\n",
    "We can not really list \"corpora\" in the POSTDATA Knowledge Graph because there is only one included, but stil we have to implement an endpoint that would provide information for the frontpage.\n",
    "\n",
    "We can at least provide some metrics, e.g.\n",
    "\n",
    "```\n",
    "\"metrics\": {\n",
    "      \"authors\" : 1,\n",
    "      \"poems\": 1,\n",
    "      \"stanzas\": 1,\n",
    "      \"verses\": 1,\n",
    "      \"words\" : 1\n",
    "      }\n",
    "```"
   ]
  },
  {
   "cell_type": "code",
   "execution_count": 105,
   "id": "fa988303",
   "metadata": {},
   "outputs": [],
   "source": [
    "def count_poeticWorks(corpus=None) -> int:\n",
    "    \"\"\"Count poeticWorks in a corpus.\n",
    "    \n",
    "    Returns:\n",
    "        int: Number of poetic works/poems.\n",
    "        \n",
    "    TODO: handle multiple corpora\n",
    "    \"\"\"\n",
    "    \n",
    "    query = \"\"\"\n",
    "    PREFIX pdc: <http://postdata.linhd.uned.es/ontology/postdata-core#>\n",
    "    \n",
    "    SELECT (COUNT(?poeticWork) AS ?count) WHERE {\n",
    "    ?poeticWork a pdc:PoeticWork .\n",
    "    } \n",
    "    LIMIT 1000000\n",
    "    \"\"\"\n",
    "    \n",
    "    sparql_results = sparql(query)\n",
    "    work_count = int(sparql_results[\"results\"][\"bindings\"][0][\"count\"][\"value\"])\n",
    "    \n",
    "    return work_count"
   ]
  },
  {
   "cell_type": "code",
   "execution_count": 106,
   "id": "6db14744",
   "metadata": {},
   "outputs": [
    {
     "data": {
      "text/plain": [
       "1003"
      ]
     },
     "execution_count": 106,
     "metadata": {},
     "output_type": "execute_result"
    }
   ],
   "source": [
    "count_poeticWorks()"
   ]
  },
  {
   "cell_type": "code",
   "execution_count": 113,
   "id": "5685af1d",
   "metadata": {},
   "outputs": [],
   "source": [
    "def count_Stanzas(corpus=None) -> int:\n",
    "    \"\"\"Count stanzas in a corpus.\n",
    "    \n",
    "    Returns:\n",
    "        int: Number of stanzas.\n",
    "        \n",
    "    TODO: handle multiple corpora\n",
    "    \"\"\"\n",
    "    \n",
    "    query = \"\"\"\n",
    "    PREFIX pdp: <http://postdata.linhd.uned.es/ontology/postdata-poeticAnalysis#>\n",
    "    \n",
    "    SELECT (COUNT(?Stanza) AS ?count) WHERE {\n",
    "    ?Stanza a pdp:Stanza .\n",
    "    } \n",
    "    LIMIT 1000000\n",
    "    \"\"\"\n",
    "    \n",
    "    sparql_results = sparql(query)\n",
    "    stanza_count = int(sparql_results[\"results\"][\"bindings\"][0][\"count\"][\"value\"])\n",
    "    return stanza_count"
   ]
  },
  {
   "cell_type": "code",
   "execution_count": 114,
   "id": "1c23de17",
   "metadata": {},
   "outputs": [
    {
     "data": {
      "text/plain": [
       "5109"
      ]
     },
     "execution_count": 114,
     "metadata": {},
     "output_type": "execute_result"
    }
   ],
   "source": [
    "count_Stanzas()"
   ]
  },
  {
   "cell_type": "code",
   "execution_count": null,
   "id": "692c2b96",
   "metadata": {},
   "outputs": [],
   "source": [
    "# general function to entites of type in graph."
   ]
  },
  {
   "cell_type": "code",
   "execution_count": null,
   "id": "0af0a334",
   "metadata": {},
   "outputs": [],
   "source": [
    "#count verses and words."
   ]
  },
  {
   "cell_type": "markdown",
   "id": "2a9ffc9a",
   "metadata": {},
   "source": [
    "## DraCor specific boilderplate"
   ]
  },
  {
   "cell_type": "markdown",
   "id": "367fdf25",
   "metadata": {},
   "source": [
    "DraCor API returns for a single play `https://dracor.org/api/corpora/ger/play/lessing-emilia-galotti`:\n",
    "```\n",
    "{\n",
    "  \"id\": \"ger000088\",\n",
    "  \"name\": \"lessing-emilia-galotti\",\n",
    "  \"corpus\": \"ger\",\n",
    "  \"title\": \"Emilia Galotti\",\n",
    "  \"author\": {\n",
    "    \"name\": \"Lessing, Gotthold Ephraim\",\n",
    "    \"warning\": \"The single author property is deprecated. Use the array of 'authors' instead!\"\n",
    "  },\n",
    "  \"authors\": [\n",
    "    {\n",
    "      \"name\": \"Lessing, Gotthold Ephraim\",\n",
    "      \"fullname\": \"Gotthold Ephraim Lessing\",\n",
    "      \"shortname\": \"Lessing\",\n",
    "      \"refs\": [\n",
    "        {\n",
    "          \"ref\": \"Q34628\",\n",
    "          \"type\": \"wikidata\"\n",
    "        },\n",
    "        {\n",
    "          \"ref\": \"118572121\",\n",
    "          \"type\": \"pnd\"\n",
    "        }\n",
    "      ]\n",
    "    }\n",
    "  ],\n",
    "  \"genre\": \"Tragedy\",\n",
    "  \"libretto\": false,\n",
    "  \"allInSegment\": 30,\n",
    "  \"allInIndex\": 0.6976744186046512,\n",
    "  \"cast\": [...],\n",
    "  \"segments\": [...],\n",
    "  \"yearWritten\": null,\n",
    "  \"yearPremiered\": \"1772-03-13\",\n",
    "  \"yearPrinted\": \"1772\",\n",
    "  \"yearNormalized\": 1772,\n",
    "  \"wikidataId\": \"Q782653\",\n",
    "  \"subtitle\": \"Ein Trauerspiel in fünf Aufzügen\",\n",
    "  \"relations\": [...],\n",
    "  \"source\": {\n",
    "    \"name\": \"TextGrid Repository\",\n",
    "    \"url\": \"http://www.textgridrep.org/textgrid:rksp.0\"\n",
    "  },\n",
    "  \"originalSource\": \"Gotthold Ephraim Lessing: Werke. Herausgegeben von Herbert G. Göpfert in Zusammenarbeit mit Karl Eibl, Helmut Göbel, Karl S. Guthke, Gerd Hillen, Albert von Schirmding und Jörg Schönert, Band 1–8, München: Hanser, 1970 ff.\"\n",
    "}\n",
    "```"
   ]
  },
  {
   "cell_type": "code",
   "execution_count": null,
   "id": "a4802168",
   "metadata": {},
   "outputs": [],
   "source": []
  }
 ],
 "metadata": {
  "kernelspec": {
   "display_name": "Python 3 (ipykernel)",
   "language": "python",
   "name": "python3"
  },
  "language_info": {
   "codemirror_mode": {
    "name": "ipython",
    "version": 3
   },
   "file_extension": ".py",
   "mimetype": "text/x-python",
   "name": "python",
   "nbconvert_exporter": "python",
   "pygments_lexer": "ipython3",
   "version": "3.9.12"
  }
 },
 "nbformat": 4,
 "nbformat_minor": 5
}

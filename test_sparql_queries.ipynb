{
 "cells": [
  {
   "cell_type": "code",
   "execution_count": 1,
   "id": "f4a7f300",
   "metadata": {},
   "outputs": [],
   "source": [
    "# import a predefined query\n",
    "from sparql_queries import CorpusMetrics"
   ]
  },
  {
   "cell_type": "code",
   "execution_count": 2,
   "id": "cc00fa11",
   "metadata": {},
   "outputs": [],
   "source": [
    "# instantiate it\n",
    "MyQuery = CorpusMetrics()"
   ]
  },
  {
   "cell_type": "code",
   "execution_count": 3,
   "id": "9c935be5",
   "metadata": {},
   "outputs": [
    {
     "name": "stdout",
     "output_type": "stream",
     "text": [
      "Corpus Metrics: \n",
      "    Get all metrics of a corpus identified by URI\n",
      "    \n"
     ]
    }
   ],
   "source": [
    "# explain method provides a short description of the query\n",
    "print(MyQuery.explain())"
   ]
  },
  {
   "cell_type": "code",
   "execution_count": 4,
   "id": "b0052667",
   "metadata": {},
   "outputs": [
    {
     "name": "stdout",
     "output_type": "stream",
     "text": [
      "\n",
      "        SELECT ?dimensionURI ?value WHERE {\n",
      "            <$1> crm:P43_has_dimension ?dimensionURI .\n",
      "            ?dimensionURI crm:P90_has_value ?value .\n",
      "            ?dimensionURI rdfs:label ?dimension .\n",
      "        }\n",
      "        \n"
     ]
    }
   ],
   "source": [
    "# output the template\n",
    "print(MyQuery.template)"
   ]
  },
  {
   "cell_type": "code",
   "execution_count": 5,
   "id": "0913f193",
   "metadata": {},
   "outputs": [],
   "source": [
    "# query needs to be prepared (insert namespace prefixes)\n",
    "MyQuery.prepare()"
   ]
  },
  {
   "cell_type": "code",
   "execution_count": 6,
   "id": "f2e39755",
   "metadata": {},
   "outputs": [
    {
     "name": "stdout",
     "output_type": "stream",
     "text": [
      "PREFIX gd: <http://golemlab.eu/data/>\n",
      "PREFIX crm: <http://www.cidoc-crm.org/cidoc-crm/>\n",
      "PREFIX owl: <http://www.w3.org/2002/07/owl#>\n",
      "PREFIX xsd: <http://www.w3.org/2001/XMLSchema#>\n",
      "PREFIX cls: <http://clscor.io/ontology/>\n",
      "PREFIX go: <http://golemlab.eu/ontology/>\n",
      "PREFIX rdfs: <http://www.w3.org/2000/01/rdf-schema#>\n",
      "PREFIX nif: <http://persistence.uni-leipzig.org/nlp2rdf/ontologies/nif-core#>\n",
      "        SELECT ?dimensionURI ?value WHERE {\n",
      "            <$1> crm:P43_has_dimension ?dimensionURI .\n",
      "            ?dimensionURI crm:P90_has_value ?value .\n",
      "            ?dimensionURI rdfs:label ?dimension .\n",
      "        }\n",
      "        \n"
     ]
    }
   ],
   "source": [
    "print(MyQuery.query)"
   ]
  },
  {
   "cell_type": "code",
   "execution_count": 7,
   "id": "e37c2e64",
   "metadata": {},
   "outputs": [
    {
     "data": {
      "text/plain": [
       "True"
      ]
     },
     "execution_count": 7,
     "metadata": {},
     "output_type": "execute_result"
    }
   ],
   "source": [
    "# there is still a variable in it,need to inject an uri\n",
    "corpus_uri = \"http://golemlab.eu/data/\" + \"potter_corpus\" # only full URIs work\n",
    "MyQuery.inject([corpus_uri])"
   ]
  },
  {
   "cell_type": "code",
   "execution_count": 8,
   "id": "6848c76c",
   "metadata": {},
   "outputs": [
    {
     "name": "stdout",
     "output_type": "stream",
     "text": [
      "PREFIX gd: <http://golemlab.eu/data/>\n",
      "PREFIX crm: <http://www.cidoc-crm.org/cidoc-crm/>\n",
      "PREFIX owl: <http://www.w3.org/2002/07/owl#>\n",
      "PREFIX xsd: <http://www.w3.org/2001/XMLSchema#>\n",
      "PREFIX cls: <http://clscor.io/ontology/>\n",
      "PREFIX go: <http://golemlab.eu/ontology/>\n",
      "PREFIX rdfs: <http://www.w3.org/2000/01/rdf-schema#>\n",
      "PREFIX nif: <http://persistence.uni-leipzig.org/nlp2rdf/ontologies/nif-core#>\n",
      "        SELECT ?dimensionURI ?value WHERE {\n",
      "            <http://golemlab.eu/data/potter_corpus> crm:P43_has_dimension ?dimensionURI .\n",
      "            ?dimensionURI crm:P90_has_value ?value .\n",
      "            ?dimensionURI rdfs:label ?dimension .\n",
      "        }\n",
      "        \n"
     ]
    }
   ],
   "source": [
    "# Variable should be replaced\n",
    "print(MyQuery.query)"
   ]
  },
  {
   "cell_type": "code",
   "execution_count": 9,
   "id": "7f43860a",
   "metadata": {},
   "outputs": [],
   "source": [
    "from sparql import DB"
   ]
  },
  {
   "cell_type": "code",
   "execution_count": 10,
   "id": "f9147d78",
   "metadata": {},
   "outputs": [],
   "source": [
    "#setup sparql connection\n",
    "virtuoso = DB(triplestore=\"virtuoso\", protocol=\"http\",url=\"localhost\",port=\"8890\")"
   ]
  },
  {
   "cell_type": "code",
   "execution_count": 11,
   "id": "3777fcb1",
   "metadata": {},
   "outputs": [
    {
     "data": {
      "text/plain": [
       "True"
      ]
     },
     "execution_count": 11,
     "metadata": {},
     "output_type": "execute_result"
    }
   ],
   "source": [
    "#execute the query; need to pass the database connection\n",
    "MyQuery.execute(virtuoso)"
   ]
  },
  {
   "cell_type": "code",
   "execution_count": 12,
   "id": "69b29cfe",
   "metadata": {},
   "outputs": [
    {
     "data": {
      "text/plain": [
       "{'head': {'link': [], 'vars': ['dimensionURI', 'value']},\n",
       " 'results': {'distinct': False,\n",
       "  'ordered': True,\n",
       "  'bindings': [{'dimensionURI': {'type': 'uri',\n",
       "     'value': 'http://golemlab.eu/data/potter_corpus/measurement/number_of_male_characters'},\n",
       "    'value': {'type': 'typed-literal',\n",
       "     'datatype': 'http://www.w3.org/2001/XMLSchema#int',\n",
       "     'value': '10'}},\n",
       "   {'dimensionURI': {'type': 'uri',\n",
       "     'value': 'http://golemlab.eu/data/potter_corpus/measurement/number_of_chapters'},\n",
       "    'value': {'type': 'typed-literal',\n",
       "     'datatype': 'http://www.w3.org/2001/XMLSchema#int',\n",
       "     'value': '700000'}},\n",
       "   {'dimensionURI': {'type': 'uri',\n",
       "     'value': 'http://golemlab.eu/data/potter_corpus/measurement/number_of_characters'},\n",
       "    'value': {'type': 'typed-literal',\n",
       "     'datatype': 'http://www.w3.org/2001/XMLSchema#int',\n",
       "     'value': '20'}},\n",
       "   {'dimensionURI': {'type': 'uri',\n",
       "     'value': 'http://golemlab.eu/data/potter_corpus/measurement/number_of_comments'},\n",
       "    'value': {'type': 'typed-literal',\n",
       "     'datatype': 'http://www.w3.org/2001/XMLSchema#int',\n",
       "     'value': '123'}},\n",
       "   {'dimensionURI': {'type': 'uri',\n",
       "     'value': 'http://golemlab.eu/data/potter_corpus/measurement/number_of_documents'},\n",
       "    'value': {'type': 'typed-literal',\n",
       "     'datatype': 'http://www.w3.org/2001/XMLSchema#int',\n",
       "     'value': '200000'}},\n",
       "   {'dimensionURI': {'type': 'uri',\n",
       "     'value': 'http://golemlab.eu/data/potter_corpus/measurement/number_of_female_characters'},\n",
       "    'value': {'type': 'typed-literal',\n",
       "     'datatype': 'http://www.w3.org/2001/XMLSchema#int',\n",
       "     'value': '8'}},\n",
       "   {'dimensionURI': {'type': 'uri',\n",
       "     'value': 'http://golemlab.eu/data/potter_corpus/measurement/number_of_nonbinary_characters'},\n",
       "    'value': {'type': 'typed-literal',\n",
       "     'datatype': 'http://www.w3.org/2001/XMLSchema#int',\n",
       "     'value': '2'}},\n",
       "   {'dimensionURI': {'type': 'uri',\n",
       "     'value': 'http://golemlab.eu/data/potter_corpus/measurement/number_of_paragraphs'},\n",
       "    'value': {'type': 'typed-literal',\n",
       "     'datatype': 'http://www.w3.org/2001/XMLSchema#int',\n",
       "     'value': '9000000'}},\n",
       "   {'dimensionURI': {'type': 'uri',\n",
       "     'value': 'http://golemlab.eu/data/potter_corpus/measurement/number_of_words-comments'},\n",
       "    'value': {'type': 'typed-literal',\n",
       "     'datatype': 'http://www.w3.org/2001/XMLSchema#int',\n",
       "     'value': '123000'}},\n",
       "   {'dimensionURI': {'type': 'uri',\n",
       "     'value': 'http://golemlab.eu/data/potter_corpus/measurement/number_of_words-text'},\n",
       "    'value': {'type': 'typed-literal',\n",
       "     'datatype': 'http://www.w3.org/2001/XMLSchema#int',\n",
       "     'value': '2000000000'}}]}}"
      ]
     },
     "execution_count": 12,
     "metadata": {},
     "output_type": "execute_result"
    }
   ],
   "source": [
    "# show the results\n",
    "MyQuery.results.dump()"
   ]
  },
  {
   "cell_type": "code",
   "execution_count": 13,
   "id": "7fa0f16a",
   "metadata": {},
   "outputs": [
    {
     "data": {
      "text/plain": [
       "[{'dimensionURI': 'http://golemlab.eu/data/potter_corpus/measurement/number_of_male_characters',\n",
       "  'value': 10},\n",
       " {'dimensionURI': 'http://golemlab.eu/data/potter_corpus/measurement/number_of_chapters',\n",
       "  'value': 700000},\n",
       " {'dimensionURI': 'http://golemlab.eu/data/potter_corpus/measurement/number_of_characters',\n",
       "  'value': 20},\n",
       " {'dimensionURI': 'http://golemlab.eu/data/potter_corpus/measurement/number_of_comments',\n",
       "  'value': 123},\n",
       " {'dimensionURI': 'http://golemlab.eu/data/potter_corpus/measurement/number_of_documents',\n",
       "  'value': 200000},\n",
       " {'dimensionURI': 'http://golemlab.eu/data/potter_corpus/measurement/number_of_female_characters',\n",
       "  'value': 8},\n",
       " {'dimensionURI': 'http://golemlab.eu/data/potter_corpus/measurement/number_of_nonbinary_characters',\n",
       "  'value': 2},\n",
       " {'dimensionURI': 'http://golemlab.eu/data/potter_corpus/measurement/number_of_paragraphs',\n",
       "  'value': 9000000},\n",
       " {'dimensionURI': 'http://golemlab.eu/data/potter_corpus/measurement/number_of_words-comments',\n",
       "  'value': 123000},\n",
       " {'dimensionURI': 'http://golemlab.eu/data/potter_corpus/measurement/number_of_words-text',\n",
       "  'value': 2000000000}]"
      ]
     },
     "execution_count": 13,
     "metadata": {},
     "output_type": "execute_result"
    }
   ],
   "source": [
    "MyQuery.results.simplify()"
   ]
  },
  {
   "cell_type": "code",
   "execution_count": 14,
   "id": "178d63ee",
   "metadata": {},
   "outputs": [],
   "source": [
    "metrics = {}\n",
    "for item in MyQuery.results.simplify():\n",
    "    key = item[\"dimensionURI\"].split(\"/\")[-1:][0]\n",
    "    value = item[\"value\"]\n",
    "    metrics[key] = value"
   ]
  },
  {
   "cell_type": "code",
   "execution_count": 15,
   "id": "5ab7b71d",
   "metadata": {},
   "outputs": [
    {
     "data": {
      "text/plain": [
       "{'metrics': {'number_of_male_characters': 10,\n",
       "  'number_of_chapters': 700000,\n",
       "  'number_of_characters': 20,\n",
       "  'number_of_comments': 123,\n",
       "  'number_of_documents': 200000,\n",
       "  'number_of_female_characters': 8,\n",
       "  'number_of_nonbinary_characters': 2,\n",
       "  'number_of_paragraphs': 9000000,\n",
       "  'number_of_words-comments': 123000,\n",
       "  'number_of_words-text': 2000000000}}"
      ]
     },
     "execution_count": 15,
     "metadata": {},
     "output_type": "execute_result"
    }
   ],
   "source": [
    "output = {}\n",
    "output[\"metrics\"] = metrics\n",
    "output"
   ]
  },
  {
   "cell_type": "markdown",
   "id": "9729abcb",
   "metadata": {},
   "source": [
    "## with GolemCorpus class"
   ]
  },
  {
   "cell_type": "code",
   "execution_count": 16,
   "id": "9ba11b5e",
   "metadata": {},
   "outputs": [],
   "source": [
    "from golem_corpus import GolemCorpus"
   ]
  },
  {
   "cell_type": "code",
   "execution_count": 17,
   "id": "298eb9f3",
   "metadata": {},
   "outputs": [],
   "source": [
    "MyCorpus = GolemCorpus(uri=corpus_uri, database=virtuoso)"
   ]
  },
  {
   "cell_type": "code",
   "execution_count": 18,
   "id": "646a7270",
   "metadata": {},
   "outputs": [
    {
     "data": {
      "text/plain": [
       "{'uri': 'http://golemlab.eu/data/potter_corpus',\n",
       " 'name': None,\n",
       " 'title': None,\n",
       " 'description': None,\n",
       " 'acronym': None,\n",
       " 'metrics': {'number_of_male_characters': 10,\n",
       "  'number_of_chapters': 700000,\n",
       "  'number_of_characters': 20,\n",
       "  'number_of_comments': 123,\n",
       "  'number_of_documents': 200000,\n",
       "  'number_of_female_characters': 8,\n",
       "  'number_of_nonbinary_characters': 2,\n",
       "  'number_of_paragraphs': 9000000,\n",
       "  'number_of_words-comments': 123000,\n",
       "  'number_of_words-text': 2000000000}}"
      ]
     },
     "execution_count": 18,
     "metadata": {},
     "output_type": "execute_result"
    }
   ],
   "source": [
    "MyCorpus.get_metadata(include_metrics=True)"
   ]
  },
  {
   "cell_type": "code",
   "execution_count": null,
   "id": "1f027a65",
   "metadata": {},
   "outputs": [],
   "source": []
  }
 ],
 "metadata": {
  "kernelspec": {
   "display_name": "Python 3 (ipykernel)",
   "language": "python",
   "name": "python3"
  },
  "language_info": {
   "codemirror_mode": {
    "name": "ipython",
    "version": 3
   },
   "file_extension": ".py",
   "mimetype": "text/x-python",
   "name": "python",
   "nbconvert_exporter": "python",
   "pygments_lexer": "ipython3",
   "version": "3.9.12"
  }
 },
 "nbformat": 4,
 "nbformat_minor": 5
}

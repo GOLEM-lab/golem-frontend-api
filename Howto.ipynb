{
 "cells": [
  {
   "cell_type": "markdown",
   "id": "12045179",
   "metadata": {},
   "source": [
    "# Howto\n",
    "\n",
    "On the general setup and the idea behind this API see also the CLS INFRA Deliverable D7.1 \"On Programmable Corpora\" https://doi.org/10.5281/zenodo.7664964. The system is an adapted version of the *POSTDATA 2 DraCor API*."
   ]
  },
  {
   "cell_type": "markdown",
   "id": "231d7b71",
   "metadata": {},
   "source": [
    "## Running the API\n",
    "see `Readme` in the repo. Be careful, in the current setup username and password of the triple store are exposed, because the settings file `dev.env` is commited to the repository. Take precautions when running in production!\n",
    "\n",
    "## issue with flask port 5000 (Mac)\n",
    "In case of port conflict with port `5000` on Mac running Monterey, see https://medium.com/pythonistas/port-5000-already-in-use-macos-monterey-issue-d86b02edd36c. Port could be changed in the docker `compose.yaml` file:\n",
    "\n",
    "```\n",
    "    ports:\n",
    "      - \"5000:5000\"\n",
    "```\n",
    "but also change this in the `dev.env` (`SERVICE_PORT`) file as well, which is read by the API in `api.py` (`service_port = int(os.environ.get(\"SERVICE_PORT\", 5000))`; no need to change here if using environment variables)\n"
   ]
  },
  {
   "cell_type": "markdown",
   "id": "5a287606",
   "metadata": {},
   "source": [
    "## Interfacing with the triple store (virtuoso)\n",
    "For the following examples to work, there should be already some sample data `data/generated_example_data.ttl` in the Triple Store. See the notebook `generate_test_data.ipynb` to see how this data is generated.\n",
    "\n",
    "With Virtuoso running, it can be used directly from Python by using the `DB` class. A connection can be established as such:"
   ]
  },
  {
   "cell_type": "code",
   "execution_count": 1,
   "id": "24effe87",
   "metadata": {},
   "outputs": [],
   "source": [
    "from sparql import DB\n",
    "\n",
    "virtuoso = DB(triplestore=\"virtuoso\", protocol=\"http\",url=\"localhost\",port=\"8890\", username=\"dba\", password=\"pwd123\")"
   ]
  },
  {
   "cell_type": "code",
   "execution_count": 2,
   "id": "c8599204",
   "metadata": {},
   "outputs": [],
   "source": [
    "# see the set attributes\n",
    "#virtuoso.__dict__"
   ]
  },
  {
   "cell_type": "code",
   "execution_count": 3,
   "id": "8646dce5",
   "metadata": {},
   "outputs": [
    {
     "name": "stdout",
     "output_type": "stream",
     "text": [
      "http://localhost:8890/sparql\n",
      "http://localhost:8890/sparql-auth\n",
      "http://localhost:8890/sparql-graph-crud-auth\n"
     ]
    }
   ],
   "source": [
    "# the endpoints are set when initializing the class\n",
    "print(virtuoso.sparql_query_endpoint)\n",
    "print(virtuoso.sparql_auth_endpoint)\n",
    "print(virtuoso.crud_endpoint)"
   ]
  },
  {
   "cell_type": "markdown",
   "id": "9bd78a24",
   "metadata": {},
   "source": [
    "## SPARQL queries\n",
    "\n",
    "It is possible to simply send SPARQL queries to Virtuoso:"
   ]
  },
  {
   "cell_type": "code",
   "execution_count": 4,
   "id": "73e60566",
   "metadata": {},
   "outputs": [
    {
     "data": {
      "text/plain": [
       "{'head': {'link': [], 'vars': ['s', 'p', 'o']},\n",
       " 'results': {'distinct': False,\n",
       "  'ordered': True,\n",
       "  'bindings': [{'s': {'type': 'uri',\n",
       "     'value': 'http://www.openlinksw.com/schemas/virtrdf#DefaultQuadMap'},\n",
       "    'p': {'type': 'uri',\n",
       "     'value': 'http://www.w3.org/1999/02/22-rdf-syntax-ns#type'},\n",
       "    'o': {'type': 'uri',\n",
       "     'value': 'http://www.openlinksw.com/schemas/virtrdf#QuadMap'}}]}}"
      ]
     },
     "execution_count": 4,
     "metadata": {},
     "output_type": "execute_result"
    }
   ],
   "source": [
    "query = \"\"\"\n",
    "SELECT * WHERE {\n",
    "?s ?p ?o.\n",
    "}\n",
    "LIMIT 1\n",
    "\"\"\"\n",
    "\n",
    "virtuoso.sparql(query)"
   ]
  },
  {
   "cell_type": "markdown",
   "id": "3b2827ce",
   "metadata": {},
   "source": [
    "### Pre-defined SPARQL queries\n",
    "The classes that power the API use pre-defined SPARQL queries. They are defined as classes in the module `sparql_queries.py`. The can be used by importing them and passing a Virtuoso `DB` instance to execute them:"
   ]
  },
  {
   "cell_type": "markdown",
   "id": "fa47eec1",
   "metadata": {},
   "source": [
    "They are all derived from the base class `GolemQuery` (`sparql_queries.py`) that inherits from `SparqlQuery` in `sparql.py`. The basic class can be used to define things, that are relevant for all other pre-defined queries, e.g. the prefixes."
   ]
  },
  {
   "cell_type": "code",
   "execution_count": 43,
   "id": "b78a95da",
   "metadata": {},
   "outputs": [],
   "source": [
    "from sparql_queries import GolemQuery\n",
    "golem = GolemQuery()"
   ]
  },
  {
   "cell_type": "markdown",
   "id": "6d01d6cd",
   "metadata": {},
   "source": [
    "The defined prefixes can be retieved:"
   ]
  },
  {
   "cell_type": "code",
   "execution_count": 44,
   "id": "b929b549",
   "metadata": {},
   "outputs": [
    {
     "data": {
      "text/plain": [
       "[{'prefix': 'gd', 'uri': 'http://data.golemlab.eu/data/'},\n",
       " {'prefix': 'gt', 'uri': 'http://data.golemlab.eu/data/entity/type/'},\n",
       " {'prefix': 'crm', 'uri': 'http://www.cidoc-crm.org/cidoc-crm/'},\n",
       " {'prefix': 'owl', 'uri': 'http://www.w3.org/2002/07/owl#'},\n",
       " {'prefix': 'xsd', 'uri': 'http://www.w3.org/2001/XMLSchema#'},\n",
       " {'prefix': 'cls', 'uri': 'http://clscor.io/ontology/'},\n",
       " {'prefix': 'go', 'uri': 'http://golemlab.eu/ontology/'},\n",
       " {'prefix': 'lrm', 'uri': 'http://www.cidoc-crm.org/cidoc-crm/lrmoo/'},\n",
       " {'prefix': 'rdfs', 'uri': 'http://www.w3.org/2000/01/rdf-schema#'},\n",
       " {'prefix': 'nif',\n",
       "  'uri': 'http://persistence.uni-leipzig.org/nlp2rdf/ontologies/nif-core#'}]"
      ]
     },
     "execution_count": 44,
     "metadata": {},
     "output_type": "execute_result"
    }
   ],
   "source": [
    "golem.prefixes"
   ]
  },
  {
   "cell_type": "markdown",
   "id": "ace2264b",
   "metadata": {},
   "source": [
    "There is a method `get_prefix_uri` to resolve a prefix to its full uri:"
   ]
  },
  {
   "cell_type": "code",
   "execution_count": 45,
   "id": "5e07c132",
   "metadata": {},
   "outputs": [
    {
     "data": {
      "text/plain": [
       "'http://www.cidoc-crm.org/cidoc-crm/'"
      ]
     },
     "execution_count": 45,
     "metadata": {},
     "output_type": "execute_result"
    }
   ],
   "source": [
    "# Get the full uri for the prefix crm\n",
    "golem.get_prefix_uri(\"crm\")"
   ]
  },
  {
   "cell_type": "markdown",
   "id": "e59006dd",
   "metadata": {},
   "source": [
    "#### Example: ID of an entity\n",
    "There is a pre-defined query that retrieves an ID (E42 Identifier) of a E1 CRM Entity."
   ]
  },
  {
   "cell_type": "code",
   "execution_count": 5,
   "id": "c0fc7e39",
   "metadata": {},
   "outputs": [],
   "source": [
    "from sparql_queries import EntityId\n",
    "entity_query = EntityId()"
   ]
  },
  {
   "cell_type": "code",
   "execution_count": 6,
   "id": "de018481",
   "metadata": {},
   "outputs": [
    {
     "name": "stdout",
     "output_type": "stream",
     "text": [
      "ID of an Entity: \n",
      "    Generic query to get ID of an entity identified by an URI.\n",
      "    It identifies the node that holds the ID as value by the type \"id\" (gt:id).\n",
      "    \n"
     ]
    }
   ],
   "source": [
    "# Explain, what a query does:\n",
    "print(entity_query.explain())"
   ]
  },
  {
   "cell_type": "code",
   "execution_count": 8,
   "id": "ba2b03e1",
   "metadata": {},
   "outputs": [
    {
     "data": {
      "text/plain": [
       "True"
      ]
     },
     "execution_count": 8,
     "metadata": {},
     "output_type": "execute_result"
    }
   ],
   "source": [
    "# there are some ways to check the instance after it has been initialized, e.g.\n",
    "entity_query.template_includes_variables"
   ]
  },
  {
   "cell_type": "markdown",
   "id": "8cb67420",
   "metadata": {},
   "source": [
    "This query is only a template. This means, it contains a variable that needs to be substituted before executing it:"
   ]
  },
  {
   "cell_type": "code",
   "execution_count": 7,
   "id": "ad1eb0e4",
   "metadata": {},
   "outputs": [
    {
     "data": {
      "text/plain": [
       "[{'id': 'entity_uri',\n",
       "  'class': 'crm:E1_CRM_Entity',\n",
       "  'description': 'URI of an Entity.'}]"
      ]
     },
     "execution_count": 7,
     "metadata": {},
     "output_type": "execute_result"
    }
   ],
   "source": [
    "# see the variables\n",
    "entity_query.variables"
   ]
  },
  {
   "cell_type": "code",
   "execution_count": 11,
   "id": "b9ec0e9b",
   "metadata": {},
   "outputs": [
    {
     "name": "stdout",
     "output_type": "stream",
     "text": [
      "\n",
      "    SELECT ?id WHERE {\n",
      "        <$1> crm:P1_is_identified_by ?identifier .\n",
      "\n",
      "        ?identifier a crm:E42_Identifier ;\n",
      "            crm:P2_has_type gt:id ; \n",
      "            rdf:value ?id .\n",
      "    }\n",
      "    \n"
     ]
    }
   ],
   "source": [
    "# to see the template\n",
    "print(entity_query.template)"
   ]
  },
  {
   "cell_type": "markdown",
   "id": "80022938",
   "metadata": {},
   "source": [
    "Before executing the query, the variable has to be substituted. This can be done with the `inject()` method:"
   ]
  },
  {
   "cell_type": "code",
   "execution_count": 13,
   "id": "e29f683d",
   "metadata": {},
   "outputs": [
    {
     "data": {
      "text/plain": [
       "True"
      ]
     },
     "execution_count": 13,
     "metadata": {},
     "output_type": "execute_result"
    }
   ],
   "source": [
    "uri_to_be_inserted = 'http://data.golemlab.eu/data/potter_corpus' \n",
    "\n",
    "entity_query.inject([uri_to_be_inserted])"
   ]
  },
  {
   "cell_type": "code",
   "execution_count": 15,
   "id": "6191702a",
   "metadata": {},
   "outputs": [
    {
     "name": "stdout",
     "output_type": "stream",
     "text": [
      "PREFIX gd: <http://data.golemlab.eu/data/>\n",
      "PREFIX gt: <http://data.golemlab.eu/data/entity/type/>\n",
      "PREFIX crm: <http://www.cidoc-crm.org/cidoc-crm/>\n",
      "PREFIX owl: <http://www.w3.org/2002/07/owl#>\n",
      "PREFIX xsd: <http://www.w3.org/2001/XMLSchema#>\n",
      "PREFIX cls: <http://clscor.io/ontology/>\n",
      "PREFIX go: <http://golemlab.eu/ontology/>\n",
      "PREFIX lrm: <http://www.cidoc-crm.org/cidoc-crm/lrmoo/>\n",
      "PREFIX rdfs: <http://www.w3.org/2000/01/rdf-schema#>\n",
      "PREFIX nif: <http://persistence.uni-leipzig.org/nlp2rdf/ontologies/nif-core#>\n",
      "    SELECT ?id WHERE {\n",
      "        <http://data.golemlab.eu/data/potter_corpus> crm:P1_is_identified_by ?identifier .\n",
      "\n",
      "        ?identifier a crm:E42_Identifier ;\n",
      "            crm:P2_has_type gt:id ; \n",
      "            rdf:value ?id .\n",
      "    }\n",
      "    \n"
     ]
    }
   ],
   "source": [
    "# the query has been prepared, to see the query:\n",
    "print(entity_query.query)"
   ]
  },
  {
   "cell_type": "markdown",
   "id": "943b7954",
   "metadata": {},
   "source": [
    "There is a method to explicitly \"prepare\" (add prefixes) `prepare()`.\n",
    "\n",
    "After the query has been prepared, it can be executed:"
   ]
  },
  {
   "cell_type": "code",
   "execution_count": 16,
   "id": "a2d76d65",
   "metadata": {},
   "outputs": [
    {
     "data": {
      "text/plain": [
       "True"
      ]
     },
     "execution_count": 16,
     "metadata": {},
     "output_type": "execute_result"
    }
   ],
   "source": [
    "# it needs to be passed a DB instance:\n",
    "entity_query.execute(virtuoso)"
   ]
  },
  {
   "cell_type": "markdown",
   "id": "c1b2ca3f",
   "metadata": {},
   "source": [
    "### Results of a SPARQL Query\n",
    "The results of the query are stored in the query's `results` as an instance of the class `SparqlResults` (see `sparql.py`)"
   ]
  },
  {
   "cell_type": "code",
   "execution_count": 17,
   "id": "f2e95d3d",
   "metadata": {},
   "outputs": [
    {
     "data": {
      "text/plain": [
       "<sparql.SparqlResults at 0x10ae3f3d0>"
      ]
     },
     "execution_count": 17,
     "metadata": {},
     "output_type": "execute_result"
    }
   ],
   "source": [
    "entity_query.results"
   ]
  },
  {
   "cell_type": "code",
   "execution_count": 18,
   "id": "c78b3850",
   "metadata": {},
   "outputs": [
    {
     "data": {
      "text/plain": [
       "{'head': {'link': [], 'vars': ['id']},\n",
       " 'results': {'distinct': False,\n",
       "  'ordered': True,\n",
       "  'bindings': [{'id': {'type': 'literal', 'value': 'potter_corpus'}}]}}"
      ]
     },
     "execution_count": 18,
     "metadata": {},
     "output_type": "execute_result"
    }
   ],
   "source": [
    "# get the results as json\n",
    "entity_query.results.dump()"
   ]
  },
  {
   "cell_type": "code",
   "execution_count": 22,
   "id": "5f56282d",
   "metadata": {},
   "outputs": [
    {
     "name": "stdout",
     "output_type": "stream",
     "text": [
      "['id']\n",
      "[{'id': {'type': 'literal', 'value': 'potter_corpus'}}]\n"
     ]
    }
   ],
   "source": [
    "# variables and bindings(values) can be get separately\n",
    "print(entity_query.results.vars)\n",
    "print(entity_query.results.bindings)"
   ]
  },
  {
   "cell_type": "markdown",
   "id": "804afb2c",
   "metadata": {},
   "source": [
    "### Transform the Results\n",
    "`SparqlResults` has a method to \"simplify\" the query results. If there is only one Variable defined, `simplify` will return a list with the values as it's items:"
   ]
  },
  {
   "cell_type": "code",
   "execution_count": 24,
   "id": "c8b42f63",
   "metadata": {},
   "outputs": [
    {
     "data": {
      "text/plain": [
       "['potter_corpus']"
      ]
     },
     "execution_count": 24,
     "metadata": {},
     "output_type": "execute_result"
    }
   ],
   "source": [
    "entity_query.results.simplify()"
   ]
  },
  {
   "cell_type": "markdown",
   "id": "557c6f32",
   "metadata": {},
   "source": [
    "The method allows for defining datatypes and rename the keys of the simplified result. Therefore a mapping has to be specified. The following example demonstates this:"
   ]
  },
  {
   "cell_type": "code",
   "execution_count": 25,
   "id": "f150d451",
   "metadata": {},
   "outputs": [
    {
     "name": "stdout",
     "output_type": "stream",
     "text": [
      "Corpus Metrics: \n",
      "    Get all metrics of a corpus identified by URI\n",
      "    \n"
     ]
    }
   ],
   "source": [
    "from sparql_queries import CorpusMetrics\n",
    "\n",
    "corpus_metrics_query = CorpusMetrics()\n",
    "\n",
    "print(corpus_metrics_query.explain())"
   ]
  },
  {
   "cell_type": "code",
   "execution_count": 30,
   "id": "59c419cb",
   "metadata": {},
   "outputs": [
    {
     "data": {
      "text/plain": [
       "True"
      ]
     },
     "execution_count": 30,
     "metadata": {},
     "output_type": "execute_result"
    }
   ],
   "source": [
    "# prepare and execute the query for the corpus specified above\n",
    "corpus_metrics_query.inject([uri_to_be_inserted])\n",
    "corpus_metrics_query.execute(virtuoso)"
   ]
  },
  {
   "cell_type": "code",
   "execution_count": 33,
   "id": "0ed8847b",
   "metadata": {},
   "outputs": [
    {
     "data": {
      "text/plain": [
       "[{'dimensionURI': 'http://data.golemlab.eu/data/potter_corpus/dimension/chapters',\n",
       "  'value': 500},\n",
       " {'dimensionURI': 'http://data.golemlab.eu/data/potter_corpus/dimension/characters',\n",
       "  'value': 4000},\n",
       " {'dimensionURI': 'http://data.golemlab.eu/data/potter_corpus/dimension/comments',\n",
       "  'value': 7000},\n",
       " {'dimensionURI': 'http://data.golemlab.eu/data/potter_corpus/dimension/female',\n",
       "  'value': 1990},\n",
       " {'dimensionURI': 'http://data.golemlab.eu/data/potter_corpus/dimension/male',\n",
       "  'value': 1990},\n",
       " {'dimensionURI': 'http://data.golemlab.eu/data/potter_corpus/dimension/nonbinary',\n",
       "  'value': 20},\n",
       " {'dimensionURI': 'http://data.golemlab.eu/data/potter_corpus/dimension/paragraphs',\n",
       "  'value': 9000},\n",
       " {'dimensionURI': 'http://data.golemlab.eu/data/potter_corpus/dimension/wordsInComments',\n",
       "  'value': 20000},\n",
       " {'dimensionURI': 'http://data.golemlab.eu/data/potter_corpus/dimension/wordsInDocuments',\n",
       "  'value': 500000}]"
      ]
     },
     "execution_count": 33,
     "metadata": {},
     "output_type": "execute_result"
    }
   ],
   "source": [
    "# simplify the results without a mapping\n",
    "corpus_metrics_query.results.simplify()"
   ]
  },
  {
   "cell_type": "code",
   "execution_count": 31,
   "id": "4f40ba28",
   "metadata": {},
   "outputs": [
    {
     "data": {
      "text/plain": [
       "['dimensionURI', 'value']"
      ]
     },
     "execution_count": 31,
     "metadata": {},
     "output_type": "execute_result"
    }
   ],
   "source": [
    "# show the variables\n",
    "corpus_metrics_query.results.vars"
   ]
  },
  {
   "cell_type": "markdown",
   "id": "a59fcc80",
   "metadata": {},
   "source": [
    "The keys `dimensionURI` and `value` can be renamed; the query returns integers in the fields with the key `value` (which makes sense). For demonstration purposes, we can cast them to strings."
   ]
  },
  {
   "cell_type": "code",
   "execution_count": 40,
   "id": "e59c3e50",
   "metadata": {},
   "outputs": [],
   "source": [
    "my_example_mapping = {\n",
    "    \"dimensionURI\" : {\"key\": \"i_renamed_this\"}, # renames the key of the field from \"dimensionURI\" to \"i_renamed_this\"\n",
    "    \"value\" : {\"datatype\" : \"str\"} #casts the datatype from integer to string \n",
    "}"
   ]
  },
  {
   "cell_type": "code",
   "execution_count": 41,
   "id": "4a340d16",
   "metadata": {},
   "outputs": [
    {
     "data": {
      "text/plain": [
       "[{'i_renamed_this': 'http://data.golemlab.eu/data/potter_corpus/dimension/chapters',\n",
       "  'value': '500'},\n",
       " {'i_renamed_this': 'http://data.golemlab.eu/data/potter_corpus/dimension/characters',\n",
       "  'value': '4000'},\n",
       " {'i_renamed_this': 'http://data.golemlab.eu/data/potter_corpus/dimension/comments',\n",
       "  'value': '7000'},\n",
       " {'i_renamed_this': 'http://data.golemlab.eu/data/potter_corpus/dimension/female',\n",
       "  'value': '1990'},\n",
       " {'i_renamed_this': 'http://data.golemlab.eu/data/potter_corpus/dimension/male',\n",
       "  'value': '1990'},\n",
       " {'i_renamed_this': 'http://data.golemlab.eu/data/potter_corpus/dimension/nonbinary',\n",
       "  'value': '20'},\n",
       " {'i_renamed_this': 'http://data.golemlab.eu/data/potter_corpus/dimension/paragraphs',\n",
       "  'value': '9000'},\n",
       " {'i_renamed_this': 'http://data.golemlab.eu/data/potter_corpus/dimension/wordsInComments',\n",
       "  'value': '20000'},\n",
       " {'i_renamed_this': 'http://data.golemlab.eu/data/potter_corpus/dimension/wordsInDocuments',\n",
       "  'value': '500000'}]"
      ]
     },
     "execution_count": 41,
     "metadata": {},
     "output_type": "execute_result"
    }
   ],
   "source": [
    "corpus_metrics_query.results.simplify(mapping=my_example_mapping)"
   ]
  },
  {
   "cell_type": "markdown",
   "id": "b12bd9dd",
   "metadata": {},
   "source": [
    "Sidenote: An idea to develop that further: It would be helpful, if in the mapping, a function could be included, that would be applied to the item in question, e.g. manipulating the value of \"i_renamed_this\" (`split(\"/\")[-1:][0]` to get only the last part after the final slash). Something similar has to be done separately in corpus.py `get_metrics`."
   ]
  },
  {
   "cell_type": "markdown",
   "id": "93bdeda0",
   "metadata": {},
   "source": [
    "## Entity Classes\n",
    "While a minimal implementation of the API could only use the above described functionality, there are designated classes for the main entities that can be used for create RDF data and/or to fetch data from the triple store with pre-defined SPARQL queries."
   ]
  },
  {
   "cell_type": "markdown",
   "id": "54d4d40d",
   "metadata": {},
   "source": [
    "### Corpora\n",
    "The class `Corpora` in the module `corpora.py` allows to retieve data on all corpora in the system.\n",
    "\n",
    "The class is not fully developed; currently it is used in the `api.py` in the `/corpora` and the `/corpora/{id}` endpoints. Metadata on the whole collection could go there. It is also possible to programmatically access single corpora from an instance of the corpora class if they have been loaded without having to individually instantiate them (see example at the end of this section).\n",
    "\n",
    "No functionality to generate RDF data has been implemented with this class."
   ]
  },
  {
   "cell_type": "code",
   "execution_count": 47,
   "id": "1d367aa5",
   "metadata": {},
   "outputs": [],
   "source": [
    "from corpora import Corpora"
   ]
  },
  {
   "cell_type": "code",
   "execution_count": 52,
   "id": "58bc1247",
   "metadata": {},
   "outputs": [],
   "source": [
    "# it is necessary to pass a database connection if da\n",
    "golem_corpora = Corpora(database=virtuoso)"
   ]
  },
  {
   "cell_type": "code",
   "execution_count": 54,
   "id": "4aaeb54a",
   "metadata": {},
   "outputs": [
    {
     "data": {
      "text/plain": [
       "[]"
      ]
     },
     "execution_count": 54,
     "metadata": {},
     "output_type": "execute_result"
    }
   ],
   "source": [
    "# Corpora are not loaded automatically, listing returns an empty list\n",
    "golem_corpora.list_corpora()"
   ]
  },
  {
   "cell_type": "markdown",
   "id": "f87e5232",
   "metadata": {},
   "source": [
    "If corpus data is available in the triple store, it can be loaded to the copora instance:"
   ]
  },
  {
   "cell_type": "code",
   "execution_count": 55,
   "id": "0ee04f63",
   "metadata": {},
   "outputs": [],
   "source": [
    "golem_corpora.load()"
   ]
  },
  {
   "cell_type": "code",
   "execution_count": 58,
   "id": "4cebd696",
   "metadata": {},
   "outputs": [
    {
     "data": {
      "text/plain": [
       "['http://data.golemlab.eu/data/potter_corpus']"
      ]
     },
     "execution_count": 58,
     "metadata": {},
     "output_type": "execute_result"
    }
   ],
   "source": [
    "# just output the URIs of corpora\n",
    "golem_corpora.get_uris()"
   ]
  },
  {
   "cell_type": "code",
   "execution_count": 57,
   "id": "e52c6c97",
   "metadata": {},
   "outputs": [
    {
     "data": {
      "text/plain": [
       "[{'id': 'potter_corpus',\n",
       "  'uri': 'http://data.golemlab.eu/data/potter_corpus',\n",
       "  'corpusName': 'Harry Potter Corpus',\n",
       "  'acronym': 'potter',\n",
       "  'corpusDescription': 'Harry Potter Corpus derived form AO3.',\n",
       "  'licence': 'CC0',\n",
       "  'licenceUrl': 'https://creativecommons.org/publicdomain/zero/1.0'}]"
      ]
     },
     "execution_count": 57,
     "metadata": {},
     "output_type": "execute_result"
    }
   ],
   "source": [
    "# if used with the testdata, there should be one corpus with the id \"potter_corpus\"\n",
    "golem_corpora.list_corpora()"
   ]
  },
  {
   "cell_type": "code",
   "execution_count": 68,
   "id": "5111976b",
   "metadata": {},
   "outputs": [
    {
     "data": {
      "text/plain": [
       "[{'id': 'potter_corpus',\n",
       "  'uri': 'http://data.golemlab.eu/data/potter_corpus',\n",
       "  'corpusName': 'Harry Potter Corpus',\n",
       "  'acronym': 'potter',\n",
       "  'corpusDescription': 'Harry Potter Corpus derived form AO3.',\n",
       "  'licence': 'CC0',\n",
       "  'licenceUrl': 'https://creativecommons.org/publicdomain/zero/1.0',\n",
       "  'metrics': {'chapters': 500,\n",
       "   'characters': 4000,\n",
       "   'comments': 7000,\n",
       "   'female': 1990,\n",
       "   'male': 1990,\n",
       "   'nonbinary': 20,\n",
       "   'paragraphs': 9000,\n",
       "   'wordsInComments': 20000,\n",
       "   'wordsInDocuments': 500000}}]"
      ]
     },
     "execution_count": 68,
     "metadata": {},
     "output_type": "execute_result"
    }
   ],
   "source": [
    "# Metrics of the corpora can be included\n",
    "golem_corpora.list_corpora(include_metrics=True)"
   ]
  },
  {
   "cell_type": "markdown",
   "id": "a81dad3f",
   "metadata": {},
   "source": [
    "The single corpora are stored as instances of the class `Corpus` inside the corpora instance and thus can be accessed as such:"
   ]
  },
  {
   "cell_type": "code",
   "execution_count": 61,
   "id": "ea7028c9",
   "metadata": {},
   "outputs": [
    {
     "data": {
      "text/plain": [
       "{'potter_corpus': <corpus.Corpus at 0x10c153d30>}"
      ]
     },
     "execution_count": 61,
     "metadata": {},
     "output_type": "execute_result"
    }
   ],
   "source": [
    "# it is a dictionary with corpus id as keys and an instance of class Corpus\n",
    "golem_corpora.corpora"
   ]
  },
  {
   "cell_type": "code",
   "execution_count": 62,
   "id": "ee3bcd7b",
   "metadata": {},
   "outputs": [
    {
     "data": {
      "text/plain": [
       "<corpus.Corpus at 0x10c153d30>"
      ]
     },
     "execution_count": 62,
     "metadata": {},
     "output_type": "execute_result"
    }
   ],
   "source": [
    "golem_corpora.corpora[\"potter_corpus\"]"
   ]
  },
  {
   "cell_type": "code",
   "execution_count": 65,
   "id": "4438099d",
   "metadata": {},
   "outputs": [
    {
     "data": {
      "text/plain": [
       "'Harry Potter Corpus derived form AO3.'"
      ]
     },
     "execution_count": 65,
     "metadata": {},
     "output_type": "execute_result"
    }
   ],
   "source": [
    "# e.g. get the description of the potter corpus\n",
    "golem_corpora.corpora[\"potter_corpus\"].description"
   ]
  },
  {
   "cell_type": "code",
   "execution_count": 69,
   "id": "db9f9a55",
   "metadata": {},
   "outputs": [
    {
     "data": {
      "text/plain": [
       "{'chapters': 500,\n",
       " 'characters': 4000,\n",
       " 'comments': 7000,\n",
       " 'female': 1990,\n",
       " 'male': 1990,\n",
       " 'nonbinary': 20,\n",
       " 'paragraphs': 9000,\n",
       " 'wordsInComments': 20000,\n",
       " 'wordsInDocuments': 500000}"
      ]
     },
     "execution_count": 69,
     "metadata": {},
     "output_type": "execute_result"
    }
   ],
   "source": [
    "# get the metrics of this corpus\n",
    "golem_corpora.corpora[\"potter_corpus\"].get_metrics()"
   ]
  },
  {
   "cell_type": "code",
   "execution_count": 70,
   "id": "34b53a6e",
   "metadata": {},
   "outputs": [
    {
     "name": "stdout",
     "output_type": "stream",
     "text": [
      "Harry Potter Corpus\n"
     ]
    }
   ],
   "source": [
    "# it would be possible to iterate over the corpora; there is only one, so the example is not great..\n",
    "for key in golem_corpora.corpora.keys():\n",
    "    print(golem_corpora.corpora[key].name) "
   ]
  },
  {
   "cell_type": "markdown",
   "id": "9969c457",
   "metadata": {},
   "source": [
    "### Corpus\n",
    "Class `Corpus` in `corpus.py`.\n",
    "\n",
    "The class has functionality to generate RDF data as it is demonstrated in the notebook `generate_testdata.ipynb`. We can also load it from the Triple Store."
   ]
  },
  {
   "cell_type": "code",
   "execution_count": 71,
   "id": "abff0f7d",
   "metadata": {},
   "outputs": [],
   "source": [
    "from corpus import Corpus"
   ]
  },
  {
   "cell_type": "code",
   "execution_count": 78,
   "id": "1dbb8a90",
   "metadata": {},
   "outputs": [],
   "source": [
    "# need to pass a database connection and an URI otherwhise it will be an empty instance\n",
    "harry_potter_corpus = Corpus(database=virtuoso, uri=\"http://data.golemlab.eu/data/potter_corpus\")"
   ]
  },
  {
   "cell_type": "code",
   "execution_count": 79,
   "id": "a8aaa9c7",
   "metadata": {},
   "outputs": [
    {
     "data": {
      "text/plain": [
       "'http://data.golemlab.eu/data/potter_corpus'"
      ]
     },
     "execution_count": 79,
     "metadata": {},
     "output_type": "execute_result"
    }
   ],
   "source": [
    "# obviously, the URI is available\n",
    "harry_potter_corpus.uri"
   ]
  },
  {
   "cell_type": "markdown",
   "id": "9cb9d8ba",
   "metadata": {},
   "source": [
    "The URI is available from the start, as is the ID, the rest might need to be fetched along the go. If the data is not there, the methods will try to fetch them from the triple store. A user won't see the difference."
   ]
  },
  {
   "cell_type": "code",
   "execution_count": 82,
   "id": "c378a27e",
   "metadata": {},
   "outputs": [
    {
     "data": {
      "text/plain": [
       "'potter_corpus'"
      ]
     },
     "execution_count": 82,
     "metadata": {},
     "output_type": "execute_result"
    }
   ],
   "source": [
    "harry_potter_corpus.id"
   ]
  },
  {
   "cell_type": "code",
   "execution_count": 86,
   "id": "abfd626a",
   "metadata": {},
   "outputs": [
    {
     "data": {
      "text/plain": [
       "'Harry Potter Corpus'"
      ]
     },
     "execution_count": 86,
     "metadata": {},
     "output_type": "execute_result"
    }
   ],
   "source": [
    "harry_potter_corpus.name"
   ]
  },
  {
   "cell_type": "code",
   "execution_count": 87,
   "id": "f33c87cf",
   "metadata": {},
   "outputs": [
    {
     "data": {
      "text/plain": [
       "{'id': 'potter_corpus',\n",
       " 'uri': 'http://data.golemlab.eu/data/potter_corpus',\n",
       " 'corpusName': 'Harry Potter Corpus',\n",
       " 'acronym': 'potter',\n",
       " 'corpusDescription': 'Harry Potter Corpus derived form AO3.',\n",
       " 'licence': 'CC0',\n",
       " 'licenceUrl': 'https://creativecommons.org/publicdomain/zero/1.0'}"
      ]
     },
     "execution_count": 87,
     "metadata": {},
     "output_type": "execute_result"
    }
   ],
   "source": [
    "# get_metadata will try to fetch the fields according to the schema in schemas.py\n",
    "harry_potter_corpus.get_metadata()"
   ]
  },
  {
   "cell_type": "code",
   "execution_count": 89,
   "id": "c493092d",
   "metadata": {},
   "outputs": [
    {
     "data": {
      "text/plain": [
       "{'id': 'potter_corpus',\n",
       " 'uri': 'http://data.golemlab.eu/data/potter_corpus',\n",
       " 'corpusName': 'Harry Potter Corpus',\n",
       " 'acronym': 'potter',\n",
       " 'corpusDescription': 'Harry Potter Corpus derived form AO3.',\n",
       " 'licence': 'CC0',\n",
       " 'licenceUrl': 'https://creativecommons.org/publicdomain/zero/1.0'}"
      ]
     },
     "execution_count": 89,
     "metadata": {},
     "output_type": "execute_result"
    }
   ],
   "source": [
    "# the data can be actively validated, if something is not as it should be, an exception will be raised\n",
    "harry_potter_corpus.get_metadata(validation=True)"
   ]
  },
  {
   "cell_type": "code",
   "execution_count": 90,
   "id": "355125ba",
   "metadata": {},
   "outputs": [
    {
     "data": {
      "text/plain": [
       "{'id': 'potter_corpus',\n",
       " 'uri': 'http://data.golemlab.eu/data/potter_corpus',\n",
       " 'corpusName': 'Harry Potter Corpus',\n",
       " 'acronym': 'potter',\n",
       " 'corpusDescription': 'Harry Potter Corpus derived form AO3.',\n",
       " 'licence': 'CC0',\n",
       " 'licenceUrl': 'https://creativecommons.org/publicdomain/zero/1.0',\n",
       " 'metrics': {'chapters': 500,\n",
       "  'characters': 4000,\n",
       "  'comments': 7000,\n",
       "  'female': 1990,\n",
       "  'male': 1990,\n",
       "  'nonbinary': 20,\n",
       "  'paragraphs': 9000,\n",
       "  'wordsInComments': 20000,\n",
       "  'wordsInDocuments': 500000}}"
      ]
     },
     "execution_count": 90,
     "metadata": {},
     "output_type": "execute_result"
    }
   ],
   "source": [
    "harry_potter_corpus.get_metadata(validation=True, include_metrics=True)"
   ]
  },
  {
   "cell_type": "markdown",
   "id": "14416e4f",
   "metadata": {},
   "source": [
    "There is a method to get the URIs of characters. (More functionality to retrieve data has not been implemented yet.)"
   ]
  },
  {
   "cell_type": "code",
   "execution_count": 91,
   "id": "285baedf",
   "metadata": {},
   "outputs": [
    {
     "data": {
      "text/plain": [
       "['http://data.golemlab.eu/data/C000000001',\n",
       " 'http://data.golemlab.eu/data/C000000002',\n",
       " 'http://data.golemlab.eu/data/C000000003']"
      ]
     },
     "execution_count": 91,
     "metadata": {},
     "output_type": "execute_result"
    }
   ],
   "source": [
    "harry_potter_corpus.get_character_uris()"
   ]
  },
  {
   "cell_type": "markdown",
   "id": "8751e6d9",
   "metadata": {},
   "source": [
    "### Character\n",
    "The class `Character` as well as `Author` and `Work` were mainly used to generate the data for testing. See notebook. While Author and Work have no functionality to fetch data yet, Character can already do some basic things:"
   ]
  },
  {
   "cell_type": "code",
   "execution_count": 92,
   "id": "7d582b6a",
   "metadata": {},
   "outputs": [],
   "source": [
    "from character import Character"
   ]
  },
  {
   "cell_type": "code",
   "execution_count": 93,
   "id": "d2875bc9",
   "metadata": {},
   "outputs": [],
   "source": [
    "harry = Character(database=virtuoso, uri=\"http://data.golemlab.eu/data/C000000001\")"
   ]
  },
  {
   "cell_type": "code",
   "execution_count": 97,
   "id": "6cee42a9",
   "metadata": {},
   "outputs": [
    {
     "data": {
      "text/plain": [
       "'http://data.golemlab.eu/data/C000000001'"
      ]
     },
     "execution_count": 97,
     "metadata": {},
     "output_type": "execute_result"
    }
   ],
   "source": [
    "harry.uri"
   ]
  },
  {
   "cell_type": "code",
   "execution_count": 96,
   "id": "2e9aa0fd",
   "metadata": {},
   "outputs": [
    {
     "data": {
      "text/plain": [
       "'C000000001'"
      ]
     },
     "execution_count": 96,
     "metadata": {},
     "output_type": "execute_result"
    }
   ],
   "source": [
    "harry.get_id()"
   ]
  },
  {
   "cell_type": "code",
   "execution_count": 98,
   "id": "d57b00da",
   "metadata": {},
   "outputs": [
    {
     "data": {
      "text/plain": [
       "'C000000001'"
      ]
     },
     "execution_count": 98,
     "metadata": {},
     "output_type": "execute_result"
    }
   ],
   "source": [
    "harry.id"
   ]
  }
 ],
 "metadata": {
  "kernelspec": {
   "display_name": "Python 3 (ipykernel)",
   "language": "python",
   "name": "python3"
  },
  "language_info": {
   "codemirror_mode": {
    "name": "ipython",
    "version": 3
   },
   "file_extension": ".py",
   "mimetype": "text/x-python",
   "name": "python",
   "nbconvert_exporter": "python",
   "pygments_lexer": "ipython3",
   "version": "3.9.12"
  }
 },
 "nbformat": 4,
 "nbformat_minor": 5
}

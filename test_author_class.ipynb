{
 "cells": [
  {
   "cell_type": "code",
   "execution_count": 1,
   "id": "ef90cd20",
   "metadata": {},
   "outputs": [],
   "source": [
    "from sparql import DB"
   ]
  },
  {
   "cell_type": "code",
   "execution_count": 2,
   "id": "87f51191",
   "metadata": {},
   "outputs": [],
   "source": [
    "from pd_author import PostdataAuthor"
   ]
  },
  {
   "cell_type": "code",
   "execution_count": 3,
   "id": "ec6a921b",
   "metadata": {},
   "outputs": [],
   "source": [
    "import json"
   ]
  },
  {
   "cell_type": "code",
   "execution_count": 4,
   "id": "9f39458d",
   "metadata": {},
   "outputs": [],
   "source": [
    "# config_file = \"config.local.json\"\n",
    "config_file = \"config.poetrylab.json\""
   ]
  },
  {
   "cell_type": "code",
   "execution_count": 5,
   "id": "3ad73801",
   "metadata": {},
   "outputs": [],
   "source": [
    "with open(config_file) as f:\n",
    "    config = json.load(f)"
   ]
  },
  {
   "cell_type": "code",
   "execution_count": 6,
   "id": "04c61712",
   "metadata": {},
   "outputs": [],
   "source": [
    "# create the connection using the DB class\n",
    "db = DB(\n",
    "    triplestore=\"stardog\",\n",
    "    protocol=config[\"server\"][\"protocol\"],\n",
    "    url=config[\"server\"][\"url\"],\n",
    "    port=config[\"server\"][\"port\"],\n",
    "    username=config[\"server\"][\"credentials\"][\"user\"],\n",
    "    password=config[\"server\"][\"credentials\"][\"password\"],\n",
    "    database=config[\"server\"][\"database\"])"
   ]
  },
  {
   "cell_type": "code",
   "execution_count": 7,
   "id": "8c22e091",
   "metadata": {},
   "outputs": [],
   "source": [
    "author_uri = \"http://postdata.linhd.uned.es/resource/p_juana-ines-de-la-cruz\""
   ]
  },
  {
   "cell_type": "code",
   "execution_count": 8,
   "id": "11c7637d",
   "metadata": {},
   "outputs": [],
   "source": [
    "author = PostdataAuthor(uri=author_uri ,database=db)"
   ]
  },
  {
   "cell_type": "code",
   "execution_count": 9,
   "id": "eaac0ebe",
   "metadata": {},
   "outputs": [
    {
     "data": {
      "text/plain": [
       "'http://postdata.linhd.uned.es/resource/p_juana-ines-de-la-cruz'"
      ]
     },
     "execution_count": 9,
     "metadata": {},
     "output_type": "execute_result"
    }
   ],
   "source": [
    "author.uri"
   ]
  },
  {
   "cell_type": "code",
   "execution_count": 10,
   "id": "d91ba990",
   "metadata": {},
   "outputs": [
    {
     "data": {
      "text/plain": [
       "['Juana Inés de la Cruz', 'Juana Ines de La Cruz']"
      ]
     },
     "execution_count": 10,
     "metadata": {},
     "output_type": "execute_result"
    }
   ],
   "source": [
    "author.get_names()"
   ]
  },
  {
   "cell_type": "code",
   "execution_count": 11,
   "id": "3edee52b",
   "metadata": {},
   "outputs": [
    {
     "data": {
      "text/plain": [
       "'Juana Inés de la Cruz'"
      ]
     },
     "execution_count": 11,
     "metadata": {},
     "output_type": "execute_result"
    }
   ],
   "source": [
    "author.pref_name"
   ]
  },
  {
   "cell_type": "code",
   "execution_count": null,
   "id": "97c78f98",
   "metadata": {},
   "outputs": [],
   "source": []
  }
 ],
 "metadata": {
  "kernelspec": {
   "display_name": "Python 3 (ipykernel)",
   "language": "python",
   "name": "python3"
  },
  "language_info": {
   "codemirror_mode": {
    "name": "ipython",
    "version": 3
   },
   "file_extension": ".py",
   "mimetype": "text/x-python",
   "name": "python",
   "nbconvert_exporter": "python",
   "pygments_lexer": "ipython3",
   "version": "3.9.12"
  }
 },
 "nbformat": 4,
 "nbformat_minor": 5
}

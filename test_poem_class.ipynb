{
 "cells": [
  {
   "cell_type": "code",
   "execution_count": 1,
   "id": "ef90cd20",
   "metadata": {},
   "outputs": [],
   "source": [
    "from sparql import DB"
   ]
  },
  {
   "cell_type": "code",
   "execution_count": 2,
   "id": "87f51191",
   "metadata": {},
   "outputs": [],
   "source": [
    "from pd_poem import PostdataPoem"
   ]
  },
  {
   "cell_type": "code",
   "execution_count": 3,
   "id": "ec6a921b",
   "metadata": {},
   "outputs": [],
   "source": [
    "import json"
   ]
  },
  {
   "cell_type": "code",
   "execution_count": 4,
   "id": "9f39458d",
   "metadata": {},
   "outputs": [],
   "source": [
    "# config_file = \"config.local.json\"\n",
    "config_file = \"config.poetrylab.json\""
   ]
  },
  {
   "cell_type": "code",
   "execution_count": 5,
   "id": "3ad73801",
   "metadata": {},
   "outputs": [],
   "source": [
    "with open(config_file) as f:\n",
    "    config = json.load(f)"
   ]
  },
  {
   "cell_type": "code",
   "execution_count": 6,
   "id": "04c61712",
   "metadata": {},
   "outputs": [],
   "source": [
    "# create the connection using the DB class\n",
    "db = DB(\n",
    "    triplestore=\"stardog\",\n",
    "    protocol=config[\"server\"][\"protocol\"],\n",
    "    url=config[\"server\"][\"url\"],\n",
    "    port=config[\"server\"][\"port\"],\n",
    "    username=config[\"server\"][\"credentials\"][\"user\"],\n",
    "    password=config[\"server\"][\"credentials\"][\"password\"],\n",
    "    database=config[\"server\"][\"database\"])"
   ]
  },
  {
   "cell_type": "code",
   "execution_count": 7,
   "id": "8c22e091",
   "metadata": {},
   "outputs": [],
   "source": [
    "poem_uri = \"http://postdata.linhd.uned.es/resource/pw_juana-ines-de-la-cruz_sabras-querido-fabio\""
   ]
  },
  {
   "cell_type": "code",
   "execution_count": 8,
   "id": "11c7637d",
   "metadata": {},
   "outputs": [],
   "source": [
    "poem = PostdataPoem(uri=poem_uri ,database=db)"
   ]
  },
  {
   "cell_type": "code",
   "execution_count": 9,
   "id": "eaac0ebe",
   "metadata": {},
   "outputs": [
    {
     "data": {
      "text/plain": [
       "'http://postdata.linhd.uned.es/resource/pw_juana-ines-de-la-cruz_sabras-querido-fabio'"
      ]
     },
     "execution_count": 9,
     "metadata": {},
     "output_type": "execute_result"
    }
   ],
   "source": [
    "poem.uri"
   ]
  },
  {
   "cell_type": "code",
   "execution_count": 10,
   "id": "5dd1eeee",
   "metadata": {},
   "outputs": [
    {
     "data": {
      "text/plain": [
       "'572fb37a'"
      ]
     },
     "execution_count": 10,
     "metadata": {},
     "output_type": "execute_result"
    }
   ],
   "source": [
    "# id has been generated\n",
    "poem.id"
   ]
  },
  {
   "cell_type": "code",
   "execution_count": 11,
   "id": "60424d27",
   "metadata": {},
   "outputs": [
    {
     "data": {
      "text/plain": [
       "'juana-ines-de-la-cruz_sabras-querido-fabio'"
      ]
     },
     "execution_count": 11,
     "metadata": {},
     "output_type": "execute_result"
    }
   ],
   "source": [
    "poem.name"
   ]
  },
  {
   "cell_type": "code",
   "execution_count": 12,
   "id": "e02a2628",
   "metadata": {},
   "outputs": [
    {
     "data": {
      "text/plain": [
       "NoneType"
      ]
     },
     "execution_count": 12,
     "metadata": {},
     "output_type": "execute_result"
    }
   ],
   "source": [
    "#there is no title\n",
    "type(poem.title)"
   ]
  },
  {
   "cell_type": "code",
   "execution_count": 13,
   "id": "1664b173",
   "metadata": {},
   "outputs": [
    {
     "data": {
      "text/plain": [
       "'Sabrás, querido Fabio'"
      ]
     },
     "execution_count": 13,
     "metadata": {},
     "output_type": "execute_result"
    }
   ],
   "source": [
    "poem.get_title()"
   ]
  },
  {
   "cell_type": "code",
   "execution_count": 14,
   "id": "25aca012",
   "metadata": {},
   "outputs": [
    {
     "data": {
      "text/plain": [
       "NoneType"
      ]
     },
     "execution_count": 14,
     "metadata": {},
     "output_type": "execute_result"
    }
   ],
   "source": [
    "poem.get_creation_year()\n",
    "type(poem.get_creation_year())"
   ]
  },
  {
   "cell_type": "code",
   "execution_count": 15,
   "id": "1530ca19",
   "metadata": {},
   "outputs": [
    {
     "data": {
      "text/plain": [
       "'http://poetry.linhd.uned.es:3000/en/author/juana-ines-de-la-cruz/poetic-work/sabras-querido-fabio'"
      ]
     },
     "execution_count": 15,
     "metadata": {},
     "output_type": "execute_result"
    }
   ],
   "source": [
    "poem.get_poetry_lab_url()"
   ]
  },
  {
   "cell_type": "code",
   "execution_count": 16,
   "id": "d91ba990",
   "metadata": {},
   "outputs": [
    {
     "data": {
      "text/plain": [
       "['http://postdata.linhd.uned.es/resource/p_juana-ines-de-la-cruz']"
      ]
     },
     "execution_count": 16,
     "metadata": {},
     "output_type": "execute_result"
    }
   ],
   "source": [
    "poem.get_author_uris()"
   ]
  },
  {
   "cell_type": "code",
   "execution_count": 17,
   "id": "8147a75f",
   "metadata": {},
   "outputs": [
    {
     "data": {
      "text/plain": [
       "True"
      ]
     },
     "execution_count": 17,
     "metadata": {},
     "output_type": "execute_result"
    }
   ],
   "source": [
    "poem.load_authors()"
   ]
  },
  {
   "cell_type": "code",
   "execution_count": 18,
   "id": "d7c5fdff",
   "metadata": {},
   "outputs": [
    {
     "data": {
      "text/plain": [
       "[<pd_author.PostdataAuthor at 0x10b815910>]"
      ]
     },
     "execution_count": 18,
     "metadata": {},
     "output_type": "execute_result"
    }
   ],
   "source": [
    "poem.authors"
   ]
  },
  {
   "cell_type": "code",
   "execution_count": 19,
   "id": "76f2ae95",
   "metadata": {},
   "outputs": [
    {
     "data": {
      "text/plain": [
       "['Juana Inés de la Cruz', 'Juana Ines de La Cruz']"
      ]
     },
     "execution_count": 19,
     "metadata": {},
     "output_type": "execute_result"
    }
   ],
   "source": [
    "poem.authors[0].get_names()"
   ]
  },
  {
   "cell_type": "code",
   "execution_count": 20,
   "id": "f0a47a62",
   "metadata": {},
   "outputs": [
    {
     "data": {
      "text/plain": [
       "'Juana Inés de la Cruz'"
      ]
     },
     "execution_count": 20,
     "metadata": {},
     "output_type": "execute_result"
    }
   ],
   "source": [
    "poem.authors[0].pref_name"
   ]
  },
  {
   "cell_type": "code",
   "execution_count": 21,
   "id": "e6148c4d",
   "metadata": {},
   "outputs": [
    {
     "data": {
      "text/plain": [
       "{'name': 'Juana Inés de la Cruz',\n",
       " 'uri': 'http://postdata.linhd.uned.es/resource/p_juana-ines-de-la-cruz'}"
      ]
     },
     "execution_count": 21,
     "metadata": {},
     "output_type": "execute_result"
    }
   ],
   "source": [
    "poem.authors[0].get_metadata()"
   ]
  },
  {
   "cell_type": "code",
   "execution_count": 22,
   "id": "4b2d8d36",
   "metadata": {},
   "outputs": [
    {
     "data": {
      "text/plain": [
       "{'id': '572fb37a',\n",
       " 'uri': 'http://postdata.linhd.uned.es/resource/pw_juana-ines-de-la-cruz_sabras-querido-fabio',\n",
       " 'name': 'juana-ines-de-la-cruz_sabras-querido-fabio',\n",
       " 'source': 'http://poetry.linhd.uned.es:3000/en/author/juana-ines-de-la-cruz/poetic-work/sabras-querido-fabio',\n",
       " 'sourceUri': 'POSTDATA Poetry Lab'}"
      ]
     },
     "execution_count": 22,
     "metadata": {},
     "output_type": "execute_result"
    }
   ],
   "source": [
    "poem.get_metadata()"
   ]
  },
  {
   "cell_type": "code",
   "execution_count": 23,
   "id": "454fab12",
   "metadata": {},
   "outputs": [
    {
     "data": {
      "text/plain": [
       "{'id': '572fb37a',\n",
       " 'uri': 'http://postdata.linhd.uned.es/resource/pw_juana-ines-de-la-cruz_sabras-querido-fabio',\n",
       " 'name': 'juana-ines-de-la-cruz_sabras-querido-fabio',\n",
       " 'source': 'http://poetry.linhd.uned.es:3000/en/author/juana-ines-de-la-cruz/poetic-work/sabras-querido-fabio',\n",
       " 'sourceUri': 'POSTDATA Poetry Lab',\n",
       " 'authors': [{'name': 'Juana Inés de la Cruz',\n",
       "   'uri': 'http://postdata.linhd.uned.es/resource/p_juana-ines-de-la-cruz'}]}"
      ]
     },
     "execution_count": 23,
     "metadata": {},
     "output_type": "execute_result"
    }
   ],
   "source": [
    "poem.get_metadata(include_authors=True)"
   ]
  },
  {
   "cell_type": "code",
   "execution_count": 24,
   "id": "89dfe856",
   "metadata": {},
   "outputs": [
    {
     "data": {
      "text/plain": [
       "'http://postdata.linhd.uned.es/resource/sc_juana-ines-de-la-cruz_sabras-querido-fabio_plc_16454644863503196'"
      ]
     },
     "execution_count": 24,
     "metadata": {},
     "output_type": "execute_result"
    }
   ],
   "source": [
    "poem.get_automatic_scansion_uri()"
   ]
  },
  {
   "cell_type": "code",
   "execution_count": 25,
   "id": "784cb523",
   "metadata": {},
   "outputs": [
    {
     "data": {
      "text/plain": [
       "1"
      ]
     },
     "execution_count": 25,
     "metadata": {},
     "output_type": "execute_result"
    }
   ],
   "source": [
    "poem.get_number_of_stanzas()"
   ]
  },
  {
   "cell_type": "code",
   "execution_count": 26,
   "id": "1bf4c14d",
   "metadata": {},
   "outputs": [
    {
     "data": {
      "text/plain": [
       "76"
      ]
     },
     "execution_count": 26,
     "metadata": {},
     "output_type": "execute_result"
    }
   ],
   "source": [
    "poem.get_number_of_lines()"
   ]
  },
  {
   "cell_type": "code",
   "execution_count": 27,
   "id": "37e8ed93",
   "metadata": {},
   "outputs": [
    {
     "data": {
      "text/plain": [
       "292"
      ]
     },
     "execution_count": 27,
     "metadata": {},
     "output_type": "execute_result"
    }
   ],
   "source": [
    "poem.get_number_of_words()"
   ]
  },
  {
   "cell_type": "code",
   "execution_count": 28,
   "id": "8026c381",
   "metadata": {},
   "outputs": [
    {
     "data": {
      "text/plain": [
       "[76]"
      ]
     },
     "execution_count": 28,
     "metadata": {},
     "output_type": "execute_result"
    }
   ],
   "source": [
    "poem.get_number_of_lines_in_stanzas()"
   ]
  },
  {
   "cell_type": "code",
   "execution_count": 29,
   "id": "c797759b",
   "metadata": {},
   "outputs": [
    {
     "data": {
      "text/plain": [
       "['ab-bab-b-b-b---b-b-b-b-b-b--cbcbcbdbdbdb-b-b-b-b-beb-beb-b-b-b-bfbfb-b-b-b-b']"
      ]
     },
     "execution_count": 29,
     "metadata": {},
     "output_type": "execute_result"
    }
   ],
   "source": [
    "poem.get_rhyme_schemes_of_stanzas()"
   ]
  },
  {
   "cell_type": "code",
   "execution_count": 30,
   "id": "3b74ad2a",
   "metadata": {},
   "outputs": [
    {
     "name": "stdout",
     "output_type": "stream",
     "text": [
      "CPU times: user 8.04 ms, sys: 1.66 ms, total: 9.7 ms\n",
      "Wall time: 1.64 s\n"
     ]
    },
    {
     "data": {
      "text/plain": [
       "{'source': {'uri': 'http://postdata.linhd.uned.es/resource/sc_juana-ines-de-la-cruz_sabras-querido-fabio_plc_16454644863503196'},\n",
       " 'numOfStanzas': 1,\n",
       " 'numOfLines': 76,\n",
       " 'numOfWords': 292,\n",
       " 'numOfLinesInStanzas': [76]}"
      ]
     },
     "execution_count": 30,
     "metadata": {},
     "output_type": "execute_result"
    }
   ],
   "source": [
    "%%time\n",
    "poem.get_analysis()"
   ]
  },
  {
   "cell_type": "code",
   "execution_count": null,
   "id": "dc0dc268",
   "metadata": {},
   "outputs": [],
   "source": []
  }
 ],
 "metadata": {
  "kernelspec": {
   "display_name": "Python 3 (ipykernel)",
   "language": "python",
   "name": "python3"
  },
  "language_info": {
   "codemirror_mode": {
    "name": "ipython",
    "version": 3
   },
   "file_extension": ".py",
   "mimetype": "text/x-python",
   "name": "python",
   "nbconvert_exporter": "python",
   "pygments_lexer": "ipython3",
   "version": "3.9.12"
  }
 },
 "nbformat": 4,
 "nbformat_minor": 5
}

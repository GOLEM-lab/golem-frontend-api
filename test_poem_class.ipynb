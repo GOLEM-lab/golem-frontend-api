{
 "cells": [
  {
   "cell_type": "code",
   "execution_count": 1,
   "id": "ef90cd20",
   "metadata": {},
   "outputs": [],
   "source": [
    "from sparql import DB"
   ]
  },
  {
   "cell_type": "code",
   "execution_count": 2,
   "id": "87f51191",
   "metadata": {},
   "outputs": [],
   "source": [
    "from pd_poem import PostdataPoem"
   ]
  },
  {
   "cell_type": "code",
   "execution_count": 3,
   "id": "ec6a921b",
   "metadata": {},
   "outputs": [],
   "source": [
    "import json"
   ]
  },
  {
   "cell_type": "code",
   "execution_count": 4,
   "id": "9f39458d",
   "metadata": {},
   "outputs": [],
   "source": [
    "# config_file = \"config.local.json\"\n",
    "config_file = \"config.poetrylab.json\""
   ]
  },
  {
   "cell_type": "code",
   "execution_count": 5,
   "id": "3ad73801",
   "metadata": {},
   "outputs": [],
   "source": [
    "with open(config_file) as f:\n",
    "    config = json.load(f)"
   ]
  },
  {
   "cell_type": "code",
   "execution_count": 6,
   "id": "04c61712",
   "metadata": {},
   "outputs": [],
   "source": [
    "# create the connection using the DB class\n",
    "db = DB(\n",
    "    triplestore=\"stardog\",\n",
    "    protocol=config[\"server\"][\"protocol\"],\n",
    "    url=config[\"server\"][\"url\"],\n",
    "    port=config[\"server\"][\"port\"],\n",
    "    username=config[\"server\"][\"credentials\"][\"user\"],\n",
    "    password=config[\"server\"][\"credentials\"][\"password\"],\n",
    "    database=config[\"server\"][\"database\"])"
   ]
  },
  {
   "cell_type": "code",
   "execution_count": 7,
   "id": "8c22e091",
   "metadata": {},
   "outputs": [],
   "source": [
    "poem_uri = \"http://postdata.linhd.uned.es/resource/pw_juana-ines-de-la-cruz_sabras-querido-fabio\""
   ]
  },
  {
   "cell_type": "code",
   "execution_count": 8,
   "id": "11c7637d",
   "metadata": {},
   "outputs": [],
   "source": [
    "poem = PostdataPoem(uri=poem_uri ,database=db)"
   ]
  },
  {
   "cell_type": "code",
   "execution_count": 9,
   "id": "eaac0ebe",
   "metadata": {},
   "outputs": [
    {
     "data": {
      "text/plain": [
       "'http://postdata.linhd.uned.es/resource/pw_juana-ines-de-la-cruz_sabras-querido-fabio'"
      ]
     },
     "execution_count": 9,
     "metadata": {},
     "output_type": "execute_result"
    }
   ],
   "source": [
    "poem.uri"
   ]
  },
  {
   "cell_type": "code",
   "execution_count": 10,
   "id": "5dd1eeee",
   "metadata": {},
   "outputs": [
    {
     "data": {
      "text/plain": [
       "'572fb37a'"
      ]
     },
     "execution_count": 10,
     "metadata": {},
     "output_type": "execute_result"
    }
   ],
   "source": [
    "# id has been generated\n",
    "poem.id"
   ]
  },
  {
   "cell_type": "code",
   "execution_count": 11,
   "id": "60424d27",
   "metadata": {},
   "outputs": [
    {
     "data": {
      "text/plain": [
       "'juana-ines-de-la-cruz_sabras-querido-fabio'"
      ]
     },
     "execution_count": 11,
     "metadata": {},
     "output_type": "execute_result"
    }
   ],
   "source": [
    "poem.name"
   ]
  },
  {
   "cell_type": "code",
   "execution_count": 12,
   "id": "e02a2628",
   "metadata": {},
   "outputs": [
    {
     "data": {
      "text/plain": [
       "NoneType"
      ]
     },
     "execution_count": 12,
     "metadata": {},
     "output_type": "execute_result"
    }
   ],
   "source": [
    "#there is no title\n",
    "type(poem.title)"
   ]
  },
  {
   "cell_type": "code",
   "execution_count": 13,
   "id": "1664b173",
   "metadata": {},
   "outputs": [
    {
     "data": {
      "text/plain": [
       "'Sabrás, querido Fabio'"
      ]
     },
     "execution_count": 13,
     "metadata": {},
     "output_type": "execute_result"
    }
   ],
   "source": [
    "poem.get_title()"
   ]
  },
  {
   "cell_type": "code",
   "execution_count": 14,
   "id": "25aca012",
   "metadata": {},
   "outputs": [
    {
     "data": {
      "text/plain": [
       "NoneType"
      ]
     },
     "execution_count": 14,
     "metadata": {},
     "output_type": "execute_result"
    }
   ],
   "source": [
    "poem.get_creation_year()\n",
    "type(poem.get_creation_year())"
   ]
  },
  {
   "cell_type": "code",
   "execution_count": 15,
   "id": "1530ca19",
   "metadata": {},
   "outputs": [
    {
     "data": {
      "text/plain": [
       "'http://poetry.linhd.uned.es:3000/en/author/juana-ines-de-la-cruz/poetic-work/sabras-querido-fabio'"
      ]
     },
     "execution_count": 15,
     "metadata": {},
     "output_type": "execute_result"
    }
   ],
   "source": [
    "poem.get_poetry_lab_url()"
   ]
  },
  {
   "cell_type": "code",
   "execution_count": 16,
   "id": "d91ba990",
   "metadata": {},
   "outputs": [
    {
     "data": {
      "text/plain": [
       "['http://postdata.linhd.uned.es/resource/p_juana-ines-de-la-cruz']"
      ]
     },
     "execution_count": 16,
     "metadata": {},
     "output_type": "execute_result"
    }
   ],
   "source": [
    "poem.get_author_uris()"
   ]
  },
  {
   "cell_type": "code",
   "execution_count": 17,
   "id": "8147a75f",
   "metadata": {},
   "outputs": [
    {
     "data": {
      "text/plain": [
       "True"
      ]
     },
     "execution_count": 17,
     "metadata": {},
     "output_type": "execute_result"
    }
   ],
   "source": [
    "poem.load_authors()"
   ]
  },
  {
   "cell_type": "code",
   "execution_count": 18,
   "id": "d7c5fdff",
   "metadata": {},
   "outputs": [
    {
     "data": {
      "text/plain": [
       "[<pd_author.PostdataAuthor at 0x103e33370>]"
      ]
     },
     "execution_count": 18,
     "metadata": {},
     "output_type": "execute_result"
    }
   ],
   "source": [
    "poem.authors"
   ]
  },
  {
   "cell_type": "code",
   "execution_count": 19,
   "id": "76f2ae95",
   "metadata": {},
   "outputs": [
    {
     "data": {
      "text/plain": [
       "['Juana Inés de la Cruz', 'Juana Ines de La Cruz']"
      ]
     },
     "execution_count": 19,
     "metadata": {},
     "output_type": "execute_result"
    }
   ],
   "source": [
    "poem.authors[0].get_names()"
   ]
  },
  {
   "cell_type": "code",
   "execution_count": 20,
   "id": "f0a47a62",
   "metadata": {},
   "outputs": [
    {
     "data": {
      "text/plain": [
       "'Juana Inés de la Cruz'"
      ]
     },
     "execution_count": 20,
     "metadata": {},
     "output_type": "execute_result"
    }
   ],
   "source": [
    "poem.authors[0].pref_name"
   ]
  },
  {
   "cell_type": "code",
   "execution_count": 21,
   "id": "e6148c4d",
   "metadata": {},
   "outputs": [
    {
     "data": {
      "text/plain": [
       "{'name': 'Juana Inés de la Cruz',\n",
       " 'uri': 'http://postdata.linhd.uned.es/resource/p_juana-ines-de-la-cruz'}"
      ]
     },
     "execution_count": 21,
     "metadata": {},
     "output_type": "execute_result"
    }
   ],
   "source": [
    "poem.authors[0].get_metadata()"
   ]
  },
  {
   "cell_type": "code",
   "execution_count": 22,
   "id": "4b2d8d36",
   "metadata": {},
   "outputs": [
    {
     "data": {
      "text/plain": [
       "{'id': '572fb37a',\n",
       " 'uri': 'http://postdata.linhd.uned.es/resource/pw_juana-ines-de-la-cruz_sabras-querido-fabio',\n",
       " 'name': 'juana-ines-de-la-cruz_sabras-querido-fabio',\n",
       " 'source': 'http://poetry.linhd.uned.es:3000/en/author/juana-ines-de-la-cruz/poetic-work/sabras-querido-fabio',\n",
       " 'sourceUri': 'POSTDATA Poetry Lab'}"
      ]
     },
     "execution_count": 22,
     "metadata": {},
     "output_type": "execute_result"
    }
   ],
   "source": [
    "poem.get_metadata()"
   ]
  },
  {
   "cell_type": "code",
   "execution_count": 23,
   "id": "454fab12",
   "metadata": {},
   "outputs": [
    {
     "data": {
      "text/plain": [
       "{'id': '572fb37a',\n",
       " 'uri': 'http://postdata.linhd.uned.es/resource/pw_juana-ines-de-la-cruz_sabras-querido-fabio',\n",
       " 'name': 'juana-ines-de-la-cruz_sabras-querido-fabio',\n",
       " 'source': 'http://poetry.linhd.uned.es:3000/en/author/juana-ines-de-la-cruz/poetic-work/sabras-querido-fabio',\n",
       " 'sourceUri': 'POSTDATA Poetry Lab',\n",
       " 'authors': [{'name': 'Juana Inés de la Cruz',\n",
       "   'uri': 'http://postdata.linhd.uned.es/resource/p_juana-ines-de-la-cruz'}]}"
      ]
     },
     "execution_count": 23,
     "metadata": {},
     "output_type": "execute_result"
    }
   ],
   "source": [
    "poem.get_metadata(include_authors=True)"
   ]
  },
  {
   "cell_type": "code",
   "execution_count": 24,
   "id": "89dfe856",
   "metadata": {},
   "outputs": [
    {
     "data": {
      "text/plain": [
       "'http://postdata.linhd.uned.es/resource/sc_juana-ines-de-la-cruz_sabras-querido-fabio_plc_16454644863503196'"
      ]
     },
     "execution_count": 24,
     "metadata": {},
     "output_type": "execute_result"
    }
   ],
   "source": [
    "poem.get_automatic_scansion_uri()"
   ]
  },
  {
   "cell_type": "code",
   "execution_count": 25,
   "id": "a806bc3b",
   "metadata": {},
   "outputs": [
    {
     "data": {
      "text/plain": [
       "1"
      ]
     },
     "execution_count": 25,
     "metadata": {},
     "output_type": "execute_result"
    }
   ],
   "source": [
    "poem.get_number_of_stanzas()"
   ]
  },
  {
   "cell_type": "code",
   "execution_count": 26,
   "id": "ce98c36f",
   "metadata": {},
   "outputs": [
    {
     "data": {
      "text/plain": [
       "76"
      ]
     },
     "execution_count": 26,
     "metadata": {},
     "output_type": "execute_result"
    }
   ],
   "source": [
    "poem.get_number_of_lines()"
   ]
  },
  {
   "cell_type": "code",
   "execution_count": 27,
   "id": "7b230b9d",
   "metadata": {},
   "outputs": [
    {
     "data": {
      "text/plain": [
       "292"
      ]
     },
     "execution_count": 27,
     "metadata": {},
     "output_type": "execute_result"
    }
   ],
   "source": [
    "poem.get_number_of_words()"
   ]
  },
  {
   "cell_type": "code",
   "execution_count": 28,
   "id": "d3fc3872",
   "metadata": {},
   "outputs": [
    {
     "data": {
      "text/plain": [
       "[76]"
      ]
     },
     "execution_count": 28,
     "metadata": {},
     "output_type": "execute_result"
    }
   ],
   "source": [
    "poem.get_number_of_lines_in_stanzas()"
   ]
  },
  {
   "cell_type": "code",
   "execution_count": 29,
   "id": "55a5601f",
   "metadata": {},
   "outputs": [
    {
     "data": {
      "text/plain": [
       "['ab-bab-b-b-b---b-b-b-b-b-b--cbcbcbdbdbdb-b-b-b-b-beb-beb-b-b-b-bfbfb-b-b-b-b']"
      ]
     },
     "execution_count": 29,
     "metadata": {},
     "output_type": "execute_result"
    }
   ],
   "source": [
    "poem.get_rhyme_schemes_of_stanzas()"
   ]
  },
  {
   "cell_type": "code",
   "execution_count": 30,
   "id": "7f0614c6",
   "metadata": {},
   "outputs": [
    {
     "data": {
      "text/plain": [
       "525"
      ]
     },
     "execution_count": 30,
     "metadata": {},
     "output_type": "execute_result"
    }
   ],
   "source": [
    "poem.get_number_of_syllables(syllable_type=\"metrical\")"
   ]
  },
  {
   "cell_type": "code",
   "execution_count": 31,
   "id": "8751353b",
   "metadata": {},
   "outputs": [
    {
     "data": {
      "text/plain": [
       "564"
      ]
     },
     "execution_count": 31,
     "metadata": {},
     "output_type": "execute_result"
    }
   ],
   "source": [
    "poem.get_number_of_syllables(syllable_type=\"grammatical\")"
   ]
  },
  {
   "cell_type": "code",
   "execution_count": 32,
   "id": "81b733af",
   "metadata": {},
   "outputs": [
    {
     "data": {
      "text/plain": [
       "[[7,\n",
       "  8,\n",
       "  8,\n",
       "  7,\n",
       "  8,\n",
       "  8,\n",
       "  8,\n",
       "  8,\n",
       "  9,\n",
       "  7,\n",
       "  7,\n",
       "  7,\n",
       "  8,\n",
       "  8,\n",
       "  8,\n",
       "  8,\n",
       "  8,\n",
       "  8,\n",
       "  7,\n",
       "  8,\n",
       "  6,\n",
       "  8,\n",
       "  7,\n",
       "  7,\n",
       "  7,\n",
       "  8,\n",
       "  7,\n",
       "  7,\n",
       "  6,\n",
       "  7,\n",
       "  8,\n",
       "  7,\n",
       "  7,\n",
       "  8,\n",
       "  7,\n",
       "  7,\n",
       "  8,\n",
       "  8,\n",
       "  8,\n",
       "  7,\n",
       "  7,\n",
       "  7,\n",
       "  7,\n",
       "  7,\n",
       "  7,\n",
       "  8,\n",
       "  8,\n",
       "  8,\n",
       "  7,\n",
       "  7,\n",
       "  7,\n",
       "  7,\n",
       "  7,\n",
       "  9,\n",
       "  7,\n",
       "  7,\n",
       "  6,\n",
       "  8,\n",
       "  8,\n",
       "  7,\n",
       "  7,\n",
       "  7,\n",
       "  7,\n",
       "  7,\n",
       "  9,\n",
       "  8,\n",
       "  7,\n",
       "  7,\n",
       "  9,\n",
       "  7,\n",
       "  7,\n",
       "  7,\n",
       "  7,\n",
       "  7,\n",
       "  7,\n",
       "  8]]"
      ]
     },
     "execution_count": 32,
     "metadata": {},
     "output_type": "execute_result"
    }
   ],
   "source": [
    "poem.get_number_of_syllables_in_stanzas(syllable_type=\"grammatical\")"
   ]
  },
  {
   "cell_type": "code",
   "execution_count": 33,
   "id": "3ba120b8",
   "metadata": {},
   "outputs": [
    {
     "data": {
      "text/plain": [
       "[[3,\n",
       "  5,\n",
       "  4,\n",
       "  5,\n",
       "  4,\n",
       "  5,\n",
       "  3,\n",
       "  4,\n",
       "  5,\n",
       "  3,\n",
       "  3,\n",
       "  2,\n",
       "  5,\n",
       "  5,\n",
       "  5,\n",
       "  5,\n",
       "  5,\n",
       "  4,\n",
       "  2,\n",
       "  4,\n",
       "  4,\n",
       "  6,\n",
       "  3,\n",
       "  4,\n",
       "  5,\n",
       "  3,\n",
       "  4,\n",
       "  3,\n",
       "  3,\n",
       "  4,\n",
       "  4,\n",
       "  2,\n",
       "  4,\n",
       "  4,\n",
       "  2,\n",
       "  3,\n",
       "  4,\n",
       "  3,\n",
       "  5,\n",
       "  4,\n",
       "  4,\n",
       "  3,\n",
       "  4,\n",
       "  3,\n",
       "  3,\n",
       "  4,\n",
       "  5,\n",
       "  4,\n",
       "  5,\n",
       "  4,\n",
       "  2,\n",
       "  4,\n",
       "  3,\n",
       "  4,\n",
       "  4,\n",
       "  4,\n",
       "  3,\n",
       "  4,\n",
       "  3,\n",
       "  3,\n",
       "  5,\n",
       "  4,\n",
       "  3,\n",
       "  4,\n",
       "  7,\n",
       "  4,\n",
       "  3,\n",
       "  3,\n",
       "  5,\n",
       "  4,\n",
       "  4,\n",
       "  2,\n",
       "  5,\n",
       "  4,\n",
       "  4,\n",
       "  3]]"
      ]
     },
     "execution_count": 33,
     "metadata": {},
     "output_type": "execute_result"
    }
   ],
   "source": [
    "poem.get_number_of_words_in_stanzas()"
   ]
  },
  {
   "cell_type": "code",
   "execution_count": 34,
   "id": "0709e5b5",
   "metadata": {},
   "outputs": [
    {
     "data": {
      "text/plain": [
       "[['-+-+-+-',\n",
       "  '--+---+-',\n",
       "  '---+--+-',\n",
       "  '++---+-',\n",
       "  '--+-+-+-',\n",
       "  '----+-+-',\n",
       "  '-+----+-',\n",
       "  '-+--+-+-',\n",
       "  '----+--+-',\n",
       "  '-+---+-',\n",
       "  '--+--+-',\n",
       "  '-+---+-',\n",
       "  '+++-+-+-',\n",
       "  '----+-+-',\n",
       "  '+--+--+-',\n",
       "  '-+--+-+-',\n",
       "  '--+----+',\n",
       "  '-+--+-+-',\n",
       "  '+----+-',\n",
       "  '-+-+--+-',\n",
       "  '--+--+',\n",
       "  '-+----+-',\n",
       "  '---+-+-',\n",
       "  '-+-+-+-',\n",
       "  '+--+-+-',\n",
       "  '-+--+-+-',\n",
       "  '+--+-+-',\n",
       "  '+--+-+-',\n",
       "  '+---+-',\n",
       "  '---+-+-',\n",
       "  '---+--+-',\n",
       "  '-+---+-',\n",
       "  '---+-+-',\n",
       "  '---+--+-',\n",
       "  '---+-+-',\n",
       "  '--+--+-',\n",
       "  '-+-+--+-',\n",
       "  '--+---+-',\n",
       "  '+-+---+-',\n",
       "  '-+-+-+-',\n",
       "  '---+-+-',\n",
       "  '---+-+-',\n",
       "  '--+--+-',\n",
       "  '--+--+-',\n",
       "  '---+-+-',\n",
       "  '----+-+-',\n",
       "  '---+--+-',\n",
       "  '--+---+-',\n",
       "  '-+---+-',\n",
       "  '---+-+-',\n",
       "  '-+-+-+-',\n",
       "  '-+---+-',\n",
       "  '--+--+-',\n",
       "  '----+--+-',\n",
       "  '---+-+-',\n",
       "  '++---+-',\n",
       "  '-+-+-+',\n",
       "  '----+-+-',\n",
       "  '-+----+-',\n",
       "  '--+--+-',\n",
       "  '--++--+',\n",
       "  '-----+-',\n",
       "  '+--+-+-',\n",
       "  '-+-+-+-',\n",
       "  '-++---++-',\n",
       "  '--+-+-+-',\n",
       "  '-+---+-',\n",
       "  '-----+-',\n",
       "  '--+--+-+-',\n",
       "  '--+-++-',\n",
       "  '-+---+-',\n",
       "  '--+--+-',\n",
       "  '+--+-+-',\n",
       "  '---+-+-',\n",
       "  '---+-+-',\n",
       "  '----+-+-']]"
      ]
     },
     "execution_count": 34,
     "metadata": {},
     "output_type": "execute_result"
    }
   ],
   "source": [
    "poem.get_grammatical_stress_patterns_in_stanzas()"
   ]
  },
  {
   "cell_type": "code",
   "execution_count": 35,
   "id": "56885e36",
   "metadata": {},
   "outputs": [
    {
     "data": {
      "text/plain": [
       "[['-+-+-+-',\n",
       "  '-+---+-',\n",
       "  '--+--+-',\n",
       "  '++---+-',\n",
       "  '-+-+-+-',\n",
       "  '---+-+-',\n",
       "  '-+---+-',\n",
       "  '-+-+-+-',\n",
       "  '---+-+-',\n",
       "  '-+---+-',\n",
       "  '--+--+-',\n",
       "  '-+---+-',\n",
       "  '++-+-+-',\n",
       "  '---+-+-',\n",
       "  '+--+-+-',\n",
       "  '-+-+-+-',\n",
       "  '-+---+-',\n",
       "  '-+-+-+-',\n",
       "  '+----+-',\n",
       "  '-+-+-+-',\n",
       "  '--+--+-',\n",
       "  '-+---+-',\n",
       "  '---+-+-',\n",
       "  '-+-+-+-',\n",
       "  '+--+-+-',\n",
       "  '-+-+-+-',\n",
       "  '+--+-+-',\n",
       "  '+--+-+-',\n",
       "  '+---+-',\n",
       "  '---+-+-',\n",
       "  '--+--+-',\n",
       "  '-+---+-',\n",
       "  '---+-+-',\n",
       "  '--+--+-',\n",
       "  '---+-+-',\n",
       "  '--+--+-',\n",
       "  '-+-+-+-',\n",
       "  '-+---+-',\n",
       "  '+-+--+-',\n",
       "  '-+-+-+-',\n",
       "  '---+-+-',\n",
       "  '---+-+-',\n",
       "  '--+--+-',\n",
       "  '--+--+-',\n",
       "  '---+-+-',\n",
       "  '---+-+-',\n",
       "  '--+--+-',\n",
       "  '--+--+-',\n",
       "  '-+---+-',\n",
       "  '---+-+-',\n",
       "  '-+-+-+-',\n",
       "  '-+---+-',\n",
       "  '--+--+-',\n",
       "  '---+-+-',\n",
       "  '---+-+-',\n",
       "  '++---+-',\n",
       "  '-+-+-+-',\n",
       "  '---+-+-',\n",
       "  '-+---+-',\n",
       "  '--+--+-',\n",
       "  '-++--+-',\n",
       "  '-----+-',\n",
       "  '+--+-+-',\n",
       "  '-+-+-+-',\n",
       "  '++--++-',\n",
       "  '-+-+-+-',\n",
       "  '-+---+-',\n",
       "  '-----+-',\n",
       "  '+--+-+-',\n",
       "  '--+-++-',\n",
       "  '-+---+-',\n",
       "  '--+--+-',\n",
       "  '+--+-+-',\n",
       "  '---+-+-',\n",
       "  '---+-+-',\n",
       "  '---+-+-']]"
      ]
     },
     "execution_count": 35,
     "metadata": {},
     "output_type": "execute_result"
    }
   ],
   "source": [
    "poem.get_metrical_patterns_in_stanzas()"
   ]
  },
  {
   "cell_type": "code",
   "execution_count": 36,
   "id": "d2d6772e",
   "metadata": {},
   "outputs": [
    {
     "name": "stdout",
     "output_type": "stream",
     "text": [
      "CPU times: user 21.1 ms, sys: 2.81 ms, total: 23.9 ms\n",
      "Wall time: 4.89 s\n"
     ]
    },
    {
     "data": {
      "text/plain": [
       "{'source': {'uri': 'http://postdata.linhd.uned.es/resource/sc_juana-ines-de-la-cruz_sabras-querido-fabio_plc_16454644863503196'},\n",
       " 'numOfStanzas': 1,\n",
       " 'numOfLines': 76,\n",
       " 'numOfWords': 292,\n",
       " 'numOfLinesInStanzas': [76],\n",
       " 'rhymeSchemesOfStanzas': ['ab-bab-b-b-b---b-b-b-b-b-b--cbcbcbdbdbdb-b-b-b-b-beb-beb-b-b-b-bfbfb-b-b-b-b'],\n",
       " 'numOfMetricalSyllables': 525,\n",
       " 'numOfGrammaticalSyllables': 564,\n",
       " 'numOfMetricalSyllablesInStanzas': [[7,\n",
       "   7,\n",
       "   7,\n",
       "   7,\n",
       "   7,\n",
       "   7,\n",
       "   7,\n",
       "   7,\n",
       "   7,\n",
       "   7,\n",
       "   7,\n",
       "   7,\n",
       "   6,\n",
       "   7,\n",
       "   7,\n",
       "   7,\n",
       "   6,\n",
       "   7,\n",
       "   7,\n",
       "   7,\n",
       "   6,\n",
       "   7,\n",
       "   7,\n",
       "   7,\n",
       "   7,\n",
       "   7,\n",
       "   7,\n",
       "   6,\n",
       "   6,\n",
       "   7,\n",
       "   7,\n",
       "   7,\n",
       "   7,\n",
       "   7,\n",
       "   7,\n",
       "   7,\n",
       "   7,\n",
       "   7,\n",
       "   7,\n",
       "   7,\n",
       "   7,\n",
       "   7,\n",
       "   7,\n",
       "   7,\n",
       "   7,\n",
       "   7,\n",
       "   7,\n",
       "   7,\n",
       "   7,\n",
       "   7,\n",
       "   7,\n",
       "   7,\n",
       "   7,\n",
       "   7,\n",
       "   7,\n",
       "   7,\n",
       "   6,\n",
       "   7,\n",
       "   7,\n",
       "   7,\n",
       "   6,\n",
       "   7,\n",
       "   7,\n",
       "   7,\n",
       "   7,\n",
       "   7,\n",
       "   7,\n",
       "   7,\n",
       "   7,\n",
       "   7,\n",
       "   7,\n",
       "   7,\n",
       "   7,\n",
       "   7,\n",
       "   7,\n",
       "   7]],\n",
       " 'numOfGrammaticalSyllablesInStanzas': [[7,\n",
       "   8,\n",
       "   8,\n",
       "   7,\n",
       "   8,\n",
       "   8,\n",
       "   8,\n",
       "   8,\n",
       "   9,\n",
       "   7,\n",
       "   7,\n",
       "   7,\n",
       "   8,\n",
       "   8,\n",
       "   8,\n",
       "   8,\n",
       "   8,\n",
       "   8,\n",
       "   7,\n",
       "   8,\n",
       "   6,\n",
       "   8,\n",
       "   7,\n",
       "   7,\n",
       "   7,\n",
       "   8,\n",
       "   7,\n",
       "   7,\n",
       "   6,\n",
       "   7,\n",
       "   8,\n",
       "   7,\n",
       "   7,\n",
       "   8,\n",
       "   7,\n",
       "   7,\n",
       "   8,\n",
       "   8,\n",
       "   8,\n",
       "   7,\n",
       "   7,\n",
       "   7,\n",
       "   7,\n",
       "   7,\n",
       "   7,\n",
       "   8,\n",
       "   8,\n",
       "   8,\n",
       "   7,\n",
       "   7,\n",
       "   7,\n",
       "   7,\n",
       "   7,\n",
       "   9,\n",
       "   7,\n",
       "   7,\n",
       "   6,\n",
       "   8,\n",
       "   8,\n",
       "   7,\n",
       "   7,\n",
       "   7,\n",
       "   7,\n",
       "   7,\n",
       "   9,\n",
       "   8,\n",
       "   7,\n",
       "   7,\n",
       "   9,\n",
       "   7,\n",
       "   7,\n",
       "   7,\n",
       "   7,\n",
       "   7,\n",
       "   7,\n",
       "   8]],\n",
       " 'numOfWordsInStanzas': [[3,\n",
       "   5,\n",
       "   4,\n",
       "   5,\n",
       "   4,\n",
       "   5,\n",
       "   3,\n",
       "   4,\n",
       "   5,\n",
       "   3,\n",
       "   3,\n",
       "   2,\n",
       "   5,\n",
       "   5,\n",
       "   5,\n",
       "   5,\n",
       "   5,\n",
       "   4,\n",
       "   2,\n",
       "   4,\n",
       "   4,\n",
       "   6,\n",
       "   3,\n",
       "   4,\n",
       "   5,\n",
       "   3,\n",
       "   4,\n",
       "   3,\n",
       "   3,\n",
       "   4,\n",
       "   4,\n",
       "   2,\n",
       "   4,\n",
       "   4,\n",
       "   2,\n",
       "   3,\n",
       "   4,\n",
       "   3,\n",
       "   5,\n",
       "   4,\n",
       "   4,\n",
       "   3,\n",
       "   4,\n",
       "   3,\n",
       "   3,\n",
       "   4,\n",
       "   5,\n",
       "   4,\n",
       "   5,\n",
       "   4,\n",
       "   2,\n",
       "   4,\n",
       "   3,\n",
       "   4,\n",
       "   4,\n",
       "   4,\n",
       "   3,\n",
       "   4,\n",
       "   3,\n",
       "   3,\n",
       "   5,\n",
       "   4,\n",
       "   3,\n",
       "   4,\n",
       "   7,\n",
       "   4,\n",
       "   3,\n",
       "   3,\n",
       "   5,\n",
       "   4,\n",
       "   4,\n",
       "   2,\n",
       "   5,\n",
       "   4,\n",
       "   4,\n",
       "   3]],\n",
       " 'grammaticalStressPatternsInStanzas': [['-+-+-+-',\n",
       "   '--+---+-',\n",
       "   '---+--+-',\n",
       "   '++---+-',\n",
       "   '--+-+-+-',\n",
       "   '----+-+-',\n",
       "   '-+----+-',\n",
       "   '-+--+-+-',\n",
       "   '----+--+-',\n",
       "   '-+---+-',\n",
       "   '--+--+-',\n",
       "   '-+---+-',\n",
       "   '+++-+-+-',\n",
       "   '----+-+-',\n",
       "   '+--+--+-',\n",
       "   '-+--+-+-',\n",
       "   '--+----+',\n",
       "   '-+--+-+-',\n",
       "   '+----+-',\n",
       "   '-+-+--+-',\n",
       "   '--+--+',\n",
       "   '-+----+-',\n",
       "   '---+-+-',\n",
       "   '-+-+-+-',\n",
       "   '+--+-+-',\n",
       "   '-+--+-+-',\n",
       "   '+--+-+-',\n",
       "   '+--+-+-',\n",
       "   '+---+-',\n",
       "   '---+-+-',\n",
       "   '---+--+-',\n",
       "   '-+---+-',\n",
       "   '---+-+-',\n",
       "   '---+--+-',\n",
       "   '---+-+-',\n",
       "   '--+--+-',\n",
       "   '-+-+--+-',\n",
       "   '--+---+-',\n",
       "   '+-+---+-',\n",
       "   '-+-+-+-',\n",
       "   '---+-+-',\n",
       "   '---+-+-',\n",
       "   '--+--+-',\n",
       "   '--+--+-',\n",
       "   '---+-+-',\n",
       "   '----+-+-',\n",
       "   '---+--+-',\n",
       "   '--+---+-',\n",
       "   '-+---+-',\n",
       "   '---+-+-',\n",
       "   '-+-+-+-',\n",
       "   '-+---+-',\n",
       "   '--+--+-',\n",
       "   '----+--+-',\n",
       "   '---+-+-',\n",
       "   '++---+-',\n",
       "   '-+-+-+',\n",
       "   '----+-+-',\n",
       "   '-+----+-',\n",
       "   '--+--+-',\n",
       "   '--++--+',\n",
       "   '-----+-',\n",
       "   '+--+-+-',\n",
       "   '-+-+-+-',\n",
       "   '-++---++-',\n",
       "   '--+-+-+-',\n",
       "   '-+---+-',\n",
       "   '-----+-',\n",
       "   '--+--+-+-',\n",
       "   '--+-++-',\n",
       "   '-+---+-',\n",
       "   '--+--+-',\n",
       "   '+--+-+-',\n",
       "   '---+-+-',\n",
       "   '---+-+-',\n",
       "   '----+-+-']],\n",
       " 'metricalPatternsInStanzas': [['-+-+-+-',\n",
       "   '-+---+-',\n",
       "   '--+--+-',\n",
       "   '++---+-',\n",
       "   '-+-+-+-',\n",
       "   '---+-+-',\n",
       "   '-+---+-',\n",
       "   '-+-+-+-',\n",
       "   '---+-+-',\n",
       "   '-+---+-',\n",
       "   '--+--+-',\n",
       "   '-+---+-',\n",
       "   '++-+-+-',\n",
       "   '---+-+-',\n",
       "   '+--+-+-',\n",
       "   '-+-+-+-',\n",
       "   '-+---+-',\n",
       "   '-+-+-+-',\n",
       "   '+----+-',\n",
       "   '-+-+-+-',\n",
       "   '--+--+-',\n",
       "   '-+---+-',\n",
       "   '---+-+-',\n",
       "   '-+-+-+-',\n",
       "   '+--+-+-',\n",
       "   '-+-+-+-',\n",
       "   '+--+-+-',\n",
       "   '+--+-+-',\n",
       "   '+---+-',\n",
       "   '---+-+-',\n",
       "   '--+--+-',\n",
       "   '-+---+-',\n",
       "   '---+-+-',\n",
       "   '--+--+-',\n",
       "   '---+-+-',\n",
       "   '--+--+-',\n",
       "   '-+-+-+-',\n",
       "   '-+---+-',\n",
       "   '+-+--+-',\n",
       "   '-+-+-+-',\n",
       "   '---+-+-',\n",
       "   '---+-+-',\n",
       "   '--+--+-',\n",
       "   '--+--+-',\n",
       "   '---+-+-',\n",
       "   '---+-+-',\n",
       "   '--+--+-',\n",
       "   '--+--+-',\n",
       "   '-+---+-',\n",
       "   '---+-+-',\n",
       "   '-+-+-+-',\n",
       "   '-+---+-',\n",
       "   '--+--+-',\n",
       "   '---+-+-',\n",
       "   '---+-+-',\n",
       "   '++---+-',\n",
       "   '-+-+-+-',\n",
       "   '---+-+-',\n",
       "   '-+---+-',\n",
       "   '--+--+-',\n",
       "   '-++--+-',\n",
       "   '-----+-',\n",
       "   '+--+-+-',\n",
       "   '-+-+-+-',\n",
       "   '++--++-',\n",
       "   '-+-+-+-',\n",
       "   '-+---+-',\n",
       "   '-----+-',\n",
       "   '+--+-+-',\n",
       "   '--+-++-',\n",
       "   '-+---+-',\n",
       "   '--+--+-',\n",
       "   '+--+-+-',\n",
       "   '---+-+-',\n",
       "   '---+-+-',\n",
       "   '---+-+-']]}"
      ]
     },
     "execution_count": 36,
     "metadata": {},
     "output_type": "execute_result"
    }
   ],
   "source": [
    "%%time\n",
    "poem.get_analysis()"
   ]
  },
  {
   "cell_type": "code",
   "execution_count": 37,
   "id": "1f3b8077",
   "metadata": {},
   "outputs": [
    {
     "data": {
      "text/plain": [
       "{'id': '572fb37a',\n",
       " 'uri': 'http://postdata.linhd.uned.es/resource/pw_juana-ines-de-la-cruz_sabras-querido-fabio',\n",
       " 'name': 'juana-ines-de-la-cruz_sabras-querido-fabio',\n",
       " 'source': 'http://poetry.linhd.uned.es:3000/en/author/juana-ines-de-la-cruz/poetic-work/sabras-querido-fabio',\n",
       " 'sourceUri': 'POSTDATA Poetry Lab',\n",
       " 'authors': [{'name': 'Juana Inés de la Cruz',\n",
       "   'uri': 'http://postdata.linhd.uned.es/resource/p_juana-ines-de-la-cruz'}],\n",
       " 'analysis': {'source': {'uri': 'http://postdata.linhd.uned.es/resource/sc_juana-ines-de-la-cruz_sabras-querido-fabio_plc_16454644863503196'},\n",
       "  'numOfStanzas': 1,\n",
       "  'numOfLines': 76,\n",
       "  'numOfWords': 292,\n",
       "  'numOfLinesInStanzas': [76],\n",
       "  'rhymeSchemesOfStanzas': ['ab-bab-b-b-b---b-b-b-b-b-b--cbcbcbdbdbdb-b-b-b-b-beb-beb-b-b-b-bfbfb-b-b-b-b'],\n",
       "  'numOfMetricalSyllables': 525,\n",
       "  'numOfGrammaticalSyllables': 564,\n",
       "  'numOfMetricalSyllablesInStanzas': [[7,\n",
       "    7,\n",
       "    7,\n",
       "    7,\n",
       "    7,\n",
       "    7,\n",
       "    7,\n",
       "    7,\n",
       "    7,\n",
       "    7,\n",
       "    7,\n",
       "    7,\n",
       "    6,\n",
       "    7,\n",
       "    7,\n",
       "    7,\n",
       "    6,\n",
       "    7,\n",
       "    7,\n",
       "    7,\n",
       "    6,\n",
       "    7,\n",
       "    7,\n",
       "    7,\n",
       "    7,\n",
       "    7,\n",
       "    7,\n",
       "    6,\n",
       "    6,\n",
       "    7,\n",
       "    7,\n",
       "    7,\n",
       "    7,\n",
       "    7,\n",
       "    7,\n",
       "    7,\n",
       "    7,\n",
       "    7,\n",
       "    7,\n",
       "    7,\n",
       "    7,\n",
       "    7,\n",
       "    7,\n",
       "    7,\n",
       "    7,\n",
       "    7,\n",
       "    7,\n",
       "    7,\n",
       "    7,\n",
       "    7,\n",
       "    7,\n",
       "    7,\n",
       "    7,\n",
       "    7,\n",
       "    7,\n",
       "    7,\n",
       "    6,\n",
       "    7,\n",
       "    7,\n",
       "    7,\n",
       "    6,\n",
       "    7,\n",
       "    7,\n",
       "    7,\n",
       "    7,\n",
       "    7,\n",
       "    7,\n",
       "    7,\n",
       "    7,\n",
       "    7,\n",
       "    7,\n",
       "    7,\n",
       "    7,\n",
       "    7,\n",
       "    7,\n",
       "    7]],\n",
       "  'numOfGrammaticalSyllablesInStanzas': [[7,\n",
       "    8,\n",
       "    8,\n",
       "    7,\n",
       "    8,\n",
       "    8,\n",
       "    8,\n",
       "    8,\n",
       "    9,\n",
       "    7,\n",
       "    7,\n",
       "    7,\n",
       "    8,\n",
       "    8,\n",
       "    8,\n",
       "    8,\n",
       "    8,\n",
       "    8,\n",
       "    7,\n",
       "    8,\n",
       "    6,\n",
       "    8,\n",
       "    7,\n",
       "    7,\n",
       "    7,\n",
       "    8,\n",
       "    7,\n",
       "    7,\n",
       "    6,\n",
       "    7,\n",
       "    8,\n",
       "    7,\n",
       "    7,\n",
       "    8,\n",
       "    7,\n",
       "    7,\n",
       "    8,\n",
       "    8,\n",
       "    8,\n",
       "    7,\n",
       "    7,\n",
       "    7,\n",
       "    7,\n",
       "    7,\n",
       "    7,\n",
       "    8,\n",
       "    8,\n",
       "    8,\n",
       "    7,\n",
       "    7,\n",
       "    7,\n",
       "    7,\n",
       "    7,\n",
       "    9,\n",
       "    7,\n",
       "    7,\n",
       "    6,\n",
       "    8,\n",
       "    8,\n",
       "    7,\n",
       "    7,\n",
       "    7,\n",
       "    7,\n",
       "    7,\n",
       "    9,\n",
       "    8,\n",
       "    7,\n",
       "    7,\n",
       "    9,\n",
       "    7,\n",
       "    7,\n",
       "    7,\n",
       "    7,\n",
       "    7,\n",
       "    7,\n",
       "    8]],\n",
       "  'numOfWordsInStanzas': [[3,\n",
       "    5,\n",
       "    4,\n",
       "    5,\n",
       "    4,\n",
       "    5,\n",
       "    3,\n",
       "    4,\n",
       "    5,\n",
       "    3,\n",
       "    3,\n",
       "    2,\n",
       "    5,\n",
       "    5,\n",
       "    5,\n",
       "    5,\n",
       "    5,\n",
       "    4,\n",
       "    2,\n",
       "    4,\n",
       "    4,\n",
       "    6,\n",
       "    3,\n",
       "    4,\n",
       "    5,\n",
       "    3,\n",
       "    4,\n",
       "    3,\n",
       "    3,\n",
       "    4,\n",
       "    4,\n",
       "    2,\n",
       "    4,\n",
       "    4,\n",
       "    2,\n",
       "    3,\n",
       "    4,\n",
       "    3,\n",
       "    5,\n",
       "    4,\n",
       "    4,\n",
       "    3,\n",
       "    4,\n",
       "    3,\n",
       "    3,\n",
       "    4,\n",
       "    5,\n",
       "    4,\n",
       "    5,\n",
       "    4,\n",
       "    2,\n",
       "    4,\n",
       "    3,\n",
       "    4,\n",
       "    4,\n",
       "    4,\n",
       "    3,\n",
       "    4,\n",
       "    3,\n",
       "    3,\n",
       "    5,\n",
       "    4,\n",
       "    3,\n",
       "    4,\n",
       "    7,\n",
       "    4,\n",
       "    3,\n",
       "    3,\n",
       "    5,\n",
       "    4,\n",
       "    4,\n",
       "    2,\n",
       "    5,\n",
       "    4,\n",
       "    4,\n",
       "    3]],\n",
       "  'grammaticalStressPatternsInStanzas': [['-+-+-+-',\n",
       "    '--+---+-',\n",
       "    '---+--+-',\n",
       "    '++---+-',\n",
       "    '--+-+-+-',\n",
       "    '----+-+-',\n",
       "    '-+----+-',\n",
       "    '-+--+-+-',\n",
       "    '----+--+-',\n",
       "    '-+---+-',\n",
       "    '--+--+-',\n",
       "    '-+---+-',\n",
       "    '+++-+-+-',\n",
       "    '----+-+-',\n",
       "    '+--+--+-',\n",
       "    '-+--+-+-',\n",
       "    '--+----+',\n",
       "    '-+--+-+-',\n",
       "    '+----+-',\n",
       "    '-+-+--+-',\n",
       "    '--+--+',\n",
       "    '-+----+-',\n",
       "    '---+-+-',\n",
       "    '-+-+-+-',\n",
       "    '+--+-+-',\n",
       "    '-+--+-+-',\n",
       "    '+--+-+-',\n",
       "    '+--+-+-',\n",
       "    '+---+-',\n",
       "    '---+-+-',\n",
       "    '---+--+-',\n",
       "    '-+---+-',\n",
       "    '---+-+-',\n",
       "    '---+--+-',\n",
       "    '---+-+-',\n",
       "    '--+--+-',\n",
       "    '-+-+--+-',\n",
       "    '--+---+-',\n",
       "    '+-+---+-',\n",
       "    '-+-+-+-',\n",
       "    '---+-+-',\n",
       "    '---+-+-',\n",
       "    '--+--+-',\n",
       "    '--+--+-',\n",
       "    '---+-+-',\n",
       "    '----+-+-',\n",
       "    '---+--+-',\n",
       "    '--+---+-',\n",
       "    '-+---+-',\n",
       "    '---+-+-',\n",
       "    '-+-+-+-',\n",
       "    '-+---+-',\n",
       "    '--+--+-',\n",
       "    '----+--+-',\n",
       "    '---+-+-',\n",
       "    '++---+-',\n",
       "    '-+-+-+',\n",
       "    '----+-+-',\n",
       "    '-+----+-',\n",
       "    '--+--+-',\n",
       "    '--++--+',\n",
       "    '-----+-',\n",
       "    '+--+-+-',\n",
       "    '-+-+-+-',\n",
       "    '-++---++-',\n",
       "    '--+-+-+-',\n",
       "    '-+---+-',\n",
       "    '-----+-',\n",
       "    '--+--+-+-',\n",
       "    '--+-++-',\n",
       "    '-+---+-',\n",
       "    '--+--+-',\n",
       "    '+--+-+-',\n",
       "    '---+-+-',\n",
       "    '---+-+-',\n",
       "    '----+-+-']],\n",
       "  'metricalPatternsInStanzas': [['-+-+-+-',\n",
       "    '-+---+-',\n",
       "    '--+--+-',\n",
       "    '++---+-',\n",
       "    '-+-+-+-',\n",
       "    '---+-+-',\n",
       "    '-+---+-',\n",
       "    '-+-+-+-',\n",
       "    '---+-+-',\n",
       "    '-+---+-',\n",
       "    '--+--+-',\n",
       "    '-+---+-',\n",
       "    '++-+-+-',\n",
       "    '---+-+-',\n",
       "    '+--+-+-',\n",
       "    '-+-+-+-',\n",
       "    '-+---+-',\n",
       "    '-+-+-+-',\n",
       "    '+----+-',\n",
       "    '-+-+-+-',\n",
       "    '--+--+-',\n",
       "    '-+---+-',\n",
       "    '---+-+-',\n",
       "    '-+-+-+-',\n",
       "    '+--+-+-',\n",
       "    '-+-+-+-',\n",
       "    '+--+-+-',\n",
       "    '+--+-+-',\n",
       "    '+---+-',\n",
       "    '---+-+-',\n",
       "    '--+--+-',\n",
       "    '-+---+-',\n",
       "    '---+-+-',\n",
       "    '--+--+-',\n",
       "    '---+-+-',\n",
       "    '--+--+-',\n",
       "    '-+-+-+-',\n",
       "    '-+---+-',\n",
       "    '+-+--+-',\n",
       "    '-+-+-+-',\n",
       "    '---+-+-',\n",
       "    '---+-+-',\n",
       "    '--+--+-',\n",
       "    '--+--+-',\n",
       "    '---+-+-',\n",
       "    '---+-+-',\n",
       "    '--+--+-',\n",
       "    '--+--+-',\n",
       "    '-+---+-',\n",
       "    '---+-+-',\n",
       "    '-+-+-+-',\n",
       "    '-+---+-',\n",
       "    '--+--+-',\n",
       "    '---+-+-',\n",
       "    '---+-+-',\n",
       "    '++---+-',\n",
       "    '-+-+-+-',\n",
       "    '---+-+-',\n",
       "    '-+---+-',\n",
       "    '--+--+-',\n",
       "    '-++--+-',\n",
       "    '-----+-',\n",
       "    '+--+-+-',\n",
       "    '-+-+-+-',\n",
       "    '++--++-',\n",
       "    '-+-+-+-',\n",
       "    '-+---+-',\n",
       "    '-----+-',\n",
       "    '+--+-+-',\n",
       "    '--+-++-',\n",
       "    '-+---+-',\n",
       "    '--+--+-',\n",
       "    '+--+-+-',\n",
       "    '---+-+-',\n",
       "    '---+-+-',\n",
       "    '---+-+-']]}}"
      ]
     },
     "execution_count": 37,
     "metadata": {},
     "output_type": "execute_result"
    }
   ],
   "source": [
    "poem.get_metadata(include_analysis=True, include_authors=True)"
   ]
  }
 ],
 "metadata": {
  "kernelspec": {
   "display_name": "Python 3 (ipykernel)",
   "language": "python",
   "name": "python3"
  },
  "language_info": {
   "codemirror_mode": {
    "name": "ipython",
    "version": 3
   },
   "file_extension": ".py",
   "mimetype": "text/x-python",
   "name": "python",
   "nbconvert_exporter": "python",
   "pygments_lexer": "ipython3",
   "version": "3.9.12"
  }
 },
 "nbformat": 4,
 "nbformat_minor": 5
}
